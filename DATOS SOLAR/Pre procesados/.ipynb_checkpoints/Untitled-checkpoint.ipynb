{
 "cells": [
  {
   "cell_type": "code",
   "execution_count": 1,
   "metadata": {},
   "outputs": [
    {
     "name": "stderr",
     "output_type": "stream",
     "text": [
      "Using TensorFlow backend.\n",
      "C:\\Users\\USUARIO\\anaconda3\\lib\\site-packages\\tensorflow\\python\\framework\\dtypes.py:516: FutureWarning: Passing (type, 1) or '1type' as a synonym of type is deprecated; in a future version of numpy, it will be understood as (type, (1,)) / '(1,)type'.\n",
      "  _np_qint8 = np.dtype([(\"qint8\", np.int8, 1)])\n",
      "C:\\Users\\USUARIO\\anaconda3\\lib\\site-packages\\tensorflow\\python\\framework\\dtypes.py:517: FutureWarning: Passing (type, 1) or '1type' as a synonym of type is deprecated; in a future version of numpy, it will be understood as (type, (1,)) / '(1,)type'.\n",
      "  _np_quint8 = np.dtype([(\"quint8\", np.uint8, 1)])\n",
      "C:\\Users\\USUARIO\\anaconda3\\lib\\site-packages\\tensorflow\\python\\framework\\dtypes.py:518: FutureWarning: Passing (type, 1) or '1type' as a synonym of type is deprecated; in a future version of numpy, it will be understood as (type, (1,)) / '(1,)type'.\n",
      "  _np_qint16 = np.dtype([(\"qint16\", np.int16, 1)])\n",
      "C:\\Users\\USUARIO\\anaconda3\\lib\\site-packages\\tensorflow\\python\\framework\\dtypes.py:519: FutureWarning: Passing (type, 1) or '1type' as a synonym of type is deprecated; in a future version of numpy, it will be understood as (type, (1,)) / '(1,)type'.\n",
      "  _np_quint16 = np.dtype([(\"quint16\", np.uint16, 1)])\n",
      "C:\\Users\\USUARIO\\anaconda3\\lib\\site-packages\\tensorflow\\python\\framework\\dtypes.py:520: FutureWarning: Passing (type, 1) or '1type' as a synonym of type is deprecated; in a future version of numpy, it will be understood as (type, (1,)) / '(1,)type'.\n",
      "  _np_qint32 = np.dtype([(\"qint32\", np.int32, 1)])\n",
      "C:\\Users\\USUARIO\\anaconda3\\lib\\site-packages\\tensorflow\\python\\framework\\dtypes.py:525: FutureWarning: Passing (type, 1) or '1type' as a synonym of type is deprecated; in a future version of numpy, it will be understood as (type, (1,)) / '(1,)type'.\n",
      "  np_resource = np.dtype([(\"resource\", np.ubyte, 1)])\n",
      "C:\\Users\\USUARIO\\anaconda3\\lib\\site-packages\\tensorboard\\compat\\tensorflow_stub\\dtypes.py:541: FutureWarning: Passing (type, 1) or '1type' as a synonym of type is deprecated; in a future version of numpy, it will be understood as (type, (1,)) / '(1,)type'.\n",
      "  _np_qint8 = np.dtype([(\"qint8\", np.int8, 1)])\n",
      "C:\\Users\\USUARIO\\anaconda3\\lib\\site-packages\\tensorboard\\compat\\tensorflow_stub\\dtypes.py:542: FutureWarning: Passing (type, 1) or '1type' as a synonym of type is deprecated; in a future version of numpy, it will be understood as (type, (1,)) / '(1,)type'.\n",
      "  _np_quint8 = np.dtype([(\"quint8\", np.uint8, 1)])\n",
      "C:\\Users\\USUARIO\\anaconda3\\lib\\site-packages\\tensorboard\\compat\\tensorflow_stub\\dtypes.py:543: FutureWarning: Passing (type, 1) or '1type' as a synonym of type is deprecated; in a future version of numpy, it will be understood as (type, (1,)) / '(1,)type'.\n",
      "  _np_qint16 = np.dtype([(\"qint16\", np.int16, 1)])\n",
      "C:\\Users\\USUARIO\\anaconda3\\lib\\site-packages\\tensorboard\\compat\\tensorflow_stub\\dtypes.py:544: FutureWarning: Passing (type, 1) or '1type' as a synonym of type is deprecated; in a future version of numpy, it will be understood as (type, (1,)) / '(1,)type'.\n",
      "  _np_quint16 = np.dtype([(\"quint16\", np.uint16, 1)])\n",
      "C:\\Users\\USUARIO\\anaconda3\\lib\\site-packages\\tensorboard\\compat\\tensorflow_stub\\dtypes.py:545: FutureWarning: Passing (type, 1) or '1type' as a synonym of type is deprecated; in a future version of numpy, it will be understood as (type, (1,)) / '(1,)type'.\n",
      "  _np_qint32 = np.dtype([(\"qint32\", np.int32, 1)])\n",
      "C:\\Users\\USUARIO\\anaconda3\\lib\\site-packages\\tensorboard\\compat\\tensorflow_stub\\dtypes.py:550: FutureWarning: Passing (type, 1) or '1type' as a synonym of type is deprecated; in a future version of numpy, it will be understood as (type, (1,)) / '(1,)type'.\n",
      "  np_resource = np.dtype([(\"resource\", np.ubyte, 1)])\n"
     ]
    }
   ],
   "source": [
    "import pandas as pd\n",
    "import numpy as np\n",
    "import matplotlib.pyplot as plt\n",
    "import math\n",
    "from keras.models import Sequential\n",
    "from keras.layers import Dense, LSTM\n",
    "from sklearn.preprocessing import MinMaxScaler\n",
    "from sklearn.metrics import mean_squared_error"
   ]
  },
  {
   "cell_type": "code",
   "execution_count": 20,
   "metadata": {},
   "outputs": [],
   "source": [
    "np.random.seed(7)"
   ]
  },
  {
   "cell_type": "code",
   "execution_count": 21,
   "metadata": {},
   "outputs": [
    {
     "data": {
      "text/plain": [
       "array([[4.37],\n",
       "       [5.71],\n",
       "       [7.76],\n",
       "       ...,\n",
       "       [0.1 ],\n",
       "       [0.18],\n",
       "       [0.28]], dtype=float32)"
      ]
     },
     "execution_count": 21,
     "metadata": {},
     "output_type": "execute_result"
    }
   ],
   "source": [
    "data = pd.read_csv('DatosFinales.csv', usecols = [3],engine = 'python')\n",
    "dataset = data.values\n",
    "dataset = dataset.astype('float32')\n",
    "dataset"
   ]
  },
  {
   "cell_type": "code",
   "execution_count": 22,
   "metadata": {},
   "outputs": [
    {
     "data": {
      "text/plain": [
       "MinMaxScaler(copy=True, feature_range=(0, 1))"
      ]
     },
     "execution_count": 22,
     "metadata": {},
     "output_type": "execute_result"
    }
   ],
   "source": [
    "scaler = MinMaxScaler(feature_range = (0,1))\n",
    "scaler"
   ]
  },
  {
   "cell_type": "code",
   "execution_count": 23,
   "metadata": {},
   "outputs": [
    {
     "data": {
      "text/plain": [
       "array([[0.05470706],\n",
       "       [0.07148223],\n",
       "       [0.09714572],\n",
       "       ...,\n",
       "       [0.00125188],\n",
       "       [0.00225338],\n",
       "       [0.00350526]], dtype=float32)"
      ]
     },
     "execution_count": 23,
     "metadata": {},
     "output_type": "execute_result"
    }
   ],
   "source": [
    "dataset = scaler.fit_transform(dataset)\n",
    "dataset"
   ]
  },
  {
   "cell_type": "code",
   "execution_count": 24,
   "metadata": {},
   "outputs": [
    {
     "data": {
      "text/plain": [
       "(36823,\n",
       " 18137,\n",
       " array([[0.05470706],\n",
       "        [0.07148223],\n",
       "        [0.09714572],\n",
       "        ...,\n",
       "        [0.30721083],\n",
       "        [0.22108163],\n",
       "        [0.1384577 ]], dtype=float32),\n",
       " array([[0.12831748],\n",
       "        [0.1702554 ],\n",
       "        [0.19078618],\n",
       "        ...,\n",
       "        [0.00125188],\n",
       "        [0.00225338],\n",
       "        [0.00350526]], dtype=float32))"
      ]
     },
     "execution_count": 24,
     "metadata": {},
     "output_type": "execute_result"
    }
   ],
   "source": [
    "train_size = int(len(dataset)*0.67)\n",
    "test_size = len(dataset)-train_size\n",
    "train,test = dataset[0:train_size,:],dataset[train_size:len(dataset),:]\n",
    "len(train),len(test),train,test"
   ]
  },
  {
   "cell_type": "code",
   "execution_count": 25,
   "metadata": {},
   "outputs": [],
   "source": [
    "# convert an array of values into a dataset matrix\n",
    "def create_dataset(dataset, look_back=1):\n",
    "    dataX, dataY = [], []\n",
    "    for i in range(len(dataset)-look_back-1):\n",
    "        a = dataset[i:(i+look_back), 0]\n",
    "        dataX.append(a)\n",
    "        dataY.append(dataset[i + look_back, 0])\n",
    "    return np.array(dataX), np.array(dataY)"
   ]
  },
  {
   "cell_type": "code",
   "execution_count": 26,
   "metadata": {},
   "outputs": [],
   "source": [
    "# reshape into X=t and Y=t+1\n",
    "look_back = 1\n",
    "trainX, trainY = create_dataset(train, look_back)\n",
    "testX, testY = create_dataset(test, look_back)"
   ]
  },
  {
   "cell_type": "code",
   "execution_count": 27,
   "metadata": {},
   "outputs": [
    {
     "data": {
      "text/plain": [
       "(array([[0.05470706],\n",
       "        [0.07148223],\n",
       "        [0.09714572],\n",
       "        ...,\n",
       "        [0.2532549 ],\n",
       "        [0.31972963],\n",
       "        [0.30721083]], dtype=float32),\n",
       " array([[0.12831748],\n",
       "        [0.1702554 ],\n",
       "        [0.19078618],\n",
       "        ...,\n",
       "        [0.00125188],\n",
       "        [0.00062594],\n",
       "        [0.00125188]], dtype=float32))"
      ]
     },
     "execution_count": 27,
     "metadata": {},
     "output_type": "execute_result"
    }
   ],
   "source": [
    "trainX,testX"
   ]
  },
  {
   "cell_type": "code",
   "execution_count": 28,
   "metadata": {},
   "outputs": [
    {
     "data": {
      "text/plain": [
       "(array([[[0.05470706]],\n",
       " \n",
       "        [[0.07148223]],\n",
       " \n",
       "        [[0.09714572]],\n",
       " \n",
       "        ...,\n",
       " \n",
       "        [[0.2532549 ]],\n",
       " \n",
       "        [[0.31972963]],\n",
       " \n",
       "        [[0.30721083]]], dtype=float32),\n",
       " array([[[0.12831748]],\n",
       " \n",
       "        [[0.1702554 ]],\n",
       " \n",
       "        [[0.19078618]],\n",
       " \n",
       "        ...,\n",
       " \n",
       "        [[0.00125188]],\n",
       " \n",
       "        [[0.00062594]],\n",
       " \n",
       "        [[0.00125188]]], dtype=float32))"
      ]
     },
     "execution_count": 28,
     "metadata": {},
     "output_type": "execute_result"
    }
   ],
   "source": [
    "# reshape input to be [samples, time steps, features]\n",
    "trainX = np.reshape(trainX, (trainX.shape[0], 1, trainX.shape[1]))\n",
    "testX = np.reshape(testX, (testX.shape[0], 1, testX.shape[1]))\n",
    "trainX,testX"
   ]
  },
  {
   "cell_type": "code",
   "execution_count": 11,
   "metadata": {},
   "outputs": [
    {
     "name": "stdout",
     "output_type": "stream",
     "text": [
      "WARNING:tensorflow:From C:\\Users\\USUARIO\\anaconda3\\lib\\site-packages\\keras\\backend\\tensorflow_backend.py:422: The name tf.global_variables is deprecated. Please use tf.compat.v1.global_variables instead.\n",
      "\n",
      "Epoch 1/100\n",
      " - 123s - loss: 0.0093\n",
      "Epoch 2/100\n",
      " - 156s - loss: 0.0085\n",
      "Epoch 3/100\n",
      " - 161s - loss: 0.0085\n",
      "Epoch 4/100\n",
      " - 164s - loss: 0.0085\n",
      "Epoch 5/100\n",
      " - 157s - loss: 0.0085\n",
      "Epoch 6/100\n",
      " - 139s - loss: 0.0085\n",
      "Epoch 7/100\n",
      " - 156s - loss: 0.0085\n",
      "Epoch 8/100\n",
      " - 158s - loss: 0.0085\n",
      "Epoch 9/100\n",
      " - 159s - loss: 0.0085\n",
      "Epoch 10/100\n",
      " - 158s - loss: 0.0085\n",
      "Epoch 11/100\n",
      " - 158s - loss: 0.0085\n",
      "Epoch 12/100\n",
      " - 157s - loss: 0.0085\n",
      "Epoch 13/100\n",
      " - 155s - loss: 0.0085\n",
      "Epoch 14/100\n",
      " - 154s - loss: 0.0085\n",
      "Epoch 15/100\n",
      " - 154s - loss: 0.0085\n",
      "Epoch 16/100\n",
      " - 154s - loss: 0.0085\n",
      "Epoch 17/100\n",
      " - 154s - loss: 0.0085\n",
      "Epoch 18/100\n",
      " - 155s - loss: 0.0085\n",
      "Epoch 19/100\n",
      " - 154s - loss: 0.0085\n",
      "Epoch 20/100\n",
      " - 163s - loss: 0.0085\n",
      "Epoch 21/100\n",
      " - 121s - loss: 0.0085\n",
      "Epoch 22/100\n",
      " - 112s - loss: 0.0085\n",
      "Epoch 23/100\n",
      " - 114s - loss: 0.0085\n",
      "Epoch 24/100\n",
      " - 115s - loss: 0.0084\n",
      "Epoch 25/100\n",
      " - 113s - loss: 0.0084\n",
      "Epoch 26/100\n",
      " - 115s - loss: 0.0084\n",
      "Epoch 27/100\n",
      " - 114s - loss: 0.0084\n",
      "Epoch 28/100\n",
      " - 128s - loss: 0.0085\n",
      "Epoch 29/100\n",
      " - 133s - loss: 0.0084\n",
      "Epoch 30/100\n",
      " - 125s - loss: 0.0084\n",
      "Epoch 31/100\n",
      " - 136s - loss: 0.0084\n",
      "Epoch 32/100\n",
      " - 153s - loss: 0.0084\n",
      "Epoch 33/100\n",
      " - 135s - loss: 0.0084\n",
      "Epoch 34/100\n",
      " - 149s - loss: 0.0084\n",
      "Epoch 35/100\n",
      " - 151s - loss: 0.0084\n",
      "Epoch 36/100\n",
      " - 147s - loss: 0.0084\n",
      "Epoch 37/100\n",
      " - 149s - loss: 0.0084\n",
      "Epoch 38/100\n",
      " - 158s - loss: 0.0084\n",
      "Epoch 39/100\n",
      " - 141s - loss: 0.0084\n",
      "Epoch 40/100\n",
      " - 131s - loss: 0.0084\n",
      "Epoch 41/100\n",
      " - 142s - loss: 0.0084\n",
      "Epoch 42/100\n",
      " - 142s - loss: 0.0084\n",
      "Epoch 43/100\n",
      " - 126s - loss: 0.0084\n",
      "Epoch 44/100\n",
      " - 141s - loss: 0.0084\n",
      "Epoch 45/100\n",
      " - 138s - loss: 0.0084\n",
      "Epoch 46/100\n",
      " - 134s - loss: 0.0084\n",
      "Epoch 47/100\n",
      " - 138s - loss: 0.0084\n",
      "Epoch 48/100\n",
      " - 135s - loss: 0.0084\n",
      "Epoch 49/100\n",
      " - 131s - loss: 0.0084\n",
      "Epoch 50/100\n",
      " - 141s - loss: 0.0084\n",
      "Epoch 51/100\n",
      " - 116s - loss: 0.0084\n",
      "Epoch 52/100\n",
      " - 114s - loss: 0.0084\n",
      "Epoch 53/100\n",
      " - 132s - loss: 0.0084\n",
      "Epoch 54/100\n",
      " - 130s - loss: 0.0084\n",
      "Epoch 55/100\n",
      " - 130s - loss: 0.0084\n",
      "Epoch 56/100\n",
      " - 130s - loss: 0.0084\n",
      "Epoch 57/100\n",
      " - 129s - loss: 0.0084\n",
      "Epoch 58/100\n",
      " - 129s - loss: 0.0084\n",
      "Epoch 59/100\n",
      " - 130s - loss: 0.0084\n",
      "Epoch 60/100\n",
      " - 128s - loss: 0.0084\n",
      "Epoch 61/100\n",
      " - 126s - loss: 0.0084\n",
      "Epoch 62/100\n",
      " - 127s - loss: 0.0084\n",
      "Epoch 63/100\n",
      " - 126s - loss: 0.0084\n",
      "Epoch 64/100\n",
      " - 127s - loss: 0.0084\n",
      "Epoch 65/100\n",
      " - 127s - loss: 0.0084\n",
      "Epoch 66/100\n",
      " - 127s - loss: 0.0084\n",
      "Epoch 67/100\n",
      " - 127s - loss: 0.0084\n",
      "Epoch 68/100\n",
      " - 127s - loss: 0.0084\n",
      "Epoch 69/100\n",
      " - 127s - loss: 0.0084\n",
      "Epoch 70/100\n",
      " - 126s - loss: 0.0084\n",
      "Epoch 71/100\n",
      " - 126s - loss: 0.0084\n",
      "Epoch 72/100\n",
      " - 126s - loss: 0.0084\n",
      "Epoch 73/100\n",
      " - 126s - loss: 0.0084\n",
      "Epoch 74/100\n",
      " - 127s - loss: 0.0084\n",
      "Epoch 75/100\n",
      " - 126s - loss: 0.0084\n",
      "Epoch 76/100\n",
      " - 126s - loss: 0.0084\n",
      "Epoch 77/100\n",
      " - 126s - loss: 0.0084\n",
      "Epoch 78/100\n",
      " - 127s - loss: 0.0084\n",
      "Epoch 79/100\n",
      " - 126s - loss: 0.0084\n",
      "Epoch 80/100\n",
      " - 126s - loss: 0.0084\n",
      "Epoch 81/100\n",
      " - 127s - loss: 0.0084\n",
      "Epoch 82/100\n",
      " - 126s - loss: 0.0084\n",
      "Epoch 83/100\n",
      " - 126s - loss: 0.0084\n",
      "Epoch 84/100\n",
      " - 126s - loss: 0.0084\n",
      "Epoch 85/100\n",
      " - 126s - loss: 0.0084\n",
      "Epoch 86/100\n",
      " - 126s - loss: 0.0084\n",
      "Epoch 87/100\n",
      " - 128s - loss: 0.0084\n",
      "Epoch 88/100\n",
      " - 128s - loss: 0.0084\n",
      "Epoch 89/100\n",
      " - 133s - loss: 0.0084\n",
      "Epoch 90/100\n",
      " - 118s - loss: 0.0084\n",
      "Epoch 91/100\n",
      " - 126s - loss: 0.0084\n",
      "Epoch 92/100\n",
      " - 138s - loss: 0.0084\n",
      "Epoch 93/100\n",
      " - 115s - loss: 0.0084\n",
      "Epoch 94/100\n",
      " - 112s - loss: 0.0084\n",
      "Epoch 95/100\n",
      " - 113s - loss: 0.0084\n",
      "Epoch 96/100\n",
      " - 113s - loss: 0.0084\n",
      "Epoch 97/100\n",
      " - 112s - loss: 0.0084\n",
      "Epoch 98/100\n",
      " - 112s - loss: 0.0084\n",
      "Epoch 99/100\n",
      " - 112s - loss: 0.0084\n",
      "Epoch 100/100\n",
      " - 112s - loss: 0.0084\n"
     ]
    },
    {
     "data": {
      "text/plain": [
       "<keras.callbacks.callbacks.History at 0x26f0084fac8>"
      ]
     },
     "execution_count": 11,
     "metadata": {},
     "output_type": "execute_result"
    }
   ],
   "source": [
    "# create and fit the LSTM network\n",
    "model = Sequential()\n",
    "model.add(LSTM(4, input_shape=(1, look_back)))\n",
    "model.add(Dense(1))\n",
    "model.compile(loss='mean_squared_error', optimizer='adam')\n",
    "model.fit(trainX, trainY, epochs=100, batch_size=1, verbose=2)"
   ]
  },
  {
   "cell_type": "code",
   "execution_count": 12,
   "metadata": {},
   "outputs": [
    {
     "name": "stdout",
     "output_type": "stream",
     "text": [
      "Train Score: 7.29 RMSE\n",
      "Test Score: 6.07 RMSE\n"
     ]
    }
   ],
   "source": [
    "# make predictions\n",
    "trainPredict = model.predict(trainX)\n",
    "testPredict = model.predict(testX)\n",
    "# invert predictions\n",
    "trainPredict = scaler.inverse_transform(trainPredict)\n",
    "trainY = scaler.inverse_transform([trainY])\n",
    "testPredict = scaler.inverse_transform(testPredict)\n",
    "testY = scaler.inverse_transform([testY])\n",
    "# calculate root mean squared error\n",
    "trainScore = math.sqrt(mean_squared_error(trainY[0], trainPredict[:,0]))\n",
    "print('Train Score: %.2f RMSE' % (trainScore))\n",
    "testScore = math.sqrt(mean_squared_error(testY[0], testPredict[:,0]))\n",
    "print('Test Score: %.2f RMSE' % (testScore))"
   ]
  },
  {
   "cell_type": "code",
   "execution_count": 13,
   "metadata": {
    "scrolled": true
   },
   "outputs": [
    {
     "data": {
      "image/png": "[encoded data removed]",
      "text/plain": [
       "<Figure size 720x576 with 1 Axes>"
      ]
     },
     "metadata": {
      "needs_background": "light"
     },
     "output_type": "display_data"
    }
   ],
   "source": [
    "# shift train predictions for plotting\n",
    "trainPredictPlot = np.empty_like(dataset)\n",
    "trainPredictPlot[:, :] = np.nan\n",
    "trainPredictPlot[look_back:len(trainPredict)+look_back, :] = trainPredict\n",
    "# shift test predictions for plotting\n",
    "testPredictPlot = np.empty_like(dataset)\n",
    "testPredictPlot[:, :] = np.nan\n",
    "testPredictPlot[len(trainPredict)+(look_back*2)+1:len(dataset)-1, :] = testPredict\n",
    "# plot baseline and predictions\n",
    "plt.figure(figsize=(10,8))\n",
    "plt.plot(scaler.inverse_transform(dataset))\n",
    "plt.plot(trainPredictPlot)\n",
    "plt.plot(testPredictPlot)\n",
    "plt.show()"
   ]
  },
  {
   "cell_type": "code",
   "execution_count": 16,
   "metadata": {},
   "outputs": [
    {
     "data": {
      "text/plain": [
       "<keras.engine.sequential.Sequential at 0x26f7dc66388>"
      ]
     },
     "execution_count": 16,
     "metadata": {},
     "output_type": "execute_result"
    }
   ],
   "source": [
    "model"
   ]
  },
  {
   "cell_type": "code",
   "execution_count": 14,
   "metadata": {},
   "outputs": [
    {
     "data": {
      "text/plain": [
       "[<matplotlib.lines.Line2D at 0x26f08727408>]"
      ]
     },
     "execution_count": 14,
     "metadata": {},
     "output_type": "execute_result"
    },
    {
     "data": {
      "image/png": "[encoded data removed]",
      "text/plain": [
       "<Figure size 432x288 with 1 Axes>"
      ]
     },
     "metadata": {
      "needs_background": "light"
     },
     "output_type": "display_data"
    }
   ],
   "source": [
    "datosp = pd.read_csv('DatosFinales.csv')['Potencia [kW]']\n",
    "plt.plot(datosp)"
   ]
  },
  {
   "cell_type": "code",
   "execution_count": 15,
   "metadata": {},
   "outputs": [],
   "source": [
    "from keras.models import load_model, save_model\n",
    "model.save('modelo1.h5')"
   ]
  },
  {
   "cell_type": "code",
   "execution_count": 18,
   "metadata": {},
   "outputs": [
    {
     "data": {
      "text/plain": [
       "<keras.engine.sequential.Sequential at 0x26f0bcbfe88>"
      ]
     },
     "execution_count": 18,
     "metadata": {},
     "output_type": "execute_result"
    }
   ],
   "source": [
    "modelocarga = load_model('modelo1.h5')\n",
    "modelocarga."
   ]
  },
  {
   "cell_type": "code",
   "execution_count": 29,
   "metadata": {},
   "outputs": [
    {
     "name": "stdout",
     "output_type": "stream",
     "text": [
      "Train Score: 7.29 RMSE\n",
      "Test Score: 6.07 RMSE\n"
     ]
    }
   ],
   "source": [
    "# make predictions\n",
    "trainPredict = modelocarga.predict(trainX)\n",
    "testPredict = modelocarga.predict(testX)\n",
    "# invert predictions\n",
    "trainPredict = scaler.inverse_transform(trainPredict)\n",
    "trainY = scaler.inverse_transform([trainY])\n",
    "testPredict = scaler.inverse_transform(testPredict)\n",
    "testY = scaler.inverse_transform([testY])\n",
    "# calculate root mean squared error\n",
    "trainScore = math.sqrt(mean_squared_error(trainY[0], trainPredict[:,0]))\n",
    "print('Train Score: %.2f RMSE' % (trainScore))\n",
    "testScore = math.sqrt(mean_squared_error(testY[0], testPredict[:,0]))\n",
    "print('Test Score: %.2f RMSE' % (testScore))"
   ]
  }
 ],
 "metadata": {
  "kernelspec": {
   "display_name": "Python 3",
   "language": "python",
   "name": "python3"
  },
  "language_info": {
   "codemirror_mode": {
    "name": "ipython",
    "version": 3
   },
   "file_extension": ".py",
   "mimetype": "text/x-python",
   "name": "python",
   "nbconvert_exporter": "python",
   "pygments_lexer": "ipython3",
   "version": "3.7.6"
  }
 },
 "nbformat": 4,
 "nbformat_minor": 4
}
