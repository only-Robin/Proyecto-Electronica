{
 "cells": [
  {
   "cell_type": "code",
   "execution_count": 1,
   "metadata": {},
   "outputs": [],
   "source": [
    "import pandas as pd\n",
    "import matplotlib\n",
    "import matplotlib.pyplot as plt\n",
    "import numpy as np\n",
    "import scipy.stats as stats\n",
    "import glob\n",
    "from statsmodels.graphics.tsaplots import plot_acf,plot_pacf\n",
    "from statsmodels.tsa.stattools import acf,pacf\n",
    "from sklearn.metrics import mean_squared_error, mean_absolute_error\n",
    "from statsmodels.tsa.statespace.sarimax import SARIMAX\n",
    "from time import time"
   ]
  },
  {
   "cell_type": "code",
   "execution_count": 1,
   "metadata": {},
   "outputs": [
    {
     "data": {
      "text/html": [
       "<div>\n",
       "<style scoped>\n",
       "    .dataframe tbody tr th:only-of-type {\n",
       "        vertical-align: middle;\n",
       "    }\n",
       "\n",
       "    .dataframe tbody tr th {\n",
       "        vertical-align: top;\n",
       "    }\n",
       "\n",
       "    .dataframe thead th {\n",
       "        text-align: right;\n",
       "    }\n",
       "</style>\n",
       "<table border=\"1\" class=\"dataframe\">\n",
       "  <thead>\n",
       "    <tr style=\"text-align: right;\">\n",
       "      <th></th>\n",
       "      <th>Unnamed: 0</th>\n",
       "      <th>Fecha</th>\n",
       "      <th>Hora</th>\n",
       "      <th>Potencia [kW]</th>\n",
       "      <th>Irradiacion [W/m2]</th>\n",
       "      <th>Temperatura de modulos[C]</th>\n",
       "    </tr>\n",
       "  </thead>\n",
       "  <tbody>\n",
       "    <tr>\n",
       "      <th>0</th>\n",
       "      <td>0</td>\n",
       "      <td>1/10/2019</td>\n",
       "      <td>6:00</td>\n",
       "      <td>0.26</td>\n",
       "      <td>8.98</td>\n",
       "      <td>11.66</td>\n",
       "    </tr>\n",
       "    <tr>\n",
       "      <th>1</th>\n",
       "      <td>1</td>\n",
       "      <td>1/10/2019</td>\n",
       "      <td>6:05</td>\n",
       "      <td>0.85</td>\n",
       "      <td>16.87</td>\n",
       "      <td>11.72</td>\n",
       "    </tr>\n",
       "    <tr>\n",
       "      <th>2</th>\n",
       "      <td>2</td>\n",
       "      <td>1/10/2019</td>\n",
       "      <td>6:10</td>\n",
       "      <td>1.78</td>\n",
       "      <td>28.75</td>\n",
       "      <td>11.80</td>\n",
       "    </tr>\n",
       "    <tr>\n",
       "      <th>3</th>\n",
       "      <td>3</td>\n",
       "      <td>1/10/2019</td>\n",
       "      <td>6:15</td>\n",
       "      <td>2.17</td>\n",
       "      <td>33.24</td>\n",
       "      <td>11.92</td>\n",
       "    </tr>\n",
       "    <tr>\n",
       "      <th>4</th>\n",
       "      <td>4</td>\n",
       "      <td>1/10/2019</td>\n",
       "      <td>6:20</td>\n",
       "      <td>2.12</td>\n",
       "      <td>32.35</td>\n",
       "      <td>12.12</td>\n",
       "    </tr>\n",
       "    <tr>\n",
       "      <th>...</th>\n",
       "      <td>...</td>\n",
       "      <td>...</td>\n",
       "      <td>...</td>\n",
       "      <td>...</td>\n",
       "      <td>...</td>\n",
       "      <td>...</td>\n",
       "    </tr>\n",
       "    <tr>\n",
       "      <th>65947</th>\n",
       "      <td>4459</td>\n",
       "      <td>31/12/2020</td>\n",
       "      <td>17:35</td>\n",
       "      <td>0.12</td>\n",
       "      <td>9.11</td>\n",
       "      <td>12.93</td>\n",
       "    </tr>\n",
       "    <tr>\n",
       "      <th>65948</th>\n",
       "      <td>4460</td>\n",
       "      <td>31/12/2020</td>\n",
       "      <td>17:40</td>\n",
       "      <td>0.11</td>\n",
       "      <td>8.69</td>\n",
       "      <td>12.66</td>\n",
       "    </tr>\n",
       "    <tr>\n",
       "      <th>65949</th>\n",
       "      <td>4461</td>\n",
       "      <td>31/12/2020</td>\n",
       "      <td>17:45</td>\n",
       "      <td>0.10</td>\n",
       "      <td>7.89</td>\n",
       "      <td>12.54</td>\n",
       "    </tr>\n",
       "    <tr>\n",
       "      <th>65950</th>\n",
       "      <td>4462</td>\n",
       "      <td>31/12/2020</td>\n",
       "      <td>17:50</td>\n",
       "      <td>0.02</td>\n",
       "      <td>5.31</td>\n",
       "      <td>12.50</td>\n",
       "    </tr>\n",
       "    <tr>\n",
       "      <th>65951</th>\n",
       "      <td>4463</td>\n",
       "      <td>31/12/2020</td>\n",
       "      <td>17:55</td>\n",
       "      <td>0.00</td>\n",
       "      <td>3.45</td>\n",
       "      <td>12.33</td>\n",
       "    </tr>\n",
       "  </tbody>\n",
       "</table>\n",
       "<p>65952 rows × 6 columns</p>\n",
       "</div>"
      ],
      "text/plain": [
       "       Unnamed: 0       Fecha   Hora  Potencia [kW]  Irradiacion [W/m2]  \\\n",
       "0               0   1/10/2019   6:00           0.26                8.98   \n",
       "1               1   1/10/2019   6:05           0.85               16.87   \n",
       "2               2   1/10/2019   6:10           1.78               28.75   \n",
       "3               3   1/10/2019   6:15           2.17               33.24   \n",
       "4               4   1/10/2019   6:20           2.12               32.35   \n",
       "...           ...         ...    ...            ...                 ...   \n",
       "65947        4459  31/12/2020  17:35           0.12                9.11   \n",
       "65948        4460  31/12/2020  17:40           0.11                8.69   \n",
       "65949        4461  31/12/2020  17:45           0.10                7.89   \n",
       "65950        4462  31/12/2020  17:50           0.02                5.31   \n",
       "65951        4463  31/12/2020  17:55           0.00                3.45   \n",
       "\n",
       "       Temperatura de modulos[C]  \n",
       "0                          11.66  \n",
       "1                          11.72  \n",
       "2                          11.80  \n",
       "3                          11.92  \n",
       "4                          12.12  \n",
       "...                          ...  \n",
       "65947                      12.93  \n",
       "65948                      12.66  \n",
       "65949                      12.54  \n",
       "65950                      12.50  \n",
       "65951                      12.33  \n",
       "\n",
       "[65952 rows x 6 columns]"
      ]
     },
     "execution_count": 1,
     "metadata": {},
     "output_type": "execute_result"
    }
   ],
   "source": [
    "import pandas as pd\n",
    "pd.read_csv('DataFinalBeta.csv')"
   ]
  },
  {
   "cell_type": "code",
   "execution_count": 2,
   "metadata": {},
   "outputs": [
    {
     "data": {
      "text/html": [
       "<div>\n",
       "<style scoped>\n",
       "    .dataframe tbody tr th:only-of-type {\n",
       "        vertical-align: middle;\n",
       "    }\n",
       "\n",
       "    .dataframe tbody tr th {\n",
       "        vertical-align: top;\n",
       "    }\n",
       "\n",
       "    .dataframe thead th {\n",
       "        text-align: right;\n",
       "    }\n",
       "</style>\n",
       "<table border=\"1\" class=\"dataframe\">\n",
       "  <thead>\n",
       "    <tr style=\"text-align: right;\">\n",
       "      <th></th>\n",
       "      <th>Fecha</th>\n",
       "      <th>Hora</th>\n",
       "      <th>Potencia [kW]</th>\n",
       "      <th>Insolacion [W/m2]</th>\n",
       "      <th>Temperatura de modulos [C]</th>\n",
       "    </tr>\n",
       "  </thead>\n",
       "  <tbody>\n",
       "    <tr>\n",
       "      <th>0</th>\n",
       "      <td>1/04/2020</td>\n",
       "      <td>6:00</td>\n",
       "      <td>0.00</td>\n",
       "      <td>2.02</td>\n",
       "      <td>12.17</td>\n",
       "    </tr>\n",
       "    <tr>\n",
       "      <th>1</th>\n",
       "      <td>1/04/2020</td>\n",
       "      <td>6:05</td>\n",
       "      <td>0.00</td>\n",
       "      <td>3.20</td>\n",
       "      <td>12.33</td>\n",
       "    </tr>\n",
       "    <tr>\n",
       "      <th>2</th>\n",
       "      <td>1/04/2020</td>\n",
       "      <td>6:10</td>\n",
       "      <td>0.01</td>\n",
       "      <td>4.51</td>\n",
       "      <td>12.39</td>\n",
       "    </tr>\n",
       "    <tr>\n",
       "      <th>3</th>\n",
       "      <td>1/04/2020</td>\n",
       "      <td>6:15</td>\n",
       "      <td>0.11</td>\n",
       "      <td>6.98</td>\n",
       "      <td>12.04</td>\n",
       "    </tr>\n",
       "    <tr>\n",
       "      <th>4</th>\n",
       "      <td>1/04/2020</td>\n",
       "      <td>6:20</td>\n",
       "      <td>0.24</td>\n",
       "      <td>10.52</td>\n",
       "      <td>11.79</td>\n",
       "    </tr>\n",
       "  </tbody>\n",
       "</table>\n",
       "</div>"
      ],
      "text/plain": [
       "       Fecha  Hora  Potencia [kW]  Insolacion [W/m2]  \\\n",
       "0  1/04/2020  6:00           0.00               2.02   \n",
       "1  1/04/2020  6:05           0.00               3.20   \n",
       "2  1/04/2020  6:10           0.01               4.51   \n",
       "3  1/04/2020  6:15           0.11               6.98   \n",
       "4  1/04/2020  6:20           0.24              10.52   \n",
       "\n",
       "   Temperatura de modulos [C]  \n",
       "0                       12.17  \n",
       "1                       12.33  \n",
       "2                       12.39  \n",
       "3                       12.04  \n",
       "4                       11.79  "
      ]
     },
     "execution_count": 2,
     "metadata": {},
     "output_type": "execute_result"
    }
   ],
   "source": [
    "abril = pd.read_csv('Abril 2020.csv').drop('Unnamed: 0',axis = 1)\n",
    "mayo = pd.read_csv('Mayo 2020.csv').drop('Unnamed: 0',axis = 1)\n",
    "abril = abril[['Fecha','Hora','Potencia [kW]','Insolacion [W/m2]','Temperatura de modulos [C]']]\n",
    "mayo = mayo[['Fecha','Hora','Potencia [kW]','Insolacion [W/m2]','Temperatura de modulos [C]']]\n",
    "abril.head()"
   ]
  },
  {
   "cell_type": "code",
   "execution_count": 3,
   "metadata": {},
   "outputs": [
    {
     "data": {
      "text/html": [
       "<div>\n",
       "<style scoped>\n",
       "    .dataframe tbody tr th:only-of-type {\n",
       "        vertical-align: middle;\n",
       "    }\n",
       "\n",
       "    .dataframe tbody tr th {\n",
       "        vertical-align: top;\n",
       "    }\n",
       "\n",
       "    .dataframe thead th {\n",
       "        text-align: right;\n",
       "    }\n",
       "</style>\n",
       "<table border=\"1\" class=\"dataframe\">\n",
       "  <thead>\n",
       "    <tr style=\"text-align: right;\">\n",
       "      <th></th>\n",
       "      <th>Fecha</th>\n",
       "      <th>Hora</th>\n",
       "      <th>Potencia [kW]</th>\n",
       "      <th>Insolacion [W/m2]</th>\n",
       "      <th>Temperatura de modulos [C]</th>\n",
       "    </tr>\n",
       "  </thead>\n",
       "  <tbody>\n",
       "    <tr>\n",
       "      <th>0</th>\n",
       "      <td>1/05/2020</td>\n",
       "      <td>6:00</td>\n",
       "      <td>0.00</td>\n",
       "      <td>2.51</td>\n",
       "      <td>11.78</td>\n",
       "    </tr>\n",
       "    <tr>\n",
       "      <th>1</th>\n",
       "      <td>1/05/2020</td>\n",
       "      <td>6:05</td>\n",
       "      <td>0.00</td>\n",
       "      <td>3.58</td>\n",
       "      <td>11.89</td>\n",
       "    </tr>\n",
       "    <tr>\n",
       "      <th>2</th>\n",
       "      <td>1/05/2020</td>\n",
       "      <td>6:10</td>\n",
       "      <td>0.01</td>\n",
       "      <td>4.80</td>\n",
       "      <td>11.83</td>\n",
       "    </tr>\n",
       "    <tr>\n",
       "      <th>3</th>\n",
       "      <td>1/05/2020</td>\n",
       "      <td>6:15</td>\n",
       "      <td>0.06</td>\n",
       "      <td>6.13</td>\n",
       "      <td>12.01</td>\n",
       "    </tr>\n",
       "    <tr>\n",
       "      <th>4</th>\n",
       "      <td>1/05/2020</td>\n",
       "      <td>6:20</td>\n",
       "      <td>0.11</td>\n",
       "      <td>7.46</td>\n",
       "      <td>12.10</td>\n",
       "    </tr>\n",
       "  </tbody>\n",
       "</table>\n",
       "</div>"
      ],
      "text/plain": [
       "       Fecha  Hora  Potencia [kW]  Insolacion [W/m2]  \\\n",
       "0  1/05/2020  6:00           0.00               2.51   \n",
       "1  1/05/2020  6:05           0.00               3.58   \n",
       "2  1/05/2020  6:10           0.01               4.80   \n",
       "3  1/05/2020  6:15           0.06               6.13   \n",
       "4  1/05/2020  6:20           0.11               7.46   \n",
       "\n",
       "   Temperatura de modulos [C]  \n",
       "0                       11.78  \n",
       "1                       11.89  \n",
       "2                       11.83  \n",
       "3                       12.01  \n",
       "4                       12.10  "
      ]
     },
     "execution_count": 3,
     "metadata": {},
     "output_type": "execute_result"
    }
   ],
   "source": [
    "mayo.head()"
   ]
  },
  {
   "cell_type": "code",
   "execution_count": 4,
   "metadata": {},
   "outputs": [
    {
     "data": {
      "text/html": [
       "<div>\n",
       "<style scoped>\n",
       "    .dataframe tbody tr th:only-of-type {\n",
       "        vertical-align: middle;\n",
       "    }\n",
       "\n",
       "    .dataframe tbody tr th {\n",
       "        vertical-align: top;\n",
       "    }\n",
       "\n",
       "    .dataframe thead th {\n",
       "        text-align: right;\n",
       "    }\n",
       "</style>\n",
       "<table border=\"1\" class=\"dataframe\">\n",
       "  <thead>\n",
       "    <tr style=\"text-align: right;\">\n",
       "      <th></th>\n",
       "      <th>Fecha</th>\n",
       "      <th>Hora</th>\n",
       "      <th>Potencia [kW]</th>\n",
       "      <th>Insolacion [W/m2]</th>\n",
       "      <th>Temperatura de modulos [C]</th>\n",
       "    </tr>\n",
       "  </thead>\n",
       "  <tbody>\n",
       "    <tr>\n",
       "      <th>0</th>\n",
       "      <td>1/04/2020</td>\n",
       "      <td>7:00</td>\n",
       "      <td>2.29</td>\n",
       "      <td>45.58</td>\n",
       "      <td>13.31</td>\n",
       "    </tr>\n",
       "    <tr>\n",
       "      <th>1</th>\n",
       "      <td>1/04/2020</td>\n",
       "      <td>7:05</td>\n",
       "      <td>2.78</td>\n",
       "      <td>53.34</td>\n",
       "      <td>13.45</td>\n",
       "    </tr>\n",
       "    <tr>\n",
       "      <th>2</th>\n",
       "      <td>1/04/2020</td>\n",
       "      <td>7:10</td>\n",
       "      <td>4.18</td>\n",
       "      <td>75.21</td>\n",
       "      <td>14.06</td>\n",
       "    </tr>\n",
       "    <tr>\n",
       "      <th>3</th>\n",
       "      <td>1/04/2020</td>\n",
       "      <td>7:15</td>\n",
       "      <td>5.82</td>\n",
       "      <td>100.84</td>\n",
       "      <td>15.09</td>\n",
       "    </tr>\n",
       "    <tr>\n",
       "      <th>4</th>\n",
       "      <td>1/04/2020</td>\n",
       "      <td>7:20</td>\n",
       "      <td>5.98</td>\n",
       "      <td>100.88</td>\n",
       "      <td>16.30</td>\n",
       "    </tr>\n",
       "    <tr>\n",
       "      <th>...</th>\n",
       "      <td>...</td>\n",
       "      <td>...</td>\n",
       "      <td>...</td>\n",
       "      <td>...</td>\n",
       "      <td>...</td>\n",
       "    </tr>\n",
       "    <tr>\n",
       "      <th>115</th>\n",
       "      <td>1/04/2020</td>\n",
       "      <td>16:35</td>\n",
       "      <td>7.21</td>\n",
       "      <td>115.75</td>\n",
       "      <td>22.17</td>\n",
       "    </tr>\n",
       "    <tr>\n",
       "      <th>116</th>\n",
       "      <td>1/04/2020</td>\n",
       "      <td>16:40</td>\n",
       "      <td>7.49</td>\n",
       "      <td>116.51</td>\n",
       "      <td>22.04</td>\n",
       "    </tr>\n",
       "    <tr>\n",
       "      <th>117</th>\n",
       "      <td>1/04/2020</td>\n",
       "      <td>16:45</td>\n",
       "      <td>7.24</td>\n",
       "      <td>109.65</td>\n",
       "      <td>21.73</td>\n",
       "    </tr>\n",
       "    <tr>\n",
       "      <th>118</th>\n",
       "      <td>1/04/2020</td>\n",
       "      <td>16:50</td>\n",
       "      <td>6.47</td>\n",
       "      <td>101.01</td>\n",
       "      <td>21.17</td>\n",
       "    </tr>\n",
       "    <tr>\n",
       "      <th>119</th>\n",
       "      <td>1/04/2020</td>\n",
       "      <td>16:55</td>\n",
       "      <td>5.33</td>\n",
       "      <td>83.01</td>\n",
       "      <td>20.66</td>\n",
       "    </tr>\n",
       "  </tbody>\n",
       "</table>\n",
       "<p>120 rows × 5 columns</p>\n",
       "</div>"
      ],
      "text/plain": [
       "         Fecha   Hora  Potencia [kW]  Insolacion [W/m2]  \\\n",
       "0    1/04/2020   7:00           2.29              45.58   \n",
       "1    1/04/2020   7:05           2.78              53.34   \n",
       "2    1/04/2020   7:10           4.18              75.21   \n",
       "3    1/04/2020   7:15           5.82             100.84   \n",
       "4    1/04/2020   7:20           5.98             100.88   \n",
       "..         ...    ...            ...                ...   \n",
       "115  1/04/2020  16:35           7.21             115.75   \n",
       "116  1/04/2020  16:40           7.49             116.51   \n",
       "117  1/04/2020  16:45           7.24             109.65   \n",
       "118  1/04/2020  16:50           6.47             101.01   \n",
       "119  1/04/2020  16:55           5.33              83.01   \n",
       "\n",
       "     Temperatura de modulos [C]  \n",
       "0                         13.31  \n",
       "1                         13.45  \n",
       "2                         14.06  \n",
       "3                         15.09  \n",
       "4                         16.30  \n",
       "..                          ...  \n",
       "115                       22.17  \n",
       "116                       22.04  \n",
       "117                       21.73  \n",
       "118                       21.17  \n",
       "119                       20.66  \n",
       "\n",
       "[120 rows x 5 columns]"
      ]
     },
     "execution_count": 4,
     "metadata": {},
     "output_type": "execute_result"
    }
   ],
   "source": [
    "# Reemplazo de los valores de potencia iguales a 0.00\n",
    "horas = ['6:00',\n",
    " '6:05',\n",
    " '6:10',\n",
    " '6:15',\n",
    " '6:20',\n",
    " '6:25',\n",
    " '6:30',\n",
    " '6:35',\n",
    " '6:40',\n",
    " '6:45',\n",
    " '6:50',\n",
    " '6:55',\n",
    " '17:00',\n",
    " '17:05',\n",
    " '17:10',\n",
    " '17:15',\n",
    " '17:20',\n",
    " '17:25',\n",
    " '17:30',\n",
    " '17:35',\n",
    " '17:40',\n",
    " '17:45',\n",
    " '17:50',\n",
    " '17:55']\n",
    "\n",
    "for h in horas:\n",
    "        abril = abril[abril.Hora!= h]\n",
    "        mayo = mayo[mayo.Hora!=h]\n",
    "abril.set_index(np.array(range(3600)),inplace = True)\n",
    "mayo.set_index(np.array(range(len(mayo))),inplace = True)\n",
    "abril[0:120]"
   ]
  },
  {
   "cell_type": "code",
   "execution_count": 5,
   "metadata": {},
   "outputs": [
    {
     "data": {
      "text/html": [
       "<div>\n",
       "<style scoped>\n",
       "    .dataframe tbody tr th:only-of-type {\n",
       "        vertical-align: middle;\n",
       "    }\n",
       "\n",
       "    .dataframe tbody tr th {\n",
       "        vertical-align: top;\n",
       "    }\n",
       "\n",
       "    .dataframe thead th {\n",
       "        text-align: right;\n",
       "    }\n",
       "</style>\n",
       "<table border=\"1\" class=\"dataframe\">\n",
       "  <thead>\n",
       "    <tr style=\"text-align: right;\">\n",
       "      <th></th>\n",
       "      <th>Fecha</th>\n",
       "      <th>Hora</th>\n",
       "      <th>Potencia [kW]</th>\n",
       "      <th>Insolacion [W/m2]</th>\n",
       "      <th>Temperatura de modulos [C]</th>\n",
       "    </tr>\n",
       "  </thead>\n",
       "  <tbody>\n",
       "    <tr>\n",
       "      <th>0</th>\n",
       "      <td>1/05/2020</td>\n",
       "      <td>7:00</td>\n",
       "      <td>0.31</td>\n",
       "      <td>11.46</td>\n",
       "      <td>12.19</td>\n",
       "    </tr>\n",
       "    <tr>\n",
       "      <th>1</th>\n",
       "      <td>1/05/2020</td>\n",
       "      <td>7:05</td>\n",
       "      <td>0.46</td>\n",
       "      <td>14.47</td>\n",
       "      <td>12.36</td>\n",
       "    </tr>\n",
       "    <tr>\n",
       "      <th>2</th>\n",
       "      <td>1/05/2020</td>\n",
       "      <td>7:10</td>\n",
       "      <td>0.56</td>\n",
       "      <td>16.11</td>\n",
       "      <td>12.10</td>\n",
       "    </tr>\n",
       "    <tr>\n",
       "      <th>3</th>\n",
       "      <td>1/05/2020</td>\n",
       "      <td>7:15</td>\n",
       "      <td>0.71</td>\n",
       "      <td>18.63</td>\n",
       "      <td>12.18</td>\n",
       "    </tr>\n",
       "    <tr>\n",
       "      <th>4</th>\n",
       "      <td>1/05/2020</td>\n",
       "      <td>7:20</td>\n",
       "      <td>0.72</td>\n",
       "      <td>18.77</td>\n",
       "      <td>12.12</td>\n",
       "    </tr>\n",
       "    <tr>\n",
       "      <th>...</th>\n",
       "      <td>...</td>\n",
       "      <td>...</td>\n",
       "      <td>...</td>\n",
       "      <td>...</td>\n",
       "      <td>...</td>\n",
       "    </tr>\n",
       "    <tr>\n",
       "      <th>115</th>\n",
       "      <td>1/05/2020</td>\n",
       "      <td>16:35</td>\n",
       "      <td>6.70</td>\n",
       "      <td>90.24</td>\n",
       "      <td>18.59</td>\n",
       "    </tr>\n",
       "    <tr>\n",
       "      <th>116</th>\n",
       "      <td>1/05/2020</td>\n",
       "      <td>16:40</td>\n",
       "      <td>4.91</td>\n",
       "      <td>70.87</td>\n",
       "      <td>18.46</td>\n",
       "    </tr>\n",
       "    <tr>\n",
       "      <th>117</th>\n",
       "      <td>1/05/2020</td>\n",
       "      <td>16:45</td>\n",
       "      <td>3.84</td>\n",
       "      <td>54.36</td>\n",
       "      <td>17.92</td>\n",
       "    </tr>\n",
       "    <tr>\n",
       "      <th>118</th>\n",
       "      <td>1/05/2020</td>\n",
       "      <td>16:50</td>\n",
       "      <td>3.62</td>\n",
       "      <td>53.57</td>\n",
       "      <td>17.40</td>\n",
       "    </tr>\n",
       "    <tr>\n",
       "      <th>119</th>\n",
       "      <td>1/05/2020</td>\n",
       "      <td>16:55</td>\n",
       "      <td>3.54</td>\n",
       "      <td>49.49</td>\n",
       "      <td>17.03</td>\n",
       "    </tr>\n",
       "  </tbody>\n",
       "</table>\n",
       "<p>120 rows × 5 columns</p>\n",
       "</div>"
      ],
      "text/plain": [
       "         Fecha   Hora  Potencia [kW]  Insolacion [W/m2]  \\\n",
       "0    1/05/2020   7:00           0.31              11.46   \n",
       "1    1/05/2020   7:05           0.46              14.47   \n",
       "2    1/05/2020   7:10           0.56              16.11   \n",
       "3    1/05/2020   7:15           0.71              18.63   \n",
       "4    1/05/2020   7:20           0.72              18.77   \n",
       "..         ...    ...            ...                ...   \n",
       "115  1/05/2020  16:35           6.70              90.24   \n",
       "116  1/05/2020  16:40           4.91              70.87   \n",
       "117  1/05/2020  16:45           3.84              54.36   \n",
       "118  1/05/2020  16:50           3.62              53.57   \n",
       "119  1/05/2020  16:55           3.54              49.49   \n",
       "\n",
       "     Temperatura de modulos [C]  \n",
       "0                         12.19  \n",
       "1                         12.36  \n",
       "2                         12.10  \n",
       "3                         12.18  \n",
       "4                         12.12  \n",
       "..                          ...  \n",
       "115                       18.59  \n",
       "116                       18.46  \n",
       "117                       17.92  \n",
       "118                       17.40  \n",
       "119                       17.03  \n",
       "\n",
       "[120 rows x 5 columns]"
      ]
     },
     "execution_count": 5,
     "metadata": {},
     "output_type": "execute_result"
    }
   ],
   "source": [
    "mayo.head(120)"
   ]
  },
  {
   "cell_type": "code",
   "execution_count": 6,
   "metadata": {
    "scrolled": true
   },
   "outputs": [
    {
     "data": {
      "text/plain": [
       "<matplotlib.axes._subplots.AxesSubplot at 0x280c8508688>"
      ]
     },
     "execution_count": 6,
     "metadata": {},
     "output_type": "execute_result"
    },
    {
     "data": {
      "image/png": "[encoded data removed]",
      "text/plain": [
       "<Figure size 792x576 with 1 Axes>"
      ]
     },
     "metadata": {
      "needs_background": "light"
     },
     "output_type": "display_data"
    }
   ],
   "source": [
    "abril['Potencia [kW]'].plot(figsize = (11,8))"
   ]
  },
  {
   "cell_type": "markdown",
   "metadata": {},
   "source": [
    "### Función de auto correlación y de autocorrelación parcial"
   ]
  },
  {
   "cell_type": "code",
   "execution_count": 7,
   "metadata": {},
   "outputs": [
    {
     "data": {
      "image/png": "[encoded data removed]",
      "text/plain": [
       "<Figure size 432x288 with 1 Axes>"
      ]
     },
     "execution_count": 7,
     "metadata": {},
     "output_type": "execute_result"
    },
    {
     "data": {
      "image/png": "[encoded data removed]",
      "text/plain": [
       "<Figure size 432x288 with 1 Axes>"
      ]
     },
     "metadata": {
      "needs_background": "light"
     },
     "output_type": "display_data"
    }
   ],
   "source": [
    "plot_acf(abril['Potencia [kW]'], lags =120)"
   ]
  },
  {
   "cell_type": "code",
   "execution_count": 8,
   "metadata": {},
   "outputs": [
    {
     "data": {
      "image/png": "[encoded data removed]",
      "text/plain": [
       "<Figure size 432x288 with 1 Axes>"
      ]
     },
     "execution_count": 8,
     "metadata": {},
     "output_type": "execute_result"
    },
    {
     "data": {
      "image/png": "[encoded data removed]",
      "text/plain": [
       "<Figure size 432x288 with 1 Axes>"
      ]
     },
     "metadata": {
      "needs_background": "light"
     },
     "output_type": "display_data"
    }
   ],
   "source": [
    "plot_pacf(abril['Potencia [kW]'], lags = np.arange(120))"
   ]
  },
  {
   "cell_type": "markdown",
   "metadata": {},
   "source": [
    "### Se observa que los datos a tratar son no estacionarios, se procede a realizar la conversión a datos estacionarios"
   ]
  },
  {
   "cell_type": "code",
   "execution_count": 9,
   "metadata": {},
   "outputs": [
    {
     "data": {
      "image/png": "[encoded data removed]",
      "text/plain": [
       "<Figure size 432x288 with 1 Axes>"
      ]
     },
     "execution_count": 9,
     "metadata": {},
     "output_type": "execute_result"
    },
    {
     "data": {
      "image/png": "[encoded data removed]",
      "text/plain": [
       "<Figure size 432x288 with 1 Axes>"
      ]
     },
     "metadata": {
      "needs_background": "light"
     },
     "output_type": "display_data"
    }
   ],
   "source": [
    "first_diff = abril['Potencia [kW]'].diff()\n",
    "plot_acf(first_diff[121:], lags = 50)"
   ]
  },
  {
   "cell_type": "code",
   "execution_count": 10,
   "metadata": {},
   "outputs": [
    {
     "data": {
      "image/png": "[encoded data removed]",
      "text/plain": [
       "<Figure size 432x288 with 1 Axes>"
      ]
     },
     "execution_count": 10,
     "metadata": {},
     "output_type": "execute_result"
    },
    {
     "data": {
      "image/png": "[encoded data removed]",
      "text/plain": [
       "<Figure size 432x288 with 1 Axes>"
      ]
     },
     "metadata": {
      "needs_background": "light"
     },
     "output_type": "display_data"
    }
   ],
   "source": [
    "plot_pacf(first_diff[1:])"
   ]
  },
  {
   "cell_type": "markdown",
   "metadata": {},
   "source": [
    "## Entrenamiento del modelo SARIMAX"
   ]
  },
  {
   "cell_type": "code",
   "execution_count": 11,
   "metadata": {},
   "outputs": [
    {
     "ename": "NameError",
     "evalue": "name 'test_data' is not defined",
     "output_type": "error",
     "traceback": [
      "\u001b[1;31m---------------------------------------------------------------------------\u001b[0m",
      "\u001b[1;31mNameError\u001b[0m                                 Traceback (most recent call last)",
      "\u001b[1;32m<ipython-input-11-44d6dc868367>\u001b[0m in \u001b[0;36m<module>\u001b[1;34m\u001b[0m\n\u001b[1;32m----> 1\u001b[1;33m \u001b[0mlen\u001b[0m\u001b[1;33m(\u001b[0m\u001b[0mtest_data\u001b[0m\u001b[1;33m)\u001b[0m\u001b[1;33m\u001b[0m\u001b[1;33m\u001b[0m\u001b[0m\n\u001b[0m",
      "\u001b[1;31mNameError\u001b[0m: name 'test_data' is not defined"
     ]
    }
   ],
   "source": [
    "len(test_data)"
   ]
  },
  {
   "cell_type": "markdown",
   "metadata": {},
   "source": [
    "#### Datos de entrenamiento y de prueba"
   ]
  },
  {
   "cell_type": "code",
   "execution_count": 12,
   "metadata": {},
   "outputs": [],
   "source": [
    "train_data = abril['Potencia [kW]']\n",
    "test_data = mayo['Potencia [kW]']"
   ]
  },
  {
   "cell_type": "code",
   "execution_count": null,
   "metadata": {},
   "outputs": [],
   "source": []
  },
  {
   "cell_type": "markdown",
   "metadata": {},
   "source": [
    "#### Pruebas "
   ]
  },
  {
   "cell_type": "markdown",
   "metadata": {},
   "source": [
    "Se realiza el ajuste de diferentes modelos fijando un valor para el parámetro SAR y SMA y realizando la prueba de estos con diferentes valores de AR y MA."
   ]
  },
  {
   "cell_type": "code",
   "execution_count": 13,
   "metadata": {},
   "outputs": [],
   "source": [
    "my_order = (1,1,4)\n",
    "my_seasonal_order = (1, 1, 1, 120)\n",
    "\n",
    "model = SARIMAX(abril['Potencia [kW]'], order = my_order, seasonal_order=my_seasonal_order)"
   ]
  },
  {
   "cell_type": "code",
   "execution_count": null,
   "metadata": {},
   "outputs": [],
   "source": [
    "# Ajuste del modelo\n",
    "start = time()\n",
    "model_fit = model.fit(disp = True)\n",
    "end = time()\n",
    "print('Tiempo de ajuste del modelo: ',end-start)"
   ]
  },
  {
   "cell_type": "code",
   "execution_count": null,
   "metadata": {},
   "outputs": [],
   "source": [
    "print(model_fit.summary())"
   ]
  },
  {
   "cell_type": "code",
   "execution_count": null,
   "metadata": {},
   "outputs": [],
   "source": [
    "#get the predictions and residuals\n",
    "predictions = model_fit.forecast(3720)\n",
    "predictions = pd.Series(predictions, index=test_data.index)\n",
    "residuals = test_data - predictions"
   ]
  },
  {
   "cell_type": "code",
   "execution_count": null,
   "metadata": {},
   "outputs": [],
   "source": [
    "plt.figure(figsize=(10,4))\n",
    "plt.plot(residuals)\n",
    "plt.axhline(0, linestyle='--', color='k')\n",
    "plt.title('Residuals from SARIMA Model', fontsize=20)\n",
    "plt.ylabel('Error', fontsize=16)"
   ]
  },
  {
   "cell_type": "code",
   "execution_count": null,
   "metadata": {},
   "outputs": [],
   "source": [
    "plt.figure(figsize=(10,4))\n",
    "\n",
    "plt.plot(mayo['Potencia [kW]'][0:120])\n",
    "plt.figure()\n",
    "plt.plot(predictions)\n",
    "\n",
    "plt.legend(('Data', 'Predictions'), fontsize=16)\n",
    "\n",
    "plt.title('Catfish Sales in 1000s of Pounds', fontsize=20)\n",
    "plt.ylabel('Production', fontsize=16)"
   ]
  }
 ],
 "metadata": {
  "kernelspec": {
   "display_name": "Python 3",
   "language": "python",
   "name": "python3"
  },
  "language_info": {
   "codemirror_mode": {
    "name": "ipython",
    "version": 3
   },
   "file_extension": ".py",
   "mimetype": "text/x-python",
   "name": "python",
   "nbconvert_exporter": "python",
   "pygments_lexer": "ipython3",
   "version": "3.7.6"
  }
 },
 "nbformat": 4,
 "nbformat_minor": 4
}
