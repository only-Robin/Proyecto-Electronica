{
 "cells": [
  {
   "cell_type": "markdown",
   "metadata": {},
   "source": [
    "# Implementación y contraste de algoritmos de pronóstico de generación para una planta solar fotovoltaica de 80 kW de la Universidad de Los Andes"
   ]
  },
  {
   "cell_type": "markdown",
   "metadata": {},
   "source": [
    "## Diego Andrés Acosta y Robinson Julián Portilla"
   ]
  },
  {
   "cell_type": "markdown",
   "metadata": {},
   "source": [
    "#### En este proyecto de grado se realiza el pronóstico de generación del día siguiente de una planta solar fotovoltaica de 80 kW de la Universidad de Los Andes mediante diferentes algoritmos de Machine Learning. "
   ]
  },
  {
   "cell_type": "markdown",
   "metadata": {},
   "source": [
    "#### Se importan las librerías a utilizar "
   ]
  },
  {
   "cell_type": "code",
   "execution_count": 15,
   "metadata": {},
   "outputs": [],
   "source": [
    "import pandas as pd\n",
    "import numpy as np\n",
    "import matplotlib.pyplot as plt\n",
    "import matplotlib\n",
    "import glob\n",
    "from scipy import stats\n",
    "from scipy.stats import gamma"
   ]
  },
  {
   "cell_type": "markdown",
   "metadata": {},
   "source": [
    "## Pre-Procesamiento de Datos"
   ]
  },
  {
   "cell_type": "markdown",
   "metadata": {},
   "source": [
    "En esta etapa se realiza el pre-procesamiento de los datos empleados para realizar los modelos de pronóstico.\n",
    "\n",
    "Los datos se encuentran en la carpeta '/DATOS SOLAR' de este repositorio. Los datos tienen una resolución de 5 minutos y consisten en la fecha (dd/mm/aa), hora (hh:mm), Potencia generada (kW), irradiación solar (W/m^2), Temperatura de los modulos (°C), Temperatura ambiente (°C) e irradiación solar media (W/m^2). Se consideraron los datos de octubre de 2019 a diciembre de 2020 para realizar el entrenamiento y evaluación de los modelos implementados. \n",
    "\n",
    "Cabe señalar que, puesto que la estación meteorológica de la planta no otorga datos de temperatura ambiente, esta fue estimada mediante la siguiente expresión:\n",
    "\n",
    "#### Tamb=Tcelda-G*(TONC-20°C)/800W/m^2\n",
    "\n",
    "Donde: \n",
    "- G es la irradiación en ese momento en W/m^2\n",
    "- TONC es la temperatura nominal de la celda en °C, la cual es de 42°C para los paneles LG 400W de la planta\n",
    "- Tcelda es la temperatura de los modulos fotovoltaicos en °C en ese momento\n",
    "- Tamb es la temperatura ambiente en °C \n",
    "\n",
    "Además, con el fin de mejorar el pronóstico de los modelos de series de tiempo, se suaviazan los datos de temperatura ambiente y de insolación solar mediante un promedio móvil de ventana 11. La columna Insolación solar media corresponde a los datos de Insolación solar suaviazados.  "
   ]
  },
  {
   "cell_type": "markdown",
   "metadata": {},
   "source": [
    "### Lectura de datos:\n",
    "En esta etapa se leen los datos almacenados en la carpeta '/DATOS SOLAR':"
   ]
  },
  {
   "cell_type": "code",
   "execution_count": 2,
   "metadata": {},
   "outputs": [
    {
     "name": "stdout",
     "output_type": "stream",
     "text": [
      "Ingrese el mes: Octubre\n",
      "Ingrese el año: 2020\n"
     ]
    },
    {
     "data": {
      "text/html": [
       "<div>\n",
       "<style scoped>\n",
       "    .dataframe tbody tr th:only-of-type {\n",
       "        vertical-align: middle;\n",
       "    }\n",
       "\n",
       "    .dataframe tbody tr th {\n",
       "        vertical-align: top;\n",
       "    }\n",
       "\n",
       "    .dataframe thead th {\n",
       "        text-align: right;\n",
       "    }\n",
       "</style>\n",
       "<table border=\"1\" class=\"dataframe\">\n",
       "  <thead>\n",
       "    <tr style=\"text-align: right;\">\n",
       "      <th></th>\n",
       "      <th>Fecha</th>\n",
       "      <th>Hora</th>\n",
       "      <th>Potencia [kW]</th>\n",
       "      <th>Insolacion [W/m2]</th>\n",
       "      <th>Temperatura de modulos [C]</th>\n",
       "      <th>Temperatura Ambiente [C]</th>\n",
       "      <th>Insolacion media [W/m2]</th>\n",
       "    </tr>\n",
       "  </thead>\n",
       "  <tbody>\n",
       "    <tr>\n",
       "      <th>0</th>\n",
       "      <td>1/10/2020</td>\n",
       "      <td>0:00</td>\n",
       "      <td>x</td>\n",
       "      <td>0.98</td>\n",
       "      <td>11.05</td>\n",
       "      <td>11.448050</td>\n",
       "      <td>0.980000</td>\n",
       "    </tr>\n",
       "    <tr>\n",
       "      <th>1</th>\n",
       "      <td>1/10/2020</td>\n",
       "      <td>0:05</td>\n",
       "      <td>x</td>\n",
       "      <td>0.98</td>\n",
       "      <td>11.52</td>\n",
       "      <td>11.473050</td>\n",
       "      <td>0.980000</td>\n",
       "    </tr>\n",
       "    <tr>\n",
       "      <th>2</th>\n",
       "      <td>1/10/2020</td>\n",
       "      <td>0:10</td>\n",
       "      <td>x</td>\n",
       "      <td>0.98</td>\n",
       "      <td>11.62</td>\n",
       "      <td>11.490550</td>\n",
       "      <td>0.980000</td>\n",
       "    </tr>\n",
       "    <tr>\n",
       "      <th>3</th>\n",
       "      <td>1/10/2020</td>\n",
       "      <td>0:15</td>\n",
       "      <td>x</td>\n",
       "      <td>0.98</td>\n",
       "      <td>11.60</td>\n",
       "      <td>11.513050</td>\n",
       "      <td>0.980000</td>\n",
       "    </tr>\n",
       "    <tr>\n",
       "      <th>4</th>\n",
       "      <td>1/10/2020</td>\n",
       "      <td>0:20</td>\n",
       "      <td>x</td>\n",
       "      <td>0.98</td>\n",
       "      <td>11.55</td>\n",
       "      <td>11.555050</td>\n",
       "      <td>0.980000</td>\n",
       "    </tr>\n",
       "    <tr>\n",
       "      <th>...</th>\n",
       "      <td>...</td>\n",
       "      <td>...</td>\n",
       "      <td>...</td>\n",
       "      <td>...</td>\n",
       "      <td>...</td>\n",
       "      <td>...</td>\n",
       "      <td>...</td>\n",
       "    </tr>\n",
       "    <tr>\n",
       "      <th>8923</th>\n",
       "      <td>31/10/2020</td>\n",
       "      <td>23:35</td>\n",
       "      <td>x</td>\n",
       "      <td>0.97</td>\n",
       "      <td>13.05</td>\n",
       "      <td>13.436242</td>\n",
       "      <td>0.973000</td>\n",
       "    </tr>\n",
       "    <tr>\n",
       "      <th>8924</th>\n",
       "      <td>31/10/2020</td>\n",
       "      <td>23:40</td>\n",
       "      <td>x</td>\n",
       "      <td>0.97</td>\n",
       "      <td>12.96</td>\n",
       "      <td>13.369931</td>\n",
       "      <td>0.972222</td>\n",
       "    </tr>\n",
       "    <tr>\n",
       "      <th>8925</th>\n",
       "      <td>31/10/2020</td>\n",
       "      <td>23:45</td>\n",
       "      <td>x</td>\n",
       "      <td>0.97</td>\n",
       "      <td>13.16</td>\n",
       "      <td>13.297041</td>\n",
       "      <td>0.971250</td>\n",
       "    </tr>\n",
       "    <tr>\n",
       "      <th>8926</th>\n",
       "      <td>31/10/2020</td>\n",
       "      <td>23:50</td>\n",
       "      <td>x</td>\n",
       "      <td>0.97</td>\n",
       "      <td>13.48</td>\n",
       "      <td>13.249000</td>\n",
       "      <td>0.971429</td>\n",
       "    </tr>\n",
       "    <tr>\n",
       "      <th>8927</th>\n",
       "      <td>31/10/2020</td>\n",
       "      <td>23:55</td>\n",
       "      <td>x</td>\n",
       "      <td>0.98</td>\n",
       "      <td>13.72</td>\n",
       "      <td>13.231613</td>\n",
       "      <td>0.971667</td>\n",
       "    </tr>\n",
       "  </tbody>\n",
       "</table>\n",
       "<p>8928 rows × 7 columns</p>\n",
       "</div>"
      ],
      "text/plain": [
       "           Fecha   Hora Potencia [kW]  Insolacion [W/m2]  \\\n",
       "0      1/10/2020   0:00             x               0.98   \n",
       "1      1/10/2020   0:05             x               0.98   \n",
       "2      1/10/2020   0:10             x               0.98   \n",
       "3      1/10/2020   0:15             x               0.98   \n",
       "4      1/10/2020   0:20             x               0.98   \n",
       "...          ...    ...           ...                ...   \n",
       "8923  31/10/2020  23:35             x               0.97   \n",
       "8924  31/10/2020  23:40             x               0.97   \n",
       "8925  31/10/2020  23:45             x               0.97   \n",
       "8926  31/10/2020  23:50             x               0.97   \n",
       "8927  31/10/2020  23:55             x               0.98   \n",
       "\n",
       "      Temperatura de modulos [C]  Temperatura Ambiente [C]  \\\n",
       "0                          11.05                 11.448050   \n",
       "1                          11.52                 11.473050   \n",
       "2                          11.62                 11.490550   \n",
       "3                          11.60                 11.513050   \n",
       "4                          11.55                 11.555050   \n",
       "...                          ...                       ...   \n",
       "8923                       13.05                 13.436242   \n",
       "8924                       12.96                 13.369931   \n",
       "8925                       13.16                 13.297041   \n",
       "8926                       13.48                 13.249000   \n",
       "8927                       13.72                 13.231613   \n",
       "\n",
       "      Insolacion media [W/m2]  \n",
       "0                    0.980000  \n",
       "1                    0.980000  \n",
       "2                    0.980000  \n",
       "3                    0.980000  \n",
       "4                    0.980000  \n",
       "...                       ...  \n",
       "8923                 0.973000  \n",
       "8924                 0.972222  \n",
       "8925                 0.971250  \n",
       "8926                 0.971429  \n",
       "8927                 0.971667  \n",
       "\n",
       "[8928 rows x 7 columns]"
      ]
     },
     "execution_count": 2,
     "metadata": {},
     "output_type": "execute_result"
    }
   ],
   "source": [
    "ruta = 'C:\\\\Users\\\\USUARIO\\\\OneDrive\\\\Universidad\\\\Proyecto de Grado\\\\Repositorio\\\\Proyecto-Electronica\\\\DATOS SOLAR\\\\'\n",
    "ruta2='C:\\\\Users\\Diego Acosta\\\\Documents\\\\GitHub\\\\Proyecto-Electronica\\\\DATOS SOLAR\\\\'\n",
    "mes = input('Ingrese el mes: ')\n",
    "año = input('Ingrese el año: ')\n",
    "try:\n",
    "    datos = pd.read_csv(ruta + mes + ' ' + año + '.csv')\n",
    "except:\n",
    "    datos = pd.read_csv(ruta2 + mes + ' ' + año + '.csv')\n",
    "datos"
   ]
  },
  {
   "cell_type": "markdown",
   "metadata": {},
   "source": [
    "### Funciones para el pre procesamiento: "
   ]
  },
  {
   "cell_type": "code",
   "execution_count": 3,
   "metadata": {},
   "outputs": [],
   "source": [
    "#Esta función reemplaza los datos ue tengan un valor de 'x' por un 0\n",
    "\n",
    "def reemplazo(datos):\n",
    "    datos.replace({'Potencia [kW]':'x'},0,inplace = True)\n",
    "    datos.dropna(inplace = True)\n",
    "    return datos\n",
    "\n",
    "#Esta función toma los valores donde se observa que el sol está activo\n",
    "# el intervalo de horas tomado es en un día de 6:00 am a 6:00pm. Además,\n",
    "#en esta función se cambian algunos valores de temperatura ambiente \n",
    "#considerados fuera de lo normal para la ciudad de Bogotá\n",
    "\n",
    "def intervalosolar(datos):\n",
    "    list1 = datos['Hora'][0:72].tolist()\n",
    "    list2 = datos['Hora'][217:288].tolist()\n",
    "    \n",
    "    list = list1+list2\n",
    "    \n",
    "    t = datos[datos['Hora']=='6:00'].columns.values[-2]\n",
    "    for i in range(len(list)):\n",
    "        datos = datos[datos['Hora']!= list[i]]\n",
    "        \n",
    "    for i in datos[t]:   \n",
    "        if 14< i<16:\n",
    "            datos.replace({t:i},i*0.9,inplace=True)\n",
    "        elif 16<i<18:\n",
    "            datos.replace({t:i},i*0.85,inplace=True)\n",
    "        elif i>18:\n",
    "            datos.replace({t:i},i*0.75,inplace=True)\n",
    "            \n",
    "    return datos\n",
    "\n",
    "#En esta función se guarda el dataframe pre procesado en formato .csv\n",
    "#en una carpeta nueva llamada '/Pre- procesados'\n",
    "\n",
    "rutanueva = 'C:\\\\Users\\\\USUARIO\\\\OneDrive\\\\Universidad\\\\Proyecto de Grado\\\\Repositorio\\\\Proyecto-Electronica\\\\DATOS SOLAR'\n",
    "\n",
    "def guardarcsv(datos,nombre):\n",
    "    datos.to_csv(rutanueva+'\\\\Pre procesados\\\\'+ nombre)\n",
    "    "
   ]
  },
  {
   "cell_type": "markdown",
   "metadata": {},
   "source": [
    "#### Se crea una lista donde se guardan las rutas de los archivos a leer:"
   ]
  },
  {
   "cell_type": "code",
   "execution_count": 4,
   "metadata": {},
   "outputs": [
    {
     "data": {
      "text/plain": [
       "['Abril 2020.csv',\n",
       " 'Agosto 2020.csv',\n",
       " 'Diciembre 2019.csv',\n",
       " 'Diciembre 2020.csv',\n",
       " 'Enero 2020.csv',\n",
       " 'Febrero 2020.csv',\n",
       " 'Julio 2020.csv',\n",
       " 'Junio 2020.csv',\n",
       " 'Marzo 2020.csv',\n",
       " 'Mayo 2020.csv',\n",
       " 'Noviembre 2019.csv',\n",
       " 'Noviembre 2020.csv',\n",
       " 'Octubre 2019.csv',\n",
       " 'Octubre 2020.csv',\n",
       " 'Septiembre 2020.csv']"
      ]
     },
     "execution_count": 4,
     "metadata": {},
     "output_type": "execute_result"
    }
   ],
   "source": [
    "archivos = glob.glob('C:\\\\Users\\\\USUARIO\\\\OneDrive\\\\Universidad\\\\Proyecto de Grado\\\\Repositorio\\\\Proyecto-Electronica\\\\DATOS SOLAR\\\\*.csv')\n",
    "if archivos==[]:\n",
    "    archivos = glob.glob('C:\\\\Users\\\\Diego Acosta\\\\Documents\\\\GitHub\\\\Proyecto-Electronica\\\\DATOS SOLAR\\\\*.csv')    \n",
    "\n",
    "nombres = [] #Vector con los nombres de los archivos\n",
    "\n",
    "for i in range(len(archivos)):\n",
    "    nombre = archivos[i].split('\\\\')\n",
    "    nombres.append(nombre[-1])\n",
    "nombres"
   ]
  },
  {
   "cell_type": "markdown",
   "metadata": {},
   "source": [
    "### Ejecución de funciones:"
   ]
  },
  {
   "cell_type": "markdown",
   "metadata": {},
   "source": [
    "#### Se lee cada uno de los archivos y se ejecutan las diferentes funciones definidas previamente:"
   ]
  },
  {
   "cell_type": "code",
   "execution_count": 5,
   "metadata": {},
   "outputs": [],
   "source": [
    "for i in range(len(archivos)):\n",
    "    #Se lee el archivo de la ruta\n",
    "    datos = pd.read_csv(archivos[i])\n",
    "    t = datos.columns.values[-2]\n",
    "    datos = reemplazo(datos)\n",
    "    datos = intervalosolar(datos)\n",
    "    datos['Temp Ambiente [C]'] = datos[t]\n",
    "    guardarcsv(datos, nombres[i])\n"
   ]
  },
  {
   "cell_type": "code",
   "execution_count": 6,
   "metadata": {},
   "outputs": [
    {
     "data": {
      "text/html": [
       "<div>\n",
       "<style scoped>\n",
       "    .dataframe tbody tr th:only-of-type {\n",
       "        vertical-align: middle;\n",
       "    }\n",
       "\n",
       "    .dataframe tbody tr th {\n",
       "        vertical-align: top;\n",
       "    }\n",
       "\n",
       "    .dataframe thead th {\n",
       "        text-align: right;\n",
       "    }\n",
       "</style>\n",
       "<table border=\"1\" class=\"dataframe\">\n",
       "  <thead>\n",
       "    <tr style=\"text-align: right;\">\n",
       "      <th></th>\n",
       "      <th>Fecha</th>\n",
       "      <th>Hora</th>\n",
       "      <th>Potencia [kW]</th>\n",
       "      <th>Insolacion [W/m2]</th>\n",
       "      <th>Temperatura de modulos [C]</th>\n",
       "      <th>Temperatura ambiente [C]</th>\n",
       "      <th>Insolacion media [W/m2]</th>\n",
       "      <th>Temp Ambiente [C]</th>\n",
       "    </tr>\n",
       "  </thead>\n",
       "  <tbody>\n",
       "    <tr>\n",
       "      <th>72</th>\n",
       "      <td>1/09/2020</td>\n",
       "      <td>6:00</td>\n",
       "      <td>0.01</td>\n",
       "      <td>5.08</td>\n",
       "      <td>9.64</td>\n",
       "      <td>9.399891</td>\n",
       "      <td>6.880000</td>\n",
       "      <td>9.399891</td>\n",
       "    </tr>\n",
       "    <tr>\n",
       "      <th>73</th>\n",
       "      <td>1/09/2020</td>\n",
       "      <td>6:05</td>\n",
       "      <td>0.08</td>\n",
       "      <td>7.02</td>\n",
       "      <td>9.53</td>\n",
       "      <td>9.407027</td>\n",
       "      <td>8.934545</td>\n",
       "      <td>9.407027</td>\n",
       "    </tr>\n",
       "    <tr>\n",
       "      <th>74</th>\n",
       "      <td>1/09/2020</td>\n",
       "      <td>6:10</td>\n",
       "      <td>0.17</td>\n",
       "      <td>9.42</td>\n",
       "      <td>9.40</td>\n",
       "      <td>9.437618</td>\n",
       "      <td>11.789091</td>\n",
       "      <td>9.437618</td>\n",
       "    </tr>\n",
       "    <tr>\n",
       "      <th>75</th>\n",
       "      <td>1/09/2020</td>\n",
       "      <td>6:15</td>\n",
       "      <td>0.29</td>\n",
       "      <td>11.87</td>\n",
       "      <td>9.38</td>\n",
       "      <td>9.478893</td>\n",
       "      <td>15.015455</td>\n",
       "      <td>9.478893</td>\n",
       "    </tr>\n",
       "    <tr>\n",
       "      <th>76</th>\n",
       "      <td>1/09/2020</td>\n",
       "      <td>6:20</td>\n",
       "      <td>0.44</td>\n",
       "      <td>14.96</td>\n",
       "      <td>9.52</td>\n",
       "      <td>9.524152</td>\n",
       "      <td>18.493636</td>\n",
       "      <td>9.524152</td>\n",
       "    </tr>\n",
       "    <tr>\n",
       "      <th>...</th>\n",
       "      <td>...</td>\n",
       "      <td>...</td>\n",
       "      <td>...</td>\n",
       "      <td>...</td>\n",
       "      <td>...</td>\n",
       "      <td>...</td>\n",
       "      <td>...</td>\n",
       "      <td>...</td>\n",
       "    </tr>\n",
       "    <tr>\n",
       "      <th>212</th>\n",
       "      <td>1/09/2020</td>\n",
       "      <td>17:40</td>\n",
       "      <td>2.48</td>\n",
       "      <td>43.63</td>\n",
       "      <td>18.58</td>\n",
       "      <td>13.645679</td>\n",
       "      <td>28.440909</td>\n",
       "      <td>13.645679</td>\n",
       "    </tr>\n",
       "    <tr>\n",
       "      <th>213</th>\n",
       "      <td>1/09/2020</td>\n",
       "      <td>17:45</td>\n",
       "      <td>1.02</td>\n",
       "      <td>21.37</td>\n",
       "      <td>18.53</td>\n",
       "      <td>15.291960</td>\n",
       "      <td>24.310909</td>\n",
       "      <td>15.291960</td>\n",
       "    </tr>\n",
       "    <tr>\n",
       "      <th>214</th>\n",
       "      <td>1/09/2020</td>\n",
       "      <td>17:50</td>\n",
       "      <td>0.3</td>\n",
       "      <td>9.74</td>\n",
       "      <td>18.38</td>\n",
       "      <td>15.092457</td>\n",
       "      <td>20.449091</td>\n",
       "      <td>15.092457</td>\n",
       "    </tr>\n",
       "    <tr>\n",
       "      <th>215</th>\n",
       "      <td>1/09/2020</td>\n",
       "      <td>17:55</td>\n",
       "      <td>0.97</td>\n",
       "      <td>20.52</td>\n",
       "      <td>18.34</td>\n",
       "      <td>14.852009</td>\n",
       "      <td>17.082727</td>\n",
       "      <td>14.852009</td>\n",
       "    </tr>\n",
       "    <tr>\n",
       "      <th>216</th>\n",
       "      <td>1/09/2020</td>\n",
       "      <td>18:00</td>\n",
       "      <td>0.23</td>\n",
       "      <td>7.83</td>\n",
       "      <td>18.23</td>\n",
       "      <td>14.582559</td>\n",
       "      <td>14.064545</td>\n",
       "      <td>14.582559</td>\n",
       "    </tr>\n",
       "  </tbody>\n",
       "</table>\n",
       "<p>145 rows × 8 columns</p>\n",
       "</div>"
      ],
      "text/plain": [
       "         Fecha   Hora Potencia [kW]  Insolacion [W/m2]  \\\n",
       "72   1/09/2020   6:00          0.01               5.08   \n",
       "73   1/09/2020   6:05          0.08               7.02   \n",
       "74   1/09/2020   6:10          0.17               9.42   \n",
       "75   1/09/2020   6:15          0.29              11.87   \n",
       "76   1/09/2020   6:20          0.44              14.96   \n",
       "..         ...    ...           ...                ...   \n",
       "212  1/09/2020  17:40          2.48              43.63   \n",
       "213  1/09/2020  17:45          1.02              21.37   \n",
       "214  1/09/2020  17:50           0.3               9.74   \n",
       "215  1/09/2020  17:55          0.97              20.52   \n",
       "216  1/09/2020  18:00          0.23               7.83   \n",
       "\n",
       "     Temperatura de modulos [C]  Temperatura ambiente [C]  \\\n",
       "72                         9.64                  9.399891   \n",
       "73                         9.53                  9.407027   \n",
       "74                         9.40                  9.437618   \n",
       "75                         9.38                  9.478893   \n",
       "76                         9.52                  9.524152   \n",
       "..                          ...                       ...   \n",
       "212                       18.58                 13.645679   \n",
       "213                       18.53                 15.291960   \n",
       "214                       18.38                 15.092457   \n",
       "215                       18.34                 14.852009   \n",
       "216                       18.23                 14.582559   \n",
       "\n",
       "     Insolacion media [W/m2]  Temp Ambiente [C]  \n",
       "72                  6.880000           9.399891  \n",
       "73                  8.934545           9.407027  \n",
       "74                 11.789091           9.437618  \n",
       "75                 15.015455           9.478893  \n",
       "76                 18.493636           9.524152  \n",
       "..                       ...                ...  \n",
       "212                28.440909          13.645679  \n",
       "213                24.310909          15.291960  \n",
       "214                20.449091          15.092457  \n",
       "215                17.082727          14.852009  \n",
       "216                14.064545          14.582559  \n",
       "\n",
       "[145 rows x 8 columns]"
      ]
     },
     "execution_count": 6,
     "metadata": {},
     "output_type": "execute_result"
    }
   ],
   "source": [
    "datos[0:145]"
   ]
  },
  {
   "cell_type": "markdown",
   "metadata": {},
   "source": [
    "#### Se muestra un ejemplo de cómo queda el dataframe final:"
   ]
  },
  {
   "cell_type": "code",
   "execution_count": 7,
   "metadata": {},
   "outputs": [
    {
     "data": {
      "text/html": [
       "<div>\n",
       "<style scoped>\n",
       "    .dataframe tbody tr th:only-of-type {\n",
       "        vertical-align: middle;\n",
       "    }\n",
       "\n",
       "    .dataframe tbody tr th {\n",
       "        vertical-align: top;\n",
       "    }\n",
       "\n",
       "    .dataframe thead th {\n",
       "        text-align: right;\n",
       "    }\n",
       "</style>\n",
       "<table border=\"1\" class=\"dataframe\">\n",
       "  <thead>\n",
       "    <tr style=\"text-align: right;\">\n",
       "      <th></th>\n",
       "      <th>Fecha</th>\n",
       "      <th>Hora</th>\n",
       "      <th>Potencia [kW]</th>\n",
       "      <th>Insolacion [W/m2]</th>\n",
       "      <th>Temperatura de modulos [C]</th>\n",
       "      <th>Temperatura ambiente [C]</th>\n",
       "      <th>Insolacion media [W/m2]</th>\n",
       "      <th>Temp Ambiente [C]</th>\n",
       "    </tr>\n",
       "  </thead>\n",
       "  <tbody>\n",
       "    <tr>\n",
       "      <th>1800</th>\n",
       "      <td>7/09/2020</td>\n",
       "      <td>6:00</td>\n",
       "      <td>0.14</td>\n",
       "      <td>8.66</td>\n",
       "      <td>8.04</td>\n",
       "      <td>7.663786</td>\n",
       "      <td>9.812727</td>\n",
       "      <td>7.663786</td>\n",
       "    </tr>\n",
       "    <tr>\n",
       "      <th>1801</th>\n",
       "      <td>7/09/2020</td>\n",
       "      <td>6:05</td>\n",
       "      <td>0.25</td>\n",
       "      <td>11.39</td>\n",
       "      <td>8.02</td>\n",
       "      <td>7.676293</td>\n",
       "      <td>12.564545</td>\n",
       "      <td>7.676293</td>\n",
       "    </tr>\n",
       "    <tr>\n",
       "      <th>1802</th>\n",
       "      <td>7/09/2020</td>\n",
       "      <td>6:10</td>\n",
       "      <td>0.41</td>\n",
       "      <td>13.97</td>\n",
       "      <td>7.94</td>\n",
       "      <td>7.684698</td>\n",
       "      <td>16.093636</td>\n",
       "      <td>7.684698</td>\n",
       "    </tr>\n",
       "    <tr>\n",
       "      <th>1803</th>\n",
       "      <td>7/09/2020</td>\n",
       "      <td>6:15</td>\n",
       "      <td>0.58</td>\n",
       "      <td>16.88</td>\n",
       "      <td>7.79</td>\n",
       "      <td>7.708120</td>\n",
       "      <td>20.233636</td>\n",
       "      <td>7.708120</td>\n",
       "    </tr>\n",
       "    <tr>\n",
       "      <th>1804</th>\n",
       "      <td>7/09/2020</td>\n",
       "      <td>6:20</td>\n",
       "      <td>0.72</td>\n",
       "      <td>20.24</td>\n",
       "      <td>7.96</td>\n",
       "      <td>7.751223</td>\n",
       "      <td>24.583636</td>\n",
       "      <td>7.751223</td>\n",
       "    </tr>\n",
       "    <tr>\n",
       "      <th>...</th>\n",
       "      <td>...</td>\n",
       "      <td>...</td>\n",
       "      <td>...</td>\n",
       "      <td>...</td>\n",
       "      <td>...</td>\n",
       "      <td>...</td>\n",
       "      <td>...</td>\n",
       "      <td>...</td>\n",
       "    </tr>\n",
       "    <tr>\n",
       "      <th>1940</th>\n",
       "      <td>7/09/2020</td>\n",
       "      <td>17:40</td>\n",
       "      <td>0.34</td>\n",
       "      <td>11.57</td>\n",
       "      <td>16.74</td>\n",
       "      <td>13.687293</td>\n",
       "      <td>19.439091</td>\n",
       "      <td>13.687293</td>\n",
       "    </tr>\n",
       "    <tr>\n",
       "      <th>1941</th>\n",
       "      <td>7/09/2020</td>\n",
       "      <td>17:45</td>\n",
       "      <td>0.24</td>\n",
       "      <td>9.12</td>\n",
       "      <td>16.11</td>\n",
       "      <td>14.367796</td>\n",
       "      <td>15.185455</td>\n",
       "      <td>14.367796</td>\n",
       "    </tr>\n",
       "    <tr>\n",
       "      <th>1942</th>\n",
       "      <td>7/09/2020</td>\n",
       "      <td>17:50</td>\n",
       "      <td>0.11</td>\n",
       "      <td>6.96</td>\n",
       "      <td>15.56</td>\n",
       "      <td>14.218531</td>\n",
       "      <td>10.670909</td>\n",
       "      <td>14.218531</td>\n",
       "    </tr>\n",
       "    <tr>\n",
       "      <th>1943</th>\n",
       "      <td>7/09/2020</td>\n",
       "      <td>17:55</td>\n",
       "      <td>0.01</td>\n",
       "      <td>4.52</td>\n",
       "      <td>15.39</td>\n",
       "      <td>14.013108</td>\n",
       "      <td>7.070000</td>\n",
       "      <td>14.013108</td>\n",
       "    </tr>\n",
       "    <tr>\n",
       "      <th>1944</th>\n",
       "      <td>7/09/2020</td>\n",
       "      <td>18:00</td>\n",
       "      <td>0</td>\n",
       "      <td>2.55</td>\n",
       "      <td>15.52</td>\n",
       "      <td>13.770861</td>\n",
       "      <td>4.990000</td>\n",
       "      <td>13.770861</td>\n",
       "    </tr>\n",
       "  </tbody>\n",
       "</table>\n",
       "<p>145 rows × 8 columns</p>\n",
       "</div>"
      ],
      "text/plain": [
       "          Fecha   Hora Potencia [kW]  Insolacion [W/m2]  \\\n",
       "1800  7/09/2020   6:00          0.14               8.66   \n",
       "1801  7/09/2020   6:05          0.25              11.39   \n",
       "1802  7/09/2020   6:10          0.41              13.97   \n",
       "1803  7/09/2020   6:15          0.58              16.88   \n",
       "1804  7/09/2020   6:20          0.72              20.24   \n",
       "...         ...    ...           ...                ...   \n",
       "1940  7/09/2020  17:40          0.34              11.57   \n",
       "1941  7/09/2020  17:45          0.24               9.12   \n",
       "1942  7/09/2020  17:50          0.11               6.96   \n",
       "1943  7/09/2020  17:55          0.01               4.52   \n",
       "1944  7/09/2020  18:00             0               2.55   \n",
       "\n",
       "      Temperatura de modulos [C]  Temperatura ambiente [C]  \\\n",
       "1800                        8.04                  7.663786   \n",
       "1801                        8.02                  7.676293   \n",
       "1802                        7.94                  7.684698   \n",
       "1803                        7.79                  7.708120   \n",
       "1804                        7.96                  7.751223   \n",
       "...                          ...                       ...   \n",
       "1940                       16.74                 13.687293   \n",
       "1941                       16.11                 14.367796   \n",
       "1942                       15.56                 14.218531   \n",
       "1943                       15.39                 14.013108   \n",
       "1944                       15.52                 13.770861   \n",
       "\n",
       "      Insolacion media [W/m2]  Temp Ambiente [C]  \n",
       "1800                 9.812727           7.663786  \n",
       "1801                12.564545           7.676293  \n",
       "1802                16.093636           7.684698  \n",
       "1803                20.233636           7.708120  \n",
       "1804                24.583636           7.751223  \n",
       "...                       ...                ...  \n",
       "1940                19.439091          13.687293  \n",
       "1941                15.185455          14.367796  \n",
       "1942                10.670909          14.218531  \n",
       "1943                 7.070000          14.013108  \n",
       "1944                 4.990000          13.770861  \n",
       "\n",
       "[145 rows x 8 columns]"
      ]
     },
     "execution_count": 7,
     "metadata": {},
     "output_type": "execute_result"
    },
    {
     "data": {
      "image/png": "[encoded data removed]",
      "text/plain": [
       "<Figure size 432x288 with 1 Axes>"
      ]
     },
     "metadata": {
      "needs_background": "light"
     },
     "output_type": "display_data"
    }
   ],
   "source": [
    "import random\n",
    "n = random.randrange(30)\n",
    "plt.plot(datos['Temperatura ambiente [C]'][n*145:n*145+145])\n",
    "datos[n*145:n*145+145]"
   ]
  },
  {
   "cell_type": "markdown",
   "metadata": {},
   "source": [
    "## Análisis estadístico y de desempeño de la planta solar fotovoltaica "
   ]
  },
  {
   "cell_type": "markdown",
   "metadata": {},
   "source": [
    "En esta sección se realiza el análisis estadístico y de desempeño de los datos de potencia generada, irradiación solar y temperatura ambiente registrados de octubre de 2019 a diciembre de 2020 por la estación meteorológica de la planta solar fotovoltaica. "
   ]
  },
  {
   "cell_type": "code",
   "execution_count": 8,
   "metadata": {},
   "outputs": [],
   "source": [
    "# Recibe un dataframe de datos de la planta y la variable a analizar\n",
    "\n",
    "def soldiario(datos,variable ,variablerango):\n",
    "    fechas = datos[variablerango].unique()\n",
    "    solxdia = []\n",
    "    for i in range(len(fechas)):\n",
    "        solxdia.append(round(datos[datos[variablerango]==fechas[i]].sum()[variable]/12,3))\n",
    "    df = {'Dia':fechas, variable:solxdia}\n",
    "    df = pd.DataFrame(df)\n",
    "    return df\n",
    "\n",
    "def tempdiario(datos,variable ,variablerango):\n",
    "    fechas = datos[variablerango].unique()\n",
    "    solxdia = []\n",
    "  \n",
    "    for i in range(len(fechas)):\n",
    "        solxdia.append(datos[datos[variablerango]==fechas[i]].sum()[variable])\n",
    "    df = {'Dia':fechas, variable.lower():solxdia}\n",
    "    df = pd.DataFrame(df)\n",
    "    return df"
   ]
  },
  {
   "cell_type": "markdown",
   "metadata": {},
   "source": [
    "## Lectura de archivos:"
   ]
  },
  {
   "cell_type": "markdown",
   "metadata": {},
   "source": [
    "### Se crea un vector con las rutas donde se encuentran los archivos preprocesados"
   ]
  },
  {
   "cell_type": "code",
   "execution_count": 9,
   "metadata": {},
   "outputs": [
    {
     "data": {
      "text/plain": [
       "['C:\\\\Users\\\\USUARIO\\\\OneDrive\\\\Universidad\\\\Proyecto de Grado\\\\Repositorio\\\\Proyecto-Electronica\\\\DATOS SOLAR\\\\Pre procesados\\\\Abril 2020.csv',\n",
       " 'C:\\\\Users\\\\USUARIO\\\\OneDrive\\\\Universidad\\\\Proyecto de Grado\\\\Repositorio\\\\Proyecto-Electronica\\\\DATOS SOLAR\\\\Pre procesados\\\\Agosto 2020.csv',\n",
       " 'C:\\\\Users\\\\USUARIO\\\\OneDrive\\\\Universidad\\\\Proyecto de Grado\\\\Repositorio\\\\Proyecto-Electronica\\\\DATOS SOLAR\\\\Pre procesados\\\\Diciembre 2019.csv',\n",
       " 'C:\\\\Users\\\\USUARIO\\\\OneDrive\\\\Universidad\\\\Proyecto de Grado\\\\Repositorio\\\\Proyecto-Electronica\\\\DATOS SOLAR\\\\Pre procesados\\\\Diciembre 2020.csv',\n",
       " 'C:\\\\Users\\\\USUARIO\\\\OneDrive\\\\Universidad\\\\Proyecto de Grado\\\\Repositorio\\\\Proyecto-Electronica\\\\DATOS SOLAR\\\\Pre procesados\\\\Enero 2020.csv',\n",
       " 'C:\\\\Users\\\\USUARIO\\\\OneDrive\\\\Universidad\\\\Proyecto de Grado\\\\Repositorio\\\\Proyecto-Electronica\\\\DATOS SOLAR\\\\Pre procesados\\\\Febrero 2020.csv',\n",
       " 'C:\\\\Users\\\\USUARIO\\\\OneDrive\\\\Universidad\\\\Proyecto de Grado\\\\Repositorio\\\\Proyecto-Electronica\\\\DATOS SOLAR\\\\Pre procesados\\\\Julio 2020.csv',\n",
       " 'C:\\\\Users\\\\USUARIO\\\\OneDrive\\\\Universidad\\\\Proyecto de Grado\\\\Repositorio\\\\Proyecto-Electronica\\\\DATOS SOLAR\\\\Pre procesados\\\\Junio 2020.csv',\n",
       " 'C:\\\\Users\\\\USUARIO\\\\OneDrive\\\\Universidad\\\\Proyecto de Grado\\\\Repositorio\\\\Proyecto-Electronica\\\\DATOS SOLAR\\\\Pre procesados\\\\Marzo 2020.csv',\n",
       " 'C:\\\\Users\\\\USUARIO\\\\OneDrive\\\\Universidad\\\\Proyecto de Grado\\\\Repositorio\\\\Proyecto-Electronica\\\\DATOS SOLAR\\\\Pre procesados\\\\Mayo 2020.csv',\n",
       " 'C:\\\\Users\\\\USUARIO\\\\OneDrive\\\\Universidad\\\\Proyecto de Grado\\\\Repositorio\\\\Proyecto-Electronica\\\\DATOS SOLAR\\\\Pre procesados\\\\Noviembre 2019.csv',\n",
       " 'C:\\\\Users\\\\USUARIO\\\\OneDrive\\\\Universidad\\\\Proyecto de Grado\\\\Repositorio\\\\Proyecto-Electronica\\\\DATOS SOLAR\\\\Pre procesados\\\\Noviembre 2020.csv',\n",
       " 'C:\\\\Users\\\\USUARIO\\\\OneDrive\\\\Universidad\\\\Proyecto de Grado\\\\Repositorio\\\\Proyecto-Electronica\\\\DATOS SOLAR\\\\Pre procesados\\\\Octubre 2019.csv',\n",
       " 'C:\\\\Users\\\\USUARIO\\\\OneDrive\\\\Universidad\\\\Proyecto de Grado\\\\Repositorio\\\\Proyecto-Electronica\\\\DATOS SOLAR\\\\Pre procesados\\\\Octubre 2020.csv',\n",
       " 'C:\\\\Users\\\\USUARIO\\\\OneDrive\\\\Universidad\\\\Proyecto de Grado\\\\Repositorio\\\\Proyecto-Electronica\\\\DATOS SOLAR\\\\Pre procesados\\\\Septiembre 2020.csv']"
      ]
     },
     "execution_count": 9,
     "metadata": {},
     "output_type": "execute_result"
    }
   ],
   "source": [
    "ruta = 'C:\\\\Users\\\\USUARIO\\\\OneDrive\\\\Universidad\\\\Proyecto de Grado\\\\Repositorio\\\\Proyecto-Electronica\\\\DATOS SOLAR\\\\Pre procesados\\\\'\n",
    "ruta2 = 'C:\\\\Users\\\\Diego Acosta\\\\Documents\\\\GitHub\\\\Proyecto-Electronica\\\\DATOS SOLAR\\\\Pre procesados\\\\'\n",
    "archivospre = glob.glob(ruta2 +'*.csv')\n",
    "if archivospre==[]:\n",
    "    archivospre = glob.glob(ruta +'*.csv')\n",
    "archivospre"
   ]
  },
  {
   "cell_type": "markdown",
   "metadata": {},
   "source": [
    "### Se crea un vector con los nombres de los diferentes archivos"
   ]
  },
  {
   "cell_type": "code",
   "execution_count": 10,
   "metadata": {
    "scrolled": true
   },
   "outputs": [
    {
     "data": {
      "text/plain": [
       "['Abril 2020.csv',\n",
       " 'Agosto 2020.csv',\n",
       " 'Diciembre 2019.csv',\n",
       " 'Diciembre 2020.csv',\n",
       " 'Enero 2020.csv',\n",
       " 'Febrero 2020.csv',\n",
       " 'Julio 2020.csv',\n",
       " 'Junio 2020.csv',\n",
       " 'Marzo 2020.csv',\n",
       " 'Mayo 2020.csv',\n",
       " 'Noviembre 2019.csv',\n",
       " 'Noviembre 2020.csv',\n",
       " 'Octubre 2019.csv',\n",
       " 'Octubre 2020.csv',\n",
       " 'Septiembre 2020.csv']"
      ]
     },
     "execution_count": 10,
     "metadata": {},
     "output_type": "execute_result"
    }
   ],
   "source": [
    "nombres2 = []\n",
    "for i in range(len(archivospre)):\n",
    "    nombre = archivospre[i].split('\\\\')\n",
    "    nombres2.append(nombre[-1])\n",
    "nombres2"
   ]
  },
  {
   "cell_type": "markdown",
   "metadata": {},
   "source": [
    "## Histograma de irradiación solar diaria:"
   ]
  },
  {
   "cell_type": "markdown",
   "metadata": {},
   "source": [
    "#### Se crea un dataframe llamado 'todo' que contiene los datos  por día de una variable específica de los dataframes pre procesados anteriormente"
   ]
  },
  {
   "cell_type": "code",
   "execution_count": 11,
   "metadata": {},
   "outputs": [],
   "source": [
    "i=0\n",
    "variable = 'Insolacion [W/m2]'\n",
    "#variable = 'Potencia [kW]'\n",
    "variablerango = 'Fecha'\n",
    "\n",
    "for nombre in nombres2:\n",
    "    df = pd.read_csv(nombre)\n",
    "\n",
    "    try: \n",
    "        df = df.drop('Unnamed: 0',axis=1)\n",
    "    except:\n",
    "        pass\n",
    "\n",
    "    df = df.dropna()\n",
    "\n",
    "    name = nombre.split('.') \n",
    "    name = name[0].split(' ')\n",
    "\n",
    "    globals()[name[0] + name[1]] = soldiario(df,variable,variablerango)\n",
    "\n",
    "    if i == 0:\n",
    "        todoIns = globals()[name[0] + name[1]] # DataFrame donde se guardan los diferentes valores de insolación por día.\n",
    "    else:\n",
    "        todoIns = pd.concat([todoIns , globals()[name[0] + name[1]]],axis = 0)\n",
    "    i+=1\n",
    "todoIns.set_index('Dia',inplace=True)"
   ]
  },
  {
   "cell_type": "code",
   "execution_count": 12,
   "metadata": {},
   "outputs": [
    {
     "data": {
      "text/html": [
       "<div>\n",
       "<style scoped>\n",
       "    .dataframe tbody tr th:only-of-type {\n",
       "        vertical-align: middle;\n",
       "    }\n",
       "\n",
       "    .dataframe tbody tr th {\n",
       "        vertical-align: top;\n",
       "    }\n",
       "\n",
       "    .dataframe thead th {\n",
       "        text-align: right;\n",
       "    }\n",
       "</style>\n",
       "<table border=\"1\" class=\"dataframe\">\n",
       "  <thead>\n",
       "    <tr style=\"text-align: right;\">\n",
       "      <th></th>\n",
       "      <th>Insolacion [W/m2]</th>\n",
       "    </tr>\n",
       "    <tr>\n",
       "      <th>Dia</th>\n",
       "      <th></th>\n",
       "    </tr>\n",
       "  </thead>\n",
       "  <tbody>\n",
       "    <tr>\n",
       "      <th>1/04/2020</th>\n",
       "      <td>1473.167</td>\n",
       "    </tr>\n",
       "    <tr>\n",
       "      <th>2/04/2020</th>\n",
       "      <td>4900.995</td>\n",
       "    </tr>\n",
       "    <tr>\n",
       "      <th>3/04/2020</th>\n",
       "      <td>5215.679</td>\n",
       "    </tr>\n",
       "    <tr>\n",
       "      <th>4/04/2020</th>\n",
       "      <td>2379.293</td>\n",
       "    </tr>\n",
       "    <tr>\n",
       "      <th>5/04/2020</th>\n",
       "      <td>3835.619</td>\n",
       "    </tr>\n",
       "    <tr>\n",
       "      <th>...</th>\n",
       "      <td>...</td>\n",
       "    </tr>\n",
       "    <tr>\n",
       "      <th>26/09/2020</th>\n",
       "      <td>3373.524</td>\n",
       "    </tr>\n",
       "    <tr>\n",
       "      <th>27/09/2020</th>\n",
       "      <td>3438.583</td>\n",
       "    </tr>\n",
       "    <tr>\n",
       "      <th>28/09/2020</th>\n",
       "      <td>3485.870</td>\n",
       "    </tr>\n",
       "    <tr>\n",
       "      <th>29/09/2020</th>\n",
       "      <td>4305.051</td>\n",
       "    </tr>\n",
       "    <tr>\n",
       "      <th>30/09/2020</th>\n",
       "      <td>4152.945</td>\n",
       "    </tr>\n",
       "  </tbody>\n",
       "</table>\n",
       "<p>458 rows × 1 columns</p>\n",
       "</div>"
      ],
      "text/plain": [
       "            Insolacion [W/m2]\n",
       "Dia                          \n",
       "1/04/2020            1473.167\n",
       "2/04/2020            4900.995\n",
       "3/04/2020            5215.679\n",
       "4/04/2020            2379.293\n",
       "5/04/2020            3835.619\n",
       "...                       ...\n",
       "26/09/2020           3373.524\n",
       "27/09/2020           3438.583\n",
       "28/09/2020           3485.870\n",
       "29/09/2020           4305.051\n",
       "30/09/2020           4152.945\n",
       "\n",
       "[458 rows x 1 columns]"
      ]
     },
     "execution_count": 12,
     "metadata": {},
     "output_type": "execute_result"
    }
   ],
   "source": [
    "todoIns"
   ]
  },
  {
   "cell_type": "markdown",
   "metadata": {},
   "source": [
    "### Gráfica"
   ]
  },
  {
   "cell_type": "code",
   "execution_count": 22,
   "metadata": {},
   "outputs": [
    {
     "name": "stdout",
     "output_type": "stream",
     "text": [
      "Media: 10.143471052961178 Desv Estándar: 3.300053283956227 Varianza: 10.89035167695028 Lambda: 0.9314181354152323 Alpha: 9.447812894787484\n"
     ]
    },
    {
     "data": {
      "text/plain": [
       "Text(0.5, 1.0, 'Histograma de irradiación solar media diaria\\n')"
      ]
     },
     "execution_count": 22,
     "metadata": {},
     "output_type": "execute_result"
    },
    {
     "data": {
      "image/png": "[encoded data removed]",
      "text/plain": [
       "<Figure size 432x288 with 1 Axes>"
      ]
     },
     "metadata": {
      "needs_background": "light"
     },
     "output_type": "display_data"
    }
   ],
   "source": [
    "muI = np.mean(mydata)\n",
    "desvI = np.std(mydata)\n",
    "varI = np.var(mydata)\n",
    "lambdaI = muI/varI\n",
    "alphaI = muI*lambdaI\n",
    "\n",
    "print('Media:',muI,'Desv Estándar:',desvI,'Varianza:',varI,'Lambda:',lambdaI,'Alpha:',alphaI)\n",
    "\n",
    "a = alphaI# parametro de forma.\n",
    "gamma = stats.gamma(a)\n",
    "x = np.linspace(2,\n",
    "                gamma.ppf(0.995), 100)\n",
    "fp = gamma.pdf(x) # Función de Probabilidad\n",
    "plt.plot(x, fp)\n",
    "mydata = np.array(todoIns['Insolacion [W/m2]'])\n",
    "mydata = mydata*gamma.ppf(0.995)/mydata.max()\n",
    "plt.hist(mydata, weights=np.zeros_like(mydata) + 1. / mydata.size,bins=15,ec ='k')\n",
    "plt.xlabel('Irradiación solar [$W/m^2$]')\n",
    "plt.ylabel('Frecuencia relativa')\n",
    "plt.title('Histograma de irradiación solar media diaria\\n')"
   ]
  },
  {
   "cell_type": "markdown",
   "metadata": {},
   "source": [
    "### Matriz de correlación"
   ]
  },
  {
   "cell_type": "code",
   "execution_count": null,
   "metadata": {},
   "outputs": [],
   "source": [
    "import seaborn as sns\n",
    "\n",
    "# taking all rows but only 6 columns\n",
    "df_small = df.iloc[:,:8]\n",
    "\n",
    "correlation_mat = df_small.corr()\n",
    "\n",
    "sns.heatmap(correlation_mat, annot = True)\n",
    "plt.savefig(\"Ejemplo1.png\")"
   ]
  },
  {
   "cell_type": "code",
   "execution_count": null,
   "metadata": {},
   "outputs": [],
   "source": [
    "todoIns."
   ]
  },
  {
   "cell_type": "markdown",
   "metadata": {},
   "source": [
    "### Estimación de la distribución que mejor se adapta al histograma anterior:"
   ]
  },
  {
   "cell_type": "code",
   "execution_count": null,
   "metadata": {
    "scrolled": true
   },
   "outputs": [],
   "source": [
    "mu = np.mean(todoIns['Insolacion [W/m2]'])\n",
    "desv = np.std(todoIns['Insolacion [W/m2]'])\n",
    "sigma = np.var(todoIns['Insolacion [W/m2]'])\n",
    "mu,sigma,desv\n",
    "statsT = pd.DataFrame({'Media':[mu],'Varianza':[sigma],'Desv. Estándar':[desv]})\n",
    "statsT"
   ]
  },
  {
   "cell_type": "code",
   "execution_count": null,
   "metadata": {},
   "outputs": [],
   "source": [
    "todoIns['Insolacion [W/m2]'].sum()/458"
   ]
  },
  {
   "cell_type": "markdown",
   "metadata": {},
   "source": [
    "## Gráfica de Irradiación solar media por hora:\n"
   ]
  },
  {
   "cell_type": "code",
   "execution_count": null,
   "metadata": {},
   "outputs": [],
   "source": [
    "datos = pd.read_csv('Octubre 2020.csv')\n",
    "horas = datos['Hora'].unique()"
   ]
  },
  {
   "cell_type": "code",
   "execution_count": null,
   "metadata": {},
   "outputs": [],
   "source": [
    "temps = np.zeros(len(horas))\n",
    "cont = 0\n",
    "for nombre in nombres2:\n",
    "    datos = pd.read_csv(nombre)\n",
    "    \n",
    "    t = datos[datos['Hora']=='6:00'].columns.values[-4]#Columna donde está almacenada la temperatura\n",
    "    \n",
    "    cont = cont + len(datos[datos['Hora']==horas[1]])    #Contador de días\n",
    "    \n",
    "    for i in range(len(horas)):\n",
    "        temps[i] = temps[i] + datos[datos['Hora']==horas[i]][t].sum()#Actualización del vector de temperaturas\n",
    "\n",
    "todoIns = pd.DataFrame({'Hora':horas,'Insolacion media [W/m2]':temps/cont})\n",
    "todoIns.set_index('Hora',inplace = True)"
   ]
  },
  {
   "cell_type": "code",
   "execution_count": null,
   "metadata": {},
   "outputs": [],
   "source": [
    "todoIns.max()"
   ]
  },
  {
   "cell_type": "code",
   "execution_count": null,
   "metadata": {},
   "outputs": [],
   "source": [
    "SMALL_SIZE = 8\n",
    "MEDIUM_SIZE = 10\n",
    "BIGGER_SIZE = 13\n",
    "\n",
    "todoIns.plot(figsize=(12,8))\n",
    "plt.rc('axes', titlesize=BIGGER_SIZE)\n",
    "\n",
    "plt.title('Irradiación solar media cada 5 minutos\\n')\n",
    "plt.ylabel('Irradiación solar media [$W/m^{2}$]')"
   ]
  },
  {
   "cell_type": "markdown",
   "metadata": {},
   "source": [
    "## Gráfica de Temperaturas medias por hora:"
   ]
  },
  {
   "cell_type": "code",
   "execution_count": null,
   "metadata": {},
   "outputs": [],
   "source": [
    "datos = pd.read_csv('Octubre 2020.csv')\n",
    "datos[datos['Hora']=='6:00'].columns.values[-2]\n",
    "horas = datos['Hora'].unique()\n",
    "horas"
   ]
  },
  {
   "cell_type": "code",
   "execution_count": null,
   "metadata": {},
   "outputs": [],
   "source": [
    "temps = np.zeros(len(horas))\n",
    "cont = 0\n",
    "for nombre in nombres2:\n",
    "    datos = pd.read_csv(nombre)\n",
    "    \n",
    "    t = datos[datos['Hora']=='6:00'].columns.values[-2]#Columna donde está almacenada la temperatura\n",
    "    \n",
    "    cont = cont + len(datos[datos['Hora']==horas[1]])    #Contador de días\n",
    "    \n",
    "    for i in range(len(horas)):\n",
    "        temps[i] = temps[i] + datos[datos['Hora']==horas[i]][t].sum()#Actualización del vector de temperaturas\n",
    "\n",
    "todoTemp = pd.DataFrame({'Hora':horas,'Temperatura media [C]':temps/cont})\n",
    "todoTemp.set_index('Hora',inplace = True)"
   ]
  },
  {
   "cell_type": "code",
   "execution_count": null,
   "metadata": {},
   "outputs": [],
   "source": [
    "todoTemp"
   ]
  },
  {
   "cell_type": "markdown",
   "metadata": {},
   "source": [
    "### Gráfica"
   ]
  },
  {
   "cell_type": "code",
   "execution_count": null,
   "metadata": {
    "scrolled": true
   },
   "outputs": [],
   "source": [
    "SMALL_SIZE = 8\n",
    "MEDIUM_SIZE = 10\n",
    "BIGGER_SIZE = 13\n",
    "\n",
    "todoTemp.plot(figsize=(12,8))\n",
    "plt.rc('axes', titlesize=BIGGER_SIZE)\n",
    "\n",
    "plt.title('Temperatura ambiente media en Bogotá cada 5 minutos\\n')\n",
    "plt.ylabel('Temperatura media [°C]')"
   ]
  },
  {
   "cell_type": "code",
   "execution_count": null,
   "metadata": {},
   "outputs": [],
   "source": [
    "muT = np.mean(todoTemp['Temperatura media [C]'])\n",
    "desvT = np.std(todoTemp['Temperatura media [C]'])\n",
    "sigmaT = np.var(todoTemp['Temperatura media [C]'])\n",
    "\n",
    "muT,sigmaT,desvT\n",
    "todoTemp['Temperatura media [C]'].describe()\n",
    "statsT = pd.DataFrame({'Media':[muT],'Varianza':[sigmaT],'Desv. Estándar':[desvT]})\n",
    "statsT"
   ]
  },
  {
   "cell_type": "markdown",
   "metadata": {},
   "source": [
    "## Histograma de temperatura media diaria:"
   ]
  },
  {
   "cell_type": "code",
   "execution_count": null,
   "metadata": {},
   "outputs": [],
   "source": [
    "m=0\n",
    "for nombre in nombres2:\n",
    "    datos = pd.read_csv(nombre)\n",
    "    fechas = datos['Fecha'].unique()\n",
    "    temps = np.zeros(len(fechas))\n",
    "    t = datos.columns.values[-2]\n",
    "    for i in range(len(temps)):\n",
    "        temps[i] = datos[datos['Fecha']==fechas[i]][t].sum()/145\n",
    "    if m==0:\n",
    "        todoTemps = pd.DataFrame({'Fecha':fechas,'Temperatura media [C]':temps})\n",
    "    else:\n",
    "        df = pd.DataFrame({'Fecha':fechas,'Temperatura media [C]':temps})\n",
    "        todoTemps = pd.concat([todoTemps,df],axis =0)\n",
    "    m+=1"
   ]
  },
  {
   "cell_type": "code",
   "execution_count": null,
   "metadata": {},
   "outputs": [],
   "source": [
    "todoTemps"
   ]
  },
  {
   "cell_type": "markdown",
   "metadata": {},
   "source": [
    "### Gráfica"
   ]
  },
  {
   "cell_type": "code",
   "execution_count": null,
   "metadata": {},
   "outputs": [],
   "source": [
    "#Datos histograma\n",
    "mydata = np.array(todoTemps['Temperatura media [C]'])/(todoTemps['Temperatura media [C]'].max())\n",
    "\n",
    "plt.figure()\n",
    "# Cálculo de la PDF:\n",
    "\n",
    "muT = np.mean(mydata)\n",
    "varT = np.var(mydata)\n",
    "lambdaT = muT/varT\n",
    "alphaT= muT*lambdaT\n",
    "print(alphaT ,muT,varT)\n",
    "a = alphaT# parametro de forma.\n",
    "gamma = stats.gamma(a)\n",
    "x = np.linspace(2,\n",
    "                gamma.ppf(0.995), 100)\n",
    "fp = gamma.pdf(x) # Función de Probabilidad\n",
    "\n",
    "plt.plot(x, fp)\n",
    "plt.hist(mydata, weights=(np.zeros_like(mydata) + 1. / mydata.size)*15,bins=15,ec ='k')\n",
    "\n",
    "plt.xlabel('Temperatura media [°C]')\n",
    "plt.ylabel('Frecuencia relativa')\n",
    "plt.title('Histograma de temperatura media diaria\\n')\n",
    "plt.show()"
   ]
  },
  {
   "cell_type": "code",
   "execution_count": null,
   "metadata": {},
   "outputs": [],
   "source": [
    "import numpy as np\n",
    "from scipy.stats import norm\n",
    "import matplotlib.pyplot as plt\n",
    "\n",
    "\n",
    "# Generate some data for this demonstration.\n",
    "data = todoTemps['Temperatura media [C]']\n",
    "\n",
    "# Fit a normal distribution to the data:\n",
    "mu, std = norm.fit(data)\n",
    "\n",
    "# Plot the histogram.\n",
    "plt.hist(data, bins=15,weights=np.zeros_like(mydata) + 1. / mydata.size)\n",
    "\n",
    "# Plot the PDF.\n",
    "xmin, xmax = plt.xlim()\n",
    "x = np.linspace(xmin, xmax, 100)\n",
    "p = norm.pdf(x, mu, std)\n",
    "plt.plot(x, p, 'k', linewidth=2)\n",
    "title = \"Fit results: mu = %.2f,  std = %.2f\" % (mu, std)\n",
    "plt.title(title)\n",
    "plt.show()"
   ]
  },
  {
   "cell_type": "markdown",
   "metadata": {},
   "source": [
    "## Histograma "
   ]
  },
  {
   "cell_type": "code",
   "execution_count": null,
   "metadata": {},
   "outputs": [],
   "source": [
    "i=0\n",
    "#variable = 'Insolacion [W/m2]'\n",
    "variable = 'Potencia [kW]'\n",
    "variablerango = 'Fecha'\n",
    "\n",
    "for nombre in nombres2:\n",
    "    df = pd.read_csv(nombre)\n",
    "\n",
    "    try: \n",
    "        df = df.drop('Unnamed: 0',axis=1)\n",
    "    except:\n",
    "        pass\n",
    "\n",
    "    df = df.dropna()\n",
    "\n",
    "    name = nombre.split('.') \n",
    "    name = name[0].split(' ')\n",
    "\n",
    "    globals()[name[0] + name[1]] = soldiario(df,variable,variablerango)\n",
    "\n",
    "    if i == 0:\n",
    "        todo = globals()[name[0] + name[1]] # DataFrame donde se guardan los diferentes valores de insolación por día.\n",
    "    else:\n",
    "        todo = pd.concat([todo , globals()[name[0] + name[1]]],axis = 0)\n",
    "    i+=1\n",
    "todo"
   ]
  },
  {
   "cell_type": "code",
   "execution_count": null,
   "metadata": {},
   "outputs": [],
   "source": []
  },
  {
   "cell_type": "code",
   "execution_count": null,
   "metadata": {},
   "outputs": [],
   "source": [
    "plt.hist(todo['Potencia [kW]'],15,ec = 'k') \n",
    "plt.xlabel('Energía [kWh]')\n",
    "plt.ylabel('Cantidad de días')\n",
    "plt.title('Histograma de Energía Generada')\n",
    "plt.show()"
   ]
  },
  {
   "cell_type": "markdown",
   "metadata": {},
   "source": [
    "## Caracterización estadística de todos los datos:"
   ]
  },
  {
   "cell_type": "code",
   "execution_count": null,
   "metadata": {},
   "outputs": [],
   "source": [
    "preprocesados = glob.glob('C:\\\\Users\\\\USUARIO\\\\OneDrive\\\\Universidad\\\\Proyecto de Grado\\\\Repositorio\\\\Proyecto-Electronica\\\\DATOS SOLAR\\\\Pre procesados\\\\*.csv')\n",
    "if preprocesados ==[]:\n",
    "    preprocesados = glob.glob('C:\\\\Users\\\\Diego Acosta\\\\Documents\\\\GitHub\\\\Proyecto-Electronica\\\\DATOS SOLAR\\\\Pre procesados\\\\*.csv')  \n",
    "preprocesados"
   ]
  },
  {
   "cell_type": "code",
   "execution_count": null,
   "metadata": {},
   "outputs": [],
   "source": [
    "k = 0\n",
    "for arch in preprocesados:\n",
    "    if k == 0:\n",
    "        df = pd.read_csv(arch)\n",
    "    else:\n",
    "        df1 = pd.read_csv(arch)\n",
    "        df = pd.concat([df,df1],axis=0)\n",
    "    k+=1\n",
    "df.drop('Unnamed: 0',axis=1,inplace = True)\n",
    "a_analizar = ['']\n",
    "df.dropna(axis=1,inplace = True)\n",
    "df.describe()"
   ]
  },
  {
   "cell_type": "code",
   "execution_count": null,
   "metadata": {},
   "outputs": [],
   "source": []
  },
  {
   "cell_type": "code",
   "execution_count": null,
   "metadata": {},
   "outputs": [],
   "source": [
    "# separate the figure object and axes object\n",
    "# from the plotting object\n",
    "fig, ax1 = plt.subplots()\n",
    "x =[1,2,3,4]\n",
    "y=[4,3,2,1]\n",
    "z =[1,2,3,4]\n",
    "# Duplicate the axes with a different y axis\n",
    "# and the same x axis\n",
    "ax2 = ax1.twinx() # ax2 and ax1 will have common x axis and different y axis\n",
    "\n",
    "# plot the curves on axes 1, and 2, and get the curve handles\n",
    "curve1, = ax1.bar(x, y, label=\"sin\", color='r')\n",
    "curve2, = ax2.bar(x, z, label=\"sinh\", color='b')\n",
    "\n",
    "# Make a curves list to access the parameters in the curves\n",
    "curves = [curve1, curve2]\n",
    "\n",
    "# add legend via axes 1 or axes 2 object.\n",
    "# one command is usually sufficient\n",
    "# ax1.legend() # will not display the legend of ax2\n",
    "# ax2.legend() # will not display the legend of ax1\n",
    "ax1.legend(curves, [curve.get_label() for curve in curves])\n",
    "# ax2.legend(curves, [curve.get_label() for curve in curves]) # also valid\n",
    "\n",
    "# Global figure properties\n",
    "plt.title(\"Plot of sine and hyperbolic sine\")\n",
    "plt.show()"
   ]
  }
 ],
 "metadata": {
  "kernelspec": {
   "display_name": "Python 3",
   "language": "python",
   "name": "python3"
  },
  "language_info": {
   "codemirror_mode": {
    "name": "ipython",
    "version": 3
   },
   "file_extension": ".py",
   "mimetype": "text/x-python",
   "name": "python",
   "nbconvert_exporter": "python",
   "pygments_lexer": "ipython3",
   "version": "3.7.6"
  }
 },
 "nbformat": 4,
 "nbformat_minor": 4
}
