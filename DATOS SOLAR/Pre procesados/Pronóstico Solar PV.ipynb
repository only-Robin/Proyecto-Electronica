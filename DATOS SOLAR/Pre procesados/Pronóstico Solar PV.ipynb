{
 "cells": [
  {
   "cell_type": "markdown",
   "metadata": {},
   "source": [
    "# Implementación y contraste de algoritmos de pronóstico de generación para una planta solar fotovoltaica de 80 kW de la Universidad de Los Andes"
   ]
  },
  {
   "cell_type": "markdown",
   "metadata": {},
   "source": [
    "## Diego Andrés Acosta y Robinson Julián Portilla"
   ]
  },
  {
   "cell_type": "markdown",
   "metadata": {},
   "source": [
    "#### En este proyecto de grado se realiza el pronóstico de generación del día siguiente de una planta solar fotovoltaica de 80 kW de la Universidad de Los Andes mediante diferentes algoritmos de Machine Learning. "
   ]
  },
  {
   "cell_type": "markdown",
   "metadata": {},
   "source": [
    "#### Se importan las librerías a utilizar jjdjdlklklldk"
   ]
  },
  {
   "cell_type": "code",
   "execution_count": 34,
   "metadata": {},
   "outputs": [],
   "source": [
    "import pandas as pd\n",
    "import numpy as np\n",
    "import matplotlib.pyplot as plt\n",
    "import glob\n",
    "from scipy import stats"
   ]
  },
  {
   "cell_type": "markdown",
   "metadata": {},
   "source": [
    "## Pre-Procesamiento de Datos"
   ]
  },
  {
   "cell_type": "markdown",
   "metadata": {},
   "source": [
    "En esta etapa se realiza el pre-procesamiento de los datos empleados para realizar los modelos de pronóstico.\n",
    "\n",
    "Los datos se encuentran en la carpeta '/DATOS SOLAR' de este repositorio. Los datos tienen una resolución de 5 minutos y consisten en la fecha (dd/mm/aa), hora (hh:mm), Potencia generada (kW), irradiación solar (W/m^2), Temperatura de los modulos (°C), Temperatura ambiente (°C) e irradiación solar media (W/m^2). Se consideraron los datos de octubre de 2019 a diciembre de 2020 para realizar el entrenamiento y evaluación de los modelos implementados. \n",
    "\n",
    "Cabe señalar que, puesto que la estación meteorológica de la planta no otorga datos de temperatura ambiente, esta fue estimada mediante la siguiente expresión:\n",
    "\n",
    "#### Tamb=Tcelda-G*(TONC-20°C)/800W/m^2\n",
    "\n",
    "Donde: \n",
    "- G es la irradiación en ese momento en W/m^2\n",
    "- TONC es la temperatura nominal de la celda en °C, la cual es de 42°C para los paneles LG 400W de la planta\n",
    "- Tcelda es la temperatura de los modulos fotovoltaicos en °C en ese momento\n",
    "- Tamb es la temperatura ambiente en °C \n",
    "\n",
    "Además, con el fin de mejorar el pronóstico de los modelos de series de tiempo, se suaviazan los datos de temperatura ambiente y de insolación solar mediante un promedio móvil de ventana 11. La columna Insolación solar media corresponde a los datos de Insolación solar suaviazados.  "
   ]
  },
  {
   "cell_type": "markdown",
   "metadata": {},
   "source": [
    "### Lectura de datos:\n",
    "En esta etapa se leen los datos almacenados en la carpeta '/DATOS SOLAR':"
   ]
  },
  {
   "cell_type": "code",
   "execution_count": 35,
   "metadata": {},
   "outputs": [
    {
     "name": "stdout",
     "output_type": "stream",
     "text": [
      "Ingrese el mes: Junio\n",
      "Ingrese el año: 2020\n"
     ]
    },
    {
     "data": {
      "text/html": [
       "<div>\n",
       "<style scoped>\n",
       "    .dataframe tbody tr th:only-of-type {\n",
       "        vertical-align: middle;\n",
       "    }\n",
       "\n",
       "    .dataframe tbody tr th {\n",
       "        vertical-align: top;\n",
       "    }\n",
       "\n",
       "    .dataframe thead th {\n",
       "        text-align: right;\n",
       "    }\n",
       "</style>\n",
       "<table border=\"1\" class=\"dataframe\">\n",
       "  <thead>\n",
       "    <tr style=\"text-align: right;\">\n",
       "      <th></th>\n",
       "      <th>Fecha</th>\n",
       "      <th>Hora</th>\n",
       "      <th>Potencia [kW]</th>\n",
       "      <th>Insolacion [W/m2]</th>\n",
       "      <th>Temperatura de modulos [C]</th>\n",
       "      <th>Temperatura ambiente [C]</th>\n",
       "      <th>Insolacion media [W/m2]</th>\n",
       "    </tr>\n",
       "  </thead>\n",
       "  <tbody>\n",
       "    <tr>\n",
       "      <th>0</th>\n",
       "      <td>1/06/2020</td>\n",
       "      <td>0:00</td>\n",
       "      <td>x</td>\n",
       "      <td>0.99</td>\n",
       "      <td>12.66</td>\n",
       "      <td>12.291292</td>\n",
       "      <td>0.983333</td>\n",
       "    </tr>\n",
       "    <tr>\n",
       "      <th>1</th>\n",
       "      <td>1/06/2020</td>\n",
       "      <td>0:05</td>\n",
       "      <td>x</td>\n",
       "      <td>0.99</td>\n",
       "      <td>12.38</td>\n",
       "      <td>12.291543</td>\n",
       "      <td>0.982857</td>\n",
       "    </tr>\n",
       "    <tr>\n",
       "      <th>2</th>\n",
       "      <td>1/06/2020</td>\n",
       "      <td>0:10</td>\n",
       "      <td>x</td>\n",
       "      <td>0.98</td>\n",
       "      <td>12.19</td>\n",
       "      <td>12.311697</td>\n",
       "      <td>0.983750</td>\n",
       "    </tr>\n",
       "    <tr>\n",
       "      <th>3</th>\n",
       "      <td>1/06/2020</td>\n",
       "      <td>0:15</td>\n",
       "      <td>x</td>\n",
       "      <td>0.98</td>\n",
       "      <td>12.14</td>\n",
       "      <td>12.312928</td>\n",
       "      <td>0.984444</td>\n",
       "    </tr>\n",
       "    <tr>\n",
       "      <th>4</th>\n",
       "      <td>1/06/2020</td>\n",
       "      <td>0:20</td>\n",
       "      <td>x</td>\n",
       "      <td>0.98</td>\n",
       "      <td>12.26</td>\n",
       "      <td>12.283940</td>\n",
       "      <td>0.984000</td>\n",
       "    </tr>\n",
       "    <tr>\n",
       "      <th>...</th>\n",
       "      <td>...</td>\n",
       "      <td>...</td>\n",
       "      <td>...</td>\n",
       "      <td>...</td>\n",
       "      <td>...</td>\n",
       "      <td>...</td>\n",
       "      <td>...</td>\n",
       "    </tr>\n",
       "    <tr>\n",
       "      <th>8923</th>\n",
       "      <td>NaN</td>\n",
       "      <td>NaN</td>\n",
       "      <td>NaN</td>\n",
       "      <td>NaN</td>\n",
       "      <td>NaN</td>\n",
       "      <td>NaN</td>\n",
       "      <td>NaN</td>\n",
       "    </tr>\n",
       "    <tr>\n",
       "      <th>8924</th>\n",
       "      <td>NaN</td>\n",
       "      <td>NaN</td>\n",
       "      <td>NaN</td>\n",
       "      <td>NaN</td>\n",
       "      <td>NaN</td>\n",
       "      <td>NaN</td>\n",
       "      <td>NaN</td>\n",
       "    </tr>\n",
       "    <tr>\n",
       "      <th>8925</th>\n",
       "      <td>NaN</td>\n",
       "      <td>NaN</td>\n",
       "      <td>NaN</td>\n",
       "      <td>NaN</td>\n",
       "      <td>NaN</td>\n",
       "      <td>NaN</td>\n",
       "      <td>NaN</td>\n",
       "    </tr>\n",
       "    <tr>\n",
       "      <th>8926</th>\n",
       "      <td>NaN</td>\n",
       "      <td>NaN</td>\n",
       "      <td>NaN</td>\n",
       "      <td>NaN</td>\n",
       "      <td>NaN</td>\n",
       "      <td>NaN</td>\n",
       "      <td>NaN</td>\n",
       "    </tr>\n",
       "    <tr>\n",
       "      <th>8927</th>\n",
       "      <td>NaN</td>\n",
       "      <td>NaN</td>\n",
       "      <td>NaN</td>\n",
       "      <td>NaN</td>\n",
       "      <td>NaN</td>\n",
       "      <td>NaN</td>\n",
       "      <td>NaN</td>\n",
       "    </tr>\n",
       "  </tbody>\n",
       "</table>\n",
       "<p>8928 rows × 7 columns</p>\n",
       "</div>"
      ],
      "text/plain": [
       "          Fecha  Hora Potencia [kW]  Insolacion [W/m2]  \\\n",
       "0     1/06/2020  0:00             x               0.99   \n",
       "1     1/06/2020  0:05             x               0.99   \n",
       "2     1/06/2020  0:10             x               0.98   \n",
       "3     1/06/2020  0:15             x               0.98   \n",
       "4     1/06/2020  0:20             x               0.98   \n",
       "...         ...   ...           ...                ...   \n",
       "8923        NaN   NaN           NaN                NaN   \n",
       "8924        NaN   NaN           NaN                NaN   \n",
       "8925        NaN   NaN           NaN                NaN   \n",
       "8926        NaN   NaN           NaN                NaN   \n",
       "8927        NaN   NaN           NaN                NaN   \n",
       "\n",
       "      Temperatura de modulos [C]  Temperatura ambiente [C]  \\\n",
       "0                          12.66                 12.291292   \n",
       "1                          12.38                 12.291543   \n",
       "2                          12.19                 12.311697   \n",
       "3                          12.14                 12.312928   \n",
       "4                          12.26                 12.283940   \n",
       "...                          ...                       ...   \n",
       "8923                         NaN                       NaN   \n",
       "8924                         NaN                       NaN   \n",
       "8925                         NaN                       NaN   \n",
       "8926                         NaN                       NaN   \n",
       "8927                         NaN                       NaN   \n",
       "\n",
       "      Insolacion media [W/m2]  \n",
       "0                    0.983333  \n",
       "1                    0.982857  \n",
       "2                    0.983750  \n",
       "3                    0.984444  \n",
       "4                    0.984000  \n",
       "...                       ...  \n",
       "8923                      NaN  \n",
       "8924                      NaN  \n",
       "8925                      NaN  \n",
       "8926                      NaN  \n",
       "8927                      NaN  \n",
       "\n",
       "[8928 rows x 7 columns]"
      ]
     },
     "execution_count": 35,
     "metadata": {},
     "output_type": "execute_result"
    }
   ],
   "source": [
    "ruta = 'C:\\\\Users\\\\USUARIO\\\\OneDrive\\\\Universidad\\\\Proyecto de Grado\\\\Repositorio\\\\Proyecto-Electronica\\\\DATOS SOLAR\\\\'\n",
    "ruta2='C:\\\\Users\\Diego Acosta\\\\Documents\\\\GitHub\\\\Proyecto-Electronica\\\\DATOS SOLAR\\\\'\n",
    "mes = input('Ingrese el mes: ')\n",
    "año = input('Ingrese el año: ')\n",
    "try:\n",
    "    datos = pd.read_csv(ruta + mes + ' ' + año + '.csv')\n",
    "except:\n",
    "    datos = pd.read_csv(ruta2 + mes + ' ' + año + '.csv')\n",
    "datos"
   ]
  },
  {
   "cell_type": "markdown",
   "metadata": {},
   "source": [
    "### Funciones para el pre procesamiento: "
   ]
  },
  {
   "cell_type": "code",
   "execution_count": 198,
   "metadata": {},
   "outputs": [],
   "source": [
    "#Esta función reemplaza los datos ue tengan un valor de 'x' por un 0\n",
    "\n",
    "def reemplazo(datos):\n",
    "    datos.replace({'Potencia [kW]':'x'},0,inplace = True)\n",
    "    datos.dropna(inplace = True)\n",
    "    return datos\n",
    "\n",
    "#Esta función toma los valores donde se observa que el sol está activo\n",
    "# el intervalo de horas tomado es en un día de 6:00 am a 6:00pm. Además,\n",
    "#en esta función se cambian algunos valores de temperatura ambiente \n",
    "#considerados fuera de lo normal para la ciudad de Bogotá\n",
    "\n",
    "def intervalosolar(datos):\n",
    "    list1 = datos['Hora'][0:72].tolist()\n",
    "    list2 = datos['Hora'][217:288].tolist()\n",
    "    \n",
    "    list = list1+list2\n",
    "    \n",
    "    t = datos[datos['Hora']==horas[1]].columns.values[-2]\n",
    "    for i in range(len(list)):\n",
    "        datos = datos[datos['Hora']!= list[i]]\n",
    "        \n",
    "    for i in datos[t]:   \n",
    "        if 14< i<16:\n",
    "            datos.replace({t:i},i*0.9,inplace=True)\n",
    "        elif 16<i<18:\n",
    "            datos.replace({t:i},i*0.85,inplace=True)\n",
    "        elif i>18:\n",
    "            datos.replace({t:i},i*0.75,inplace=True)\n",
    "            \n",
    "    return datos\n",
    "\n",
    "#En esta función se guarda el dataframe pre procesado en formato .csv\n",
    "#en una carpeta nueva llamada '/Pre- procesados'\n",
    "\n",
    "rutanueva = 'C:\\\\Users\\\\USUARIO\\\\OneDrive\\\\Universidad\\\\Proyecto de Grado\\\\Repositorio\\\\Proyecto-Electronica\\\\DATOS SOLAR'\n",
    "\n",
    "def guardarcsv(datos,nombre):\n",
    "    datos.to_csv(rutanueva+'\\\\Pre procesados\\\\'+ nombre)\n",
    "    "
   ]
  },
  {
   "cell_type": "markdown",
   "metadata": {},
   "source": [
    "#### Se crea una lista donde se guardan las rutas de los archivos a leer:"
   ]
  },
  {
   "cell_type": "code",
   "execution_count": 200,
   "metadata": {},
   "outputs": [
    {
     "data": {
      "text/plain": [
       "['Abril 2020.csv',\n",
       " 'Agosto 2020.csv',\n",
       " 'Diciembre 2019.csv',\n",
       " 'Diciembre 2020.csv',\n",
       " 'Enero 2020.csv',\n",
       " 'Febrero 2020.csv',\n",
       " 'Julio 2020.csv',\n",
       " 'Junio 2020.csv',\n",
       " 'Marzo 2020.csv',\n",
       " 'Mayo 2020.csv',\n",
       " 'Noviembre 2019.csv',\n",
       " 'Noviembre 2020.csv',\n",
       " 'Octubre 2019.csv',\n",
       " 'Octubre 2020.csv',\n",
       " 'Septiembre 2020.csv']"
      ]
     },
     "execution_count": 200,
     "metadata": {},
     "output_type": "execute_result"
    }
   ],
   "source": [
    "archivos = glob.glob('C:\\\\Users\\\\USUARIO\\\\OneDrive\\\\Universidad\\\\Proyecto de Grado\\\\Repositorio\\\\Proyecto-Electronica\\\\DATOS SOLAR\\\\*.csv')\n",
    "if archivos==[]:\n",
    "    archivos = glob.glob('C:\\\\Users\\\\Diego Acosta\\\\Documents\\\\GitHub\\\\Proyecto-Electronica\\\\DATOS SOLAR\\\\*.csv')    \n",
    "\n",
    "nombres = [] #Vector con los nombres de los archivos\n",
    "\n",
    "for i in range(len(archivos)):\n",
    "    nombre = archivos[i].split('\\\\')\n",
    "    nombres.append(nombre[-1])\n",
    "nombres"
   ]
  },
  {
   "cell_type": "markdown",
   "metadata": {},
   "source": [
    "### Ejecución de funciones:"
   ]
  },
  {
   "cell_type": "markdown",
   "metadata": {},
   "source": [
    "#### Se lee cada uno de los archivos y se ejecutan las diferentes funciones definidas previamente:"
   ]
  },
  {
   "cell_type": "code",
   "execution_count": 201,
   "metadata": {},
   "outputs": [],
   "source": [
    "for i in range(len(archivos)):\n",
    "    #Se lee el archivo de la ruta\n",
    "    datos = pd.read_csv(archivos[i])\n",
    "    datos = reemplazo(datos)\n",
    "    datos = intervalosolar(datos)\n",
    "    guardarcsv(datos, nombres[i])\n"
   ]
  },
  {
   "cell_type": "code",
   "execution_count": 215,
   "metadata": {},
   "outputs": [
    {
     "data": {
      "text/html": [
       "<div>\n",
       "<style scoped>\n",
       "    .dataframe tbody tr th:only-of-type {\n",
       "        vertical-align: middle;\n",
       "    }\n",
       "\n",
       "    .dataframe tbody tr th {\n",
       "        vertical-align: top;\n",
       "    }\n",
       "\n",
       "    .dataframe thead th {\n",
       "        text-align: right;\n",
       "    }\n",
       "</style>\n",
       "<table border=\"1\" class=\"dataframe\">\n",
       "  <thead>\n",
       "    <tr style=\"text-align: right;\">\n",
       "      <th></th>\n",
       "      <th>Fecha</th>\n",
       "      <th>Hora</th>\n",
       "      <th>Potencia [kW]</th>\n",
       "      <th>Insolacion [W/m2]</th>\n",
       "      <th>Temperatura de modulos [C]</th>\n",
       "      <th>Temperatura ambiente [C]</th>\n",
       "      <th>Insolacion media [W/m2]</th>\n",
       "    </tr>\n",
       "  </thead>\n",
       "  <tbody>\n",
       "    <tr>\n",
       "      <th>72</th>\n",
       "      <td>1/09/2020</td>\n",
       "      <td>6:00</td>\n",
       "      <td>0.01</td>\n",
       "      <td>5.08</td>\n",
       "      <td>9.64</td>\n",
       "      <td>9.399891</td>\n",
       "      <td>6.880000</td>\n",
       "    </tr>\n",
       "    <tr>\n",
       "      <th>73</th>\n",
       "      <td>1/09/2020</td>\n",
       "      <td>6:05</td>\n",
       "      <td>0.08</td>\n",
       "      <td>7.02</td>\n",
       "      <td>9.53</td>\n",
       "      <td>9.407027</td>\n",
       "      <td>8.934545</td>\n",
       "    </tr>\n",
       "    <tr>\n",
       "      <th>74</th>\n",
       "      <td>1/09/2020</td>\n",
       "      <td>6:10</td>\n",
       "      <td>0.17</td>\n",
       "      <td>9.42</td>\n",
       "      <td>9.40</td>\n",
       "      <td>9.437618</td>\n",
       "      <td>11.789091</td>\n",
       "    </tr>\n",
       "    <tr>\n",
       "      <th>75</th>\n",
       "      <td>1/09/2020</td>\n",
       "      <td>6:15</td>\n",
       "      <td>0.29</td>\n",
       "      <td>11.87</td>\n",
       "      <td>9.38</td>\n",
       "      <td>9.478893</td>\n",
       "      <td>15.015455</td>\n",
       "    </tr>\n",
       "    <tr>\n",
       "      <th>76</th>\n",
       "      <td>1/09/2020</td>\n",
       "      <td>6:20</td>\n",
       "      <td>0.44</td>\n",
       "      <td>14.96</td>\n",
       "      <td>9.52</td>\n",
       "      <td>9.524152</td>\n",
       "      <td>18.493636</td>\n",
       "    </tr>\n",
       "    <tr>\n",
       "      <th>...</th>\n",
       "      <td>...</td>\n",
       "      <td>...</td>\n",
       "      <td>...</td>\n",
       "      <td>...</td>\n",
       "      <td>...</td>\n",
       "      <td>...</td>\n",
       "      <td>...</td>\n",
       "    </tr>\n",
       "    <tr>\n",
       "      <th>212</th>\n",
       "      <td>1/09/2020</td>\n",
       "      <td>17:40</td>\n",
       "      <td>2.48</td>\n",
       "      <td>43.63</td>\n",
       "      <td>18.58</td>\n",
       "      <td>13.645679</td>\n",
       "      <td>28.440909</td>\n",
       "    </tr>\n",
       "    <tr>\n",
       "      <th>213</th>\n",
       "      <td>1/09/2020</td>\n",
       "      <td>17:45</td>\n",
       "      <td>1.02</td>\n",
       "      <td>21.37</td>\n",
       "      <td>18.53</td>\n",
       "      <td>15.291960</td>\n",
       "      <td>24.310909</td>\n",
       "    </tr>\n",
       "    <tr>\n",
       "      <th>214</th>\n",
       "      <td>1/09/2020</td>\n",
       "      <td>17:50</td>\n",
       "      <td>0.3</td>\n",
       "      <td>9.74</td>\n",
       "      <td>18.38</td>\n",
       "      <td>15.092457</td>\n",
       "      <td>20.449091</td>\n",
       "    </tr>\n",
       "    <tr>\n",
       "      <th>215</th>\n",
       "      <td>1/09/2020</td>\n",
       "      <td>17:55</td>\n",
       "      <td>0.97</td>\n",
       "      <td>20.52</td>\n",
       "      <td>18.34</td>\n",
       "      <td>14.852009</td>\n",
       "      <td>17.082727</td>\n",
       "    </tr>\n",
       "    <tr>\n",
       "      <th>216</th>\n",
       "      <td>1/09/2020</td>\n",
       "      <td>18:00</td>\n",
       "      <td>0.23</td>\n",
       "      <td>7.83</td>\n",
       "      <td>18.23</td>\n",
       "      <td>14.582559</td>\n",
       "      <td>14.064545</td>\n",
       "    </tr>\n",
       "  </tbody>\n",
       "</table>\n",
       "<p>145 rows × 7 columns</p>\n",
       "</div>"
      ],
      "text/plain": [
       "         Fecha   Hora Potencia [kW]  Insolacion [W/m2]  \\\n",
       "72   1/09/2020   6:00          0.01               5.08   \n",
       "73   1/09/2020   6:05          0.08               7.02   \n",
       "74   1/09/2020   6:10          0.17               9.42   \n",
       "75   1/09/2020   6:15          0.29              11.87   \n",
       "76   1/09/2020   6:20          0.44              14.96   \n",
       "..         ...    ...           ...                ...   \n",
       "212  1/09/2020  17:40          2.48              43.63   \n",
       "213  1/09/2020  17:45          1.02              21.37   \n",
       "214  1/09/2020  17:50           0.3               9.74   \n",
       "215  1/09/2020  17:55          0.97              20.52   \n",
       "216  1/09/2020  18:00          0.23               7.83   \n",
       "\n",
       "     Temperatura de modulos [C]  Temperatura ambiente [C]  \\\n",
       "72                         9.64                  9.399891   \n",
       "73                         9.53                  9.407027   \n",
       "74                         9.40                  9.437618   \n",
       "75                         9.38                  9.478893   \n",
       "76                         9.52                  9.524152   \n",
       "..                          ...                       ...   \n",
       "212                       18.58                 13.645679   \n",
       "213                       18.53                 15.291960   \n",
       "214                       18.38                 15.092457   \n",
       "215                       18.34                 14.852009   \n",
       "216                       18.23                 14.582559   \n",
       "\n",
       "     Insolacion media [W/m2]  \n",
       "72                  6.880000  \n",
       "73                  8.934545  \n",
       "74                 11.789091  \n",
       "75                 15.015455  \n",
       "76                 18.493636  \n",
       "..                       ...  \n",
       "212                28.440909  \n",
       "213                24.310909  \n",
       "214                20.449091  \n",
       "215                17.082727  \n",
       "216                14.064545  \n",
       "\n",
       "[145 rows x 7 columns]"
      ]
     },
     "execution_count": 215,
     "metadata": {},
     "output_type": "execute_result"
    }
   ],
   "source": [
    "datos[0:145]"
   ]
  },
  {
   "cell_type": "markdown",
   "metadata": {},
   "source": [
    "#### Se muestra un ejemplo de cómo queda el dataframe final:"
   ]
  },
  {
   "cell_type": "code",
   "execution_count": 226,
   "metadata": {},
   "outputs": [
    {
     "data": {
      "text/html": [
       "<div>\n",
       "<style scoped>\n",
       "    .dataframe tbody tr th:only-of-type {\n",
       "        vertical-align: middle;\n",
       "    }\n",
       "\n",
       "    .dataframe tbody tr th {\n",
       "        vertical-align: top;\n",
       "    }\n",
       "\n",
       "    .dataframe thead th {\n",
       "        text-align: right;\n",
       "    }\n",
       "</style>\n",
       "<table border=\"1\" class=\"dataframe\">\n",
       "  <thead>\n",
       "    <tr style=\"text-align: right;\">\n",
       "      <th></th>\n",
       "      <th>Fecha</th>\n",
       "      <th>Hora</th>\n",
       "      <th>Potencia [kW]</th>\n",
       "      <th>Insolacion [W/m2]</th>\n",
       "      <th>Temperatura de modulos [C]</th>\n",
       "      <th>Temperatura ambiente [C]</th>\n",
       "      <th>Insolacion media [W/m2]</th>\n",
       "    </tr>\n",
       "  </thead>\n",
       "  <tbody>\n",
       "    <tr>\n",
       "      <th>4968</th>\n",
       "      <td>18/09/2020</td>\n",
       "      <td>6:00</td>\n",
       "      <td>0.12</td>\n",
       "      <td>8.47</td>\n",
       "      <td>9.58</td>\n",
       "      <td>9.779361</td>\n",
       "      <td>9.973636</td>\n",
       "    </tr>\n",
       "    <tr>\n",
       "      <th>4969</th>\n",
       "      <td>18/09/2020</td>\n",
       "      <td>6:05</td>\n",
       "      <td>0.19</td>\n",
       "      <td>10.58</td>\n",
       "      <td>9.63</td>\n",
       "      <td>9.646491</td>\n",
       "      <td>12.458182</td>\n",
       "    </tr>\n",
       "    <tr>\n",
       "      <th>4970</th>\n",
       "      <td>18/09/2020</td>\n",
       "      <td>6:10</td>\n",
       "      <td>0.31</td>\n",
       "      <td>13.15</td>\n",
       "      <td>9.71</td>\n",
       "      <td>9.526091</td>\n",
       "      <td>15.381818</td>\n",
       "    </tr>\n",
       "    <tr>\n",
       "      <th>4971</th>\n",
       "      <td>18/09/2020</td>\n",
       "      <td>6:15</td>\n",
       "      <td>0.43</td>\n",
       "      <td>16.44</td>\n",
       "      <td>9.79</td>\n",
       "      <td>9.450618</td>\n",
       "      <td>18.952727</td>\n",
       "    </tr>\n",
       "    <tr>\n",
       "      <th>4972</th>\n",
       "      <td>18/09/2020</td>\n",
       "      <td>6:20</td>\n",
       "      <td>0.61</td>\n",
       "      <td>20.67</td>\n",
       "      <td>9.96</td>\n",
       "      <td>9.431934</td>\n",
       "      <td>22.871818</td>\n",
       "    </tr>\n",
       "    <tr>\n",
       "      <th>...</th>\n",
       "      <td>...</td>\n",
       "      <td>...</td>\n",
       "      <td>...</td>\n",
       "      <td>...</td>\n",
       "      <td>...</td>\n",
       "      <td>...</td>\n",
       "      <td>...</td>\n",
       "    </tr>\n",
       "    <tr>\n",
       "      <th>5108</th>\n",
       "      <td>18/09/2020</td>\n",
       "      <td>17:40</td>\n",
       "      <td>0</td>\n",
       "      <td>2.17</td>\n",
       "      <td>13.79</td>\n",
       "      <td>13.770811</td>\n",
       "      <td>2.648182</td>\n",
       "    </tr>\n",
       "    <tr>\n",
       "      <th>5109</th>\n",
       "      <td>18/09/2020</td>\n",
       "      <td>17:45</td>\n",
       "      <td>0</td>\n",
       "      <td>1.81</td>\n",
       "      <td>13.95</td>\n",
       "      <td>13.853905</td>\n",
       "      <td>2.238182</td>\n",
       "    </tr>\n",
       "    <tr>\n",
       "      <th>5110</th>\n",
       "      <td>18/09/2020</td>\n",
       "      <td>17:50</td>\n",
       "      <td>0</td>\n",
       "      <td>1.83</td>\n",
       "      <td>13.87</td>\n",
       "      <td>13.946716</td>\n",
       "      <td>1.904545</td>\n",
       "    </tr>\n",
       "    <tr>\n",
       "      <th>5111</th>\n",
       "      <td>18/09/2020</td>\n",
       "      <td>17:55</td>\n",
       "      <td>0</td>\n",
       "      <td>1.39</td>\n",
       "      <td>14.00</td>\n",
       "      <td>12.625908</td>\n",
       "      <td>1.630909</td>\n",
       "    </tr>\n",
       "    <tr>\n",
       "      <th>5112</th>\n",
       "      <td>18/09/2020</td>\n",
       "      <td>18:00</td>\n",
       "      <td>0</td>\n",
       "      <td>1.04</td>\n",
       "      <td>14.06</td>\n",
       "      <td>12.667842</td>\n",
       "      <td>1.457273</td>\n",
       "    </tr>\n",
       "  </tbody>\n",
       "</table>\n",
       "<p>145 rows × 7 columns</p>\n",
       "</div>"
      ],
      "text/plain": [
       "           Fecha   Hora Potencia [kW]  Insolacion [W/m2]  \\\n",
       "4968  18/09/2020   6:00          0.12               8.47   \n",
       "4969  18/09/2020   6:05          0.19              10.58   \n",
       "4970  18/09/2020   6:10          0.31              13.15   \n",
       "4971  18/09/2020   6:15          0.43              16.44   \n",
       "4972  18/09/2020   6:20          0.61              20.67   \n",
       "...          ...    ...           ...                ...   \n",
       "5108  18/09/2020  17:40             0               2.17   \n",
       "5109  18/09/2020  17:45             0               1.81   \n",
       "5110  18/09/2020  17:50             0               1.83   \n",
       "5111  18/09/2020  17:55             0               1.39   \n",
       "5112  18/09/2020  18:00             0               1.04   \n",
       "\n",
       "      Temperatura de modulos [C]  Temperatura ambiente [C]  \\\n",
       "4968                        9.58                  9.779361   \n",
       "4969                        9.63                  9.646491   \n",
       "4970                        9.71                  9.526091   \n",
       "4971                        9.79                  9.450618   \n",
       "4972                        9.96                  9.431934   \n",
       "...                          ...                       ...   \n",
       "5108                       13.79                 13.770811   \n",
       "5109                       13.95                 13.853905   \n",
       "5110                       13.87                 13.946716   \n",
       "5111                       14.00                 12.625908   \n",
       "5112                       14.06                 12.667842   \n",
       "\n",
       "      Insolacion media [W/m2]  \n",
       "4968                 9.973636  \n",
       "4969                12.458182  \n",
       "4970                15.381818  \n",
       "4971                18.952727  \n",
       "4972                22.871818  \n",
       "...                       ...  \n",
       "5108                 2.648182  \n",
       "5109                 2.238182  \n",
       "5110                 1.904545  \n",
       "5111                 1.630909  \n",
       "5112                 1.457273  \n",
       "\n",
       "[145 rows x 7 columns]"
      ]
     },
     "execution_count": 226,
     "metadata": {},
     "output_type": "execute_result"
    },
    {
     "data": {
      "image/png": "[encoded data removed]",
      "text/plain": [
       "<Figure size 432x288 with 1 Axes>"
      ]
     },
     "metadata": {
      "needs_background": "light"
     },
     "output_type": "display_data"
    }
   ],
   "source": [
    "import random\n",
    "n = random.randrange(30)\n",
    "plt.plot(datos['Temperatura ambiente [C]'][n*145:n*145+145])\n",
    "datos[n*145:n*145+145]"
   ]
  },
  {
   "cell_type": "markdown",
   "metadata": {},
   "source": [
    "## Análisis estadístico y de desempeño de la planta solar fotovoltaica "
   ]
  },
  {
   "cell_type": "markdown",
   "metadata": {},
   "source": [
    "En esta sección se realiza el análisis estadístico y de desempeño de los datos de potencia generada, irradiación solar y temperatura ambiente registrados de octubre de 2019 a diciembre de 2020 por la estación meteorológica de la planta solar fotovoltaica. "
   ]
  },
  {
   "cell_type": "code",
   "execution_count": 227,
   "metadata": {},
   "outputs": [],
   "source": [
    "# Recibe un dataframe de datos de la planta y la variable a analizar\n",
    "\n",
    "def soldiario(datos,variable ,variablerango):\n",
    "    fechas = datos[variablerango].unique()\n",
    "    solxdia = []\n",
    "    for i in range(len(fechas)):\n",
    "        solxdia.append(round(datos[datos[variablerango]==fechas[i]].sum()[variable]/12,3))\n",
    "    df = {'Dia':fechas, variable:solxdia}\n",
    "    df = pd.DataFrame(df)\n",
    "    return df\n",
    "\n",
    "def tempdiario(datos,variable ,variablerango):\n",
    "    fechas = datos[variablerango].unique()\n",
    "    solxdia = []\n",
    "  \n",
    "    for i in range(len(fechas)):\n",
    "        solxdia.append(datos[datos[variablerango]==fechas[i]].sum()[variable])\n",
    "    df = {'Dia':fechas, variable.lower():solxdia}\n",
    "    df = pd.DataFrame(df)\n",
    "    return df"
   ]
  },
  {
   "cell_type": "markdown",
   "metadata": {},
   "source": [
    "## Lectura de archivos:"
   ]
  },
  {
   "cell_type": "markdown",
   "metadata": {},
   "source": [
    "### Se crea un vector con las rutas donde se encuentran los archivos preprocesados"
   ]
  },
  {
   "cell_type": "code",
   "execution_count": 228,
   "metadata": {},
   "outputs": [
    {
     "data": {
      "text/plain": [
       "['C:\\\\Users\\\\USUARIO\\\\OneDrive\\\\Universidad\\\\Proyecto de Grado\\\\Repositorio\\\\Proyecto-Electronica\\\\DATOS SOLAR\\\\Pre procesados\\\\Abril 2020.csv',\n",
       " 'C:\\\\Users\\\\USUARIO\\\\OneDrive\\\\Universidad\\\\Proyecto de Grado\\\\Repositorio\\\\Proyecto-Electronica\\\\DATOS SOLAR\\\\Pre procesados\\\\Agosto 2020.csv',\n",
       " 'C:\\\\Users\\\\USUARIO\\\\OneDrive\\\\Universidad\\\\Proyecto de Grado\\\\Repositorio\\\\Proyecto-Electronica\\\\DATOS SOLAR\\\\Pre procesados\\\\Diciembre 2019.csv',\n",
       " 'C:\\\\Users\\\\USUARIO\\\\OneDrive\\\\Universidad\\\\Proyecto de Grado\\\\Repositorio\\\\Proyecto-Electronica\\\\DATOS SOLAR\\\\Pre procesados\\\\Diciembre 2020.csv',\n",
       " 'C:\\\\Users\\\\USUARIO\\\\OneDrive\\\\Universidad\\\\Proyecto de Grado\\\\Repositorio\\\\Proyecto-Electronica\\\\DATOS SOLAR\\\\Pre procesados\\\\Enero 2020.csv',\n",
       " 'C:\\\\Users\\\\USUARIO\\\\OneDrive\\\\Universidad\\\\Proyecto de Grado\\\\Repositorio\\\\Proyecto-Electronica\\\\DATOS SOLAR\\\\Pre procesados\\\\Febrero 2020.csv',\n",
       " 'C:\\\\Users\\\\USUARIO\\\\OneDrive\\\\Universidad\\\\Proyecto de Grado\\\\Repositorio\\\\Proyecto-Electronica\\\\DATOS SOLAR\\\\Pre procesados\\\\Julio 2020.csv',\n",
       " 'C:\\\\Users\\\\USUARIO\\\\OneDrive\\\\Universidad\\\\Proyecto de Grado\\\\Repositorio\\\\Proyecto-Electronica\\\\DATOS SOLAR\\\\Pre procesados\\\\Junio 2020.csv',\n",
       " 'C:\\\\Users\\\\USUARIO\\\\OneDrive\\\\Universidad\\\\Proyecto de Grado\\\\Repositorio\\\\Proyecto-Electronica\\\\DATOS SOLAR\\\\Pre procesados\\\\Marzo 2020.csv',\n",
       " 'C:\\\\Users\\\\USUARIO\\\\OneDrive\\\\Universidad\\\\Proyecto de Grado\\\\Repositorio\\\\Proyecto-Electronica\\\\DATOS SOLAR\\\\Pre procesados\\\\Mayo 2020.csv',\n",
       " 'C:\\\\Users\\\\USUARIO\\\\OneDrive\\\\Universidad\\\\Proyecto de Grado\\\\Repositorio\\\\Proyecto-Electronica\\\\DATOS SOLAR\\\\Pre procesados\\\\Noviembre 2019.csv',\n",
       " 'C:\\\\Users\\\\USUARIO\\\\OneDrive\\\\Universidad\\\\Proyecto de Grado\\\\Repositorio\\\\Proyecto-Electronica\\\\DATOS SOLAR\\\\Pre procesados\\\\Noviembre 2020.csv',\n",
       " 'C:\\\\Users\\\\USUARIO\\\\OneDrive\\\\Universidad\\\\Proyecto de Grado\\\\Repositorio\\\\Proyecto-Electronica\\\\DATOS SOLAR\\\\Pre procesados\\\\Octubre 2019.csv',\n",
       " 'C:\\\\Users\\\\USUARIO\\\\OneDrive\\\\Universidad\\\\Proyecto de Grado\\\\Repositorio\\\\Proyecto-Electronica\\\\DATOS SOLAR\\\\Pre procesados\\\\Octubre 2020.csv',\n",
       " 'C:\\\\Users\\\\USUARIO\\\\OneDrive\\\\Universidad\\\\Proyecto de Grado\\\\Repositorio\\\\Proyecto-Electronica\\\\DATOS SOLAR\\\\Pre procesados\\\\Septiembre 2020.csv']"
      ]
     },
     "execution_count": 228,
     "metadata": {},
     "output_type": "execute_result"
    }
   ],
   "source": [
    "ruta = 'C:\\\\Users\\\\USUARIO\\\\OneDrive\\\\Universidad\\\\Proyecto de Grado\\\\Repositorio\\\\Proyecto-Electronica\\\\DATOS SOLAR\\\\Pre procesados\\\\'\n",
    "ruta2 = 'C:\\\\Users\\\\Diego Acosta\\\\Documents\\\\GitHub\\\\Proyecto-Electronica\\\\DATOS SOLAR\\\\Pre procesados\\\\'\n",
    "archivospre = glob.glob(ruta2 +'*.csv')\n",
    "if archivospre==[]:\n",
    "    archivospre = glob.glob(ruta +'*.csv')\n",
    "archivospre"
   ]
  },
  {
   "cell_type": "markdown",
   "metadata": {},
   "source": [
    "### Se crea un vector con los nombres de los diferentes archivos"
   ]
  },
  {
   "cell_type": "code",
   "execution_count": 229,
   "metadata": {
    "scrolled": true
   },
   "outputs": [
    {
     "data": {
      "text/plain": [
       "['Abril 2020.csv',\n",
       " 'Agosto 2020.csv',\n",
       " 'Diciembre 2019.csv',\n",
       " 'Diciembre 2020.csv',\n",
       " 'Enero 2020.csv',\n",
       " 'Febrero 2020.csv',\n",
       " 'Julio 2020.csv',\n",
       " 'Junio 2020.csv',\n",
       " 'Marzo 2020.csv',\n",
       " 'Mayo 2020.csv',\n",
       " 'Noviembre 2019.csv',\n",
       " 'Noviembre 2020.csv',\n",
       " 'Octubre 2019.csv',\n",
       " 'Octubre 2020.csv',\n",
       " 'Septiembre 2020.csv']"
      ]
     },
     "execution_count": 229,
     "metadata": {},
     "output_type": "execute_result"
    }
   ],
   "source": [
    "nombres2 = []\n",
    "for i in range(len(archivospre)):\n",
    "    nombre = archivospre[i].split('\\\\')\n",
    "    nombres2.append(nombre[-1])\n",
    "nombres2"
   ]
  },
  {
   "cell_type": "markdown",
   "metadata": {},
   "source": [
    "## Histograma de irradiación solar diaria:"
   ]
  },
  {
   "cell_type": "markdown",
   "metadata": {},
   "source": [
    "#### Se crea un dataframe llamado 'todo' que contiene los datos  por día de una variable específica de los dataframes pre procesados anteriormente"
   ]
  },
  {
   "cell_type": "code",
   "execution_count": 248,
   "metadata": {},
   "outputs": [
    {
     "data": {
      "text/html": [
       "<div>\n",
       "<style scoped>\n",
       "    .dataframe tbody tr th:only-of-type {\n",
       "        vertical-align: middle;\n",
       "    }\n",
       "\n",
       "    .dataframe tbody tr th {\n",
       "        vertical-align: top;\n",
       "    }\n",
       "\n",
       "    .dataframe thead th {\n",
       "        text-align: right;\n",
       "    }\n",
       "</style>\n",
       "<table border=\"1\" class=\"dataframe\">\n",
       "  <thead>\n",
       "    <tr style=\"text-align: right;\">\n",
       "      <th></th>\n",
       "      <th>Dia</th>\n",
       "      <th>Insolacion [W/m2]</th>\n",
       "    </tr>\n",
       "  </thead>\n",
       "  <tbody>\n",
       "    <tr>\n",
       "      <th>0</th>\n",
       "      <td>1/04/2020</td>\n",
       "      <td>1473.167</td>\n",
       "    </tr>\n",
       "    <tr>\n",
       "      <th>1</th>\n",
       "      <td>2/04/2020</td>\n",
       "      <td>4900.995</td>\n",
       "    </tr>\n",
       "    <tr>\n",
       "      <th>2</th>\n",
       "      <td>3/04/2020</td>\n",
       "      <td>5215.679</td>\n",
       "    </tr>\n",
       "    <tr>\n",
       "      <th>3</th>\n",
       "      <td>4/04/2020</td>\n",
       "      <td>2379.293</td>\n",
       "    </tr>\n",
       "    <tr>\n",
       "      <th>4</th>\n",
       "      <td>5/04/2020</td>\n",
       "      <td>3835.619</td>\n",
       "    </tr>\n",
       "    <tr>\n",
       "      <th>...</th>\n",
       "      <td>...</td>\n",
       "      <td>...</td>\n",
       "    </tr>\n",
       "    <tr>\n",
       "      <th>25</th>\n",
       "      <td>26/09/2020</td>\n",
       "      <td>3373.524</td>\n",
       "    </tr>\n",
       "    <tr>\n",
       "      <th>26</th>\n",
       "      <td>27/09/2020</td>\n",
       "      <td>3438.583</td>\n",
       "    </tr>\n",
       "    <tr>\n",
       "      <th>27</th>\n",
       "      <td>28/09/2020</td>\n",
       "      <td>3485.870</td>\n",
       "    </tr>\n",
       "    <tr>\n",
       "      <th>28</th>\n",
       "      <td>29/09/2020</td>\n",
       "      <td>4305.051</td>\n",
       "    </tr>\n",
       "    <tr>\n",
       "      <th>29</th>\n",
       "      <td>30/09/2020</td>\n",
       "      <td>4152.945</td>\n",
       "    </tr>\n",
       "  </tbody>\n",
       "</table>\n",
       "<p>458 rows × 2 columns</p>\n",
       "</div>"
      ],
      "text/plain": [
       "           Dia  Insolacion [W/m2]\n",
       "0    1/04/2020           1473.167\n",
       "1    2/04/2020           4900.995\n",
       "2    3/04/2020           5215.679\n",
       "3    4/04/2020           2379.293\n",
       "4    5/04/2020           3835.619\n",
       "..         ...                ...\n",
       "25  26/09/2020           3373.524\n",
       "26  27/09/2020           3438.583\n",
       "27  28/09/2020           3485.870\n",
       "28  29/09/2020           4305.051\n",
       "29  30/09/2020           4152.945\n",
       "\n",
       "[458 rows x 2 columns]"
      ]
     },
     "execution_count": 248,
     "metadata": {},
     "output_type": "execute_result"
    }
   ],
   "source": [
    "i=0\n",
    "variable = 'Insolacion [W/m2]'\n",
    "#variable = 'Potencia [kW]'\n",
    "variablerango = 'Fecha'\n",
    "\n",
    "for nombre in nombres2:\n",
    "    df = pd.read_csv(nombre)\n",
    "\n",
    "    try: \n",
    "        df = df.drop('Unnamed: 0',axis=1)\n",
    "    except:\n",
    "        pass\n",
    "\n",
    "    df = df.dropna()\n",
    "\n",
    "    name = nombre.split('.') \n",
    "    name = name[0].split(' ')\n",
    "\n",
    "    globals()[name[0] + name[1]] = soldiario(df,variable,variablerango)\n",
    "\n",
    "    if i == 0:\n",
    "        todoIns = globals()[name[0] + name[1]] # DataFrame donde se guardan los diferentes valores de insolación por día.\n",
    "    else:\n",
    "        todoIns = pd.concat([todoIns , globals()[name[0] + name[1]]],axis = 0)\n",
    "    i+=1\n",
    "todoIns"
   ]
  },
  {
   "cell_type": "code",
   "execution_count": 260,
   "metadata": {},
   "outputs": [
    {
     "data": {
      "text/html": [
       "<div>\n",
       "<style scoped>\n",
       "    .dataframe tbody tr th:only-of-type {\n",
       "        vertical-align: middle;\n",
       "    }\n",
       "\n",
       "    .dataframe tbody tr th {\n",
       "        vertical-align: top;\n",
       "    }\n",
       "\n",
       "    .dataframe thead th {\n",
       "        text-align: right;\n",
       "    }\n",
       "</style>\n",
       "<table border=\"1\" class=\"dataframe\">\n",
       "  <thead>\n",
       "    <tr style=\"text-align: right;\">\n",
       "      <th></th>\n",
       "      <th>Fecha</th>\n",
       "      <th>Hora</th>\n",
       "      <th>Potencia [kW]</th>\n",
       "      <th>Insolacion [W/m2]</th>\n",
       "      <th>Temperatura de modulos [C]</th>\n",
       "      <th>Temperatura ambiente [C]</th>\n",
       "      <th>Insolacion media [W/m2]</th>\n",
       "    </tr>\n",
       "  </thead>\n",
       "  <tbody>\n",
       "    <tr>\n",
       "      <th>0</th>\n",
       "      <td>1/09/2020</td>\n",
       "      <td>6:00</td>\n",
       "      <td>0.01</td>\n",
       "      <td>5.08</td>\n",
       "      <td>9.64</td>\n",
       "      <td>9.399891</td>\n",
       "      <td>6.880000</td>\n",
       "    </tr>\n",
       "    <tr>\n",
       "      <th>1</th>\n",
       "      <td>1/09/2020</td>\n",
       "      <td>6:05</td>\n",
       "      <td>0.08</td>\n",
       "      <td>7.02</td>\n",
       "      <td>9.53</td>\n",
       "      <td>9.407027</td>\n",
       "      <td>8.934545</td>\n",
       "    </tr>\n",
       "    <tr>\n",
       "      <th>2</th>\n",
       "      <td>1/09/2020</td>\n",
       "      <td>6:10</td>\n",
       "      <td>0.17</td>\n",
       "      <td>9.42</td>\n",
       "      <td>9.40</td>\n",
       "      <td>9.437618</td>\n",
       "      <td>11.789091</td>\n",
       "    </tr>\n",
       "    <tr>\n",
       "      <th>3</th>\n",
       "      <td>1/09/2020</td>\n",
       "      <td>6:15</td>\n",
       "      <td>0.29</td>\n",
       "      <td>11.87</td>\n",
       "      <td>9.38</td>\n",
       "      <td>9.478893</td>\n",
       "      <td>15.015455</td>\n",
       "    </tr>\n",
       "    <tr>\n",
       "      <th>4</th>\n",
       "      <td>1/09/2020</td>\n",
       "      <td>6:20</td>\n",
       "      <td>0.44</td>\n",
       "      <td>14.96</td>\n",
       "      <td>9.52</td>\n",
       "      <td>9.524152</td>\n",
       "      <td>18.493636</td>\n",
       "    </tr>\n",
       "    <tr>\n",
       "      <th>...</th>\n",
       "      <td>...</td>\n",
       "      <td>...</td>\n",
       "      <td>...</td>\n",
       "      <td>...</td>\n",
       "      <td>...</td>\n",
       "      <td>...</td>\n",
       "      <td>...</td>\n",
       "    </tr>\n",
       "    <tr>\n",
       "      <th>4345</th>\n",
       "      <td>30/09/2020</td>\n",
       "      <td>17:40</td>\n",
       "      <td>0.17</td>\n",
       "      <td>8.58</td>\n",
       "      <td>15.75</td>\n",
       "      <td>13.457197</td>\n",
       "      <td>13.696364</td>\n",
       "    </tr>\n",
       "    <tr>\n",
       "      <th>4346</th>\n",
       "      <td>30/09/2020</td>\n",
       "      <td>17:45</td>\n",
       "      <td>0.00</td>\n",
       "      <td>3.21</td>\n",
       "      <td>15.58</td>\n",
       "      <td>13.198977</td>\n",
       "      <td>10.542727</td>\n",
       "    </tr>\n",
       "    <tr>\n",
       "      <th>4347</th>\n",
       "      <td>30/09/2020</td>\n",
       "      <td>17:50</td>\n",
       "      <td>0.00</td>\n",
       "      <td>1.75</td>\n",
       "      <td>15.54</td>\n",
       "      <td>12.935315</td>\n",
       "      <td>7.807273</td>\n",
       "    </tr>\n",
       "    <tr>\n",
       "      <th>4348</th>\n",
       "      <td>30/09/2020</td>\n",
       "      <td>17:55</td>\n",
       "      <td>0.00</td>\n",
       "      <td>1.07</td>\n",
       "      <td>14.91</td>\n",
       "      <td>12.680530</td>\n",
       "      <td>4.845455</td>\n",
       "    </tr>\n",
       "    <tr>\n",
       "      <th>4349</th>\n",
       "      <td>30/09/2020</td>\n",
       "      <td>18:00</td>\n",
       "      <td>0.00</td>\n",
       "      <td>1.01</td>\n",
       "      <td>13.86</td>\n",
       "      <td>13.774734</td>\n",
       "      <td>3.133636</td>\n",
       "    </tr>\n",
       "  </tbody>\n",
       "</table>\n",
       "<p>4350 rows × 7 columns</p>\n",
       "</div>"
      ],
      "text/plain": [
       "           Fecha   Hora  Potencia [kW]  Insolacion [W/m2]  \\\n",
       "0      1/09/2020   6:00           0.01               5.08   \n",
       "1      1/09/2020   6:05           0.08               7.02   \n",
       "2      1/09/2020   6:10           0.17               9.42   \n",
       "3      1/09/2020   6:15           0.29              11.87   \n",
       "4      1/09/2020   6:20           0.44              14.96   \n",
       "...          ...    ...            ...                ...   \n",
       "4345  30/09/2020  17:40           0.17               8.58   \n",
       "4346  30/09/2020  17:45           0.00               3.21   \n",
       "4347  30/09/2020  17:50           0.00               1.75   \n",
       "4348  30/09/2020  17:55           0.00               1.07   \n",
       "4349  30/09/2020  18:00           0.00               1.01   \n",
       "\n",
       "      Temperatura de modulos [C]  Temperatura ambiente [C]  \\\n",
       "0                           9.64                  9.399891   \n",
       "1                           9.53                  9.407027   \n",
       "2                           9.40                  9.437618   \n",
       "3                           9.38                  9.478893   \n",
       "4                           9.52                  9.524152   \n",
       "...                          ...                       ...   \n",
       "4345                       15.75                 13.457197   \n",
       "4346                       15.58                 13.198977   \n",
       "4347                       15.54                 12.935315   \n",
       "4348                       14.91                 12.680530   \n",
       "4349                       13.86                 13.774734   \n",
       "\n",
       "      Insolacion media [W/m2]  \n",
       "0                    6.880000  \n",
       "1                    8.934545  \n",
       "2                   11.789091  \n",
       "3                   15.015455  \n",
       "4                   18.493636  \n",
       "...                       ...  \n",
       "4345                13.696364  \n",
       "4346                10.542727  \n",
       "4347                 7.807273  \n",
       "4348                 4.845455  \n",
       "4349                 3.133636  \n",
       "\n",
       "[4350 rows x 7 columns]"
      ]
     },
     "execution_count": 260,
     "metadata": {},
     "output_type": "execute_result"
    }
   ],
   "source": [
    "df.iloc[:,:8]"
   ]
  },
  {
   "cell_type": "code",
   "execution_count": 261,
   "metadata": {},
   "outputs": [
    {
     "data": {
      "image/png": "[encoded data removed]",
      "text/plain": [
       "<Figure size 432x288 with 2 Axes>"
      ]
     },
     "metadata": {
      "needs_background": "light"
     },
     "output_type": "display_data"
    }
   ],
   "source": [
    "import seaborn as sns\n",
    "\n",
    "# taking all rows but only 6 columns\n",
    "df_small = df.iloc[:,:8]\n",
    "\n",
    "correlation_mat = df_small.corr()\n",
    "\n",
    "sns.heatmap(correlation_mat, annot = True)\n",
    "\n",
    "plt.show()"
   ]
  },
  {
   "cell_type": "code",
   "execution_count": 258,
   "metadata": {},
   "outputs": [
    {
     "data": {
      "text/plain": [
       "<matplotlib.collections.PathCollection at 0x12358442d08>"
      ]
     },
     "execution_count": 258,
     "metadata": {},
     "output_type": "execute_result"
    },
    {
     "data": {
      "image/png": "[encoded data removed]",
      "text/plain": [
       "<Figure size 432x288 with 1 Axes>"
      ]
     },
     "metadata": {
      "needs_background": "light"
     },
     "output_type": "display_data"
    }
   ],
   "source": [
    "plt.scatter(df['Temperatura ambiente [C]'],df['Potencia [kW]'])"
   ]
  },
  {
   "cell_type": "markdown",
   "metadata": {},
   "source": [
    "### Gráfica"
   ]
  },
  {
   "cell_type": "code",
   "execution_count": 231,
   "metadata": {},
   "outputs": [
    {
     "data": {
      "image/png": "[encoded data removed]",
      "text/plain": [
       "<Figure size 432x288 with 1 Axes>"
      ]
     },
     "metadata": {
      "needs_background": "light"
     },
     "output_type": "display_data"
    }
   ],
   "source": [
    "plt.hist(todoIns['Insolacion [W/m2]'],15,ec = 'k') #Histograma de frecuencias de insolación diaria media\n",
    "plt.xlabel('Irradiación solar [W/m^2]')\n",
    "plt.ylabel('Cantidad de días')\n",
    "plt.title('Histograma de Irradiación Solar')\n",
    "plt.show()\n"
   ]
  },
  {
   "cell_type": "markdown",
   "metadata": {},
   "source": [
    "### Estimación de la distribución que mejor se adapta al histograma anterior:"
   ]
  },
  {
   "cell_type": "code",
   "execution_count": 244,
   "metadata": {},
   "outputs": [
    {
     "data": {
      "text/html": [
       "<div>\n",
       "<style scoped>\n",
       "    .dataframe tbody tr th:only-of-type {\n",
       "        vertical-align: middle;\n",
       "    }\n",
       "\n",
       "    .dataframe tbody tr th {\n",
       "        vertical-align: top;\n",
       "    }\n",
       "\n",
       "    .dataframe thead th {\n",
       "        text-align: right;\n",
       "    }\n",
       "</style>\n",
       "<table border=\"1\" class=\"dataframe\">\n",
       "  <thead>\n",
       "    <tr style=\"text-align: right;\">\n",
       "      <th></th>\n",
       "      <th>Media</th>\n",
       "      <th>Varianza</th>\n",
       "      <th>Desv. Estándar</th>\n",
       "    </tr>\n",
       "  </thead>\n",
       "  <tbody>\n",
       "    <tr>\n",
       "      <th>0</th>\n",
       "      <td>3433.733886</td>\n",
       "      <td>1.247964e+06</td>\n",
       "      <td>1117.122998</td>\n",
       "    </tr>\n",
       "  </tbody>\n",
       "</table>\n",
       "</div>"
      ],
      "text/plain": [
       "         Media      Varianza  Desv. Estándar\n",
       "0  3433.733886  1.247964e+06     1117.122998"
      ]
     },
     "execution_count": 244,
     "metadata": {},
     "output_type": "execute_result"
    }
   ],
   "source": [
    "mu = np.mean(todoIns['Insolacion [W/m2]'])\n",
    "desv = np.std(todoIns['Insolacion [W/m2]'])\n",
    "sigma = np.var(todoIns['Insolacion [W/m2]'])\n",
    "mu,sigma,desv\n",
    "statsT = pd.DataFrame({'Media':[mu],'Varianza':[sigma],'Desv. Estándar':[desv]})\n",
    "statsT"
   ]
  },
  {
   "cell_type": "code",
   "execution_count": 233,
   "metadata": {},
   "outputs": [
    {
     "data": {
      "text/plain": [
       "3433.7338864628823"
      ]
     },
     "execution_count": 233,
     "metadata": {},
     "output_type": "execute_result"
    }
   ],
   "source": [
    "todoIns['Insolacion [W/m2]'].sum()/458"
   ]
  },
  {
   "cell_type": "markdown",
   "metadata": {},
   "source": [
    "## Histograma de Temperaturas medias por hora:"
   ]
  },
  {
   "cell_type": "code",
   "execution_count": 247,
   "metadata": {},
   "outputs": [
    {
     "data": {
      "text/plain": [
       "array(['6:00', '6:05', '6:10', '6:15', '6:20', '6:25', '6:30', '6:35',\n",
       "       '6:40', '6:45', '6:50', '6:55', '7:00', '7:05', '7:10', '7:15',\n",
       "       '7:20', '7:25', '7:30', '7:35', '7:40', '7:45', '7:50', '7:55',\n",
       "       '8:00', '8:05', '8:10', '8:15', '8:20', '8:25', '8:30', '8:35',\n",
       "       '8:40', '8:45', '8:50', '8:55', '9:00', '9:05', '9:10', '9:15',\n",
       "       '9:20', '9:25', '9:30', '9:35', '9:40', '9:45', '9:50', '9:55',\n",
       "       '10:00', '10:05', '10:10', '10:15', '10:20', '10:25', '10:30',\n",
       "       '10:35', '10:40', '10:45', '10:50', '10:55', '11:00', '11:05',\n",
       "       '11:10', '11:15', '11:20', '11:25', '11:30', '11:35', '11:40',\n",
       "       '11:45', '11:50', '11:55', '12:00', '12:05', '12:10', '12:15',\n",
       "       '12:20', '12:25', '12:30', '12:35', '12:40', '12:45', '12:50',\n",
       "       '12:55', '13:00', '13:05', '13:10', '13:15', '13:20', '13:25',\n",
       "       '13:30', '13:35', '13:40', '13:45', '13:50', '13:55', '14:00',\n",
       "       '14:05', '14:10', '14:15', '14:20', '14:25', '14:30', '14:35',\n",
       "       '14:40', '14:45', '14:50', '14:55', '15:00', '15:05', '15:10',\n",
       "       '15:15', '15:20', '15:25', '15:30', '15:35', '15:40', '15:45',\n",
       "       '15:50', '15:55', '16:00', '16:05', '16:10', '16:15', '16:20',\n",
       "       '16:25', '16:30', '16:35', '16:40', '16:45', '16:50', '16:55',\n",
       "       '17:00', '17:05', '17:10', '17:15', '17:20', '17:25', '17:30',\n",
       "       '17:35', '17:40', '17:45', '17:50', '17:55', '18:00'], dtype=object)"
      ]
     },
     "execution_count": 247,
     "metadata": {},
     "output_type": "execute_result"
    }
   ],
   "source": [
    "datos = pd.read_csv('Octubre 2020.csv')\n",
    "datos[datos['Hora']==horas[1]].columns.values[-2]\n",
    "horas = datos['Hora'].unique()\n",
    "horas"
   ]
  },
  {
   "cell_type": "code",
   "execution_count": 235,
   "metadata": {},
   "outputs": [],
   "source": [
    "temps = np.zeros(len(horas))\n",
    "cont = 0\n",
    "for nombre in nombres2:\n",
    "    datos = pd.read_csv(nombre)\n",
    "    \n",
    "    t = datos[datos['Hora']==horas[1]].columns.values[-2]#Columna donde está almacenada la temperatura\n",
    "    \n",
    "    cont = cont + len(datos[datos['Hora']==horas[1]])    #Contador de días\n",
    "    \n",
    "    for i in range(len(horas)):\n",
    "        temps[i] = temps[i] + datos[datos['Hora']==horas[i]][t].sum()#Actualización del vector de temperaturas\n",
    "\n",
    "todoTemp = pd.DataFrame({'Hora':horas,'Temperatura media [C]':temps/cont})"
   ]
  },
  {
   "cell_type": "code",
   "execution_count": 236,
   "metadata": {},
   "outputs": [
    {
     "data": {
      "text/html": [
       "<div>\n",
       "<style scoped>\n",
       "    .dataframe tbody tr th:only-of-type {\n",
       "        vertical-align: middle;\n",
       "    }\n",
       "\n",
       "    .dataframe tbody tr th {\n",
       "        vertical-align: top;\n",
       "    }\n",
       "\n",
       "    .dataframe thead th {\n",
       "        text-align: right;\n",
       "    }\n",
       "</style>\n",
       "<table border=\"1\" class=\"dataframe\">\n",
       "  <thead>\n",
       "    <tr style=\"text-align: right;\">\n",
       "      <th></th>\n",
       "      <th>Hora</th>\n",
       "      <th>Temperatura media [C]</th>\n",
       "    </tr>\n",
       "  </thead>\n",
       "  <tbody>\n",
       "    <tr>\n",
       "      <th>0</th>\n",
       "      <td>6:00</td>\n",
       "      <td>10.950039</td>\n",
       "    </tr>\n",
       "    <tr>\n",
       "      <th>1</th>\n",
       "      <td>6:05</td>\n",
       "      <td>10.964538</td>\n",
       "    </tr>\n",
       "    <tr>\n",
       "      <th>2</th>\n",
       "      <td>6:10</td>\n",
       "      <td>10.983795</td>\n",
       "    </tr>\n",
       "    <tr>\n",
       "      <th>3</th>\n",
       "      <td>6:15</td>\n",
       "      <td>11.009460</td>\n",
       "    </tr>\n",
       "    <tr>\n",
       "      <th>4</th>\n",
       "      <td>6:20</td>\n",
       "      <td>11.042430</td>\n",
       "    </tr>\n",
       "    <tr>\n",
       "      <th>...</th>\n",
       "      <td>...</td>\n",
       "      <td>...</td>\n",
       "    </tr>\n",
       "    <tr>\n",
       "      <th>140</th>\n",
       "      <td>17:40</td>\n",
       "      <td>13.709169</td>\n",
       "    </tr>\n",
       "    <tr>\n",
       "      <th>141</th>\n",
       "      <td>17:45</td>\n",
       "      <td>13.677863</td>\n",
       "    </tr>\n",
       "    <tr>\n",
       "      <th>142</th>\n",
       "      <td>17:50</td>\n",
       "      <td>13.620232</td>\n",
       "    </tr>\n",
       "    <tr>\n",
       "      <th>143</th>\n",
       "      <td>17:55</td>\n",
       "      <td>13.559291</td>\n",
       "    </tr>\n",
       "    <tr>\n",
       "      <th>144</th>\n",
       "      <td>18:00</td>\n",
       "      <td>13.500286</td>\n",
       "    </tr>\n",
       "  </tbody>\n",
       "</table>\n",
       "<p>145 rows × 2 columns</p>\n",
       "</div>"
      ],
      "text/plain": [
       "      Hora  Temperatura media [C]\n",
       "0     6:00              10.950039\n",
       "1     6:05              10.964538\n",
       "2     6:10              10.983795\n",
       "3     6:15              11.009460\n",
       "4     6:20              11.042430\n",
       "..     ...                    ...\n",
       "140  17:40              13.709169\n",
       "141  17:45              13.677863\n",
       "142  17:50              13.620232\n",
       "143  17:55              13.559291\n",
       "144  18:00              13.500286\n",
       "\n",
       "[145 rows x 2 columns]"
      ]
     },
     "execution_count": 236,
     "metadata": {},
     "output_type": "execute_result"
    }
   ],
   "source": [
    "todoTemp"
   ]
  },
  {
   "cell_type": "markdown",
   "metadata": {},
   "source": [
    "### Gráfica"
   ]
  },
  {
   "cell_type": "code",
   "execution_count": 237,
   "metadata": {},
   "outputs": [
    {
     "data": {
      "text/plain": [
       "(array([ 8.,  3.,  2.,  2.,  2.,  2.,  2.,  8., 15., 17., 10., 12., 16.,\n",
       "        18., 28.]),\n",
       " array([10.95003872, 11.30098853, 11.65193833, 12.00288814, 12.35383795,\n",
       "        12.70478776, 13.05573756, 13.40668737, 13.75763718, 14.10858698,\n",
       "        14.45953679, 14.8104866 , 15.1614364 , 15.51238621, 15.86333602,\n",
       "        16.21428582]),\n",
       " <a list of 15 Patch objects>)"
      ]
     },
     "execution_count": 237,
     "metadata": {},
     "output_type": "execute_result"
    },
    {
     "data": {
      "image/png": "[encoded data removed]",
      "text/plain": [
       "<Figure size 432x288 with 1 Axes>"
      ]
     },
     "metadata": {
      "needs_background": "light"
     },
     "output_type": "display_data"
    }
   ],
   "source": [
    "plt.hist(todoTemp['Temperatura media [C]'],15,ec = 'k')"
   ]
  },
  {
   "cell_type": "code",
   "execution_count": 243,
   "metadata": {},
   "outputs": [
    {
     "data": {
      "text/html": [
       "<div>\n",
       "<style scoped>\n",
       "    .dataframe tbody tr th:only-of-type {\n",
       "        vertical-align: middle;\n",
       "    }\n",
       "\n",
       "    .dataframe tbody tr th {\n",
       "        vertical-align: top;\n",
       "    }\n",
       "\n",
       "    .dataframe thead th {\n",
       "        text-align: right;\n",
       "    }\n",
       "</style>\n",
       "<table border=\"1\" class=\"dataframe\">\n",
       "  <thead>\n",
       "    <tr style=\"text-align: right;\">\n",
       "      <th></th>\n",
       "      <th>Media</th>\n",
       "      <th>Varianza</th>\n",
       "      <th>Desv. Estándar</th>\n",
       "    </tr>\n",
       "  </thead>\n",
       "  <tbody>\n",
       "    <tr>\n",
       "      <th>0</th>\n",
       "      <td>14.575088</td>\n",
       "      <td>1.960852</td>\n",
       "      <td>1.400304</td>\n",
       "    </tr>\n",
       "  </tbody>\n",
       "</table>\n",
       "</div>"
      ],
      "text/plain": [
       "       Media  Varianza  Desv. Estándar\n",
       "0  14.575088  1.960852        1.400304"
      ]
     },
     "execution_count": 243,
     "metadata": {},
     "output_type": "execute_result"
    }
   ],
   "source": [
    "muT = np.mean(todoTemp['Temperatura media [C]'])\n",
    "desvT = np.std(todoTemp['Temperatura media [C]'])\n",
    "sigmaT = np.var(todoTemp['Temperatura media [C]'])\n",
    "\n",
    "muT,sigmaT,desvT\n",
    "todoTemp['Temperatura media [C]'].describe()\n",
    "statsT = pd.DataFrame({'Media':[muT],'Varianza':[sigmaT],'Desv. Estándar':[desvT]})\n",
    "statsT"
   ]
  },
  {
   "cell_type": "markdown",
   "metadata": {},
   "source": [
    "## Histograma "
   ]
  },
  {
   "cell_type": "code",
   "execution_count": 148,
   "metadata": {},
   "outputs": [
    {
     "data": {
      "text/html": [
       "<div>\n",
       "<style scoped>\n",
       "    .dataframe tbody tr th:only-of-type {\n",
       "        vertical-align: middle;\n",
       "    }\n",
       "\n",
       "    .dataframe tbody tr th {\n",
       "        vertical-align: top;\n",
       "    }\n",
       "\n",
       "    .dataframe thead th {\n",
       "        text-align: right;\n",
       "    }\n",
       "</style>\n",
       "<table border=\"1\" class=\"dataframe\">\n",
       "  <thead>\n",
       "    <tr style=\"text-align: right;\">\n",
       "      <th></th>\n",
       "      <th>Dia</th>\n",
       "      <th>Potencia [kW]</th>\n",
       "    </tr>\n",
       "  </thead>\n",
       "  <tbody>\n",
       "    <tr>\n",
       "      <th>0</th>\n",
       "      <td>1/04/2020</td>\n",
       "      <td>88.374167</td>\n",
       "    </tr>\n",
       "    <tr>\n",
       "      <th>1</th>\n",
       "      <td>2/04/2020</td>\n",
       "      <td>278.395833</td>\n",
       "    </tr>\n",
       "    <tr>\n",
       "      <th>2</th>\n",
       "      <td>3/04/2020</td>\n",
       "      <td>285.022500</td>\n",
       "    </tr>\n",
       "    <tr>\n",
       "      <th>3</th>\n",
       "      <td>4/04/2020</td>\n",
       "      <td>151.040000</td>\n",
       "    </tr>\n",
       "    <tr>\n",
       "      <th>4</th>\n",
       "      <td>5/04/2020</td>\n",
       "      <td>227.030833</td>\n",
       "    </tr>\n",
       "    <tr>\n",
       "      <th>...</th>\n",
       "      <td>...</td>\n",
       "      <td>...</td>\n",
       "    </tr>\n",
       "    <tr>\n",
       "      <th>25</th>\n",
       "      <td>26/09/2020</td>\n",
       "      <td>183.883333</td>\n",
       "    </tr>\n",
       "    <tr>\n",
       "      <th>26</th>\n",
       "      <td>27/09/2020</td>\n",
       "      <td>166.640000</td>\n",
       "    </tr>\n",
       "    <tr>\n",
       "      <th>27</th>\n",
       "      <td>28/09/2020</td>\n",
       "      <td>175.900000</td>\n",
       "    </tr>\n",
       "    <tr>\n",
       "      <th>28</th>\n",
       "      <td>29/09/2020</td>\n",
       "      <td>229.958333</td>\n",
       "    </tr>\n",
       "    <tr>\n",
       "      <th>29</th>\n",
       "      <td>30/09/2020</td>\n",
       "      <td>218.954167</td>\n",
       "    </tr>\n",
       "  </tbody>\n",
       "</table>\n",
       "<p>458 rows × 2 columns</p>\n",
       "</div>"
      ],
      "text/plain": [
       "           Dia  Potencia [kW]\n",
       "0    1/04/2020      88.374167\n",
       "1    2/04/2020     278.395833\n",
       "2    3/04/2020     285.022500\n",
       "3    4/04/2020     151.040000\n",
       "4    5/04/2020     227.030833\n",
       "..         ...            ...\n",
       "25  26/09/2020     183.883333\n",
       "26  27/09/2020     166.640000\n",
       "27  28/09/2020     175.900000\n",
       "28  29/09/2020     229.958333\n",
       "29  30/09/2020     218.954167\n",
       "\n",
       "[458 rows x 2 columns]"
      ]
     },
     "execution_count": 148,
     "metadata": {},
     "output_type": "execute_result"
    }
   ],
   "source": [
    "i=0\n",
    "#variable = 'Insolacion [W/m2]'\n",
    "variable = 'Potencia [kW]'\n",
    "variablerango = 'Fecha'\n",
    "\n",
    "for nombre in nombres2:\n",
    "    df = pd.read_csv(nombre)\n",
    "\n",
    "    try: \n",
    "        df = df.drop('Unnamed: 0',axis=1)\n",
    "    except:\n",
    "        pass\n",
    "\n",
    "    df = df.dropna()\n",
    "\n",
    "    name = nombre.split('.') \n",
    "    name = name[0].split(' ')\n",
    "\n",
    "    globals()[name[0] + name[1]] = soldiario(df,variable,variablerango)\n",
    "\n",
    "    if i == 0:\n",
    "        todo = globals()[name[0] + name[1]] # DataFrame donde se guardan los diferentes valores de insolación por día.\n",
    "    else:\n",
    "        todo = pd.concat([todo , globals()[name[0] + name[1]]],axis = 0)\n",
    "    i+=1\n",
    "todo"
   ]
  },
  {
   "cell_type": "code",
   "execution_count": 151,
   "metadata": {},
   "outputs": [
    {
     "data": {
      "image/png": "[encoded data removed]",
      "text/plain": [
       "<Figure size 432x288 with 1 Axes>"
      ]
     },
     "metadata": {
      "needs_background": "light"
     },
     "output_type": "display_data"
    }
   ],
   "source": [
    "plt.hist(todo['Potencia [kW]'],15,ec = 'k') \n",
    "plt.xlabel('Energía [kWh]')\n",
    "plt.ylabel('Cantidad de días')\n",
    "plt.title('Histograma de Energía Generada')\n",
    "plt.show()"
   ]
  },
  {
   "cell_type": "code",
   "execution_count": null,
   "metadata": {},
   "outputs": [],
   "source": []
  }
 ],
 "metadata": {
  "kernelspec": {
   "display_name": "Python 3",
   "language": "python",
   "name": "python3"
  },
  "language_info": {
   "codemirror_mode": {
    "name": "ipython",
    "version": 3
   },
   "file_extension": ".py",
   "mimetype": "text/x-python",
   "name": "python",
   "nbconvert_exporter": "python",
   "pygments_lexer": "ipython3",
   "version": "3.7.6"
  }
 },
 "nbformat": 4,
 "nbformat_minor": 4
}
