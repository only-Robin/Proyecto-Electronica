{
 "cells": [
  {
   "cell_type": "markdown",
   "metadata": {},
   "source": [
    "# Implementación y contraste de algoritmos de pronóstico de generación para una planta solar fotovoltaica de 80 kW de la Universidad de Los Andes"
   ]
  },
  {
   "cell_type": "markdown",
   "metadata": {},
   "source": [
    "## Diego Andrés Acosta y Robinson Julián Portilla"
   ]
  },
  {
   "cell_type": "markdown",
   "metadata": {},
   "source": [
    "#### En este proyecto de grado se realiza el pronóstico de generación del día siguiente de una planta solar fotovoltaica de 80 kW de la Universidad de Los Andes mediante diferentes algoritmos de Machine Learning. "
   ]
  },
  {
   "cell_type": "markdown",
   "metadata": {},
   "source": [
    "#### Se importan las librerías a utilizar jjdjdlklklldk"
   ]
  },
  {
   "cell_type": "code",
   "execution_count": 1,
   "metadata": {},
   "outputs": [],
   "source": [
    "import pandas as pd\n",
    "import numpy as np\n",
    "import matplotlib.pyplot as plt\n",
    "import glob\n",
    "from scipy import stats"
   ]
  },
  {
   "cell_type": "markdown",
   "metadata": {},
   "source": [
    "## Pre-Procesamiento de Datos"
   ]
  },
  {
   "cell_type": "markdown",
   "metadata": {},
   "source": [
    "En esta etapa se realiza el pre-procesamiento de los datos empleados para realizar los modelos de pronóstico.\n",
    "\n",
    "Los datos se encuentran en la carpeta '/DATOS SOLAR' de este repositorio. Los datos tienen una resolución de 5 minutos y consisten en la fecha (dd/mm/aa), hora (hh:mm), Potencia generada (kW), irradiación solar (W/m^2), Temperatura de los modulos (°C), Temperatura ambiente (°C) e irradiación solar media (W/m^2). Se consideraron los datos de octubre de 2019 a diciembre de 2020 para realizar el entrenamiento y evaluación de los modelos implementados. \n",
    "\n",
    "Cabe señalar que, puesto que la estación meteorológica de la planta no otorga datos de temperatura ambiente, esta fue estimada mediante la siguiente expresión:\n",
    "\n",
    "#### Tamb=Tcelda-G*(TONC-20°C)/800W/m^2\n",
    "\n",
    "Donde: \n",
    "- G es la irradiación en ese momento en W/m^2\n",
    "- TONC es la temperatura nominal de la celda en °C, la cual es de 42°C para los paneles LG 400W de la planta\n",
    "- Tcelda es la temperatura de los modulos fotovoltaicos en °C en ese momento\n",
    "- Tamb es la temperatura ambiente en °C \n",
    "\n",
    "Además, con el fin de mejorar el pronóstico de los modelos de series de tiempo, se suaviazan los datos de temperatura ambiente y de insolación solar mediante un promedio móvil de ventana 11. La columna Insolación solar media corresponde a los datos de Insolación solar suaviazados.  "
   ]
  },
  {
   "cell_type": "markdown",
   "metadata": {},
   "source": [
    "### Lectura de datos:\n",
    "En esta etapa se leen los datos almacenados en la carpeta '/DATOS SOLAR':"
   ]
  },
  {
   "cell_type": "code",
   "execution_count": 2,
   "metadata": {},
   "outputs": [
    {
     "name": "stdout",
     "output_type": "stream",
     "text": [
      "Ingrese el mes: Octubre\n",
      "Ingrese el año: 2020\n"
     ]
    },
    {
     "data": {
      "text/html": [
       "<div>\n",
       "<style scoped>\n",
       "    .dataframe tbody tr th:only-of-type {\n",
       "        vertical-align: middle;\n",
       "    }\n",
       "\n",
       "    .dataframe tbody tr th {\n",
       "        vertical-align: top;\n",
       "    }\n",
       "\n",
       "    .dataframe thead th {\n",
       "        text-align: right;\n",
       "    }\n",
       "</style>\n",
       "<table border=\"1\" class=\"dataframe\">\n",
       "  <thead>\n",
       "    <tr style=\"text-align: right;\">\n",
       "      <th></th>\n",
       "      <th>Fecha</th>\n",
       "      <th>Hora</th>\n",
       "      <th>Potencia [kW]</th>\n",
       "      <th>Insolacion [W/m2]</th>\n",
       "      <th>Temperatura de modulos [C]</th>\n",
       "      <th>Temperatura Ambiente [C]</th>\n",
       "      <th>Insolacion media [W/m2]</th>\n",
       "    </tr>\n",
       "  </thead>\n",
       "  <tbody>\n",
       "    <tr>\n",
       "      <th>0</th>\n",
       "      <td>1/10/2020</td>\n",
       "      <td>0:00</td>\n",
       "      <td>x</td>\n",
       "      <td>0.98</td>\n",
       "      <td>11.05</td>\n",
       "      <td>11.448050</td>\n",
       "      <td>0.980000</td>\n",
       "    </tr>\n",
       "    <tr>\n",
       "      <th>1</th>\n",
       "      <td>1/10/2020</td>\n",
       "      <td>0:05</td>\n",
       "      <td>x</td>\n",
       "      <td>0.98</td>\n",
       "      <td>11.52</td>\n",
       "      <td>11.473050</td>\n",
       "      <td>0.980000</td>\n",
       "    </tr>\n",
       "    <tr>\n",
       "      <th>2</th>\n",
       "      <td>1/10/2020</td>\n",
       "      <td>0:10</td>\n",
       "      <td>x</td>\n",
       "      <td>0.98</td>\n",
       "      <td>11.62</td>\n",
       "      <td>11.490550</td>\n",
       "      <td>0.980000</td>\n",
       "    </tr>\n",
       "    <tr>\n",
       "      <th>3</th>\n",
       "      <td>1/10/2020</td>\n",
       "      <td>0:15</td>\n",
       "      <td>x</td>\n",
       "      <td>0.98</td>\n",
       "      <td>11.60</td>\n",
       "      <td>11.513050</td>\n",
       "      <td>0.980000</td>\n",
       "    </tr>\n",
       "    <tr>\n",
       "      <th>4</th>\n",
       "      <td>1/10/2020</td>\n",
       "      <td>0:20</td>\n",
       "      <td>x</td>\n",
       "      <td>0.98</td>\n",
       "      <td>11.55</td>\n",
       "      <td>11.555050</td>\n",
       "      <td>0.980000</td>\n",
       "    </tr>\n",
       "    <tr>\n",
       "      <th>...</th>\n",
       "      <td>...</td>\n",
       "      <td>...</td>\n",
       "      <td>...</td>\n",
       "      <td>...</td>\n",
       "      <td>...</td>\n",
       "      <td>...</td>\n",
       "      <td>...</td>\n",
       "    </tr>\n",
       "    <tr>\n",
       "      <th>8923</th>\n",
       "      <td>31/10/2020</td>\n",
       "      <td>23:35</td>\n",
       "      <td>x</td>\n",
       "      <td>0.97</td>\n",
       "      <td>13.05</td>\n",
       "      <td>13.436242</td>\n",
       "      <td>0.973000</td>\n",
       "    </tr>\n",
       "    <tr>\n",
       "      <th>8924</th>\n",
       "      <td>31/10/2020</td>\n",
       "      <td>23:40</td>\n",
       "      <td>x</td>\n",
       "      <td>0.97</td>\n",
       "      <td>12.96</td>\n",
       "      <td>13.369931</td>\n",
       "      <td>0.972222</td>\n",
       "    </tr>\n",
       "    <tr>\n",
       "      <th>8925</th>\n",
       "      <td>31/10/2020</td>\n",
       "      <td>23:45</td>\n",
       "      <td>x</td>\n",
       "      <td>0.97</td>\n",
       "      <td>13.16</td>\n",
       "      <td>13.297041</td>\n",
       "      <td>0.971250</td>\n",
       "    </tr>\n",
       "    <tr>\n",
       "      <th>8926</th>\n",
       "      <td>31/10/2020</td>\n",
       "      <td>23:50</td>\n",
       "      <td>x</td>\n",
       "      <td>0.97</td>\n",
       "      <td>13.48</td>\n",
       "      <td>13.249000</td>\n",
       "      <td>0.971429</td>\n",
       "    </tr>\n",
       "    <tr>\n",
       "      <th>8927</th>\n",
       "      <td>31/10/2020</td>\n",
       "      <td>23:55</td>\n",
       "      <td>x</td>\n",
       "      <td>0.98</td>\n",
       "      <td>13.72</td>\n",
       "      <td>13.231613</td>\n",
       "      <td>0.971667</td>\n",
       "    </tr>\n",
       "  </tbody>\n",
       "</table>\n",
       "<p>8928 rows × 7 columns</p>\n",
       "</div>"
      ],
      "text/plain": [
       "           Fecha   Hora Potencia [kW]  Insolacion [W/m2]  \\\n",
       "0      1/10/2020   0:00             x               0.98   \n",
       "1      1/10/2020   0:05             x               0.98   \n",
       "2      1/10/2020   0:10             x               0.98   \n",
       "3      1/10/2020   0:15             x               0.98   \n",
       "4      1/10/2020   0:20             x               0.98   \n",
       "...          ...    ...           ...                ...   \n",
       "8923  31/10/2020  23:35             x               0.97   \n",
       "8924  31/10/2020  23:40             x               0.97   \n",
       "8925  31/10/2020  23:45             x               0.97   \n",
       "8926  31/10/2020  23:50             x               0.97   \n",
       "8927  31/10/2020  23:55             x               0.98   \n",
       "\n",
       "      Temperatura de modulos [C]  Temperatura Ambiente [C]  \\\n",
       "0                          11.05                 11.448050   \n",
       "1                          11.52                 11.473050   \n",
       "2                          11.62                 11.490550   \n",
       "3                          11.60                 11.513050   \n",
       "4                          11.55                 11.555050   \n",
       "...                          ...                       ...   \n",
       "8923                       13.05                 13.436242   \n",
       "8924                       12.96                 13.369931   \n",
       "8925                       13.16                 13.297041   \n",
       "8926                       13.48                 13.249000   \n",
       "8927                       13.72                 13.231613   \n",
       "\n",
       "      Insolacion media [W/m2]  \n",
       "0                    0.980000  \n",
       "1                    0.980000  \n",
       "2                    0.980000  \n",
       "3                    0.980000  \n",
       "4                    0.980000  \n",
       "...                       ...  \n",
       "8923                 0.973000  \n",
       "8924                 0.972222  \n",
       "8925                 0.971250  \n",
       "8926                 0.971429  \n",
       "8927                 0.971667  \n",
       "\n",
       "[8928 rows x 7 columns]"
      ]
     },
     "execution_count": 2,
     "metadata": {},
     "output_type": "execute_result"
    }
   ],
   "source": [
    "ruta = 'C:\\\\Users\\\\USUARIO\\\\OneDrive\\\\Universidad\\\\Proyecto de Grado\\\\Repositorio\\\\Proyecto-Electronica\\\\DATOS SOLAR\\\\'\n",
    "ruta2='C:\\\\Users\\Diego Acosta\\\\Documents\\\\GitHub\\\\Proyecto-Electronica\\\\DATOS SOLAR\\\\'\n",
    "mes = input('Ingrese el mes: ')\n",
    "año = input('Ingrese el año: ')\n",
    "try:\n",
    "    datos = pd.read_csv(ruta + mes + ' ' + año + '.csv')\n",
    "except:\n",
    "    datos = pd.read_csv(ruta2 + mes + ' ' + año + '.csv')\n",
    "datos"
   ]
  },
  {
   "cell_type": "markdown",
   "metadata": {},
   "source": [
    "### Funciones para el pre procesamiento: "
   ]
  },
  {
   "cell_type": "code",
   "execution_count": 3,
   "metadata": {},
   "outputs": [],
   "source": [
    "#Esta función reemplaza los datos ue tengan un valor de 'x' por un 0\n",
    "\n",
    "def reemplazo(datos):\n",
    "    datos.replace({'Potencia [kW]':'x'},0,inplace = True)\n",
    "    datos.dropna(inplace = True)\n",
    "    return datos\n",
    "\n",
    "#Esta función toma los valores donde se observa que el sol está activo\n",
    "# el intervalo de horas tomado es en un día de 6:00 am a 6:00pm. Además,\n",
    "#en esta función se cambian algunos valores de temperatura ambiente \n",
    "#considerados fuera de lo normal para la ciudad de Bogotá\n",
    "\n",
    "def intervalosolar(datos):\n",
    "    list1 = datos['Hora'][0:72].tolist()\n",
    "    list2 = datos['Hora'][217:288].tolist()\n",
    "    \n",
    "    list = list1+list2\n",
    "    \n",
    "    for i in range(len(list)):\n",
    "        datos = datos[datos['Hora']!= list[i]]\n",
    "    try:\n",
    "        for i in datos['Temperatura ambiente [C]']:   \n",
    "            if i<23.5:\n",
    "                m=i\n",
    "            if i >23.5:\n",
    "                datos.replace({'Temperatura ambiente [C]':i},m,inplace=True)\n",
    "    except:\n",
    "        for i in datos['Temperatura Ambiente [C]']:   \n",
    "            if i<23.5:\n",
    "                m=i\n",
    "            if i >23.5:\n",
    "                datos.replace({'Temperatura Ambiente [C]':i},m,inplace=True)\n",
    "    return datos\n",
    "\n",
    "\n",
    "\n",
    "#En esta función se guarda el dataframe pre procesado en formato .csv\n",
    "#en una carpeta nueva llamada '/Pre- procesados'\n",
    "rutanueva = 'C:\\\\Users\\\\USUARIO\\\\OneDrive\\\\Universidad\\\\Proyecto de Grado\\\\Repositorio\\\\Proyecto-Electronica\\\\DATOS SOLAR'\n",
    "def guardarcsv(datos,nombre):\n",
    "    datos.to_csv(rutanueva+'\\\\Pre procesados\\\\'+ nombre)"
   ]
  },
  {
   "cell_type": "markdown",
   "metadata": {},
   "source": [
    "#### Se crea una lista donde se guardan las rutas de los archivos a leer:"
   ]
  },
  {
   "cell_type": "code",
   "execution_count": 4,
   "metadata": {},
   "outputs": [
    {
     "data": {
      "text/plain": [
       "['Abril 2020.csv',\n",
       " 'Agosto 2020.csv',\n",
       " 'Diciembre 2019.csv',\n",
       " 'Diciembre 2020.csv',\n",
       " 'Enero 2020.csv',\n",
       " 'Febrero 2020.csv',\n",
       " 'Julio 2020.csv',\n",
       " 'Junio 2020.csv',\n",
       " 'Marzo 2020.csv',\n",
       " 'Mayo 2020.csv',\n",
       " 'Noviembre 2019.csv',\n",
       " 'Noviembre 2020.csv',\n",
       " 'Octubre 2019.csv',\n",
       " 'Octubre 2020.csv',\n",
       " 'Septiembre 2020.csv']"
      ]
     },
     "execution_count": 4,
     "metadata": {},
     "output_type": "execute_result"
    }
   ],
   "source": [
    "try:\n",
    "    archivos = glob.glob('C:\\\\Users\\\\USUARIO\\\\OneDrive\\\\Universidad\\\\Proyecto de Grado\\\\Repositorio\\\\Proyecto-Electronica\\\\DATOS SOLAR\\\\*.csv')\n",
    "except:\n",
    "    archivos = glob.glob('C:\\\\Users\\\\Diego Acosta\\\\Documents\\\\GitHub\\\\Proyecto-Electronica\\\\DATOS SOLAR\\\\*.csv')    \n",
    "\n",
    "nombres = [] #Vector con los nombres de los archivos\n",
    "\n",
    "for i in range(len(archivos)):\n",
    "    nombre = archivos[i].split('\\\\')\n",
    "    nombres.append(nombre[-1])\n",
    "nombres"
   ]
  },
  {
   "cell_type": "markdown",
   "metadata": {},
   "source": [
    "### Ejecución de funciones:"
   ]
  },
  {
   "cell_type": "markdown",
   "metadata": {},
   "source": [
    "#### Se lee cada uno de los archivos y se ejecutan las diferentes funciones definidas previamente:"
   ]
  },
  {
   "cell_type": "code",
   "execution_count": 5,
   "metadata": {},
   "outputs": [],
   "source": [
    "for i in range(len(archivos)):\n",
    "    #Se lee el archivo de la ruta\n",
    "    datos = pd.read_csv(archivos[i])\n",
    "    datos = reemplazo(datos)\n",
    "    datos = intervalosolar(datos)\n",
    "    guardarcsv(datos, nombres[i])\n"
   ]
  },
  {
   "cell_type": "markdown",
   "metadata": {},
   "source": [
    "#### Se muestra un ejemplo de cómo queda el dataframe final:"
   ]
  },
  {
   "cell_type": "code",
   "execution_count": 6,
   "metadata": {},
   "outputs": [
    {
     "data": {
      "text/html": [
       "<div>\n",
       "<style scoped>\n",
       "    .dataframe tbody tr th:only-of-type {\n",
       "        vertical-align: middle;\n",
       "    }\n",
       "\n",
       "    .dataframe tbody tr th {\n",
       "        vertical-align: top;\n",
       "    }\n",
       "\n",
       "    .dataframe thead th {\n",
       "        text-align: right;\n",
       "    }\n",
       "</style>\n",
       "<table border=\"1\" class=\"dataframe\">\n",
       "  <thead>\n",
       "    <tr style=\"text-align: right;\">\n",
       "      <th></th>\n",
       "      <th>Fecha</th>\n",
       "      <th>Hora</th>\n",
       "      <th>Potencia [kW]</th>\n",
       "      <th>Insolacion [W/m2]</th>\n",
       "      <th>Temperatura de modulos [C]</th>\n",
       "      <th>Temperatura ambiente [C]</th>\n",
       "      <th>Insolacion media [W/m2]</th>\n",
       "    </tr>\n",
       "  </thead>\n",
       "  <tbody>\n",
       "    <tr>\n",
       "      <th>72</th>\n",
       "      <td>1/09/2020</td>\n",
       "      <td>6:00</td>\n",
       "      <td>0.01</td>\n",
       "      <td>5.08</td>\n",
       "      <td>9.64</td>\n",
       "      <td>9.399891</td>\n",
       "      <td>6.880000</td>\n",
       "    </tr>\n",
       "    <tr>\n",
       "      <th>73</th>\n",
       "      <td>1/09/2020</td>\n",
       "      <td>6:05</td>\n",
       "      <td>0.08</td>\n",
       "      <td>7.02</td>\n",
       "      <td>9.53</td>\n",
       "      <td>9.407027</td>\n",
       "      <td>8.934545</td>\n",
       "    </tr>\n",
       "    <tr>\n",
       "      <th>74</th>\n",
       "      <td>1/09/2020</td>\n",
       "      <td>6:10</td>\n",
       "      <td>0.17</td>\n",
       "      <td>9.42</td>\n",
       "      <td>9.40</td>\n",
       "      <td>9.437618</td>\n",
       "      <td>11.789091</td>\n",
       "    </tr>\n",
       "    <tr>\n",
       "      <th>75</th>\n",
       "      <td>1/09/2020</td>\n",
       "      <td>6:15</td>\n",
       "      <td>0.29</td>\n",
       "      <td>11.87</td>\n",
       "      <td>9.38</td>\n",
       "      <td>9.478893</td>\n",
       "      <td>15.015455</td>\n",
       "    </tr>\n",
       "    <tr>\n",
       "      <th>76</th>\n",
       "      <td>1/09/2020</td>\n",
       "      <td>6:20</td>\n",
       "      <td>0.44</td>\n",
       "      <td>14.96</td>\n",
       "      <td>9.52</td>\n",
       "      <td>9.524152</td>\n",
       "      <td>18.493636</td>\n",
       "    </tr>\n",
       "    <tr>\n",
       "      <th>...</th>\n",
       "      <td>...</td>\n",
       "      <td>...</td>\n",
       "      <td>...</td>\n",
       "      <td>...</td>\n",
       "      <td>...</td>\n",
       "      <td>...</td>\n",
       "      <td>...</td>\n",
       "    </tr>\n",
       "    <tr>\n",
       "      <th>8564</th>\n",
       "      <td>30/09/2020</td>\n",
       "      <td>17:40</td>\n",
       "      <td>0.17</td>\n",
       "      <td>8.58</td>\n",
       "      <td>15.75</td>\n",
       "      <td>14.952441</td>\n",
       "      <td>13.696364</td>\n",
       "    </tr>\n",
       "    <tr>\n",
       "      <th>8565</th>\n",
       "      <td>30/09/2020</td>\n",
       "      <td>17:45</td>\n",
       "      <td>0</td>\n",
       "      <td>3.21</td>\n",
       "      <td>15.58</td>\n",
       "      <td>14.665530</td>\n",
       "      <td>10.542727</td>\n",
       "    </tr>\n",
       "    <tr>\n",
       "      <th>8566</th>\n",
       "      <td>30/09/2020</td>\n",
       "      <td>17:50</td>\n",
       "      <td>0</td>\n",
       "      <td>1.75</td>\n",
       "      <td>15.54</td>\n",
       "      <td>14.372573</td>\n",
       "      <td>7.807273</td>\n",
       "    </tr>\n",
       "    <tr>\n",
       "      <th>8567</th>\n",
       "      <td>30/09/2020</td>\n",
       "      <td>17:55</td>\n",
       "      <td>0</td>\n",
       "      <td>1.07</td>\n",
       "      <td>14.91</td>\n",
       "      <td>14.089477</td>\n",
       "      <td>4.845455</td>\n",
       "    </tr>\n",
       "    <tr>\n",
       "      <th>8568</th>\n",
       "      <td>30/09/2020</td>\n",
       "      <td>18:00</td>\n",
       "      <td>0</td>\n",
       "      <td>1.01</td>\n",
       "      <td>13.86</td>\n",
       "      <td>13.774734</td>\n",
       "      <td>3.133636</td>\n",
       "    </tr>\n",
       "  </tbody>\n",
       "</table>\n",
       "<p>4350 rows × 7 columns</p>\n",
       "</div>"
      ],
      "text/plain": [
       "           Fecha   Hora Potencia [kW]  Insolacion [W/m2]  \\\n",
       "72     1/09/2020   6:00          0.01               5.08   \n",
       "73     1/09/2020   6:05          0.08               7.02   \n",
       "74     1/09/2020   6:10          0.17               9.42   \n",
       "75     1/09/2020   6:15          0.29              11.87   \n",
       "76     1/09/2020   6:20          0.44              14.96   \n",
       "...          ...    ...           ...                ...   \n",
       "8564  30/09/2020  17:40          0.17               8.58   \n",
       "8565  30/09/2020  17:45             0               3.21   \n",
       "8566  30/09/2020  17:50             0               1.75   \n",
       "8567  30/09/2020  17:55             0               1.07   \n",
       "8568  30/09/2020  18:00             0               1.01   \n",
       "\n",
       "      Temperatura de modulos [C]  Temperatura ambiente [C]  \\\n",
       "72                          9.64                  9.399891   \n",
       "73                          9.53                  9.407027   \n",
       "74                          9.40                  9.437618   \n",
       "75                          9.38                  9.478893   \n",
       "76                          9.52                  9.524152   \n",
       "...                          ...                       ...   \n",
       "8564                       15.75                 14.952441   \n",
       "8565                       15.58                 14.665530   \n",
       "8566                       15.54                 14.372573   \n",
       "8567                       14.91                 14.089477   \n",
       "8568                       13.86                 13.774734   \n",
       "\n",
       "      Insolacion media [W/m2]  \n",
       "72                   6.880000  \n",
       "73                   8.934545  \n",
       "74                  11.789091  \n",
       "75                  15.015455  \n",
       "76                  18.493636  \n",
       "...                       ...  \n",
       "8564                13.696364  \n",
       "8565                10.542727  \n",
       "8566                 7.807273  \n",
       "8567                 4.845455  \n",
       "8568                 3.133636  \n",
       "\n",
       "[4350 rows x 7 columns]"
      ]
     },
     "execution_count": 6,
     "metadata": {},
     "output_type": "execute_result"
    }
   ],
   "source": [
    "datos"
   ]
  },
  {
   "cell_type": "markdown",
   "metadata": {},
   "source": [
    "## Análisis estadístico y de desempeño de la planta solar fotovoltaica "
   ]
  },
  {
   "cell_type": "markdown",
   "metadata": {},
   "source": [
    "En esta sección se realiza el análisis estadístico y de desempeño de los datos de potencia generada, irradiación solar y temperatura ambiente registrados de octubre de 2019 a diciembre de 2020 por la estación meteorológica de la planta solar fotovoltaica. "
   ]
  },
  {
   "cell_type": "code",
   "execution_count": 7,
   "metadata": {},
   "outputs": [],
   "source": [
    "# Recibe un dataframe de datos de la planta y la variable a analizar\n",
    "\n",
    "def soldiario(datos,variable = 'Insolacion [W/m2]'):\n",
    "    fechas = datos['Fecha'].unique()\n",
    "    solxdia = []\n",
    "    for i in range(len(fechas)):\n",
    "        solxdia.append(datos[datos['Fecha']==fechas[i]].sum()[variable]/12 )\n",
    "    df = {'Dia':fechas, variable:solxdia}\n",
    "    df = pd.DataFrame(df)\n",
    "    return df"
   ]
  },
  {
   "cell_type": "code",
   "execution_count": 8,
   "metadata": {},
   "outputs": [
    {
     "data": {
      "text/plain": [
       "['C:\\\\Users\\\\USUARIO\\\\OneDrive\\\\Universidad\\\\Proyecto de Grado\\\\Repositorio\\\\Proyecto-Electronica\\\\DATOS SOLAR\\\\Pre procesados\\\\Abril 2020.csv',\n",
       " 'C:\\\\Users\\\\USUARIO\\\\OneDrive\\\\Universidad\\\\Proyecto de Grado\\\\Repositorio\\\\Proyecto-Electronica\\\\DATOS SOLAR\\\\Pre procesados\\\\Agosto 2020.csv',\n",
       " 'C:\\\\Users\\\\USUARIO\\\\OneDrive\\\\Universidad\\\\Proyecto de Grado\\\\Repositorio\\\\Proyecto-Electronica\\\\DATOS SOLAR\\\\Pre procesados\\\\Diciembre 2019.csv',\n",
       " 'C:\\\\Users\\\\USUARIO\\\\OneDrive\\\\Universidad\\\\Proyecto de Grado\\\\Repositorio\\\\Proyecto-Electronica\\\\DATOS SOLAR\\\\Pre procesados\\\\Diciembre 2020.csv',\n",
       " 'C:\\\\Users\\\\USUARIO\\\\OneDrive\\\\Universidad\\\\Proyecto de Grado\\\\Repositorio\\\\Proyecto-Electronica\\\\DATOS SOLAR\\\\Pre procesados\\\\Enero 2020.csv',\n",
       " 'C:\\\\Users\\\\USUARIO\\\\OneDrive\\\\Universidad\\\\Proyecto de Grado\\\\Repositorio\\\\Proyecto-Electronica\\\\DATOS SOLAR\\\\Pre procesados\\\\Febrero 2020.csv',\n",
       " 'C:\\\\Users\\\\USUARIO\\\\OneDrive\\\\Universidad\\\\Proyecto de Grado\\\\Repositorio\\\\Proyecto-Electronica\\\\DATOS SOLAR\\\\Pre procesados\\\\Julio 2020.csv',\n",
       " 'C:\\\\Users\\\\USUARIO\\\\OneDrive\\\\Universidad\\\\Proyecto de Grado\\\\Repositorio\\\\Proyecto-Electronica\\\\DATOS SOLAR\\\\Pre procesados\\\\Junio 2020.csv',\n",
       " 'C:\\\\Users\\\\USUARIO\\\\OneDrive\\\\Universidad\\\\Proyecto de Grado\\\\Repositorio\\\\Proyecto-Electronica\\\\DATOS SOLAR\\\\Pre procesados\\\\Marzo 2020.csv',\n",
       " 'C:\\\\Users\\\\USUARIO\\\\OneDrive\\\\Universidad\\\\Proyecto de Grado\\\\Repositorio\\\\Proyecto-Electronica\\\\DATOS SOLAR\\\\Pre procesados\\\\Mayo 2020.csv',\n",
       " 'C:\\\\Users\\\\USUARIO\\\\OneDrive\\\\Universidad\\\\Proyecto de Grado\\\\Repositorio\\\\Proyecto-Electronica\\\\DATOS SOLAR\\\\Pre procesados\\\\Noviembre 2019.csv',\n",
       " 'C:\\\\Users\\\\USUARIO\\\\OneDrive\\\\Universidad\\\\Proyecto de Grado\\\\Repositorio\\\\Proyecto-Electronica\\\\DATOS SOLAR\\\\Pre procesados\\\\Noviembre 2020.csv',\n",
       " 'C:\\\\Users\\\\USUARIO\\\\OneDrive\\\\Universidad\\\\Proyecto de Grado\\\\Repositorio\\\\Proyecto-Electronica\\\\DATOS SOLAR\\\\Pre procesados\\\\Octubre 2019.csv',\n",
       " 'C:\\\\Users\\\\USUARIO\\\\OneDrive\\\\Universidad\\\\Proyecto de Grado\\\\Repositorio\\\\Proyecto-Electronica\\\\DATOS SOLAR\\\\Pre procesados\\\\Octubre 2020.csv',\n",
       " 'C:\\\\Users\\\\USUARIO\\\\OneDrive\\\\Universidad\\\\Proyecto de Grado\\\\Repositorio\\\\Proyecto-Electronica\\\\DATOS SOLAR\\\\Pre procesados\\\\Septiembre 2020.csv']"
      ]
     },
     "execution_count": 8,
     "metadata": {},
     "output_type": "execute_result"
    }
   ],
   "source": [
    "ruta = 'C:\\\\Users\\\\USUARIO\\\\OneDrive\\\\Universidad\\\\Proyecto de Grado\\\\Repositorio\\\\Proyecto-Electronica\\\\DATOS SOLAR\\\\Pre procesados\\\\'\n",
    "ruta2 = 'C:\\\\Users\\\\Diego Acosta\\\\Documents\\\\GitHub\\\\Proyecto-Electronica\\\\DATOS SOLAR\\\\Pre procesados\\\\'\n",
    "try:\n",
    "    archivospre = glob.glob(ruta +'*.csv')\n",
    "except:\n",
    "    archivospre = glob.glob(ruta2 +'*.csv')\n",
    "archivospre"
   ]
  },
  {
   "cell_type": "code",
   "execution_count": 9,
   "metadata": {},
   "outputs": [
    {
     "data": {
      "text/plain": [
       "['Abril 2020.csv',\n",
       " 'Agosto 2020.csv',\n",
       " 'Diciembre 2019.csv',\n",
       " 'Diciembre 2020.csv',\n",
       " 'Enero 2020.csv',\n",
       " 'Febrero 2020.csv',\n",
       " 'Julio 2020.csv',\n",
       " 'Junio 2020.csv',\n",
       " 'Marzo 2020.csv',\n",
       " 'Mayo 2020.csv',\n",
       " 'Noviembre 2019.csv',\n",
       " 'Noviembre 2020.csv',\n",
       " 'Octubre 2019.csv',\n",
       " 'Octubre 2020.csv',\n",
       " 'Septiembre 2020.csv']"
      ]
     },
     "execution_count": 9,
     "metadata": {},
     "output_type": "execute_result"
    }
   ],
   "source": [
    "nombres2 = []\n",
    "for i in range(len(archivospre)):\n",
    "    nombre = archivos[i].split('\\\\')\n",
    "    nombres2.append(nombre[-1])\n",
    "nombres2"
   ]
  },
  {
   "cell_type": "markdown",
   "metadata": {},
   "source": [
    "#### Se crea un dataframe llamado 'todo' que contiene los datos  por día de una variable específica de los dataframes pre procesados anteriormente"
   ]
  },
  {
   "cell_type": "code",
   "execution_count": 14,
   "metadata": {},
   "outputs": [],
   "source": [
    "i=0\n",
    "variable = 'Insolacion [W/m2]'\n",
    "#variable = 'Potencia [kW]'\n",
    "\n",
    "for nombre in nombres2:\n",
    "    df = pd.read_csv(nombre)\n",
    "    \n",
    "    try: \n",
    "        df = df.drop('Unnamed: 0',axis=1)\n",
    "    except:\n",
    "        pass\n",
    "    \n",
    "    df = df.dropna()\n",
    "    \n",
    "    name = nombre.split('.') \n",
    "    name = name[0].split(' ')\n",
    "    \n",
    "    globals()[name[0] + name[1]] = soldiario(df,variable)\n",
    "    \n",
    "    if i == 0:\n",
    "        todo = globals()[name[0] + name[1]] # DataFrame donde se guardan los diferentes valores de insolación por día.\n",
    "    else:\n",
    "        todo = pd.concat([todo , globals()[name[0] + name[1]]],axis = 0)\n",
    "    i+=1"
   ]
  },
  {
   "cell_type": "code",
   "execution_count": 11,
   "metadata": {
    "scrolled": true
   },
   "outputs": [
    {
     "name": "stdout",
     "output_type": "stream",
     "text": [
      "[1053.07333333 1442.5160119  1831.95869048 2221.40136905 2610.84404762\n",
      " 3000.28672619 3389.72940476 3779.17208333 4168.6147619  4558.05744048\n",
      " 4947.50011905 5336.94279762 5726.38547619 6115.82815476 6505.27083333]\n"
     ]
    }
   ],
   "source": [
    "inso_max = todo[variable].max()\n",
    "inso_min = todo[variable].min()\n",
    "\n",
    "intervalos = np.linspace(inso_min, inso_max, 15)\n",
    "print(intervalos)"
   ]
  },
  {
   "cell_type": "markdown",
   "metadata": {},
   "source": [
    "### Histogramas "
   ]
  },
  {
   "cell_type": "code",
<<<<<<< HEAD
   "execution_count": 67,
   "metadata": {
    "scrolled": true
   },
=======
   "execution_count": 12,
   "metadata": {},
>>>>>>> c414668aaa01d9b7beaa16c77929500e2b9c9054
   "outputs": [
    {
     "data": {
      "image/png": "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\n",
      "text/plain": [
       "<Figure size 432x288 with 1 Axes>"
      ]
     },
     "metadata": {
      "needs_background": "light"
     },
     "output_type": "display_data"
    }
   ],
   "source": [
    "plt.hist(todo['Insolacion [W/m2]'],15,color = 'yellow',ec = 'k') #Histograma de frecuencias de insolación diaria media\n",
    "plt.xlabel('Irradiación solar [W/m^2]')\n",
    "plt.ylabel('Cantidad de días')\n",
    "plt.title('Histograma de Irradiación Solar')\n",
    "plt.show()\n"
   ]
  },
  {
   "cell_type": "code",
<<<<<<< HEAD
   "execution_count": 69,
   "metadata": {},
   "outputs": [
    {
     "ename": "KeyError",
     "evalue": "'Potencia [kW]'",
     "output_type": "error",
     "traceback": [
      "\u001b[1;31m---------------------------------------------------------------------------\u001b[0m",
      "\u001b[1;31mKeyError\u001b[0m                                  Traceback (most recent call last)",
      "\u001b[1;32m~\\anaconda3\\lib\\site-packages\\pandas\\core\\indexes\\base.py\u001b[0m in \u001b[0;36mget_loc\u001b[1;34m(self, key, method, tolerance)\u001b[0m\n\u001b[0;32m   2645\u001b[0m             \u001b[1;32mtry\u001b[0m\u001b[1;33m:\u001b[0m\u001b[1;33m\u001b[0m\u001b[1;33m\u001b[0m\u001b[0m\n\u001b[1;32m-> 2646\u001b[1;33m                 \u001b[1;32mreturn\u001b[0m \u001b[0mself\u001b[0m\u001b[1;33m.\u001b[0m\u001b[0m_engine\u001b[0m\u001b[1;33m.\u001b[0m\u001b[0mget_loc\u001b[0m\u001b[1;33m(\u001b[0m\u001b[0mkey\u001b[0m\u001b[1;33m)\u001b[0m\u001b[1;33m\u001b[0m\u001b[1;33m\u001b[0m\u001b[0m\n\u001b[0m\u001b[0;32m   2647\u001b[0m             \u001b[1;32mexcept\u001b[0m \u001b[0mKeyError\u001b[0m\u001b[1;33m:\u001b[0m\u001b[1;33m\u001b[0m\u001b[1;33m\u001b[0m\u001b[0m\n",
      "\u001b[1;32mpandas\\_libs\\index.pyx\u001b[0m in \u001b[0;36mpandas._libs.index.IndexEngine.get_loc\u001b[1;34m()\u001b[0m\n",
      "\u001b[1;32mpandas\\_libs\\index.pyx\u001b[0m in \u001b[0;36mpandas._libs.index.IndexEngine.get_loc\u001b[1;34m()\u001b[0m\n",
      "\u001b[1;32mpandas\\_libs\\hashtable_class_helper.pxi\u001b[0m in \u001b[0;36mpandas._libs.hashtable.PyObjectHashTable.get_item\u001b[1;34m()\u001b[0m\n",
      "\u001b[1;32mpandas\\_libs\\hashtable_class_helper.pxi\u001b[0m in \u001b[0;36mpandas._libs.hashtable.PyObjectHashTable.get_item\u001b[1;34m()\u001b[0m\n",
      "\u001b[1;31mKeyError\u001b[0m: 'Potencia [kW]'",
      "\nDuring handling of the above exception, another exception occurred:\n",
      "\u001b[1;31mKeyError\u001b[0m                                  Traceback (most recent call last)",
      "\u001b[1;32m<ipython-input-69-dd43fa6ba271>\u001b[0m in \u001b[0;36m<module>\u001b[1;34m\u001b[0m\n\u001b[1;32m----> 1\u001b[1;33m \u001b[0mplt\u001b[0m\u001b[1;33m.\u001b[0m\u001b[0mhist\u001b[0m\u001b[1;33m(\u001b[0m\u001b[0mtodo\u001b[0m\u001b[1;33m[\u001b[0m\u001b[1;34m'Potencia [kW]'\u001b[0m\u001b[1;33m]\u001b[0m\u001b[1;33m,\u001b[0m\u001b[1;36m15\u001b[0m\u001b[1;33m,\u001b[0m\u001b[0mcolor\u001b[0m \u001b[1;33m=\u001b[0m \u001b[1;34m'yellow'\u001b[0m\u001b[1;33m,\u001b[0m\u001b[0mec\u001b[0m \u001b[1;33m=\u001b[0m \u001b[1;34m'k'\u001b[0m\u001b[1;33m)\u001b[0m\u001b[1;33m\u001b[0m\u001b[1;33m\u001b[0m\u001b[0m\n\u001b[0m\u001b[0;32m      2\u001b[0m \u001b[0mplt\u001b[0m\u001b[1;33m.\u001b[0m\u001b[0mxlabel\u001b[0m\u001b[1;33m(\u001b[0m\u001b[1;34m'Energía [kWh]'\u001b[0m\u001b[1;33m)\u001b[0m\u001b[1;33m\u001b[0m\u001b[1;33m\u001b[0m\u001b[0m\n\u001b[0;32m      3\u001b[0m \u001b[0mplt\u001b[0m\u001b[1;33m.\u001b[0m\u001b[0mylabel\u001b[0m\u001b[1;33m(\u001b[0m\u001b[1;34m'Cantidad de días'\u001b[0m\u001b[1;33m)\u001b[0m\u001b[1;33m\u001b[0m\u001b[1;33m\u001b[0m\u001b[0m\n\u001b[0;32m      4\u001b[0m \u001b[0mplt\u001b[0m\u001b[1;33m.\u001b[0m\u001b[0mtitle\u001b[0m\u001b[1;33m(\u001b[0m\u001b[1;34m'Histograma de Energía Generada'\u001b[0m\u001b[1;33m)\u001b[0m\u001b[1;33m\u001b[0m\u001b[1;33m\u001b[0m\u001b[0m\n\u001b[0;32m      5\u001b[0m \u001b[0mplt\u001b[0m\u001b[1;33m.\u001b[0m\u001b[0mshow\u001b[0m\u001b[1;33m(\u001b[0m\u001b[1;33m)\u001b[0m\u001b[1;33m\u001b[0m\u001b[1;33m\u001b[0m\u001b[0m\n",
      "\u001b[1;32m~\\anaconda3\\lib\\site-packages\\pandas\\core\\frame.py\u001b[0m in \u001b[0;36m__getitem__\u001b[1;34m(self, key)\u001b[0m\n\u001b[0;32m   2798\u001b[0m             \u001b[1;32mif\u001b[0m \u001b[0mself\u001b[0m\u001b[1;33m.\u001b[0m\u001b[0mcolumns\u001b[0m\u001b[1;33m.\u001b[0m\u001b[0mnlevels\u001b[0m \u001b[1;33m>\u001b[0m \u001b[1;36m1\u001b[0m\u001b[1;33m:\u001b[0m\u001b[1;33m\u001b[0m\u001b[1;33m\u001b[0m\u001b[0m\n\u001b[0;32m   2799\u001b[0m                 \u001b[1;32mreturn\u001b[0m \u001b[0mself\u001b[0m\u001b[1;33m.\u001b[0m\u001b[0m_getitem_multilevel\u001b[0m\u001b[1;33m(\u001b[0m\u001b[0mkey\u001b[0m\u001b[1;33m)\u001b[0m\u001b[1;33m\u001b[0m\u001b[1;33m\u001b[0m\u001b[0m\n\u001b[1;32m-> 2800\u001b[1;33m             \u001b[0mindexer\u001b[0m \u001b[1;33m=\u001b[0m \u001b[0mself\u001b[0m\u001b[1;33m.\u001b[0m\u001b[0mcolumns\u001b[0m\u001b[1;33m.\u001b[0m\u001b[0mget_loc\u001b[0m\u001b[1;33m(\u001b[0m\u001b[0mkey\u001b[0m\u001b[1;33m)\u001b[0m\u001b[1;33m\u001b[0m\u001b[1;33m\u001b[0m\u001b[0m\n\u001b[0m\u001b[0;32m   2801\u001b[0m             \u001b[1;32mif\u001b[0m \u001b[0mis_integer\u001b[0m\u001b[1;33m(\u001b[0m\u001b[0mindexer\u001b[0m\u001b[1;33m)\u001b[0m\u001b[1;33m:\u001b[0m\u001b[1;33m\u001b[0m\u001b[1;33m\u001b[0m\u001b[0m\n\u001b[0;32m   2802\u001b[0m                 \u001b[0mindexer\u001b[0m \u001b[1;33m=\u001b[0m \u001b[1;33m[\u001b[0m\u001b[0mindexer\u001b[0m\u001b[1;33m]\u001b[0m\u001b[1;33m\u001b[0m\u001b[1;33m\u001b[0m\u001b[0m\n",
      "\u001b[1;32m~\\anaconda3\\lib\\site-packages\\pandas\\core\\indexes\\base.py\u001b[0m in \u001b[0;36mget_loc\u001b[1;34m(self, key, method, tolerance)\u001b[0m\n\u001b[0;32m   2646\u001b[0m                 \u001b[1;32mreturn\u001b[0m \u001b[0mself\u001b[0m\u001b[1;33m.\u001b[0m\u001b[0m_engine\u001b[0m\u001b[1;33m.\u001b[0m\u001b[0mget_loc\u001b[0m\u001b[1;33m(\u001b[0m\u001b[0mkey\u001b[0m\u001b[1;33m)\u001b[0m\u001b[1;33m\u001b[0m\u001b[1;33m\u001b[0m\u001b[0m\n\u001b[0;32m   2647\u001b[0m             \u001b[1;32mexcept\u001b[0m \u001b[0mKeyError\u001b[0m\u001b[1;33m:\u001b[0m\u001b[1;33m\u001b[0m\u001b[1;33m\u001b[0m\u001b[0m\n\u001b[1;32m-> 2648\u001b[1;33m                 \u001b[1;32mreturn\u001b[0m \u001b[0mself\u001b[0m\u001b[1;33m.\u001b[0m\u001b[0m_engine\u001b[0m\u001b[1;33m.\u001b[0m\u001b[0mget_loc\u001b[0m\u001b[1;33m(\u001b[0m\u001b[0mself\u001b[0m\u001b[1;33m.\u001b[0m\u001b[0m_maybe_cast_indexer\u001b[0m\u001b[1;33m(\u001b[0m\u001b[0mkey\u001b[0m\u001b[1;33m)\u001b[0m\u001b[1;33m)\u001b[0m\u001b[1;33m\u001b[0m\u001b[1;33m\u001b[0m\u001b[0m\n\u001b[0m\u001b[0;32m   2649\u001b[0m         \u001b[0mindexer\u001b[0m \u001b[1;33m=\u001b[0m \u001b[0mself\u001b[0m\u001b[1;33m.\u001b[0m\u001b[0mget_indexer\u001b[0m\u001b[1;33m(\u001b[0m\u001b[1;33m[\u001b[0m\u001b[0mkey\u001b[0m\u001b[1;33m]\u001b[0m\u001b[1;33m,\u001b[0m \u001b[0mmethod\u001b[0m\u001b[1;33m=\u001b[0m\u001b[0mmethod\u001b[0m\u001b[1;33m,\u001b[0m \u001b[0mtolerance\u001b[0m\u001b[1;33m=\u001b[0m\u001b[0mtolerance\u001b[0m\u001b[1;33m)\u001b[0m\u001b[1;33m\u001b[0m\u001b[1;33m\u001b[0m\u001b[0m\n\u001b[0;32m   2650\u001b[0m         \u001b[1;32mif\u001b[0m \u001b[0mindexer\u001b[0m\u001b[1;33m.\u001b[0m\u001b[0mndim\u001b[0m \u001b[1;33m>\u001b[0m \u001b[1;36m1\u001b[0m \u001b[1;32mor\u001b[0m \u001b[0mindexer\u001b[0m\u001b[1;33m.\u001b[0m\u001b[0msize\u001b[0m \u001b[1;33m>\u001b[0m \u001b[1;36m1\u001b[0m\u001b[1;33m:\u001b[0m\u001b[1;33m\u001b[0m\u001b[1;33m\u001b[0m\u001b[0m\n",
      "\u001b[1;32mpandas\\_libs\\index.pyx\u001b[0m in \u001b[0;36mpandas._libs.index.IndexEngine.get_loc\u001b[1;34m()\u001b[0m\n",
      "\u001b[1;32mpandas\\_libs\\index.pyx\u001b[0m in \u001b[0;36mpandas._libs.index.IndexEngine.get_loc\u001b[1;34m()\u001b[0m\n",
      "\u001b[1;32mpandas\\_libs\\hashtable_class_helper.pxi\u001b[0m in \u001b[0;36mpandas._libs.hashtable.PyObjectHashTable.get_item\u001b[1;34m()\u001b[0m\n",
      "\u001b[1;32mpandas\\_libs\\hashtable_class_helper.pxi\u001b[0m in \u001b[0;36mpandas._libs.hashtable.PyObjectHashTable.get_item\u001b[1;34m()\u001b[0m\n",
      "\u001b[1;31mKeyError\u001b[0m: 'Potencia [kW]'"
     ]
=======
   "execution_count": 13,
   "metadata": {},
   "outputs": [
    {
     "data": {
      "text/plain": [
       "(array([ 5., 14., 29., 53., 65., 60., 49., 47., 33., 29., 20., 26., 19.,\n",
       "         7.,  2.]),\n",
       " array([1053.07333333, 1416.55316667, 1780.033     , 2143.51283333,\n",
       "        2506.99266667, 2870.4725    , 3233.95233333, 3597.43216667,\n",
       "        3960.912     , 4324.39183333, 4687.87166667, 5051.3515    ,\n",
       "        5414.83133333, 5778.31116667, 6141.791     , 6505.27083333]),\n",
       " <a list of 15 Patch objects>)"
      ]
     },
     "execution_count": 13,
     "metadata": {},
     "output_type": "execute_result"
    },
    {
     "data": {
      "image/png": "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\n",
      "text/plain": [
       "<Figure size 432x288 with 1 Axes>"
      ]
     },
     "metadata": {
      "needs_background": "light"
     },
     "output_type": "display_data"
>>>>>>> c414668aaa01d9b7beaa16c77929500e2b9c9054
    }
   ],
   "source": [
    "plt.hist(todo['Potencia [kW]'],15,color = 'yellow',ec = 'k') \n",
    "plt.xlabel('Energía [kWh]')\n",
    "plt.ylabel('Cantidad de días')\n",
    "plt.title('Histograma de Energía Generada')\n",
    "plt.show()"
   ]
  },
  {
   "cell_type": "code",
   "execution_count": null,
   "metadata": {},
   "outputs": [],
   "source": []
  },
  {
   "cell_type": "code",
   "execution_count": null,
   "metadata": {},
   "outputs": [],
   "source": []
  }
 ],
 "metadata": {
  "kernelspec": {
   "display_name": "Python 3",
   "language": "python",
   "name": "python3"
  },
  "language_info": {
   "codemirror_mode": {
    "name": "ipython",
    "version": 3
   },
   "file_extension": ".py",
   "mimetype": "text/x-python",
   "name": "python",
   "nbconvert_exporter": "python",
   "pygments_lexer": "ipython3",
   "version": "3.7.6"
  }
 },
 "nbformat": 4,
 "nbformat_minor": 4
}
