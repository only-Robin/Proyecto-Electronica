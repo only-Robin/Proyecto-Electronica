{
 "cells": [
  {
   "cell_type": "markdown",
   "metadata": {},
   "source": [
    "# Implementación y contraste de algoritmos de pronóstico de generación para una planta solar fotovoltaica de 80 kW de la Universidad de Los Andes"
   ]
  },
  {
   "cell_type": "markdown",
   "metadata": {},
   "source": [
    "## Diego Andrés Acosta y Robinson Julián Portilla"
   ]
  },
  {
   "cell_type": "markdown",
   "metadata": {},
   "source": [
    "#### En este proyecto de grado se realiza el pronóstico de generación del día siguiente de una planta solar fotovoltaica de 80 kW de la Universidad de Los Andes mediante diferentes algoritmos de Machine Learning. "
   ]
  },
  {
   "cell_type": "markdown",
   "metadata": {},
   "source": [
    "#### Se importan las librerías a utilizar "
   ]
  },
  {
   "cell_type": "code",
   "execution_count": 1,
   "metadata": {},
   "outputs": [],
   "source": [
    "import pandas as pd\n",
    "import numpy as np\n",
    "import matplotlib.pyplot as plt\n",
    "import glob\n",
    "from scipy import stats"
   ]
  },
  {
   "cell_type": "markdown",
   "metadata": {},
   "source": [
    "## Pre-Procesamiento de Datos"
   ]
  },
  {
   "cell_type": "markdown",
   "metadata": {},
   "source": [
    "En esta etapa se realiza el pre-procesamiento de los datos empleados para realizar los modelos de pronóstico.\n",
    "\n",
    "Los datos se encuentran en la carpeta '/DATOS SOLAR' de este repositorio. Los datos tienen una resolución de 5 minutos y consisten en la fecha (dd/mm/aa), hora (hh:mm), Potencia generada (kW), irradiación solar (W/m^2), Temperatura de los modulos (°C), Temperatura ambiente (°C) e irradiación solar media (W/m^2). Se consideraron los datos de octubre de 2019 a diciembre de 2020 para realizar el entrenamiento y evaluación de los modelos implementados. \n",
    "\n",
    "Cabe señalar que, puesto que la estación meteorológica de la planta no otorga datos de temperatura ambiente, esta fue estimada mediante la siguiente expresión:\n",
    "\n",
    "#### Tamb=Tcelda-G*(TONC-20°C)/800W/m^2\n",
    "\n",
    "Donde: \n",
    "- G es la irradiación en ese momento en W/m^2\n",
    "- TONC es la temperatura nominal de la celda en °C, la cual es de 42°C para los paneles LG 400W de la planta\n",
    "- Tcelda es la temperatura de los modulos fotovoltaicos en °C en ese momento\n",
    "- Tamb es la temperatura ambiente en °C \n",
    "\n",
    "Además, con el fin de mejorar el pronóstico de los modelos de series de tiempo, se suaviazan los datos de temperatura ambiente y de insolación solar mediante un promedio móvil de ventana 11. La columna Insolación solar media corresponde a los datos de Insolación solar suaviazados.  "
   ]
  },
  {
   "cell_type": "markdown",
   "metadata": {},
   "source": [
    "### Lectura de datos:\n",
    "En esta etapa se leen los datos almacenados en la carpeta '/DATOS SOLAR':"
   ]
  },
  {
   "cell_type": "code",
   "execution_count": 12,
   "metadata": {},
   "outputs": [
    {
     "name": "stdout",
     "output_type": "stream",
     "text": [
      "Ingrese el mes: Diciembre\n",
      "Ingrese el año: 2019\n"
     ]
    },
    {
     "data": {
      "text/html": [
       "<div>\n",
       "<style scoped>\n",
       "    .dataframe tbody tr th:only-of-type {\n",
       "        vertical-align: middle;\n",
       "    }\n",
       "\n",
       "    .dataframe tbody tr th {\n",
       "        vertical-align: top;\n",
       "    }\n",
       "\n",
       "    .dataframe thead th {\n",
       "        text-align: right;\n",
       "    }\n",
       "</style>\n",
       "<table border=\"1\" class=\"dataframe\">\n",
       "  <thead>\n",
       "    <tr style=\"text-align: right;\">\n",
       "      <th></th>\n",
       "      <th>Fecha</th>\n",
       "      <th>Hora</th>\n",
       "      <th>Potencia [kW]</th>\n",
       "      <th>Insolacion [W/m2]</th>\n",
       "      <th>Temperatura de modulos [C]</th>\n",
       "      <th>Temperatura ambiente [C]</th>\n",
       "      <th>Insolacion media [W/m2]</th>\n",
       "    </tr>\n",
       "  </thead>\n",
       "  <tbody>\n",
       "    <tr>\n",
       "      <th>0</th>\n",
       "      <td>1/12/2019</td>\n",
       "      <td>0:00</td>\n",
       "      <td>x</td>\n",
       "      <td>1.02</td>\n",
       "      <td>13.55</td>\n",
       "      <td>13.560283</td>\n",
       "      <td>1.020000</td>\n",
       "    </tr>\n",
       "    <tr>\n",
       "      <th>1</th>\n",
       "      <td>1/12/2019</td>\n",
       "      <td>0:05</td>\n",
       "      <td>x</td>\n",
       "      <td>1.02</td>\n",
       "      <td>13.50</td>\n",
       "      <td>13.540521</td>\n",
       "      <td>1.020000</td>\n",
       "    </tr>\n",
       "    <tr>\n",
       "      <th>2</th>\n",
       "      <td>1/12/2019</td>\n",
       "      <td>0:10</td>\n",
       "      <td>x</td>\n",
       "      <td>1.02</td>\n",
       "      <td>13.56</td>\n",
       "      <td>13.540700</td>\n",
       "      <td>1.020000</td>\n",
       "    </tr>\n",
       "    <tr>\n",
       "      <th>3</th>\n",
       "      <td>1/12/2019</td>\n",
       "      <td>0:15</td>\n",
       "      <td>x</td>\n",
       "      <td>1.02</td>\n",
       "      <td>13.62</td>\n",
       "      <td>13.550839</td>\n",
       "      <td>1.020000</td>\n",
       "    </tr>\n",
       "    <tr>\n",
       "      <th>4</th>\n",
       "      <td>1/12/2019</td>\n",
       "      <td>0:20</td>\n",
       "      <td>x</td>\n",
       "      <td>1.02</td>\n",
       "      <td>13.78</td>\n",
       "      <td>13.546950</td>\n",
       "      <td>1.020000</td>\n",
       "    </tr>\n",
       "    <tr>\n",
       "      <th>...</th>\n",
       "      <td>...</td>\n",
       "      <td>...</td>\n",
       "      <td>...</td>\n",
       "      <td>...</td>\n",
       "      <td>...</td>\n",
       "      <td>...</td>\n",
       "      <td>...</td>\n",
       "    </tr>\n",
       "    <tr>\n",
       "      <th>8923</th>\n",
       "      <td>31/12/2019</td>\n",
       "      <td>23:35</td>\n",
       "      <td>x</td>\n",
       "      <td>1.01</td>\n",
       "      <td>14.50</td>\n",
       "      <td>14.559033</td>\n",
       "      <td>1.017000</td>\n",
       "    </tr>\n",
       "    <tr>\n",
       "      <th>8924</th>\n",
       "      <td>31/12/2019</td>\n",
       "      <td>23:40</td>\n",
       "      <td>x</td>\n",
       "      <td>1.02</td>\n",
       "      <td>14.60</td>\n",
       "      <td>14.570931</td>\n",
       "      <td>1.016667</td>\n",
       "    </tr>\n",
       "    <tr>\n",
       "      <th>8925</th>\n",
       "      <td>31/12/2019</td>\n",
       "      <td>23:45</td>\n",
       "      <td>x</td>\n",
       "      <td>1.02</td>\n",
       "      <td>14.74</td>\n",
       "      <td>14.578303</td>\n",
       "      <td>1.016250</td>\n",
       "    </tr>\n",
       "    <tr>\n",
       "      <th>8926</th>\n",
       "      <td>31/12/2019</td>\n",
       "      <td>23:50</td>\n",
       "      <td>x</td>\n",
       "      <td>1.02</td>\n",
       "      <td>14.88</td>\n",
       "      <td>14.596354</td>\n",
       "      <td>1.015714</td>\n",
       "    </tr>\n",
       "    <tr>\n",
       "      <th>8927</th>\n",
       "      <td>31/12/2019</td>\n",
       "      <td>23:55</td>\n",
       "      <td>x</td>\n",
       "      <td>1.02</td>\n",
       "      <td>14.84</td>\n",
       "      <td>14.632042</td>\n",
       "      <td>1.016667</td>\n",
       "    </tr>\n",
       "  </tbody>\n",
       "</table>\n",
       "<p>8928 rows × 7 columns</p>\n",
       "</div>"
      ],
      "text/plain": [
       "           Fecha   Hora Potencia [kW]  Insolacion [W/m2]  \\\n",
       "0      1/12/2019   0:00             x               1.02   \n",
       "1      1/12/2019   0:05             x               1.02   \n",
       "2      1/12/2019   0:10             x               1.02   \n",
       "3      1/12/2019   0:15             x               1.02   \n",
       "4      1/12/2019   0:20             x               1.02   \n",
       "...          ...    ...           ...                ...   \n",
       "8923  31/12/2019  23:35             x               1.01   \n",
       "8924  31/12/2019  23:40             x               1.02   \n",
       "8925  31/12/2019  23:45             x               1.02   \n",
       "8926  31/12/2019  23:50             x               1.02   \n",
       "8927  31/12/2019  23:55             x               1.02   \n",
       "\n",
       "      Temperatura de modulos [C]  Temperatura ambiente [C]  \\\n",
       "0                          13.55                 13.560283   \n",
       "1                          13.50                 13.540521   \n",
       "2                          13.56                 13.540700   \n",
       "3                          13.62                 13.550839   \n",
       "4                          13.78                 13.546950   \n",
       "...                          ...                       ...   \n",
       "8923                       14.50                 14.559033   \n",
       "8924                       14.60                 14.570931   \n",
       "8925                       14.74                 14.578303   \n",
       "8926                       14.88                 14.596354   \n",
       "8927                       14.84                 14.632042   \n",
       "\n",
       "      Insolacion media [W/m2]  \n",
       "0                    1.020000  \n",
       "1                    1.020000  \n",
       "2                    1.020000  \n",
       "3                    1.020000  \n",
       "4                    1.020000  \n",
       "...                       ...  \n",
       "8923                 1.017000  \n",
       "8924                 1.016667  \n",
       "8925                 1.016250  \n",
       "8926                 1.015714  \n",
       "8927                 1.016667  \n",
       "\n",
       "[8928 rows x 7 columns]"
      ]
     },
     "execution_count": 12,
     "metadata": {},
     "output_type": "execute_result"
    }
   ],
   "source": [
    "ruta = 'C:\\\\Users\\\\USUARIO\\\\OneDrive\\\\Universidad\\\\Proyecto de Grado\\\\Repositorio\\\\Proyecto-Electronica\\\\DATOS SOLAR\\\\'\n",
    "ruta2='C:\\\\Users\\Diego Acosta\\\\Documents\\\\GitHub\\\\Proyecto-Electronica\\\\DATOS SOLAR\\\\'\n",
    "mes = input('Ingrese el mes: ')\n",
    "año = input('Ingrese el año: ')\n",
    "try:\n",
    "    datos = pd.read_csv(ruta + mes + ' ' + año + '.csv')\n",
    "except:\n",
    "    datos = pd.read_csv(ruta2 + mes + ' ' + año + '.csv')\n",
    "datos"
   ]
  },
  {
   "cell_type": "markdown",
   "metadata": {},
   "source": [
    "### Funciones para el pre procesamiento: "
   ]
  },
  {
   "cell_type": "code",
   "execution_count": 3,
   "metadata": {},
   "outputs": [],
   "source": [
    "#Esta función reemplaza los datos ue tengan un valor de 'x' por un 0\n",
    "\n",
    "def reemplazo(datos):\n",
    "    datos.replace({'Potencia [kW]':'x'},0,inplace = True)\n",
    "    datos.dropna(inplace = True)\n",
    "    return datos\n",
    "\n",
    "#Esta función toma los valores donde se observa que el sol está activo\n",
    "# el intervalo de horas tomado es en un día de 6:00 am a 6:00pm. Además,\n",
    "#en esta función se cambian algunos valores de temperatura ambiente \n",
    "#considerados fuera de lo normal para la ciudad de Bogotá\n",
    "\n",
    "def intervalosolar(datos):\n",
    "    list1 = datos['Hora'][0:72].tolist()\n",
    "    list2 = datos['Hora'][217:288].tolist()\n",
    "    \n",
    "    list = list1+list2\n",
    "    \n",
    "    for i in range(len(list)):\n",
    "        datos = datos[datos['Hora']!= list[i]]\n",
    "    try:\n",
    "        for i in datos['Temperatura ambiente [C]']:   \n",
    "            if i<23.5:\n",
    "                m=i\n",
    "            if i >23.5:\n",
    "                datos.replace({'Temperatura ambiente [C]':i},m,inplace=True)\n",
    "    except:\n",
    "        for i in datos['Temperatura Ambiente [C]']:   \n",
    "            if i<23.5:\n",
    "                m=i\n",
    "            if i >23.5:\n",
    "                datos.replace({'Temperatura Ambiente [C]':i},m,inplace=True)\n",
    "    return datos\n",
    "\n",
    "\n",
    "\n",
    "#En esta función se guarda el dataframe pre procesado en formato .csv\n",
    "#en una carpeta nueva llamada '/Pre- procesados'\n",
    "rutanueva = 'C:\\\\Users\\\\USUARIO\\\\OneDrive\\\\Universidad\\\\Proyecto de Grado\\\\Repositorio\\\\Proyecto-Electronica\\\\DATOS SOLAR'\n",
    "def guardarcsv(datos,nombre):\n",
    "    datos.to_csv(rutanueva+'\\\\Pre procesados\\\\'+ nombre)"
   ]
  },
  {
   "cell_type": "markdown",
   "metadata": {},
   "source": [
    "#### Se crea una lista donde se guardan las rutas de los archivos a leer:"
   ]
  },
  {
   "cell_type": "code",
   "execution_count": 4,
   "metadata": {},
   "outputs": [],
   "source": [
    "archivos = glob.glob('C:\\\\Users\\\\USUARIO\\\\OneDrive\\\\Universidad\\\\Proyecto de Grado\\\\Repositorio\\\\Proyecto-Electronica\\\\DATOS SOLAR\\\\*.csv')\n",
    "nombres = [] #Vector con los nombres de los archivos\n",
    "\n",
    "for i in range(len(archivos)):\n",
    "    nombre = archivos[i].split('\\\\')\n",
    "    nombres.append(nombre[-1])\n"
   ]
  },
  {
   "cell_type": "markdown",
   "metadata": {},
   "source": [
    "### Ejecución de funciones:"
   ]
  },
  {
   "cell_type": "markdown",
   "metadata": {},
   "source": [
    "#### Se lee cada uno de los archivos y se ejecutan las diferentes funciones definidas previamente:"
   ]
  },
  {
   "cell_type": "code",
   "execution_count": 5,
   "metadata": {},
   "outputs": [],
   "source": [
    "for i in range(len(archivos)):\n",
    "    #Se lee el archivo de la ruta\n",
    "    datos = pd.read_csv(archivos[i])\n",
    "    datos = reemplazo(datos)\n",
    "    datos = intervalosolar(datos)\n",
    "    guardarcsv(datos, nombres[i])\n"
   ]
  },
  {
   "cell_type": "markdown",
   "metadata": {},
   "source": [
    "#### Se muestra un ejemplo de cómo queda el dataframe final:"
   ]
  },
  {
   "cell_type": "code",
   "execution_count": 6,
   "metadata": {},
   "outputs": [
    {
     "data": {
      "text/html": [
       "<div>\n",
       "<style scoped>\n",
       "    .dataframe tbody tr th:only-of-type {\n",
       "        vertical-align: middle;\n",
       "    }\n",
       "\n",
       "    .dataframe tbody tr th {\n",
       "        vertical-align: top;\n",
       "    }\n",
       "\n",
       "    .dataframe thead th {\n",
       "        text-align: right;\n",
       "    }\n",
       "</style>\n",
       "<table border=\"1\" class=\"dataframe\">\n",
       "  <thead>\n",
       "    <tr style=\"text-align: right;\">\n",
       "      <th></th>\n",
       "      <th>Fecha</th>\n",
       "      <th>Hora</th>\n",
       "      <th>Potencia [kW]</th>\n",
       "      <th>Insolacion [W/m2]</th>\n",
       "      <th>Temperatura de modulos [C]</th>\n",
       "      <th>Temperatura Ambiente [C]</th>\n",
       "      <th>Insolacion media [W/m2]</th>\n",
       "    </tr>\n",
       "  </thead>\n",
       "  <tbody>\n",
       "    <tr>\n",
       "      <th>0</th>\n",
       "      <td>1/12/2020</td>\n",
       "      <td>0:00</td>\n",
       "      <td>x</td>\n",
       "      <td>0.98</td>\n",
       "      <td>14.17</td>\n",
       "      <td>14.282958</td>\n",
       "      <td>0.983333</td>\n",
       "    </tr>\n",
       "    <tr>\n",
       "      <th>1</th>\n",
       "      <td>1/12/2020</td>\n",
       "      <td>0:05</td>\n",
       "      <td>x</td>\n",
       "      <td>0.98</td>\n",
       "      <td>14.22</td>\n",
       "      <td>14.281543</td>\n",
       "      <td>0.982857</td>\n",
       "    </tr>\n",
       "    <tr>\n",
       "      <th>2</th>\n",
       "      <td>1/12/2020</td>\n",
       "      <td>0:10</td>\n",
       "      <td>x</td>\n",
       "      <td>0.98</td>\n",
       "      <td>14.27</td>\n",
       "      <td>14.290481</td>\n",
       "      <td>0.982500</td>\n",
       "    </tr>\n",
       "    <tr>\n",
       "      <th>3</th>\n",
       "      <td>1/12/2020</td>\n",
       "      <td>0:15</td>\n",
       "      <td>x</td>\n",
       "      <td>0.99</td>\n",
       "      <td>14.35</td>\n",
       "      <td>14.287433</td>\n",
       "      <td>0.982222</td>\n",
       "    </tr>\n",
       "    <tr>\n",
       "      <th>4</th>\n",
       "      <td>1/12/2020</td>\n",
       "      <td>0:20</td>\n",
       "      <td>x</td>\n",
       "      <td>0.99</td>\n",
       "      <td>14.44</td>\n",
       "      <td>14.316995</td>\n",
       "      <td>0.982000</td>\n",
       "    </tr>\n",
       "    <tr>\n",
       "      <th>...</th>\n",
       "      <td>...</td>\n",
       "      <td>...</td>\n",
       "      <td>...</td>\n",
       "      <td>...</td>\n",
       "      <td>...</td>\n",
       "      <td>...</td>\n",
       "      <td>...</td>\n",
       "    </tr>\n",
       "    <tr>\n",
       "      <th>8923</th>\n",
       "      <td>31/12/2020</td>\n",
       "      <td>23:35</td>\n",
       "      <td>x</td>\n",
       "      <td>0.96</td>\n",
       "      <td>12.34</td>\n",
       "      <td>12.383408</td>\n",
       "      <td>0.967000</td>\n",
       "    </tr>\n",
       "    <tr>\n",
       "      <th>8924</th>\n",
       "      <td>31/12/2020</td>\n",
       "      <td>23:40</td>\n",
       "      <td>x</td>\n",
       "      <td>0.97</td>\n",
       "      <td>12.53</td>\n",
       "      <td>12.367861</td>\n",
       "      <td>0.966667</td>\n",
       "    </tr>\n",
       "    <tr>\n",
       "      <th>8925</th>\n",
       "      <td>31/12/2020</td>\n",
       "      <td>23:45</td>\n",
       "      <td>x</td>\n",
       "      <td>0.97</td>\n",
       "      <td>12.54</td>\n",
       "      <td>12.364678</td>\n",
       "      <td>0.966250</td>\n",
       "    </tr>\n",
       "    <tr>\n",
       "      <th>8926</th>\n",
       "      <td>31/12/2020</td>\n",
       "      <td>23:50</td>\n",
       "      <td>x</td>\n",
       "      <td>0.96</td>\n",
       "      <td>12.42</td>\n",
       "      <td>12.369157</td>\n",
       "      <td>0.965714</td>\n",
       "    </tr>\n",
       "    <tr>\n",
       "      <th>8927</th>\n",
       "      <td>31/12/2020</td>\n",
       "      <td>23:55</td>\n",
       "      <td>x</td>\n",
       "      <td>0.96</td>\n",
       "      <td>12.40</td>\n",
       "      <td>12.386796</td>\n",
       "      <td>0.965000</td>\n",
       "    </tr>\n",
       "  </tbody>\n",
       "</table>\n",
       "<p>8928 rows × 7 columns</p>\n",
       "</div>"
      ],
      "text/plain": [
       "           Fecha   Hora Potencia [kW]  Insolacion [W/m2]  \\\n",
       "0      1/12/2020   0:00             x               0.98   \n",
       "1      1/12/2020   0:05             x               0.98   \n",
       "2      1/12/2020   0:10             x               0.98   \n",
       "3      1/12/2020   0:15             x               0.99   \n",
       "4      1/12/2020   0:20             x               0.99   \n",
       "...          ...    ...           ...                ...   \n",
       "8923  31/12/2020  23:35             x               0.96   \n",
       "8924  31/12/2020  23:40             x               0.97   \n",
       "8925  31/12/2020  23:45             x               0.97   \n",
       "8926  31/12/2020  23:50             x               0.96   \n",
       "8927  31/12/2020  23:55             x               0.96   \n",
       "\n",
       "      Temperatura de modulos [C]  Temperatura Ambiente [C]  \\\n",
       "0                          14.17                 14.282958   \n",
       "1                          14.22                 14.281543   \n",
       "2                          14.27                 14.290481   \n",
       "3                          14.35                 14.287433   \n",
       "4                          14.44                 14.316995   \n",
       "...                          ...                       ...   \n",
       "8923                       12.34                 12.383408   \n",
       "8924                       12.53                 12.367861   \n",
       "8925                       12.54                 12.364678   \n",
       "8926                       12.42                 12.369157   \n",
       "8927                       12.40                 12.386796   \n",
       "\n",
       "      Insolacion media [W/m2]  \n",
       "0                    0.983333  \n",
       "1                    0.982857  \n",
       "2                    0.982500  \n",
       "3                    0.982222  \n",
       "4                    0.982000  \n",
       "...                       ...  \n",
       "8923                 0.967000  \n",
       "8924                 0.966667  \n",
       "8925                 0.966250  \n",
       "8926                 0.965714  \n",
       "8927                 0.965000  \n",
       "\n",
       "[8928 rows x 7 columns]"
      ]
     },
     "execution_count": 6,
     "metadata": {},
     "output_type": "execute_result"
    }
   ],
   "source": [
    "datos"
   ]
  },
  {
   "cell_type": "markdown",
   "metadata": {},
   "source": [
    "## Análisis estadístico y de desempeño de la planta solar fotovoltaica "
   ]
  },
  {
   "cell_type": "markdown",
   "metadata": {},
   "source": [
    "En esta sección se realiza el análisis estadístico y de desempeño de los datos de potencia generada, irradiación solar y temperatura ambiente registrados de octubre de 2019 a diciembre de 2020 por la estación meteorológica de la planta solar fotovoltaica. "
   ]
  },
  {
   "cell_type": "code",
   "execution_count": 7,
   "metadata": {},
   "outputs": [],
   "source": [
    "# Recibe un dataframe de datos de la planta y la variable a analizar\n",
    "\n",
    "def soldiario(datos,variable = 'Insolacion [W/m2]'):\n",
    "    fechas = datos['Fecha'].unique()\n",
    "    solxdia = []\n",
    "    for i in range(len(fechas)):\n",
    "        solxdia.append(datos[datos['Fecha']==fechas[i]].sum()[variable]/12 )\n",
    "    df = {'Dia':fechas, variable:solxdia}\n",
    "    df = pd.DataFrame(df)\n",
    "    return df"
   ]
  },
  {
   "cell_type": "code",
   "execution_count": 8,
   "metadata": {},
   "outputs": [
    {
     "data": {
      "text/plain": [
       "[]"
      ]
     },
     "execution_count": 8,
     "metadata": {},
     "output_type": "execute_result"
    }
   ],
   "source": [
    "ruta = 'C:\\\\Users\\\\USUARIO\\\\OneDrive\\\\Universidad\\\\Proyecto de Grado\\\\Repositorio\\\\Proyecto-Electronica\\\\DATOS SOLAR\\\\Pre procesados\\\\'\n",
    "archivospre = glob.glob(ruta+'*.csv')\n",
    "archivospre"
   ]
  },
  {
   "cell_type": "code",
   "execution_count": 9,
   "metadata": {},
   "outputs": [],
   "source": [
    "for i in range(len(archivospre)):\n",
    "    nombre = archivos[i].split('\\\\')\n",
    "    nombres.append(nombre[-1])"
   ]
  },
  {
   "cell_type": "code",
   "execution_count": 10,
   "metadata": {},
   "outputs": [],
   "source": [
    "i=0\n",
    "variable = 'Insolacion [W/m2]'\n",
    "#variable = 'Potencia [kW]'\n",
    "\n",
    "for arch in archivos:\n",
    "    df = pd.read_csv(arch)\n",
    "    df = df.drop('Unnamed: 0',axis=1)\n",
    "    df = df.dropna()\n",
    "    \n",
    "    name = arch.split('.') \n",
    "    name = name[0].split(' ')\n",
    "    \n",
    "    globals()[name[0] + name[1]] = soldiario(df,variable)\n",
    "    \n",
    "    if i == 0:\n",
    "        todo = globals()[name[0] + name[1]] # DataFrame donde se guardan los diferentes valores de insolación por día.\n",
    "    else:\n",
    "        todo = pd.concat([todo , globals()[name[0] + name[1]]],axis = 0)\n",
    "    i+=1\n",
    "    \n",
    "    \n",
    "    "
   ]
  },
  {
   "cell_type": "code",
   "execution_count": 11,
   "metadata": {
    "scrolled": true
   },
   "outputs": [
    {
     "ename": "NameError",
     "evalue": "name 'todo' is not defined",
     "output_type": "error",
     "traceback": [
      "\u001b[1;31m---------------------------------------------------------------------------\u001b[0m",
      "\u001b[1;31mNameError\u001b[0m                                 Traceback (most recent call last)",
      "\u001b[1;32m<ipython-input-11-c5ba4feb2fb1>\u001b[0m in \u001b[0;36m<module>\u001b[1;34m\u001b[0m\n\u001b[1;32m----> 1\u001b[1;33m \u001b[0minso_max\u001b[0m \u001b[1;33m=\u001b[0m \u001b[0mtodo\u001b[0m\u001b[1;33m[\u001b[0m\u001b[0mvariable\u001b[0m\u001b[1;33m]\u001b[0m\u001b[1;33m.\u001b[0m\u001b[0mmax\u001b[0m\u001b[1;33m(\u001b[0m\u001b[1;33m)\u001b[0m\u001b[1;33m\u001b[0m\u001b[1;33m\u001b[0m\u001b[0m\n\u001b[0m\u001b[0;32m      2\u001b[0m \u001b[0minso_min\u001b[0m \u001b[1;33m=\u001b[0m \u001b[0mtodo\u001b[0m\u001b[1;33m[\u001b[0m\u001b[0mvariable\u001b[0m\u001b[1;33m]\u001b[0m\u001b[1;33m.\u001b[0m\u001b[0mmin\u001b[0m\u001b[1;33m(\u001b[0m\u001b[1;33m)\u001b[0m\u001b[1;33m\u001b[0m\u001b[1;33m\u001b[0m\u001b[0m\n\u001b[0;32m      3\u001b[0m \u001b[1;33m\u001b[0m\u001b[0m\n\u001b[0;32m      4\u001b[0m \u001b[0mintervalos\u001b[0m \u001b[1;33m=\u001b[0m \u001b[0mnp\u001b[0m\u001b[1;33m.\u001b[0m\u001b[0mlinspace\u001b[0m\u001b[1;33m(\u001b[0m\u001b[0minso_min\u001b[0m\u001b[1;33m,\u001b[0m \u001b[0minso_max\u001b[0m\u001b[1;33m,\u001b[0m \u001b[1;36m15\u001b[0m\u001b[1;33m)\u001b[0m\u001b[1;33m\u001b[0m\u001b[1;33m\u001b[0m\u001b[0m\n\u001b[0;32m      5\u001b[0m \u001b[0mprint\u001b[0m\u001b[1;33m(\u001b[0m\u001b[0mintervalos\u001b[0m\u001b[1;33m)\u001b[0m\u001b[1;33m\u001b[0m\u001b[1;33m\u001b[0m\u001b[0m\n",
      "\u001b[1;31mNameError\u001b[0m: name 'todo' is not defined"
     ]
    }
   ],
   "source": [
    "inso_max = todo[variable].max()\n",
    "inso_min = todo[variable].min()\n",
    "\n",
    "intervalos = np.linspace(inso_min, inso_max, 15)\n",
    "print(intervalos)"
   ]
  },
  {
   "cell_type": "markdown",
   "metadata": {},
   "source": [
    "## Histograma de insolación media diaria"
   ]
  },
  {
   "cell_type": "code",
   "execution_count": null,
   "metadata": {},
   "outputs": [],
   "source": [
    "plt.figure()\n",
    "plt.hist(todo['Insolacion [W/m2]'],15,color = 'yellow',ec = 'k') #Histograma de frecuencias de insolación diaria media\n",
    "#plt.hold(True)\n",
    "# Graficando Gamma\n",
    "a = 4.5 # parametro de forma.\n",
    "gamma = stats.gamma(a)\n",
    "x = np.linspace(gamma.ppf(0.01),\n",
    "                gamma.ppf(0.99), 100)\n",
    "fp = gamma.pdf(x) # Función de Probabilidad\n",
    "plt.plot(x*todo['Insolacion [W/m2]'].max()/8, fp)\n",
    "plt.show()"
   ]
  },
  {
   "cell_type": "code",
   "execution_count": null,
   "metadata": {},
   "outputs": [],
   "source": [
    "plt.hist(todo['Insolacion [W/m2]'],15,color = 'yellow',ec = 'k')"
   ]
  },
  {
   "cell_type": "code",
   "execution_count": null,
   "metadata": {},
   "outputs": [],
   "source": []
  },
  {
   "cell_type": "code",
   "execution_count": null,
   "metadata": {},
   "outputs": [],
   "source": []
  }
 ],
 "metadata": {
  "kernelspec": {
   "display_name": "Python 3",
   "language": "python",
   "name": "python3"
  },
  "language_info": {
   "codemirror_mode": {
    "name": "ipython",
    "version": 3
   },
   "file_extension": ".py",
   "mimetype": "text/x-python",
   "name": "python",
   "nbconvert_exporter": "python",
   "pygments_lexer": "ipython3",
   "version": "3.7.6"
  }
 },
 "nbformat": 4,
 "nbformat_minor": 4
}
