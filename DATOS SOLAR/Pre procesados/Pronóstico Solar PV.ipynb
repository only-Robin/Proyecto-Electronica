{
 "cells": [
  {
   "cell_type": "markdown",
   "metadata": {},
   "source": [
    "# Implementación y contraste de algoritmos de pronóstico de generación para una planta solar fotovoltaica de 80 kW de la Universidad de Los Andes"
   ]
  },
  {
   "cell_type": "markdown",
   "metadata": {},
   "source": [
    "## Diego Andrés Acosta y Robinson Julián Portilla"
   ]
  },
  {
   "cell_type": "markdown",
   "metadata": {},
   "source": [
    "#### En este proyecto de grado se realiza el pronóstico de generación del día siguiente de una planta solar fotovoltaica de 80 kW de la Universidad de Los Andes mediante diferentes algoritmos de Machine Learning. "
   ]
  },
  {
   "cell_type": "markdown",
   "metadata": {},
   "source": [
    "#### Se importan las librerías a utilizar "
   ]
  },
  {
   "cell_type": "code",
   "execution_count": 86,
   "metadata": {},
   "outputs": [],
   "source": [
    "import pandas as pd\n",
    "import numpy as np\n",
    "import matplotlib.pyplot as plt\n",
    "import glob\n",
    "from scipy import stats"
   ]
  },
  {
   "cell_type": "markdown",
   "metadata": {},
   "source": [
    "## Pre-Procesamiento de Datos"
   ]
  },
  {
   "cell_type": "markdown",
   "metadata": {},
   "source": [
    "En esta etapa se realiza el pre-procesamiento de los datos empleados para realizar los modelos de pronóstico.\n",
    "\n",
    "Los datos se encuentran en la carpeta '/DATOS SOLAR' de este repositorio. Los datos tienen una resolución de 5 minutos y consisten en la fecha (dd/mm/aa), hora (hh:mm), Potencia generada (kW), irradiación solar (W/m^2), Temperatura de los modulos (°C), Temperatura ambiente (°C) e irradiación solar media (W/m^2). Se consideraron los datos de octubre de 2019 a diciembre de 2020 para realizar el entrenamiento y evaluación de los modelos implementados. \n",
    "\n",
    "Cabe señalar que, puesto que la estación meteorológica de la planta no otorga datos de temperatura ambiente, esta fue estimada mediante la siguiente expresión:\n",
    "\n",
    "#### Tamb=Tcelda-G*(TONC-20°C)/800W/m^2\n",
    "\n",
    "Donde: \n",
    "- G es la irradiación en ese momento en W/m^2\n",
    "- TONC es la temperatura nominal de la celda en °C, la cual es de 42°C para los paneles LG 400W de la planta\n",
    "- Tcelda es la temperatura de los modulos fotovoltaicos en °C en ese momento\n",
    "- Tamb es la temperatura ambiente en °C \n",
    "\n",
    "Además, con el fin de mejorar el pronóstico de los modelos de series de tiempo, se suaviazan los datos de temperatura ambiente y de insolación solar mediante un promedio móvil de ventana 11. La columna Insolación solar media corresponde a los datos de Insolación solar suaviazados.  "
   ]
  },
  {
   "cell_type": "markdown",
   "metadata": {},
   "source": [
    "### Lectura de datos:\n",
    "En esta etapa se leen los datos almacenados en la carpeta '/DATOS SOLAR':"
   ]
  },
  {
   "cell_type": "code",
   "execution_count": 87,
   "metadata": {},
   "outputs": [
    {
     "name": "stdout",
     "output_type": "stream",
     "text": [
      "Ingrese el mes: Octubre\n",
      "Ingrese el año: 2020\n"
     ]
    },
    {
     "data": {
      "text/html": [
       "<div>\n",
       "<style scoped>\n",
       "    .dataframe tbody tr th:only-of-type {\n",
       "        vertical-align: middle;\n",
       "    }\n",
       "\n",
       "    .dataframe tbody tr th {\n",
       "        vertical-align: top;\n",
       "    }\n",
       "\n",
       "    .dataframe thead th {\n",
       "        text-align: right;\n",
       "    }\n",
       "</style>\n",
       "<table border=\"1\" class=\"dataframe\">\n",
       "  <thead>\n",
       "    <tr style=\"text-align: right;\">\n",
       "      <th></th>\n",
       "      <th>Fecha</th>\n",
       "      <th>Hora</th>\n",
       "      <th>Potencia [kW]</th>\n",
       "      <th>Insolacion [W/m2]</th>\n",
       "      <th>Temperatura de modulos [C]</th>\n",
       "      <th>Temperatura Ambiente [C]</th>\n",
       "      <th>Insolacion media [W/m2]</th>\n",
       "    </tr>\n",
       "  </thead>\n",
       "  <tbody>\n",
       "    <tr>\n",
       "      <th>0</th>\n",
       "      <td>1/10/2020</td>\n",
       "      <td>0:00</td>\n",
       "      <td>x</td>\n",
       "      <td>0.98</td>\n",
       "      <td>11.05</td>\n",
       "      <td>11.448050</td>\n",
       "      <td>0.980000</td>\n",
       "    </tr>\n",
       "    <tr>\n",
       "      <th>1</th>\n",
       "      <td>1/10/2020</td>\n",
       "      <td>0:05</td>\n",
       "      <td>x</td>\n",
       "      <td>0.98</td>\n",
       "      <td>11.52</td>\n",
       "      <td>11.473050</td>\n",
       "      <td>0.980000</td>\n",
       "    </tr>\n",
       "    <tr>\n",
       "      <th>2</th>\n",
       "      <td>1/10/2020</td>\n",
       "      <td>0:10</td>\n",
       "      <td>x</td>\n",
       "      <td>0.98</td>\n",
       "      <td>11.62</td>\n",
       "      <td>11.490550</td>\n",
       "      <td>0.980000</td>\n",
       "    </tr>\n",
       "    <tr>\n",
       "      <th>3</th>\n",
       "      <td>1/10/2020</td>\n",
       "      <td>0:15</td>\n",
       "      <td>x</td>\n",
       "      <td>0.98</td>\n",
       "      <td>11.60</td>\n",
       "      <td>11.513050</td>\n",
       "      <td>0.980000</td>\n",
       "    </tr>\n",
       "    <tr>\n",
       "      <th>4</th>\n",
       "      <td>1/10/2020</td>\n",
       "      <td>0:20</td>\n",
       "      <td>x</td>\n",
       "      <td>0.98</td>\n",
       "      <td>11.55</td>\n",
       "      <td>11.555050</td>\n",
       "      <td>0.980000</td>\n",
       "    </tr>\n",
       "    <tr>\n",
       "      <th>...</th>\n",
       "      <td>...</td>\n",
       "      <td>...</td>\n",
       "      <td>...</td>\n",
       "      <td>...</td>\n",
       "      <td>...</td>\n",
       "      <td>...</td>\n",
       "      <td>...</td>\n",
       "    </tr>\n",
       "    <tr>\n",
       "      <th>8923</th>\n",
       "      <td>31/10/2020</td>\n",
       "      <td>23:35</td>\n",
       "      <td>x</td>\n",
       "      <td>0.97</td>\n",
       "      <td>13.05</td>\n",
       "      <td>13.436242</td>\n",
       "      <td>0.973000</td>\n",
       "    </tr>\n",
       "    <tr>\n",
       "      <th>8924</th>\n",
       "      <td>31/10/2020</td>\n",
       "      <td>23:40</td>\n",
       "      <td>x</td>\n",
       "      <td>0.97</td>\n",
       "      <td>12.96</td>\n",
       "      <td>13.369931</td>\n",
       "      <td>0.972222</td>\n",
       "    </tr>\n",
       "    <tr>\n",
       "      <th>8925</th>\n",
       "      <td>31/10/2020</td>\n",
       "      <td>23:45</td>\n",
       "      <td>x</td>\n",
       "      <td>0.97</td>\n",
       "      <td>13.16</td>\n",
       "      <td>13.297041</td>\n",
       "      <td>0.971250</td>\n",
       "    </tr>\n",
       "    <tr>\n",
       "      <th>8926</th>\n",
       "      <td>31/10/2020</td>\n",
       "      <td>23:50</td>\n",
       "      <td>x</td>\n",
       "      <td>0.97</td>\n",
       "      <td>13.48</td>\n",
       "      <td>13.249000</td>\n",
       "      <td>0.971429</td>\n",
       "    </tr>\n",
       "    <tr>\n",
       "      <th>8927</th>\n",
       "      <td>31/10/2020</td>\n",
       "      <td>23:55</td>\n",
       "      <td>x</td>\n",
       "      <td>0.98</td>\n",
       "      <td>13.72</td>\n",
       "      <td>13.231613</td>\n",
       "      <td>0.971667</td>\n",
       "    </tr>\n",
       "  </tbody>\n",
       "</table>\n",
       "<p>8928 rows × 7 columns</p>\n",
       "</div>"
      ],
      "text/plain": [
       "           Fecha   Hora Potencia [kW]  Insolacion [W/m2]  \\\n",
       "0      1/10/2020   0:00             x               0.98   \n",
       "1      1/10/2020   0:05             x               0.98   \n",
       "2      1/10/2020   0:10             x               0.98   \n",
       "3      1/10/2020   0:15             x               0.98   \n",
       "4      1/10/2020   0:20             x               0.98   \n",
       "...          ...    ...           ...                ...   \n",
       "8923  31/10/2020  23:35             x               0.97   \n",
       "8924  31/10/2020  23:40             x               0.97   \n",
       "8925  31/10/2020  23:45             x               0.97   \n",
       "8926  31/10/2020  23:50             x               0.97   \n",
       "8927  31/10/2020  23:55             x               0.98   \n",
       "\n",
       "      Temperatura de modulos [C]  Temperatura Ambiente [C]  \\\n",
       "0                          11.05                 11.448050   \n",
       "1                          11.52                 11.473050   \n",
       "2                          11.62                 11.490550   \n",
       "3                          11.60                 11.513050   \n",
       "4                          11.55                 11.555050   \n",
       "...                          ...                       ...   \n",
       "8923                       13.05                 13.436242   \n",
       "8924                       12.96                 13.369931   \n",
       "8925                       13.16                 13.297041   \n",
       "8926                       13.48                 13.249000   \n",
       "8927                       13.72                 13.231613   \n",
       "\n",
       "      Insolacion media [W/m2]  \n",
       "0                    0.980000  \n",
       "1                    0.980000  \n",
       "2                    0.980000  \n",
       "3                    0.980000  \n",
       "4                    0.980000  \n",
       "...                       ...  \n",
       "8923                 0.973000  \n",
       "8924                 0.972222  \n",
       "8925                 0.971250  \n",
       "8926                 0.971429  \n",
       "8927                 0.971667  \n",
       "\n",
       "[8928 rows x 7 columns]"
      ]
     },
     "execution_count": 87,
     "metadata": {},
     "output_type": "execute_result"
    }
   ],
   "source": [
    "ruta = 'C:\\\\Users\\\\USUARIO\\\\OneDrive\\\\Universidad\\\\Proyecto de Grado\\\\Repositorio\\\\Proyecto-Electronica\\\\DATOS SOLAR\\\\'\n",
    "ruta2='C:\\\\Users\\Diego Acosta\\\\Documents\\\\GitHub\\\\Proyecto-Electronica\\\\DATOS SOLAR\\\\'\n",
    "mes = input('Ingrese el mes: ')\n",
    "año = input('Ingrese el año: ')\n",
    "try:\n",
    "    datos = pd.read_csv(ruta + mes + ' ' + año + '.csv')\n",
    "except:\n",
    "    datos = pd.read_csv(ruta2 + mes + ' ' + año + '.csv')\n",
    "datos"
   ]
  },
  {
   "cell_type": "markdown",
   "metadata": {},
   "source": [
    "### Funciones para el pre procesamiento: "
   ]
  },
  {
   "cell_type": "code",
   "execution_count": 88,
   "metadata": {},
   "outputs": [],
   "source": [
    "#Esta función reemplaza los datos ue tengan un valor de 'x' por un 0\n",
    "\n",
    "def reemplazo(datos):\n",
    "    datos.replace({'Potencia [kW]':'x'},0,inplace = True)\n",
    "    datos.dropna(inplace = True)\n",
    "    return datos\n",
    "\n",
    "#Esta función toma los valores donde se observa que el sol está activo\n",
    "# el intervalo de horas tomado es en un día de 6:00 am a 6:00pm. Además,\n",
    "#en esta función se cambian algunos valores de temperatura ambiente \n",
    "#considerados fuera de lo normal para la ciudad de Bogotá\n",
    "\n",
    "def intervalosolar(datos):\n",
    "    list1 = datos['Hora'][0:72].tolist()\n",
    "    list2 = datos['Hora'][217:288].tolist()\n",
    "    \n",
    "    list = list1+list2\n",
    "    \n",
    "    for i in range(len(list)):\n",
    "        datos = datos[datos['Hora']!= list[i]]\n",
    "    try:\n",
    "        for i in datos['Temperatura ambiente [C]']:   \n",
    "            if i<23.5:\n",
    "                m=i\n",
    "            if i >23.5:\n",
    "                datos.replace({'Temperatura ambiente [C]':i},m,inplace=True)\n",
    "    except:\n",
    "        for i in datos['Temperatura Ambiente [C]']:   \n",
    "            if i<23.5:\n",
    "                m=i\n",
    "            if i >23.5:\n",
    "                datos.replace({'Temperatura Ambiente [C]':i},m,inplace=True)\n",
    "    return datos\n",
    "\n",
    "\n",
    "\n",
    "#En esta función se guarda el dataframe pre procesado en formato .csv\n",
    "#en una carpeta nueva llamada '/Pre- procesados'\n",
    "rutanueva = 'C:\\\\Users\\\\USUARIO\\\\OneDrive\\\\Universidad\\\\Proyecto de Grado\\\\Repositorio\\\\Proyecto-Electronica\\\\DATOS SOLAR'\n",
    "def guardarcsv(datos,nombre):\n",
    "    datos.to_csv(rutanueva+'\\\\Pre procesados\\\\'+ nombre)"
   ]
  },
  {
   "cell_type": "markdown",
   "metadata": {},
   "source": [
    "#### Se crea una lista donde se guardan las rutas de los archivos a leer:"
   ]
  },
  {
   "cell_type": "code",
   "execution_count": 89,
   "metadata": {},
   "outputs": [
    {
     "data": {
      "text/plain": [
       "['Abril 2020.csv',\n",
       " 'Agosto 2020.csv',\n",
       " 'Diciembre 2019.csv',\n",
       " 'Diciembre 2020.csv',\n",
       " 'Enero 2020.csv',\n",
       " 'Febrero 2020.csv',\n",
       " 'Julio 2020.csv',\n",
       " 'Junio 2020.csv',\n",
       " 'Marzo 2020.csv',\n",
       " 'Mayo 2020.csv',\n",
       " 'Noviembre 2019.csv',\n",
       " 'Noviembre 2020.csv',\n",
       " 'Octubre 2019.csv',\n",
       " 'Octubre 2020.csv',\n",
       " 'Septiembre 2020.csv']"
      ]
     },
     "execution_count": 89,
     "metadata": {},
     "output_type": "execute_result"
    }
   ],
   "source": [
    "try:\n",
    "    archivos = glob.glob('C:\\\\Users\\\\USUARIO\\\\OneDrive\\\\Universidad\\\\Proyecto de Grado\\\\Repositorio\\\\Proyecto-Electronica\\\\DATOS SOLAR\\\\*.csv')\n",
    "except:\n",
    "    archivos = glob.glob('C:\\\\Users\\Diego Acosta\\\\Documents\\\\GitHub\\\\Proyecto-Electronica\\\\DATOS SOLAR\\\\*.csv')    \n",
    "\n",
    "nombres = [] #Vector con los nombres de los archivos\n",
    "\n",
    "for i in range(len(archivos)):\n",
    "    nombre = archivos[i].split('\\\\')\n",
    "    nombres.append(nombre[-1])\n",
    "nombres"
   ]
  },
  {
   "cell_type": "markdown",
   "metadata": {},
   "source": [
    "### Ejecución de funciones:"
   ]
  },
  {
   "cell_type": "markdown",
   "metadata": {},
   "source": [
    "#### Se lee cada uno de los archivos y se ejecutan las diferentes funciones definidas previamente:"
   ]
  },
  {
   "cell_type": "code",
   "execution_count": 90,
   "metadata": {},
   "outputs": [],
   "source": [
    "for i in range(len(archivos)):\n",
    "    #Se lee el archivo de la ruta\n",
    "    datos = pd.read_csv(archivos[i])\n",
    "    datos = reemplazo(datos)\n",
    "    datos = intervalosolar(datos)\n",
    "    guardarcsv(datos, nombres[i])\n"
   ]
  },
  {
   "cell_type": "markdown",
   "metadata": {},
   "source": [
    "#### Se muestra un ejemplo de cómo queda el dataframe final:"
   ]
  },
  {
   "cell_type": "code",
   "execution_count": 91,
   "metadata": {},
   "outputs": [
    {
     "data": {
      "text/html": [
       "<div>\n",
       "<style scoped>\n",
       "    .dataframe tbody tr th:only-of-type {\n",
       "        vertical-align: middle;\n",
       "    }\n",
       "\n",
       "    .dataframe tbody tr th {\n",
       "        vertical-align: top;\n",
       "    }\n",
       "\n",
       "    .dataframe thead th {\n",
       "        text-align: right;\n",
       "    }\n",
       "</style>\n",
       "<table border=\"1\" class=\"dataframe\">\n",
       "  <thead>\n",
       "    <tr style=\"text-align: right;\">\n",
       "      <th></th>\n",
       "      <th>Fecha</th>\n",
       "      <th>Hora</th>\n",
       "      <th>Potencia [kW]</th>\n",
       "      <th>Insolacion [W/m2]</th>\n",
       "      <th>Temperatura de modulos [C]</th>\n",
       "      <th>Temperatura ambiente [C]</th>\n",
       "      <th>Insolacion media [W/m2]</th>\n",
       "    </tr>\n",
       "  </thead>\n",
       "  <tbody>\n",
       "    <tr>\n",
       "      <th>72</th>\n",
       "      <td>1/09/2020</td>\n",
       "      <td>6:00</td>\n",
       "      <td>0.01</td>\n",
       "      <td>5.08</td>\n",
       "      <td>9.64</td>\n",
       "      <td>9.399891</td>\n",
       "      <td>6.880000</td>\n",
       "    </tr>\n",
       "    <tr>\n",
       "      <th>73</th>\n",
       "      <td>1/09/2020</td>\n",
       "      <td>6:05</td>\n",
       "      <td>0.08</td>\n",
       "      <td>7.02</td>\n",
       "      <td>9.53</td>\n",
       "      <td>9.407027</td>\n",
       "      <td>8.934545</td>\n",
       "    </tr>\n",
       "    <tr>\n",
       "      <th>74</th>\n",
       "      <td>1/09/2020</td>\n",
       "      <td>6:10</td>\n",
       "      <td>0.17</td>\n",
       "      <td>9.42</td>\n",
       "      <td>9.40</td>\n",
       "      <td>9.437618</td>\n",
       "      <td>11.789091</td>\n",
       "    </tr>\n",
       "    <tr>\n",
       "      <th>75</th>\n",
       "      <td>1/09/2020</td>\n",
       "      <td>6:15</td>\n",
       "      <td>0.29</td>\n",
       "      <td>11.87</td>\n",
       "      <td>9.38</td>\n",
       "      <td>9.478893</td>\n",
       "      <td>15.015455</td>\n",
       "    </tr>\n",
       "    <tr>\n",
       "      <th>76</th>\n",
       "      <td>1/09/2020</td>\n",
       "      <td>6:20</td>\n",
       "      <td>0.44</td>\n",
       "      <td>14.96</td>\n",
       "      <td>9.52</td>\n",
       "      <td>9.524152</td>\n",
       "      <td>18.493636</td>\n",
       "    </tr>\n",
       "    <tr>\n",
       "      <th>...</th>\n",
       "      <td>...</td>\n",
       "      <td>...</td>\n",
       "      <td>...</td>\n",
       "      <td>...</td>\n",
       "      <td>...</td>\n",
       "      <td>...</td>\n",
       "      <td>...</td>\n",
       "    </tr>\n",
       "    <tr>\n",
       "      <th>8564</th>\n",
       "      <td>30/09/2020</td>\n",
       "      <td>17:40</td>\n",
       "      <td>0.17</td>\n",
       "      <td>8.58</td>\n",
       "      <td>15.75</td>\n",
       "      <td>14.952441</td>\n",
       "      <td>13.696364</td>\n",
       "    </tr>\n",
       "    <tr>\n",
       "      <th>8565</th>\n",
       "      <td>30/09/2020</td>\n",
       "      <td>17:45</td>\n",
       "      <td>0</td>\n",
       "      <td>3.21</td>\n",
       "      <td>15.58</td>\n",
       "      <td>14.665530</td>\n",
       "      <td>10.542727</td>\n",
       "    </tr>\n",
       "    <tr>\n",
       "      <th>8566</th>\n",
       "      <td>30/09/2020</td>\n",
       "      <td>17:50</td>\n",
       "      <td>0</td>\n",
       "      <td>1.75</td>\n",
       "      <td>15.54</td>\n",
       "      <td>14.372573</td>\n",
       "      <td>7.807273</td>\n",
       "    </tr>\n",
       "    <tr>\n",
       "      <th>8567</th>\n",
       "      <td>30/09/2020</td>\n",
       "      <td>17:55</td>\n",
       "      <td>0</td>\n",
       "      <td>1.07</td>\n",
       "      <td>14.91</td>\n",
       "      <td>14.089477</td>\n",
       "      <td>4.845455</td>\n",
       "    </tr>\n",
       "    <tr>\n",
       "      <th>8568</th>\n",
       "      <td>30/09/2020</td>\n",
       "      <td>18:00</td>\n",
       "      <td>0</td>\n",
       "      <td>1.01</td>\n",
       "      <td>13.86</td>\n",
       "      <td>13.774734</td>\n",
       "      <td>3.133636</td>\n",
       "    </tr>\n",
       "  </tbody>\n",
       "</table>\n",
       "<p>4350 rows × 7 columns</p>\n",
       "</div>"
      ],
      "text/plain": [
       "           Fecha   Hora Potencia [kW]  Insolacion [W/m2]  \\\n",
       "72     1/09/2020   6:00          0.01               5.08   \n",
       "73     1/09/2020   6:05          0.08               7.02   \n",
       "74     1/09/2020   6:10          0.17               9.42   \n",
       "75     1/09/2020   6:15          0.29              11.87   \n",
       "76     1/09/2020   6:20          0.44              14.96   \n",
       "...          ...    ...           ...                ...   \n",
       "8564  30/09/2020  17:40          0.17               8.58   \n",
       "8565  30/09/2020  17:45             0               3.21   \n",
       "8566  30/09/2020  17:50             0               1.75   \n",
       "8567  30/09/2020  17:55             0               1.07   \n",
       "8568  30/09/2020  18:00             0               1.01   \n",
       "\n",
       "      Temperatura de modulos [C]  Temperatura ambiente [C]  \\\n",
       "72                          9.64                  9.399891   \n",
       "73                          9.53                  9.407027   \n",
       "74                          9.40                  9.437618   \n",
       "75                          9.38                  9.478893   \n",
       "76                          9.52                  9.524152   \n",
       "...                          ...                       ...   \n",
       "8564                       15.75                 14.952441   \n",
       "8565                       15.58                 14.665530   \n",
       "8566                       15.54                 14.372573   \n",
       "8567                       14.91                 14.089477   \n",
       "8568                       13.86                 13.774734   \n",
       "\n",
       "      Insolacion media [W/m2]  \n",
       "72                   6.880000  \n",
       "73                   8.934545  \n",
       "74                  11.789091  \n",
       "75                  15.015455  \n",
       "76                  18.493636  \n",
       "...                       ...  \n",
       "8564                13.696364  \n",
       "8565                10.542727  \n",
       "8566                 7.807273  \n",
       "8567                 4.845455  \n",
       "8568                 3.133636  \n",
       "\n",
       "[4350 rows x 7 columns]"
      ]
     },
     "execution_count": 91,
     "metadata": {},
     "output_type": "execute_result"
    }
   ],
   "source": [
    "datos"
   ]
  },
  {
   "cell_type": "markdown",
   "metadata": {},
   "source": [
    "## Análisis estadístico y de desempeño de la planta solar fotovoltaica "
   ]
  },
  {
   "cell_type": "markdown",
   "metadata": {},
   "source": [
    "En esta sección se realiza el análisis estadístico y de desempeño de los datos de potencia generada, irradiación solar y temperatura ambiente registrados de octubre de 2019 a diciembre de 2020 por la estación meteorológica de la planta solar fotovoltaica. "
   ]
  },
  {
   "cell_type": "code",
   "execution_count": 92,
   "metadata": {},
   "outputs": [],
   "source": [
    "# Recibe un dataframe de datos de la planta y la variable a analizar\n",
    "\n",
    "def soldiario(datos,variable = 'Insolacion [W/m2]'):\n",
    "    fechas = datos['Fecha'].unique()\n",
    "    solxdia = []\n",
    "    for i in range(len(fechas)):\n",
    "        solxdia.append(datos[datos['Fecha']==fechas[i]].sum()[variable]/12 )\n",
    "    df = {'Dia':fechas, variable:solxdia}\n",
    "    df = pd.DataFrame(df)\n",
    "    return df"
   ]
  },
  {
   "cell_type": "code",
   "execution_count": 93,
   "metadata": {},
   "outputs": [
    {
     "data": {
      "text/plain": [
       "['C:\\\\Users\\\\USUARIO\\\\OneDrive\\\\Universidad\\\\Proyecto de Grado\\\\Repositorio\\\\Proyecto-Electronica\\\\DATOS SOLAR\\\\Pre procesados\\\\Abril 2020.csv',\n",
       " 'C:\\\\Users\\\\USUARIO\\\\OneDrive\\\\Universidad\\\\Proyecto de Grado\\\\Repositorio\\\\Proyecto-Electronica\\\\DATOS SOLAR\\\\Pre procesados\\\\Agosto 2020.csv',\n",
       " 'C:\\\\Users\\\\USUARIO\\\\OneDrive\\\\Universidad\\\\Proyecto de Grado\\\\Repositorio\\\\Proyecto-Electronica\\\\DATOS SOLAR\\\\Pre procesados\\\\Diciembre 2019.csv',\n",
       " 'C:\\\\Users\\\\USUARIO\\\\OneDrive\\\\Universidad\\\\Proyecto de Grado\\\\Repositorio\\\\Proyecto-Electronica\\\\DATOS SOLAR\\\\Pre procesados\\\\Diciembre 2020.csv',\n",
       " 'C:\\\\Users\\\\USUARIO\\\\OneDrive\\\\Universidad\\\\Proyecto de Grado\\\\Repositorio\\\\Proyecto-Electronica\\\\DATOS SOLAR\\\\Pre procesados\\\\Enero 2020.csv',\n",
       " 'C:\\\\Users\\\\USUARIO\\\\OneDrive\\\\Universidad\\\\Proyecto de Grado\\\\Repositorio\\\\Proyecto-Electronica\\\\DATOS SOLAR\\\\Pre procesados\\\\Febrero 2020.csv',\n",
       " 'C:\\\\Users\\\\USUARIO\\\\OneDrive\\\\Universidad\\\\Proyecto de Grado\\\\Repositorio\\\\Proyecto-Electronica\\\\DATOS SOLAR\\\\Pre procesados\\\\Julio 2020.csv',\n",
       " 'C:\\\\Users\\\\USUARIO\\\\OneDrive\\\\Universidad\\\\Proyecto de Grado\\\\Repositorio\\\\Proyecto-Electronica\\\\DATOS SOLAR\\\\Pre procesados\\\\Junio 2020.csv',\n",
       " 'C:\\\\Users\\\\USUARIO\\\\OneDrive\\\\Universidad\\\\Proyecto de Grado\\\\Repositorio\\\\Proyecto-Electronica\\\\DATOS SOLAR\\\\Pre procesados\\\\Marzo 2020.csv',\n",
       " 'C:\\\\Users\\\\USUARIO\\\\OneDrive\\\\Universidad\\\\Proyecto de Grado\\\\Repositorio\\\\Proyecto-Electronica\\\\DATOS SOLAR\\\\Pre procesados\\\\Mayo 2020.csv',\n",
       " 'C:\\\\Users\\\\USUARIO\\\\OneDrive\\\\Universidad\\\\Proyecto de Grado\\\\Repositorio\\\\Proyecto-Electronica\\\\DATOS SOLAR\\\\Pre procesados\\\\Noviembre 2019.csv',\n",
       " 'C:\\\\Users\\\\USUARIO\\\\OneDrive\\\\Universidad\\\\Proyecto de Grado\\\\Repositorio\\\\Proyecto-Electronica\\\\DATOS SOLAR\\\\Pre procesados\\\\Noviembre 2020.csv',\n",
       " 'C:\\\\Users\\\\USUARIO\\\\OneDrive\\\\Universidad\\\\Proyecto de Grado\\\\Repositorio\\\\Proyecto-Electronica\\\\DATOS SOLAR\\\\Pre procesados\\\\Octubre 2019.csv',\n",
       " 'C:\\\\Users\\\\USUARIO\\\\OneDrive\\\\Universidad\\\\Proyecto de Grado\\\\Repositorio\\\\Proyecto-Electronica\\\\DATOS SOLAR\\\\Pre procesados\\\\Octubre 2020.csv',\n",
       " 'C:\\\\Users\\\\USUARIO\\\\OneDrive\\\\Universidad\\\\Proyecto de Grado\\\\Repositorio\\\\Proyecto-Electronica\\\\DATOS SOLAR\\\\Pre procesados\\\\Septiembre 2020.csv']"
      ]
     },
     "execution_count": 93,
     "metadata": {},
     "output_type": "execute_result"
    }
   ],
   "source": [
    "ruta = 'C:\\\\Users\\\\USUARIO\\\\OneDrive\\\\Universidad\\\\Proyecto de Grado\\\\Repositorio\\\\Proyecto-Electronica\\\\DATOS SOLAR\\\\Pre procesados\\\\'\n",
    "ruta2 = 'C:\\\\Users\\Diego Acosta\\\\Documents\\\\GitHub\\\\Proyecto-Electronica\\\\DATOS SOLAR\\\\Pre procesados\\\\'\n",
    "try:\n",
    "    archivospre = glob.glob(ruta +'*.csv')\n",
    "except:\n",
    "    archivospre = glob.glob(ruta2 +'*.csv')\n",
    "archivospre"
   ]
  },
  {
   "cell_type": "code",
   "execution_count": 95,
   "metadata": {},
   "outputs": [
    {
     "data": {
      "text/plain": [
       "['Abril 2020.csv',\n",
       " 'Agosto 2020.csv',\n",
       " 'Diciembre 2019.csv',\n",
       " 'Diciembre 2020.csv',\n",
       " 'Enero 2020.csv',\n",
       " 'Febrero 2020.csv',\n",
       " 'Julio 2020.csv',\n",
       " 'Junio 2020.csv',\n",
       " 'Marzo 2020.csv',\n",
       " 'Mayo 2020.csv',\n",
       " 'Noviembre 2019.csv',\n",
       " 'Noviembre 2020.csv',\n",
       " 'Octubre 2019.csv',\n",
       " 'Octubre 2020.csv',\n",
       " 'Septiembre 2020.csv']"
      ]
     },
     "execution_count": 95,
     "metadata": {},
     "output_type": "execute_result"
    }
   ],
   "source": [
    "nombres2 = []\n",
    "for i in range(len(archivospre)):\n",
    "    nombre = archivos[i].split('\\\\')\n",
    "    nombres2.append(nombre[-1])\n",
    "nombres2"
   ]
  },
  {
   "cell_type": "markdown",
   "metadata": {},
   "source": [
    "#### Se crea un dataframe llamado 'todo' que contiene los datos  por día de una variable específica de los dataframes pre procesados anteriormente"
   ]
  },
  {
   "cell_type": "code",
   "execution_count": 100,
   "metadata": {},
   "outputs": [],
   "source": [
    "i=0\n",
    "variable = 'Insolacion [W/m2]'\n",
    "#variable = 'Potencia [kW]'\n",
    "\n",
    "for nombre in nombres2:\n",
    "    df = pd.read_csv(nombre)\n",
    "    \n",
    "    try: \n",
    "        df = df.drop('Unnamed: 0',axis=1)\n",
    "    except:\n",
    "        pass\n",
    "    \n",
    "    df = df.dropna()\n",
    "    \n",
    "    name = nombre.split('.') \n",
    "    name = name[0].split(' ')\n",
    "    \n",
    "    globals()[name[0] + name[1]] = soldiario(df,variable)\n",
    "    \n",
    "    if i == 0:\n",
    "        todo = globals()[name[0] + name[1]] # DataFrame donde se guardan los diferentes valores de insolación por día.\n",
    "    else:\n",
    "        todo = pd.concat([todo , globals()[name[0] + name[1]]],axis = 0)\n",
    "    i+=1"
   ]
  },
  {
   "cell_type": "code",
   "execution_count": 101,
   "metadata": {
    "scrolled": true
   },
   "outputs": [
    {
     "name": "stdout",
     "output_type": "stream",
     "text": [
      "[1053.07333333 1442.5160119  1831.95869048 2221.40136905 2610.84404762\n",
      " 3000.28672619 3389.72940476 3779.17208333 4168.6147619  4558.05744048\n",
      " 4947.50011905 5336.94279762 5726.38547619 6115.82815476 6505.27083333]\n"
     ]
    }
   ],
   "source": [
    "inso_max = todo[variable].max()\n",
    "inso_min = todo[variable].min()\n",
    "\n",
    "intervalos = np.linspace(inso_min, inso_max, 15)\n",
    "print(intervalos)"
   ]
  },
  {
   "cell_type": "markdown",
   "metadata": {},
   "source": [
    "## Histograma de insolación media diaria"
   ]
  },
  {
   "cell_type": "code",
   "execution_count": 102,
   "metadata": {},
   "outputs": [
    {
     "data": {
      "image/png": "[encoded data removed]",
      "text/plain": [
       "<Figure size 432x288 with 1 Axes>"
      ]
     },
     "metadata": {
      "needs_background": "light"
     },
     "output_type": "display_data"
    }
   ],
   "source": [
    "plt.figure()\n",
    "plt.hist(todo['Insolacion [W/m2]'],15,color = 'yellow',ec = 'k') #Histograma de frecuencias de insolación diaria media\n",
    "#plt.hold(True)\n",
    "# Graficando Gamma\n",
    "a = 4.5 # parametro de forma.\n",
    "gamma = stats.gamma(a)\n",
    "x = np.linspace(gamma.ppf(0.01),\n",
    "                gamma.ppf(0.99), 100)\n",
    "fp = gamma.pdf(x) # Función de Probabilidad\n",
    "plt.plot(x*todo['Insolacion [W/m2]'].max()/8, fp)\n",
    "plt.show()"
   ]
  },
  {
   "cell_type": "code",
   "execution_count": null,
   "metadata": {},
   "outputs": [],
   "source": [
    "plt.hist(todo['Insolacion [W/m2]'],15,color = 'yellow',ec = 'k')"
   ]
  },
  {
   "cell_type": "code",
   "execution_count": null,
   "metadata": {},
   "outputs": [],
   "source": []
  },
  {
   "cell_type": "code",
   "execution_count": null,
   "metadata": {},
   "outputs": [],
   "source": []
  }
 ],
 "metadata": {
  "kernelspec": {
   "display_name": "Python 3",
   "language": "python",
   "name": "python3"
  },
  "language_info": {
   "codemirror_mode": {
    "name": "ipython",
    "version": 3
   },
   "file_extension": ".py",
   "mimetype": "text/x-python",
   "name": "python",
   "nbconvert_exporter": "python",
   "pygments_lexer": "ipython3",
   "version": "3.7.6"
  }
 },
 "nbformat": 4,
 "nbformat_minor": 4
}
