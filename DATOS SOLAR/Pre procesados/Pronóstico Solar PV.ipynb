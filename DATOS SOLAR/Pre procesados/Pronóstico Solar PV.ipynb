{
 "cells": [
  {
   "cell_type": "markdown",
   "metadata": {},
   "source": [
    "# Implementación y contraste de algoritmos de pronóstico de generación para una planta solar fotovoltaica de 80 kW de la Universidad de Los Andes"
   ]
  },
  {
   "cell_type": "markdown",
   "metadata": {},
   "source": [
    "## Diego Andrés Acosta y Robinson Julián Portilla"
   ]
  },
  {
   "cell_type": "markdown",
   "metadata": {},
   "source": [
    "#### En este proyecto de grado se realiza el pronóstico de generación del día siguiente de una planta solar fotovoltaica de 80 kW de la Universidad de Los Andes mediante diferentes algoritmos de Machine Learning. "
   ]
  },
  {
   "cell_type": "markdown",
   "metadata": {},
   "source": [
    "#### Se importan las librerías a utilizar jjdjdlklklldk"
   ]
  },
  {
   "cell_type": "code",
   "execution_count": 34,
   "metadata": {},
   "outputs": [],
   "source": [
    "import pandas as pd\n",
    "import numpy as np\n",
    "import matplotlib.pyplot as plt\n",
    "import glob\n",
    "from scipy import stats"
   ]
  },
  {
   "cell_type": "markdown",
   "metadata": {},
   "source": [
    "## Pre-Procesamiento de Datos"
   ]
  },
  {
   "cell_type": "markdown",
   "metadata": {},
   "source": [
    "En esta etapa se realiza el pre-procesamiento de los datos empleados para realizar los modelos de pronóstico.\n",
    "\n",
    "Los datos se encuentran en la carpeta '/DATOS SOLAR' de este repositorio. Los datos tienen una resolución de 5 minutos y consisten en la fecha (dd/mm/aa), hora (hh:mm), Potencia generada (kW), irradiación solar (W/m^2), Temperatura de los modulos (°C), Temperatura ambiente (°C) e irradiación solar media (W/m^2). Se consideraron los datos de octubre de 2019 a diciembre de 2020 para realizar el entrenamiento y evaluación de los modelos implementados. \n",
    "\n",
    "Cabe señalar que, puesto que la estación meteorológica de la planta no otorga datos de temperatura ambiente, esta fue estimada mediante la siguiente expresión:\n",
    "\n",
    "#### Tamb=Tcelda-G*(TONC-20°C)/800W/m^2\n",
    "\n",
    "Donde: \n",
    "- G es la irradiación en ese momento en W/m^2\n",
    "- TONC es la temperatura nominal de la celda en °C, la cual es de 42°C para los paneles LG 400W de la planta\n",
    "- Tcelda es la temperatura de los modulos fotovoltaicos en °C en ese momento\n",
    "- Tamb es la temperatura ambiente en °C \n",
    "\n",
    "Además, con el fin de mejorar el pronóstico de los modelos de series de tiempo, se suaviazan los datos de temperatura ambiente y de insolación solar mediante un promedio móvil de ventana 11. La columna Insolación solar media corresponde a los datos de Insolación solar suaviazados.  "
   ]
  },
  {
   "cell_type": "markdown",
   "metadata": {},
   "source": [
    "### Lectura de datos:\n",
    "En esta etapa se leen los datos almacenados en la carpeta '/DATOS SOLAR':"
   ]
  },
  {
   "cell_type": "code",
   "execution_count": 35,
   "metadata": {},
   "outputs": [
    {
     "name": "stdout",
     "output_type": "stream",
     "text": [
      "Ingrese el mes: Junio\n",
      "Ingrese el año: 2020\n"
     ]
    },
    {
     "data": {
      "text/html": [
       "<div>\n",
       "<style scoped>\n",
       "    .dataframe tbody tr th:only-of-type {\n",
       "        vertical-align: middle;\n",
       "    }\n",
       "\n",
       "    .dataframe tbody tr th {\n",
       "        vertical-align: top;\n",
       "    }\n",
       "\n",
       "    .dataframe thead th {\n",
       "        text-align: right;\n",
       "    }\n",
       "</style>\n",
       "<table border=\"1\" class=\"dataframe\">\n",
       "  <thead>\n",
       "    <tr style=\"text-align: right;\">\n",
       "      <th></th>\n",
       "      <th>Fecha</th>\n",
       "      <th>Hora</th>\n",
       "      <th>Potencia [kW]</th>\n",
       "      <th>Insolacion [W/m2]</th>\n",
       "      <th>Temperatura de modulos [C]</th>\n",
       "      <th>Temperatura ambiente [C]</th>\n",
       "      <th>Insolacion media [W/m2]</th>\n",
       "    </tr>\n",
       "  </thead>\n",
       "  <tbody>\n",
       "    <tr>\n",
       "      <th>0</th>\n",
       "      <td>1/06/2020</td>\n",
       "      <td>0:00</td>\n",
       "      <td>x</td>\n",
       "      <td>0.99</td>\n",
       "      <td>12.66</td>\n",
       "      <td>12.291292</td>\n",
       "      <td>0.983333</td>\n",
       "    </tr>\n",
       "    <tr>\n",
       "      <th>1</th>\n",
       "      <td>1/06/2020</td>\n",
       "      <td>0:05</td>\n",
       "      <td>x</td>\n",
       "      <td>0.99</td>\n",
       "      <td>12.38</td>\n",
       "      <td>12.291543</td>\n",
       "      <td>0.982857</td>\n",
       "    </tr>\n",
       "    <tr>\n",
       "      <th>2</th>\n",
       "      <td>1/06/2020</td>\n",
       "      <td>0:10</td>\n",
       "      <td>x</td>\n",
       "      <td>0.98</td>\n",
       "      <td>12.19</td>\n",
       "      <td>12.311697</td>\n",
       "      <td>0.983750</td>\n",
       "    </tr>\n",
       "    <tr>\n",
       "      <th>3</th>\n",
       "      <td>1/06/2020</td>\n",
       "      <td>0:15</td>\n",
       "      <td>x</td>\n",
       "      <td>0.98</td>\n",
       "      <td>12.14</td>\n",
       "      <td>12.312928</td>\n",
       "      <td>0.984444</td>\n",
       "    </tr>\n",
       "    <tr>\n",
       "      <th>4</th>\n",
       "      <td>1/06/2020</td>\n",
       "      <td>0:20</td>\n",
       "      <td>x</td>\n",
       "      <td>0.98</td>\n",
       "      <td>12.26</td>\n",
       "      <td>12.283940</td>\n",
       "      <td>0.984000</td>\n",
       "    </tr>\n",
       "    <tr>\n",
       "      <th>...</th>\n",
       "      <td>...</td>\n",
       "      <td>...</td>\n",
       "      <td>...</td>\n",
       "      <td>...</td>\n",
       "      <td>...</td>\n",
       "      <td>...</td>\n",
       "      <td>...</td>\n",
       "    </tr>\n",
       "    <tr>\n",
       "      <th>8923</th>\n",
       "      <td>NaN</td>\n",
       "      <td>NaN</td>\n",
       "      <td>NaN</td>\n",
       "      <td>NaN</td>\n",
       "      <td>NaN</td>\n",
       "      <td>NaN</td>\n",
       "      <td>NaN</td>\n",
       "    </tr>\n",
       "    <tr>\n",
       "      <th>8924</th>\n",
       "      <td>NaN</td>\n",
       "      <td>NaN</td>\n",
       "      <td>NaN</td>\n",
       "      <td>NaN</td>\n",
       "      <td>NaN</td>\n",
       "      <td>NaN</td>\n",
       "      <td>NaN</td>\n",
       "    </tr>\n",
       "    <tr>\n",
       "      <th>8925</th>\n",
       "      <td>NaN</td>\n",
       "      <td>NaN</td>\n",
       "      <td>NaN</td>\n",
       "      <td>NaN</td>\n",
       "      <td>NaN</td>\n",
       "      <td>NaN</td>\n",
       "      <td>NaN</td>\n",
       "    </tr>\n",
       "    <tr>\n",
       "      <th>8926</th>\n",
       "      <td>NaN</td>\n",
       "      <td>NaN</td>\n",
       "      <td>NaN</td>\n",
       "      <td>NaN</td>\n",
       "      <td>NaN</td>\n",
       "      <td>NaN</td>\n",
       "      <td>NaN</td>\n",
       "    </tr>\n",
       "    <tr>\n",
       "      <th>8927</th>\n",
       "      <td>NaN</td>\n",
       "      <td>NaN</td>\n",
       "      <td>NaN</td>\n",
       "      <td>NaN</td>\n",
       "      <td>NaN</td>\n",
       "      <td>NaN</td>\n",
       "      <td>NaN</td>\n",
       "    </tr>\n",
       "  </tbody>\n",
       "</table>\n",
       "<p>8928 rows × 7 columns</p>\n",
       "</div>"
      ],
      "text/plain": [
       "          Fecha  Hora Potencia [kW]  Insolacion [W/m2]  \\\n",
       "0     1/06/2020  0:00             x               0.99   \n",
       "1     1/06/2020  0:05             x               0.99   \n",
       "2     1/06/2020  0:10             x               0.98   \n",
       "3     1/06/2020  0:15             x               0.98   \n",
       "4     1/06/2020  0:20             x               0.98   \n",
       "...         ...   ...           ...                ...   \n",
       "8923        NaN   NaN           NaN                NaN   \n",
       "8924        NaN   NaN           NaN                NaN   \n",
       "8925        NaN   NaN           NaN                NaN   \n",
       "8926        NaN   NaN           NaN                NaN   \n",
       "8927        NaN   NaN           NaN                NaN   \n",
       "\n",
       "      Temperatura de modulos [C]  Temperatura ambiente [C]  \\\n",
       "0                          12.66                 12.291292   \n",
       "1                          12.38                 12.291543   \n",
       "2                          12.19                 12.311697   \n",
       "3                          12.14                 12.312928   \n",
       "4                          12.26                 12.283940   \n",
       "...                          ...                       ...   \n",
       "8923                         NaN                       NaN   \n",
       "8924                         NaN                       NaN   \n",
       "8925                         NaN                       NaN   \n",
       "8926                         NaN                       NaN   \n",
       "8927                         NaN                       NaN   \n",
       "\n",
       "      Insolacion media [W/m2]  \n",
       "0                    0.983333  \n",
       "1                    0.982857  \n",
       "2                    0.983750  \n",
       "3                    0.984444  \n",
       "4                    0.984000  \n",
       "...                       ...  \n",
       "8923                      NaN  \n",
       "8924                      NaN  \n",
       "8925                      NaN  \n",
       "8926                      NaN  \n",
       "8927                      NaN  \n",
       "\n",
       "[8928 rows x 7 columns]"
      ]
     },
     "execution_count": 35,
     "metadata": {},
     "output_type": "execute_result"
    }
   ],
   "source": [
    "ruta = 'C:\\\\Users\\\\USUARIO\\\\OneDrive\\\\Universidad\\\\Proyecto de Grado\\\\Repositorio\\\\Proyecto-Electronica\\\\DATOS SOLAR\\\\'\n",
    "ruta2='C:\\\\Users\\Diego Acosta\\\\Documents\\\\GitHub\\\\Proyecto-Electronica\\\\DATOS SOLAR\\\\'\n",
    "mes = input('Ingrese el mes: ')\n",
    "año = input('Ingrese el año: ')\n",
    "try:\n",
    "    datos = pd.read_csv(ruta + mes + ' ' + año + '.csv')\n",
    "except:\n",
    "    datos = pd.read_csv(ruta2 + mes + ' ' + año + '.csv')\n",
    "datos"
   ]
  },
  {
   "cell_type": "markdown",
   "metadata": {},
   "source": [
    "### Funciones para el pre procesamiento: "
   ]
  },
  {
   "cell_type": "code",
   "execution_count": 36,
   "metadata": {},
   "outputs": [],
   "source": [
    "#Esta función reemplaza los datos ue tengan un valor de 'x' por un 0\n",
    "\n",
    "def reemplazo(datos):\n",
    "    datos.replace({'Potencia [kW]':'x'},0,inplace = True)\n",
    "    datos.dropna(inplace = True)\n",
    "    return datos\n",
    "\n",
    "#Esta función toma los valores donde se observa que el sol está activo\n",
    "# el intervalo de horas tomado es en un día de 6:00 am a 6:00pm. Además,\n",
    "#en esta función se cambian algunos valores de temperatura ambiente \n",
    "#considerados fuera de lo normal para la ciudad de Bogotá\n",
    "\n",
    "def intervalosolar(datos):\n",
    "    list1 = datos['Hora'][0:72].tolist()\n",
    "    list2 = datos['Hora'][217:288].tolist()\n",
    "    \n",
    "    list = list1+list2\n",
    "    \n",
    "    for i in range(len(list)):\n",
    "        datos = datos[datos['Hora']!= list[i]]\n",
    "    try:\n",
    "        for i in datos['Temperatura ambiente [C]']:   \n",
    "            if i<23.5:\n",
    "                m=i\n",
    "            if i >23.5:\n",
    "                datos.replace({'Temperatura ambiente [C]':i},m,inplace=True)\n",
    "    except:\n",
    "        for i in datos['Temperatura Ambiente [C]']:   \n",
    "            if i<23.5:\n",
    "                m=i\n",
    "            if i >23.5:\n",
    "                datos.replace({'Temperatura Ambiente [C]':i},m,inplace=True)\n",
    "    return datos\n",
    "\n",
    "\n",
    "\n",
    "#En esta función se guarda el dataframe pre procesado en formato .csv\n",
    "#en una carpeta nueva llamada '/Pre- procesados'\n",
    "rutanueva = 'C:\\\\Users\\\\USUARIO\\\\OneDrive\\\\Universidad\\\\Proyecto de Grado\\\\Repositorio\\\\Proyecto-Electronica\\\\DATOS SOLAR'\n",
    "def guardarcsv(datos,nombre):\n",
    "    datos.to_csv(rutanueva+'\\\\Pre procesados\\\\'+ nombre)"
   ]
  },
  {
   "cell_type": "markdown",
   "metadata": {},
   "source": [
    "#### Se crea una lista donde se guardan las rutas de los archivos a leer:"
   ]
  },
  {
   "cell_type": "code",
   "execution_count": 49,
   "metadata": {},
   "outputs": [
    {
     "data": {
      "text/plain": [
       "['Abril 2020.csv',\n",
       " 'Agosto 2020.csv',\n",
       " 'Diciembre 2019.csv',\n",
       " 'Diciembre 2020.csv',\n",
       " 'Enero 2020.csv',\n",
       " 'Febrero 2020.csv',\n",
       " 'Julio 2020.csv',\n",
       " 'Junio 2020.csv',\n",
       " 'Marzo 2020.csv',\n",
       " 'Mayo 2020.csv',\n",
       " 'Noviembre 2019.csv',\n",
       " 'Noviembre 2020.csv',\n",
       " 'Octubre 2019.csv',\n",
       " 'Octubre 2020.csv',\n",
       " 'Septiembre 2020.csv']"
      ]
     },
     "execution_count": 49,
     "metadata": {},
     "output_type": "execute_result"
    }
   ],
   "source": [
    "archivos = glob.glob('C:\\\\Users\\\\USUARIO\\\\OneDrive\\\\Universidad\\\\Proyecto de Grado\\\\Repositorio\\\\Proyecto-Electronica\\\\DATOS SOLAR\\\\*.csv')\n",
    "if archivos==[]:\n",
    "    archivos = glob.glob('C:\\\\Users\\\\Diego Acosta\\\\Documents\\\\GitHub\\\\Proyecto-Electronica\\\\DATOS SOLAR\\\\*.csv')    \n",
    "\n",
    "nombres = [] #Vector con los nombres de los archivos\n",
    "\n",
    "for i in range(len(archivos)):\n",
    "    nombre = archivos[i].split('\\\\')\n",
    "    nombres.append(nombre[-1])\n",
    "nombres"
   ]
  },
  {
   "cell_type": "markdown",
   "metadata": {},
   "source": [
    "### Ejecución de funciones:"
   ]
  },
  {
   "cell_type": "markdown",
   "metadata": {},
   "source": [
    "#### Se lee cada uno de los archivos y se ejecutan las diferentes funciones definidas previamente:"
   ]
  },
  {
   "cell_type": "code",
   "execution_count": 38,
   "metadata": {},
   "outputs": [],
   "source": [
    "for i in range(len(archivos)):\n",
    "    #Se lee el archivo de la ruta\n",
    "    datos = pd.read_csv(archivos[i])\n",
    "    datos = reemplazo(datos)\n",
    "    datos = intervalosolar(datos)\n",
    "    guardarcsv(datos, nombres[i])\n"
   ]
  },
  {
   "cell_type": "markdown",
   "metadata": {},
   "source": [
    "#### Se muestra un ejemplo de cómo queda el dataframe final:"
   ]
  },
  {
   "cell_type": "code",
   "execution_count": 39,
   "metadata": {},
   "outputs": [
    {
     "data": {
      "text/html": [
       "<div>\n",
       "<style scoped>\n",
       "    .dataframe tbody tr th:only-of-type {\n",
       "        vertical-align: middle;\n",
       "    }\n",
       "\n",
       "    .dataframe tbody tr th {\n",
       "        vertical-align: top;\n",
       "    }\n",
       "\n",
       "    .dataframe thead th {\n",
       "        text-align: right;\n",
       "    }\n",
       "</style>\n",
       "<table border=\"1\" class=\"dataframe\">\n",
       "  <thead>\n",
       "    <tr style=\"text-align: right;\">\n",
       "      <th></th>\n",
       "      <th>Fecha</th>\n",
       "      <th>Hora</th>\n",
       "      <th>Potencia [kW]</th>\n",
       "      <th>Insolacion [W/m2]</th>\n",
       "      <th>Temperatura de modulos [C]</th>\n",
       "      <th>Temperatura ambiente [C]</th>\n",
       "      <th>Insolacion media [W/m2]</th>\n",
       "    </tr>\n",
       "  </thead>\n",
       "  <tbody>\n",
       "    <tr>\n",
       "      <th>0</th>\n",
       "      <td>1/06/2020</td>\n",
       "      <td>0:00</td>\n",
       "      <td>x</td>\n",
       "      <td>0.99</td>\n",
       "      <td>12.66</td>\n",
       "      <td>12.291292</td>\n",
       "      <td>0.983333</td>\n",
       "    </tr>\n",
       "    <tr>\n",
       "      <th>1</th>\n",
       "      <td>1/06/2020</td>\n",
       "      <td>0:05</td>\n",
       "      <td>x</td>\n",
       "      <td>0.99</td>\n",
       "      <td>12.38</td>\n",
       "      <td>12.291543</td>\n",
       "      <td>0.982857</td>\n",
       "    </tr>\n",
       "    <tr>\n",
       "      <th>2</th>\n",
       "      <td>1/06/2020</td>\n",
       "      <td>0:10</td>\n",
       "      <td>x</td>\n",
       "      <td>0.98</td>\n",
       "      <td>12.19</td>\n",
       "      <td>12.311697</td>\n",
       "      <td>0.983750</td>\n",
       "    </tr>\n",
       "    <tr>\n",
       "      <th>3</th>\n",
       "      <td>1/06/2020</td>\n",
       "      <td>0:15</td>\n",
       "      <td>x</td>\n",
       "      <td>0.98</td>\n",
       "      <td>12.14</td>\n",
       "      <td>12.312928</td>\n",
       "      <td>0.984444</td>\n",
       "    </tr>\n",
       "    <tr>\n",
       "      <th>4</th>\n",
       "      <td>1/06/2020</td>\n",
       "      <td>0:20</td>\n",
       "      <td>x</td>\n",
       "      <td>0.98</td>\n",
       "      <td>12.26</td>\n",
       "      <td>12.283940</td>\n",
       "      <td>0.984000</td>\n",
       "    </tr>\n",
       "    <tr>\n",
       "      <th>...</th>\n",
       "      <td>...</td>\n",
       "      <td>...</td>\n",
       "      <td>...</td>\n",
       "      <td>...</td>\n",
       "      <td>...</td>\n",
       "      <td>...</td>\n",
       "      <td>...</td>\n",
       "    </tr>\n",
       "    <tr>\n",
       "      <th>8923</th>\n",
       "      <td>NaN</td>\n",
       "      <td>NaN</td>\n",
       "      <td>NaN</td>\n",
       "      <td>NaN</td>\n",
       "      <td>NaN</td>\n",
       "      <td>NaN</td>\n",
       "      <td>NaN</td>\n",
       "    </tr>\n",
       "    <tr>\n",
       "      <th>8924</th>\n",
       "      <td>NaN</td>\n",
       "      <td>NaN</td>\n",
       "      <td>NaN</td>\n",
       "      <td>NaN</td>\n",
       "      <td>NaN</td>\n",
       "      <td>NaN</td>\n",
       "      <td>NaN</td>\n",
       "    </tr>\n",
       "    <tr>\n",
       "      <th>8925</th>\n",
       "      <td>NaN</td>\n",
       "      <td>NaN</td>\n",
       "      <td>NaN</td>\n",
       "      <td>NaN</td>\n",
       "      <td>NaN</td>\n",
       "      <td>NaN</td>\n",
       "      <td>NaN</td>\n",
       "    </tr>\n",
       "    <tr>\n",
       "      <th>8926</th>\n",
       "      <td>NaN</td>\n",
       "      <td>NaN</td>\n",
       "      <td>NaN</td>\n",
       "      <td>NaN</td>\n",
       "      <td>NaN</td>\n",
       "      <td>NaN</td>\n",
       "      <td>NaN</td>\n",
       "    </tr>\n",
       "    <tr>\n",
       "      <th>8927</th>\n",
       "      <td>NaN</td>\n",
       "      <td>NaN</td>\n",
       "      <td>NaN</td>\n",
       "      <td>NaN</td>\n",
       "      <td>NaN</td>\n",
       "      <td>NaN</td>\n",
       "      <td>NaN</td>\n",
       "    </tr>\n",
       "  </tbody>\n",
       "</table>\n",
       "<p>8928 rows × 7 columns</p>\n",
       "</div>"
      ],
      "text/plain": [
       "          Fecha  Hora Potencia [kW]  Insolacion [W/m2]  \\\n",
       "0     1/06/2020  0:00             x               0.99   \n",
       "1     1/06/2020  0:05             x               0.99   \n",
       "2     1/06/2020  0:10             x               0.98   \n",
       "3     1/06/2020  0:15             x               0.98   \n",
       "4     1/06/2020  0:20             x               0.98   \n",
       "...         ...   ...           ...                ...   \n",
       "8923        NaN   NaN           NaN                NaN   \n",
       "8924        NaN   NaN           NaN                NaN   \n",
       "8925        NaN   NaN           NaN                NaN   \n",
       "8926        NaN   NaN           NaN                NaN   \n",
       "8927        NaN   NaN           NaN                NaN   \n",
       "\n",
       "      Temperatura de modulos [C]  Temperatura ambiente [C]  \\\n",
       "0                          12.66                 12.291292   \n",
       "1                          12.38                 12.291543   \n",
       "2                          12.19                 12.311697   \n",
       "3                          12.14                 12.312928   \n",
       "4                          12.26                 12.283940   \n",
       "...                          ...                       ...   \n",
       "8923                         NaN                       NaN   \n",
       "8924                         NaN                       NaN   \n",
       "8925                         NaN                       NaN   \n",
       "8926                         NaN                       NaN   \n",
       "8927                         NaN                       NaN   \n",
       "\n",
       "      Insolacion media [W/m2]  \n",
       "0                    0.983333  \n",
       "1                    0.982857  \n",
       "2                    0.983750  \n",
       "3                    0.984444  \n",
       "4                    0.984000  \n",
       "...                       ...  \n",
       "8923                      NaN  \n",
       "8924                      NaN  \n",
       "8925                      NaN  \n",
       "8926                      NaN  \n",
       "8927                      NaN  \n",
       "\n",
       "[8928 rows x 7 columns]"
      ]
     },
     "execution_count": 39,
     "metadata": {},
     "output_type": "execute_result"
    }
   ],
   "source": [
    "datos"
   ]
  },
  {
   "cell_type": "markdown",
   "metadata": {},
   "source": [
    "## Análisis estadístico y de desempeño de la planta solar fotovoltaica "
   ]
  },
  {
   "cell_type": "markdown",
   "metadata": {},
   "source": [
    "En esta sección se realiza el análisis estadístico y de desempeño de los datos de potencia generada, irradiación solar y temperatura ambiente registrados de octubre de 2019 a diciembre de 2020 por la estación meteorológica de la planta solar fotovoltaica. "
   ]
  },
  {
   "cell_type": "code",
   "execution_count": 40,
   "metadata": {},
   "outputs": [],
   "source": [
    "# Recibe un dataframe de datos de la planta y la variable a analizar\n",
    "\n",
    "def soldiario(datos,variable = 'Insolacion [W/m2]'):\n",
    "    fechas = datos['Fecha'].unique()\n",
    "    solxdia = []\n",
    "    for i in range(len(fechas)):\n",
    "        solxdia.append(datos[datos['Fecha']==fechas[i]].sum()[variable]/12 )\n",
    "    df = {'Dia':fechas, variable:solxdia}\n",
    "    df = pd.DataFrame(df)\n",
    "    return df"
   ]
  },
  {
   "cell_type": "code",
   "execution_count": 41,
   "metadata": {},
   "outputs": [
    {
     "data": {
      "text/plain": [
       "['C:\\\\Users\\\\Diego Acosta\\\\Documents\\\\GitHub\\\\Proyecto-Electronica\\\\DATOS SOLAR\\\\Pre procesados\\\\Abril 2020.csv',\n",
       " 'C:\\\\Users\\\\Diego Acosta\\\\Documents\\\\GitHub\\\\Proyecto-Electronica\\\\DATOS SOLAR\\\\Pre procesados\\\\Agosto 2020.csv',\n",
       " 'C:\\\\Users\\\\Diego Acosta\\\\Documents\\\\GitHub\\\\Proyecto-Electronica\\\\DATOS SOLAR\\\\Pre procesados\\\\Diciembre 2019.csv',\n",
       " 'C:\\\\Users\\\\Diego Acosta\\\\Documents\\\\GitHub\\\\Proyecto-Electronica\\\\DATOS SOLAR\\\\Pre procesados\\\\Diciembre 2020.csv',\n",
       " 'C:\\\\Users\\\\Diego Acosta\\\\Documents\\\\GitHub\\\\Proyecto-Electronica\\\\DATOS SOLAR\\\\Pre procesados\\\\Enero 2020.csv',\n",
       " 'C:\\\\Users\\\\Diego Acosta\\\\Documents\\\\GitHub\\\\Proyecto-Electronica\\\\DATOS SOLAR\\\\Pre procesados\\\\Febrero 2020.csv',\n",
       " 'C:\\\\Users\\\\Diego Acosta\\\\Documents\\\\GitHub\\\\Proyecto-Electronica\\\\DATOS SOLAR\\\\Pre procesados\\\\Julio 2020.csv',\n",
       " 'C:\\\\Users\\\\Diego Acosta\\\\Documents\\\\GitHub\\\\Proyecto-Electronica\\\\DATOS SOLAR\\\\Pre procesados\\\\Junio 2020.csv',\n",
       " 'C:\\\\Users\\\\Diego Acosta\\\\Documents\\\\GitHub\\\\Proyecto-Electronica\\\\DATOS SOLAR\\\\Pre procesados\\\\Marzo 2020.csv',\n",
       " 'C:\\\\Users\\\\Diego Acosta\\\\Documents\\\\GitHub\\\\Proyecto-Electronica\\\\DATOS SOLAR\\\\Pre procesados\\\\Mayo 2020.csv',\n",
       " 'C:\\\\Users\\\\Diego Acosta\\\\Documents\\\\GitHub\\\\Proyecto-Electronica\\\\DATOS SOLAR\\\\Pre procesados\\\\Noviembre 2019.csv',\n",
       " 'C:\\\\Users\\\\Diego Acosta\\\\Documents\\\\GitHub\\\\Proyecto-Electronica\\\\DATOS SOLAR\\\\Pre procesados\\\\Noviembre 2020.csv',\n",
       " 'C:\\\\Users\\\\Diego Acosta\\\\Documents\\\\GitHub\\\\Proyecto-Electronica\\\\DATOS SOLAR\\\\Pre procesados\\\\Octubre 2019.csv',\n",
       " 'C:\\\\Users\\\\Diego Acosta\\\\Documents\\\\GitHub\\\\Proyecto-Electronica\\\\DATOS SOLAR\\\\Pre procesados\\\\Octubre 2020.csv',\n",
       " 'C:\\\\Users\\\\Diego Acosta\\\\Documents\\\\GitHub\\\\Proyecto-Electronica\\\\DATOS SOLAR\\\\Pre procesados\\\\Septiembre 2020.csv']"
      ]
     },
     "execution_count": 41,
     "metadata": {},
     "output_type": "execute_result"
    }
   ],
   "source": [
    "ruta = 'C:\\\\Users\\\\USUARIO\\\\OneDrive\\\\Universidad\\\\Proyecto de Grado\\\\Repositorio\\\\Proyecto-Electronica\\\\DATOS SOLAR\\\\Pre procesados\\\\'\n",
    "ruta2 = 'C:\\\\Users\\\\Diego Acosta\\\\Documents\\\\GitHub\\\\Proyecto-Electronica\\\\DATOS SOLAR\\\\Pre procesados\\\\'\n",
    "archivospre = glob.glob(ruta2 +'*.csv')\n",
    "if archivospre==[]:\n",
    "    archivospre = glob.glob(ruta +'*.csv')\n",
    "archivospre"
   ]
  },
  {
   "cell_type": "code",
   "execution_count": 44,
   "metadata": {
    "scrolled": true
   },
   "outputs": [
    {
     "data": {
      "text/plain": [
       "['Abril 2020.csv',\n",
       " 'Agosto 2020.csv',\n",
       " 'Diciembre 2019.csv',\n",
       " 'Diciembre 2020.csv',\n",
       " 'Enero 2020.csv',\n",
       " 'Febrero 2020.csv',\n",
       " 'Julio 2020.csv',\n",
       " 'Junio 2020.csv',\n",
       " 'Marzo 2020.csv',\n",
       " 'Mayo 2020.csv',\n",
       " 'Noviembre 2019.csv',\n",
       " 'Noviembre 2020.csv',\n",
       " 'Octubre 2019.csv',\n",
       " 'Octubre 2020.csv',\n",
       " 'Septiembre 2020.csv']"
      ]
     },
     "execution_count": 44,
     "metadata": {},
     "output_type": "execute_result"
    }
   ],
   "source": [
    "nombres2 = []\n",
    "for i in range(len(archivospre)):\n",
    "    nombre = archivospre[i].split('\\\\')\n",
    "    nombres2.append(nombre[-1])\n",
    "nombres2"
   ]
  },
  {
   "cell_type": "markdown",
   "metadata": {},
   "source": [
    "#### Se crea un dataframe llamado 'todo' que contiene los datos  por día de una variable específica de los dataframes pre procesados anteriormente"
   ]
  },
  {
   "cell_type": "code",
   "execution_count": 45,
   "metadata": {},
   "outputs": [],
   "source": [
    "i=0\n",
    "variable = 'Insolacion [W/m2]'\n",
    "#variable = 'Potencia [kW]'\n",
    "\n",
    "for nombre in nombres2:\n",
    "    df = pd.read_csv(nombre)\n",
    "    \n",
    "    try: \n",
    "        df = df.drop('Unnamed: 0',axis=1)\n",
    "    except:\n",
    "        pass\n",
    "    \n",
    "    df = df.dropna()\n",
    "    \n",
    "    name = nombre.split('.') \n",
    "    name = name[0].split(' ')\n",
    "    \n",
    "    globals()[name[0] + name[1]] = soldiario(df,variable)\n",
    "    \n",
    "    if i == 0:\n",
    "        todo = globals()[name[0] + name[1]] # DataFrame donde se guardan los diferentes valores de insolación por día.\n",
    "    else:\n",
    "        todo = pd.concat([todo , globals()[name[0] + name[1]]],axis = 0)\n",
    "    i+=1"
   ]
  },
  {
   "cell_type": "code",
   "execution_count": 46,
   "metadata": {
    "scrolled": true
   },
   "outputs": [
    {
     "name": "stdout",
     "output_type": "stream",
     "text": [
      "[1053.07333333 1442.5160119  1831.95869048 2221.40136905 2610.84404762\n",
      " 3000.28672619 3389.72940476 3779.17208333 4168.6147619  4558.05744048\n",
      " 4947.50011905 5336.94279762 5726.38547619 6115.82815476 6505.27083333]\n"
     ]
    }
   ],
   "source": [
    "inso_max = todo[variable].max()\n",
    "inso_min = todo[variable].min()\n",
    "\n",
    "intervalos = np.linspace(inso_min, inso_max, 15)\n",
    "print(intervalos)"
   ]
  },
  {
   "cell_type": "markdown",
   "metadata": {},
   "source": [
    "### Histogramas "
   ]
  },
  {
   "cell_type": "code",
   "execution_count": 67,
   "metadata": {
    "scrolled": true
   },
   "outputs": [
    {
     "data": {
      "image/png": "[encoded data removed]",
      "text/plain": [
       "<Figure size 432x288 with 1 Axes>"
      ]
     },
     "metadata": {
      "needs_background": "light"
     },
     "output_type": "display_data"
    }
   ],
   "source": [
    "plt.hist(todo['Insolacion [W/m2]'],15,color = 'yellow',ec = 'k') #Histograma de frecuencias de insolación diaria media\n",
    "plt.xlabel('Irradiación solar [W/m^2]')\n",
    "plt.ylabel('Cantidad de días')\n",
    "plt.title('Histograma de Irradiación Solar')\n",
    "plt.show()\n"
   ]
  },
  {
   "cell_type": "code",
   "execution_count": 69,
   "metadata": {},
   "outputs": [
    {
     "ename": "KeyError",
     "evalue": "'Potencia [kW]'",
     "output_type": "error",
     "traceback": [
      "\u001b[1;31m---------------------------------------------------------------------------\u001b[0m",
      "\u001b[1;31mKeyError\u001b[0m                                  Traceback (most recent call last)",
      "\u001b[1;32m~\\anaconda3\\lib\\site-packages\\pandas\\core\\indexes\\base.py\u001b[0m in \u001b[0;36mget_loc\u001b[1;34m(self, key, method, tolerance)\u001b[0m\n\u001b[0;32m   2645\u001b[0m             \u001b[1;32mtry\u001b[0m\u001b[1;33m:\u001b[0m\u001b[1;33m\u001b[0m\u001b[1;33m\u001b[0m\u001b[0m\n\u001b[1;32m-> 2646\u001b[1;33m                 \u001b[1;32mreturn\u001b[0m \u001b[0mself\u001b[0m\u001b[1;33m.\u001b[0m\u001b[0m_engine\u001b[0m\u001b[1;33m.\u001b[0m\u001b[0mget_loc\u001b[0m\u001b[1;33m(\u001b[0m\u001b[0mkey\u001b[0m\u001b[1;33m)\u001b[0m\u001b[1;33m\u001b[0m\u001b[1;33m\u001b[0m\u001b[0m\n\u001b[0m\u001b[0;32m   2647\u001b[0m             \u001b[1;32mexcept\u001b[0m \u001b[0mKeyError\u001b[0m\u001b[1;33m:\u001b[0m\u001b[1;33m\u001b[0m\u001b[1;33m\u001b[0m\u001b[0m\n",
      "\u001b[1;32mpandas\\_libs\\index.pyx\u001b[0m in \u001b[0;36mpandas._libs.index.IndexEngine.get_loc\u001b[1;34m()\u001b[0m\n",
      "\u001b[1;32mpandas\\_libs\\index.pyx\u001b[0m in \u001b[0;36mpandas._libs.index.IndexEngine.get_loc\u001b[1;34m()\u001b[0m\n",
      "\u001b[1;32mpandas\\_libs\\hashtable_class_helper.pxi\u001b[0m in \u001b[0;36mpandas._libs.hashtable.PyObjectHashTable.get_item\u001b[1;34m()\u001b[0m\n",
      "\u001b[1;32mpandas\\_libs\\hashtable_class_helper.pxi\u001b[0m in \u001b[0;36mpandas._libs.hashtable.PyObjectHashTable.get_item\u001b[1;34m()\u001b[0m\n",
      "\u001b[1;31mKeyError\u001b[0m: 'Potencia [kW]'",
      "\nDuring handling of the above exception, another exception occurred:\n",
      "\u001b[1;31mKeyError\u001b[0m                                  Traceback (most recent call last)",
      "\u001b[1;32m<ipython-input-69-dd43fa6ba271>\u001b[0m in \u001b[0;36m<module>\u001b[1;34m\u001b[0m\n\u001b[1;32m----> 1\u001b[1;33m \u001b[0mplt\u001b[0m\u001b[1;33m.\u001b[0m\u001b[0mhist\u001b[0m\u001b[1;33m(\u001b[0m\u001b[0mtodo\u001b[0m\u001b[1;33m[\u001b[0m\u001b[1;34m'Potencia [kW]'\u001b[0m\u001b[1;33m]\u001b[0m\u001b[1;33m,\u001b[0m\u001b[1;36m15\u001b[0m\u001b[1;33m,\u001b[0m\u001b[0mcolor\u001b[0m \u001b[1;33m=\u001b[0m \u001b[1;34m'yellow'\u001b[0m\u001b[1;33m,\u001b[0m\u001b[0mec\u001b[0m \u001b[1;33m=\u001b[0m \u001b[1;34m'k'\u001b[0m\u001b[1;33m)\u001b[0m\u001b[1;33m\u001b[0m\u001b[1;33m\u001b[0m\u001b[0m\n\u001b[0m\u001b[0;32m      2\u001b[0m \u001b[0mplt\u001b[0m\u001b[1;33m.\u001b[0m\u001b[0mxlabel\u001b[0m\u001b[1;33m(\u001b[0m\u001b[1;34m'Energía [kWh]'\u001b[0m\u001b[1;33m)\u001b[0m\u001b[1;33m\u001b[0m\u001b[1;33m\u001b[0m\u001b[0m\n\u001b[0;32m      3\u001b[0m \u001b[0mplt\u001b[0m\u001b[1;33m.\u001b[0m\u001b[0mylabel\u001b[0m\u001b[1;33m(\u001b[0m\u001b[1;34m'Cantidad de días'\u001b[0m\u001b[1;33m)\u001b[0m\u001b[1;33m\u001b[0m\u001b[1;33m\u001b[0m\u001b[0m\n\u001b[0;32m      4\u001b[0m \u001b[0mplt\u001b[0m\u001b[1;33m.\u001b[0m\u001b[0mtitle\u001b[0m\u001b[1;33m(\u001b[0m\u001b[1;34m'Histograma de Energía Generada'\u001b[0m\u001b[1;33m)\u001b[0m\u001b[1;33m\u001b[0m\u001b[1;33m\u001b[0m\u001b[0m\n\u001b[0;32m      5\u001b[0m \u001b[0mplt\u001b[0m\u001b[1;33m.\u001b[0m\u001b[0mshow\u001b[0m\u001b[1;33m(\u001b[0m\u001b[1;33m)\u001b[0m\u001b[1;33m\u001b[0m\u001b[1;33m\u001b[0m\u001b[0m\n",
      "\u001b[1;32m~\\anaconda3\\lib\\site-packages\\pandas\\core\\frame.py\u001b[0m in \u001b[0;36m__getitem__\u001b[1;34m(self, key)\u001b[0m\n\u001b[0;32m   2798\u001b[0m             \u001b[1;32mif\u001b[0m \u001b[0mself\u001b[0m\u001b[1;33m.\u001b[0m\u001b[0mcolumns\u001b[0m\u001b[1;33m.\u001b[0m\u001b[0mnlevels\u001b[0m \u001b[1;33m>\u001b[0m \u001b[1;36m1\u001b[0m\u001b[1;33m:\u001b[0m\u001b[1;33m\u001b[0m\u001b[1;33m\u001b[0m\u001b[0m\n\u001b[0;32m   2799\u001b[0m                 \u001b[1;32mreturn\u001b[0m \u001b[0mself\u001b[0m\u001b[1;33m.\u001b[0m\u001b[0m_getitem_multilevel\u001b[0m\u001b[1;33m(\u001b[0m\u001b[0mkey\u001b[0m\u001b[1;33m)\u001b[0m\u001b[1;33m\u001b[0m\u001b[1;33m\u001b[0m\u001b[0m\n\u001b[1;32m-> 2800\u001b[1;33m             \u001b[0mindexer\u001b[0m \u001b[1;33m=\u001b[0m \u001b[0mself\u001b[0m\u001b[1;33m.\u001b[0m\u001b[0mcolumns\u001b[0m\u001b[1;33m.\u001b[0m\u001b[0mget_loc\u001b[0m\u001b[1;33m(\u001b[0m\u001b[0mkey\u001b[0m\u001b[1;33m)\u001b[0m\u001b[1;33m\u001b[0m\u001b[1;33m\u001b[0m\u001b[0m\n\u001b[0m\u001b[0;32m   2801\u001b[0m             \u001b[1;32mif\u001b[0m \u001b[0mis_integer\u001b[0m\u001b[1;33m(\u001b[0m\u001b[0mindexer\u001b[0m\u001b[1;33m)\u001b[0m\u001b[1;33m:\u001b[0m\u001b[1;33m\u001b[0m\u001b[1;33m\u001b[0m\u001b[0m\n\u001b[0;32m   2802\u001b[0m                 \u001b[0mindexer\u001b[0m \u001b[1;33m=\u001b[0m \u001b[1;33m[\u001b[0m\u001b[0mindexer\u001b[0m\u001b[1;33m]\u001b[0m\u001b[1;33m\u001b[0m\u001b[1;33m\u001b[0m\u001b[0m\n",
      "\u001b[1;32m~\\anaconda3\\lib\\site-packages\\pandas\\core\\indexes\\base.py\u001b[0m in \u001b[0;36mget_loc\u001b[1;34m(self, key, method, tolerance)\u001b[0m\n\u001b[0;32m   2646\u001b[0m                 \u001b[1;32mreturn\u001b[0m \u001b[0mself\u001b[0m\u001b[1;33m.\u001b[0m\u001b[0m_engine\u001b[0m\u001b[1;33m.\u001b[0m\u001b[0mget_loc\u001b[0m\u001b[1;33m(\u001b[0m\u001b[0mkey\u001b[0m\u001b[1;33m)\u001b[0m\u001b[1;33m\u001b[0m\u001b[1;33m\u001b[0m\u001b[0m\n\u001b[0;32m   2647\u001b[0m             \u001b[1;32mexcept\u001b[0m \u001b[0mKeyError\u001b[0m\u001b[1;33m:\u001b[0m\u001b[1;33m\u001b[0m\u001b[1;33m\u001b[0m\u001b[0m\n\u001b[1;32m-> 2648\u001b[1;33m                 \u001b[1;32mreturn\u001b[0m \u001b[0mself\u001b[0m\u001b[1;33m.\u001b[0m\u001b[0m_engine\u001b[0m\u001b[1;33m.\u001b[0m\u001b[0mget_loc\u001b[0m\u001b[1;33m(\u001b[0m\u001b[0mself\u001b[0m\u001b[1;33m.\u001b[0m\u001b[0m_maybe_cast_indexer\u001b[0m\u001b[1;33m(\u001b[0m\u001b[0mkey\u001b[0m\u001b[1;33m)\u001b[0m\u001b[1;33m)\u001b[0m\u001b[1;33m\u001b[0m\u001b[1;33m\u001b[0m\u001b[0m\n\u001b[0m\u001b[0;32m   2649\u001b[0m         \u001b[0mindexer\u001b[0m \u001b[1;33m=\u001b[0m \u001b[0mself\u001b[0m\u001b[1;33m.\u001b[0m\u001b[0mget_indexer\u001b[0m\u001b[1;33m(\u001b[0m\u001b[1;33m[\u001b[0m\u001b[0mkey\u001b[0m\u001b[1;33m]\u001b[0m\u001b[1;33m,\u001b[0m \u001b[0mmethod\u001b[0m\u001b[1;33m=\u001b[0m\u001b[0mmethod\u001b[0m\u001b[1;33m,\u001b[0m \u001b[0mtolerance\u001b[0m\u001b[1;33m=\u001b[0m\u001b[0mtolerance\u001b[0m\u001b[1;33m)\u001b[0m\u001b[1;33m\u001b[0m\u001b[1;33m\u001b[0m\u001b[0m\n\u001b[0;32m   2650\u001b[0m         \u001b[1;32mif\u001b[0m \u001b[0mindexer\u001b[0m\u001b[1;33m.\u001b[0m\u001b[0mndim\u001b[0m \u001b[1;33m>\u001b[0m \u001b[1;36m1\u001b[0m \u001b[1;32mor\u001b[0m \u001b[0mindexer\u001b[0m\u001b[1;33m.\u001b[0m\u001b[0msize\u001b[0m \u001b[1;33m>\u001b[0m \u001b[1;36m1\u001b[0m\u001b[1;33m:\u001b[0m\u001b[1;33m\u001b[0m\u001b[1;33m\u001b[0m\u001b[0m\n",
      "\u001b[1;32mpandas\\_libs\\index.pyx\u001b[0m in \u001b[0;36mpandas._libs.index.IndexEngine.get_loc\u001b[1;34m()\u001b[0m\n",
      "\u001b[1;32mpandas\\_libs\\index.pyx\u001b[0m in \u001b[0;36mpandas._libs.index.IndexEngine.get_loc\u001b[1;34m()\u001b[0m\n",
      "\u001b[1;32mpandas\\_libs\\hashtable_class_helper.pxi\u001b[0m in \u001b[0;36mpandas._libs.hashtable.PyObjectHashTable.get_item\u001b[1;34m()\u001b[0m\n",
      "\u001b[1;32mpandas\\_libs\\hashtable_class_helper.pxi\u001b[0m in \u001b[0;36mpandas._libs.hashtable.PyObjectHashTable.get_item\u001b[1;34m()\u001b[0m\n",
      "\u001b[1;31mKeyError\u001b[0m: 'Potencia [kW]'"
     ]
    }
   ],
   "source": [
    "plt.hist(todo['Potencia [kW]'],15,color = 'yellow',ec = 'k') \n",
    "plt.xlabel('Energía [kWh]')\n",
    "plt.ylabel('Cantidad de días')\n",
    "plt.title('Histograma de Energía Generada')\n",
    "plt.show()"
   ]
  },
  {
   "cell_type": "code",
   "execution_count": null,
   "metadata": {},
   "outputs": [],
   "source": []
  },
  {
   "cell_type": "code",
   "execution_count": null,
   "metadata": {},
   "outputs": [],
   "source": []
  }
 ],
 "metadata": {
  "kernelspec": {
   "display_name": "Python 3",
   "language": "python",
   "name": "python3"
  },
  "language_info": {
   "codemirror_mode": {
    "name": "ipython",
    "version": 3
   },
   "file_extension": ".py",
   "mimetype": "text/x-python",
   "name": "python",
   "nbconvert_exporter": "python",
   "pygments_lexer": "ipython3",
   "version": "3.7.6"
  }
 },
 "nbformat": 4,
 "nbformat_minor": 4
}
