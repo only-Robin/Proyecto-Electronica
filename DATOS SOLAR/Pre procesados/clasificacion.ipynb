{
 "cells": [
  {
   "cell_type": "code",
   "execution_count": 1,
   "metadata": {},
   "outputs": [],
   "source": [
    "import pandas as pd\n",
    "import matplotlib\n",
    "import matplotlib.pyplot as plt\n",
    "import numpy as np\n",
    "import scipy.stats as stats\n",
    "import glob"
   ]
  },
  {
   "cell_type": "markdown",
   "metadata": {},
   "source": [
    "## Creación del dataframe con todos los datos por hora"
   ]
  },
  {
   "cell_type": "code",
   "execution_count": 2,
   "metadata": {},
   "outputs": [],
   "source": [
    "#Función para generar un dataframe con los datos de Energia en kWh \n",
    "#y de irradiación en Wh/m2 por cada hora del día\n",
    "\n",
    "def nuevoFrame(mesActual):\n",
    "    i = 0\n",
    "    j = 0\n",
    "    energia = []\n",
    "    irradiacion = []\n",
    "    fechas = []\n",
    "    horas = []\n",
    "    temperatura = []\n",
    "    try:\n",
    "        while i<len(mesActual):\n",
    "            fechas.append(mesActual['Fecha'][i])\n",
    "            horas.append(mesActual['Hora'][i])\n",
    "            energia.append(mesActual['Potencia [kW]'][i:i+12].sum()/12)\n",
    "            irradiacion.append(mesActual['Insolacion [W/m2]'][i:i+12].sum()/12)\n",
    "            temperatura.append(mesActual['Temperatura de modulos [C]'][i:i+12].sum()/12)\n",
    "            i+=12\n",
    "        datos = pd.DataFrame({'Fecha':fechas,'Hora':horas,'Energia [kWh]':energia,'Irradiacion [Wh/m2]':irradiacion,'Temperatura de modulos [C]':temperatura})\n",
    "        return datos\n",
    "    except:\n",
    "        pass"
   ]
  },
  {
   "cell_type": "code",
   "execution_count": 3,
   "metadata": {},
   "outputs": [
    {
     "data": {
      "text/plain": [
       "15"
      ]
     },
     "execution_count": 3,
     "metadata": {},
     "output_type": "execute_result"
    }
   ],
   "source": [
    "# Se leen los diferentes archivos csv que existen en la carpeta actual\n",
    "archivos = ['Octubre 2019.csv','Noviembre 2019.csv', 'Diciembre 2019.csv', 'Enero 2020.csv', 'Febrero 2020.csv',\n",
    "            'Marzo 2020.csv','Abril 2020.csv', 'Mayo 2020.csv','Junio 2020.csv', 'Julio 2020.csv', 'Agosto 2020.csv',\n",
    "             'Septiembre 2020.csv','Octubre 2020.csv','Noviembre 2020.csv', 'Diciembre 2020.csv']\n",
    "len(archivos)"
   ]
  },
  {
   "cell_type": "markdown",
   "metadata": {},
   "source": [
    "### Nuevo dataframe:"
   ]
  },
  {
   "cell_type": "code",
   "execution_count": 4,
   "metadata": {},
   "outputs": [],
   "source": [
    "# Se leen los diferentes archivos y se ejecuta sobre cada uno la función 'nuevoFrame'\n",
    "# Luego se concatenan cada uno de estos dataFrames en uno solo\n",
    "inicio = 0\n",
    "\n",
    "for name in archivos:\n",
    "    try:\n",
    "        mesActual = pd.read_csv(name)      #Lectura\n",
    "        mesActual = nuevoFrame(mesActual)  #Ejecución\n",
    "    except:\n",
    "        pass\n",
    "    if inicio == 0:\n",
    "        todoporHora = mesActual\n",
    "    else:\n",
    "        todoporHora = pd.concat([todoporHora,mesActual])\n",
    "    inicio+=1\n",
    "todoporHora.set_index(np.array(range(len(todoporHora))),inplace = True)"
   ]
  },
  {
   "cell_type": "code",
   "execution_count": 5,
   "metadata": {},
   "outputs": [
    {
     "data": {
      "text/plain": [
       "15"
      ]
     },
     "execution_count": 5,
     "metadata": {},
     "output_type": "execute_result"
    }
   ],
   "source": [
    "inicio"
   ]
  },
  {
   "cell_type": "code",
   "execution_count": 6,
   "metadata": {},
   "outputs": [
    {
     "data": {
      "text/html": [
       "<div>\n",
       "<style scoped>\n",
       "    .dataframe tbody tr th:only-of-type {\n",
       "        vertical-align: middle;\n",
       "    }\n",
       "\n",
       "    .dataframe tbody tr th {\n",
       "        vertical-align: top;\n",
       "    }\n",
       "\n",
       "    .dataframe thead th {\n",
       "        text-align: right;\n",
       "    }\n",
       "</style>\n",
       "<table border=\"1\" class=\"dataframe\">\n",
       "  <thead>\n",
       "    <tr style=\"text-align: right;\">\n",
       "      <th></th>\n",
       "      <th>Fecha</th>\n",
       "      <th>Hora</th>\n",
       "      <th>Energia [kWh]</th>\n",
       "      <th>Irradiacion [Wh/m2]</th>\n",
       "      <th>Temperatura de modulos [C]</th>\n",
       "    </tr>\n",
       "  </thead>\n",
       "  <tbody>\n",
       "    <tr>\n",
       "      <th>0</th>\n",
       "      <td>1/10/2019</td>\n",
       "      <td>6:00</td>\n",
       "      <td>2.334167</td>\n",
       "      <td>34.787500</td>\n",
       "      <td>12.970833</td>\n",
       "    </tr>\n",
       "    <tr>\n",
       "      <th>1</th>\n",
       "      <td>1/10/2019</td>\n",
       "      <td>7:00</td>\n",
       "      <td>15.220000</td>\n",
       "      <td>242.950833</td>\n",
       "      <td>23.139167</td>\n",
       "    </tr>\n",
       "    <tr>\n",
       "      <th>2</th>\n",
       "      <td>1/10/2019</td>\n",
       "      <td>8:00</td>\n",
       "      <td>34.786667</td>\n",
       "      <td>522.285000</td>\n",
       "      <td>35.152500</td>\n",
       "    </tr>\n",
       "    <tr>\n",
       "      <th>3</th>\n",
       "      <td>1/10/2019</td>\n",
       "      <td>9:00</td>\n",
       "      <td>36.830000</td>\n",
       "      <td>503.754167</td>\n",
       "      <td>31.743333</td>\n",
       "    </tr>\n",
       "    <tr>\n",
       "      <th>4</th>\n",
       "      <td>1/10/2019</td>\n",
       "      <td>10:00</td>\n",
       "      <td>30.043333</td>\n",
       "      <td>377.405833</td>\n",
       "      <td>28.122500</td>\n",
       "    </tr>\n",
       "    <tr>\n",
       "      <th>...</th>\n",
       "      <td>...</td>\n",
       "      <td>...</td>\n",
       "      <td>...</td>\n",
       "      <td>...</td>\n",
       "      <td>...</td>\n",
       "    </tr>\n",
       "    <tr>\n",
       "      <th>5491</th>\n",
       "      <td>31/12/2020</td>\n",
       "      <td>13:00</td>\n",
       "      <td>3.046667</td>\n",
       "      <td>75.204167</td>\n",
       "      <td>18.377500</td>\n",
       "    </tr>\n",
       "    <tr>\n",
       "      <th>5492</th>\n",
       "      <td>31/12/2020</td>\n",
       "      <td>14:00</td>\n",
       "      <td>0.524167</td>\n",
       "      <td>19.589167</td>\n",
       "      <td>14.272500</td>\n",
       "    </tr>\n",
       "    <tr>\n",
       "      <th>5493</th>\n",
       "      <td>31/12/2020</td>\n",
       "      <td>15:00</td>\n",
       "      <td>0.206667</td>\n",
       "      <td>11.668333</td>\n",
       "      <td>13.439167</td>\n",
       "    </tr>\n",
       "    <tr>\n",
       "      <th>5494</th>\n",
       "      <td>31/12/2020</td>\n",
       "      <td>16:00</td>\n",
       "      <td>0.219167</td>\n",
       "      <td>12.330833</td>\n",
       "      <td>14.020000</td>\n",
       "    </tr>\n",
       "    <tr>\n",
       "      <th>5495</th>\n",
       "      <td>31/12/2020</td>\n",
       "      <td>17:00</td>\n",
       "      <td>0.275833</td>\n",
       "      <td>12.071667</td>\n",
       "      <td>13.061667</td>\n",
       "    </tr>\n",
       "  </tbody>\n",
       "</table>\n",
       "<p>5496 rows × 5 columns</p>\n",
       "</div>"
      ],
      "text/plain": [
       "           Fecha   Hora  Energia [kWh]  Irradiacion [Wh/m2]  \\\n",
       "0      1/10/2019   6:00       2.334167            34.787500   \n",
       "1      1/10/2019   7:00      15.220000           242.950833   \n",
       "2      1/10/2019   8:00      34.786667           522.285000   \n",
       "3      1/10/2019   9:00      36.830000           503.754167   \n",
       "4      1/10/2019  10:00      30.043333           377.405833   \n",
       "...          ...    ...            ...                  ...   \n",
       "5491  31/12/2020  13:00       3.046667            75.204167   \n",
       "5492  31/12/2020  14:00       0.524167            19.589167   \n",
       "5493  31/12/2020  15:00       0.206667            11.668333   \n",
       "5494  31/12/2020  16:00       0.219167            12.330833   \n",
       "5495  31/12/2020  17:00       0.275833            12.071667   \n",
       "\n",
       "      Temperatura de modulos [C]  \n",
       "0                      12.970833  \n",
       "1                      23.139167  \n",
       "2                      35.152500  \n",
       "3                      31.743333  \n",
       "4                      28.122500  \n",
       "...                          ...  \n",
       "5491                   18.377500  \n",
       "5492                   14.272500  \n",
       "5493                   13.439167  \n",
       "5494                   14.020000  \n",
       "5495                   13.061667  \n",
       "\n",
       "[5496 rows x 5 columns]"
      ]
     },
     "execution_count": 6,
     "metadata": {},
     "output_type": "execute_result"
    }
   ],
   "source": [
    "todoporHora"
   ]
  },
  {
   "cell_type": "code",
   "execution_count": 7,
   "metadata": {},
   "outputs": [
    {
     "ename": "NameError",
     "evalue": "name 'dataFrame' is not defined",
     "output_type": "error",
     "traceback": [
      "\u001b[1;31m---------------------------------------------------------------------------\u001b[0m",
      "\u001b[1;31mNameError\u001b[0m                                 Traceback (most recent call last)",
      "\u001b[1;32m<ipython-input-7-e2130f5d31ef>\u001b[0m in \u001b[0;36m<module>\u001b[1;34m\u001b[0m\n\u001b[1;32m----> 1\u001b[1;33m \u001b[0mdataFrame\u001b[0m\u001b[1;33m[\u001b[0m\u001b[1;34m'Energia [kWh]'\u001b[0m\u001b[1;33m]\u001b[0m\u001b[1;33m.\u001b[0m\u001b[0mplot\u001b[0m\u001b[1;33m(\u001b[0m\u001b[1;33m)\u001b[0m\u001b[1;33m\u001b[0m\u001b[1;33m\u001b[0m\u001b[0m\n\u001b[0m\u001b[0;32m      2\u001b[0m \u001b[0mplt\u001b[0m\u001b[1;33m.\u001b[0m\u001b[0mshow\u001b[0m\u001b[1;33m(\u001b[0m\u001b[1;33m)\u001b[0m\u001b[1;33m\u001b[0m\u001b[1;33m\u001b[0m\u001b[0m\n\u001b[0;32m      3\u001b[0m \u001b[0mdataFrame\u001b[0m\u001b[1;33m[\u001b[0m\u001b[1;34m'Irradiacion [Wh/m2]'\u001b[0m\u001b[1;33m]\u001b[0m\u001b[1;33m.\u001b[0m\u001b[0mplot\u001b[0m\u001b[1;33m(\u001b[0m\u001b[1;33m)\u001b[0m\u001b[1;33m\u001b[0m\u001b[1;33m\u001b[0m\u001b[0m\n",
      "\u001b[1;31mNameError\u001b[0m: name 'dataFrame' is not defined"
     ]
    }
   ],
   "source": [
    "dataFrame['Energia [kWh]'].plot()\n",
    "plt.show()\n",
    "dataFrame['Irradiacion [Wh/m2]'].plot()"
   ]
  },
  {
   "cell_type": "code",
   "execution_count": null,
   "metadata": {},
   "outputs": [],
   "source": [
    "horas = dataFrame['Hora'].unique()\n",
    "horas"
   ]
  },
  {
   "cell_type": "code",
   "execution_count": null,
   "metadata": {},
   "outputs": [],
   "source": [
    "irr_prom = []\n",
    "ene_prom = []\n",
    "\n",
    "irr_std = []\n",
    "ene_std = []\n",
    "\n",
    "for h in horas:\n",
    "    df = dataFrame[dataFrame['Hora']==h]\n",
    "    \n",
    "    energy = df['Energia [kWh]'].mean()\n",
    "    irradiance  =df['Irradiacion [Wh/m2]'].mean()\n",
    "    \n",
    "    energy_std = df['Energia [kWh]'].std()\n",
    "    irradiance_std  =df['Irradiacion [Wh/m2]'].std()\n",
    "    \n",
    "    ene_prom.append(energy)\n",
    "    irr_prom.append(irradiance)\n",
    "    \n",
    "    ene_std.append(energy_std)\n",
    "    irr_std.append(irradiance_std)\n"
   ]
  },
  {
   "cell_type": "code",
   "execution_count": null,
   "metadata": {},
   "outputs": [],
   "source": [
    "porHora = pd.DataFrame({'Hora':horas,'Energia Prom [kWh]':ene_prom,'Irradiacion Prom [Wh/m2]':irr_prom,\n",
    "                        'Energia desv [kWh]': ene_std,'Irradiacion desv [Wh/m2]':irr_std})\n",
    "porHora.to_csv('Estadisticas por hora.csv')"
   ]
  },
  {
   "cell_type": "code",
   "execution_count": null,
   "metadata": {},
   "outputs": [],
   "source": [
    "todoporHora = pd.read_csv('Todo por hora.csv')\n",
    "todoporHora.drop('Unnamed: 0',axis = 1,inplace = True)\n",
    "todoporHora = todoporHora[todoporHora.Hora != '6:00']\n",
    "todoporHora = todoporHora[todoporHora.Hora != '17:00']\n",
    "todoporHora.to_excel('Parafiltrar.xlsx', sheet_name='Parafiltrar')"
   ]
  },
  {
   "cell_type": "code",
   "execution_count": null,
   "metadata": {},
   "outputs": [],
   "source": [
    "hora = input('Hora: \\nEntre 6:00 y 17:00\\n')\n",
    "plt.scatter(range(len(dataFrame[dataFrame['Hora']==hora])),dataFrame[dataFrame['Hora']==hora]['Irradiacion [Wh/m2]'])"
   ]
  },
  {
   "cell_type": "code",
   "execution_count": null,
   "metadata": {
    "scrolled": true
   },
   "outputs": [],
   "source": [
    "promedios = pd.read_csv('Estadisticas por hora.csv')\n",
    "promedios.drop('Unnamed: 0',axis = 1,inplace = True)\n",
    "promedios"
   ]
  },
  {
   "cell_type": "markdown",
   "metadata": {},
   "source": [
    "## Filtrado "
   ]
  },
  {
   "cell_type": "code",
   "execution_count": null,
   "metadata": {},
   "outputs": [],
   "source": [
    "filtro1 = []\n",
    "filtro2 = []\n",
    "horas = promedios['Hora']\n",
    "\n",
    "for i in range(len(promedios)):\n",
    "    sup = promedios['Irradiacion Prom [Wh/m2]'][i] + promedios['Irradiacion desv [Wh/m2]'][i]\n",
    "    inf = promedios['Irradiacion Prom [Wh/m2]'][i] - promedios['Irradiacion desv [Wh/m2]'][i]\n",
    "    \n",
    "    filtro1.append(sup)\n",
    "    filtro2.append(inf)\n",
    "filtro = pd.DataFrame({'Hora':horas,'Superior':filtro1,'Inferior':filtro2})\n",
    "filtro.set_index('Hora', inplace = True)\n",
    "filtro"
   ]
  },
  {
   "cell_type": "code",
   "execution_count": null,
   "metadata": {},
   "outputs": [],
   "source": [
    "todoporHora[20:25]"
   ]
  },
  {
   "cell_type": "code",
   "execution_count": null,
   "metadata": {},
   "outputs": [],
   "source": [
    "rango1 = []\n",
    "rango2 = []\n",
    "horas = promedios['Hora']\n",
    "for i in range(len(promedios)):\n",
    "    lim1 = promedios['Irradiacion Prom [Wh/m2]'][i] - promedios['Irradiacion desv [Wh/m2]'][i]/2\n",
    "    lim2 = promedios['Irradiacion Prom [Wh/m2]'][i] + promedios['Irradiacion desv [Wh/m2]'][i]/2\n",
    "    \n",
    "    rango1.append(lim1)\n",
    "    rango2.append(lim2)\n",
    "rangos = pd.DataFrame({'Hora':horas,'Limite Inf':rango1,'Limite Sup':rango2})\n",
    "rangos.set_index('Hora',inplace = True)\n",
    "rangos"
   ]
  },
  {
   "cell_type": "code",
   "execution_count": null,
   "metadata": {},
   "outputs": [],
   "source": [
    "m = len(todoporHora)\n",
    "\n",
    "horas = todoporHora['Hora'].unique()\n",
    "fechas = todoporHora.Fecha\n",
    "\n",
    "for h in horas:\n",
    "    inf = filtro['Inferior'][h]\n",
    "    sup = filtro['Superior'][h]\n",
    "    for i in range(len(todoporHora)):\n",
    "        irr_actual =todoporHora['Irradiacion [Wh/m2]'][i]\n",
    "        \n",
    "        if todoporHora['Hora'][i] == h:\n",
    "            if  irr_actual < inf:\n",
    "                todoporHora.drop([i],inplace = True)\n",
    "                \n",
    "            elif irr_actual > sup:\n",
    "                todoporHora.drop([i], inplace = True)\n",
    "                \n",
    "todoporHora.set_index(np.array(range(len(todoporHora))))"
   ]
  },
  {
   "cell_type": "markdown",
   "metadata": {},
   "source": [
    "# Clasificación"
   ]
  },
  {
   "cell_type": "code",
   "execution_count": null,
   "metadata": {},
   "outputs": [],
   "source": [
    "todoporHora = pd.read_csv('Para filtrar.csv')"
   ]
  },
  {
   "cell_type": "code",
   "execution_count": null,
   "metadata": {},
   "outputs": [],
   "source": [
    "m = len(todoporHora)\n",
    "\n",
    "soleados = [0]*m\n",
    "lluviosos = [0]*m\n",
    "nubados = [0]*m\n",
    "\n",
    "horas = todoporHora['Hora'].unique()\n",
    "fechas = todoporHora.Fecha\n",
    "\n",
    "for h in horas:\n",
    "    inf = rangos['Limite Inf'][h]\n",
    "    sup = rangos['Limite Sup'][h]\n",
    "    for i in range(len(todoporHora)):\n",
    "        irr_actual =todoporHora['Irradiacion [Wh/m2]'][i]\n",
    "        \n",
    "        if todoporHora['Hora'][i] == h:\n",
    "            if  irr_actual < inf:\n",
    "                lluviosos[i] = 1\n",
    "                \n",
    "            elif inf < irr_actual < sup:\n",
    "                nubados[i] = 1\n",
    "            \n",
    "            else:\n",
    "                soleados[i] = 1\n",
    "\n",
    "clima = pd.DataFrame({'Fecha':fechas,'Hora':todoporHora['Hora'],'Lluvioso':lluviosos, 'Nublado':nubados,'Soleado':soleados})"
   ]
  },
  {
   "cell_type": "code",
   "execution_count": null,
   "metadata": {},
   "outputs": [],
   "source": [
    "clima"
   ]
  },
  {
   "cell_type": "code",
   "execution_count": null,
   "metadata": {
    "scrolled": true
   },
   "outputs": [],
   "source": [
    "counts = [sum(nubados)/5496, sum(lluviosos)/5496,sum(soleados)/5496]\n",
    "estado = ['Nublado','Lluvioso','Soleado']\n",
    "\n",
    "colores = [\"#EE6055\",\"#60D394\",\"#AAF683\"]\n",
    "\n",
    "plt.figure(figsize=(10,6))\n",
    "plt.pie(counts,labels = estado,autopct=\"%0.1f %%\",colors = colores)\n",
    "plt.title('Porcentaje de horas lluviosas, soleadas y nubladas')\n",
    "plt.axis('equal')\n",
    "\n",
    "# Muestra de 5496 datos"
   ]
  },
  {
   "cell_type": "code",
   "execution_count": null,
   "metadata": {},
   "outputs": [],
   "source": [
    "horas = clima.Hora.unique()\n",
    "n = len(horas)\n",
    "lluvia = [0]*n\n",
    "sol = [0]*n\n",
    "nube = [0]*n\n",
    "for i in range(len(horas)):\n",
    "    lluvia[i] = clima[clima['Hora']==horas[i]]['Lluvioso'].sum()\n",
    "    sol[i] = clima[clima['Hora']==horas[i]]['Soleado'].sum()\n",
    "    nube[i] = clima[clima['Hora']==horas[i]]['Nublado'].sum()\n",
    "    \n",
    "climaHora = pd.DataFrame({'Hora':horas,'Lluvioso':lluvia,'Soleado':sol,'Nublado':nube})\n",
    "climaHora.set_index('Hora',inplace = True)"
   ]
  },
  {
   "cell_type": "code",
   "execution_count": null,
   "metadata": {
    "scrolled": true
   },
   "outputs": [],
   "source": [
    "colores = [\"#DE6055\",\"#60D394\",\"#AAF683\"]\n",
    "climaHora.plot.bar(figsize = (12,8),grid = True,color = colores)\n",
    "plt.title('Frecuencia de tipo de clima por hora')\n",
    "plt.ylabel('Frecuencia')"
   ]
  },
  {
   "cell_type": "markdown",
   "metadata": {},
   "source": [
    "# DataFrames Finales"
   ]
  },
  {
   "cell_type": "code",
   "execution_count": null,
   "metadata": {},
   "outputs": [],
   "source": [
    "#Función para generar un dataframe con los datos de Energia en kWh \n",
    "#y de irradiación en Wh/m2 por cada uno de los datos \n",
    "\n",
    "def nuevoFrame(mesActual):\n",
    "    i = 0\n",
    "    j = 0\n",
    "    energia = []\n",
    "    irradiacion = []\n",
    "    fechas = []\n",
    "    horas = []\n",
    "    try:\n",
    "        while i<len(mesActual):\n",
    "            fechas.append(mesActual['Fecha'][i])\n",
    "            horas.append(mesActual['Hora'][i])\n",
    "            energia.append(mesActual['Potencia [kW]'][i:i+12].sum()/12)\n",
    "            irradiacion.append(mesActual['Insolacion [W/m2]'][i:i+12].sum()/12)\n",
    "            i+=12\n",
    "        datos = pd.DataFrame({'Fecha':fechas,'Hora':horas,'Energia [kWh]':energia,'Irradiacion [Wh/m2]':irradiacion})\n",
    "        return datos\n",
    "    except:\n",
    "        pass"
   ]
  },
  {
   "cell_type": "code",
   "execution_count": null,
   "metadata": {},
   "outputs": [],
   "source": [
    "#Función para generar un dataframe con los datos de Energia en kWh \n",
    "#y de irradiación en Wh/m2 por cada hora del día\n",
    "\n",
    "def nuevoFrame2(mesActual):\n",
    "    try:\n",
    "        fechas = mesActual['Fecha']\n",
    "        horas = mesActual['Hora']\n",
    "        energia = mesActual['Potencia [kW]']\n",
    "        irradiacion = mesActual['Insolacion [W/m2]']\n",
    "        temperatura = mesActual['Temperatura de modulos [C]']\n",
    "        datos = pd.DataFrame({'Fecha':fechas,'Hora':horas,'Potencia [kW]':energia,'Irradiacion [W/m2]':irradiacion,\n",
    "                              'Temperatura de modulos[C]':temperatura})\n",
    "        return datos\n",
    "    except:\n",
    "        pass"
   ]
  },
  {
   "cell_type": "code",
   "execution_count": null,
   "metadata": {},
   "outputs": [],
   "source": [
    "archivos = ['Octubre 2019.csv','Noviembre 2019.csv', 'Diciembre 2019.csv', 'Enero 2020.csv', 'Febrero 2020.csv',\n",
    "            'Marzo 2020.csv','Abril 2020.csv', 'Mayo 2020.csv','Junio 2020.csv', 'Julio 2020.csv', 'Agosto 2020.csv',\n",
    "             'Septiembre 2020.csv','Octubre 2020.csv','Noviembre 2020.csv', 'Diciembre 2020.csv']\n",
    "len(archivos)"
   ]
  },
  {
   "cell_type": "code",
   "execution_count": null,
   "metadata": {},
   "outputs": [],
   "source": [
    "start = 0\n",
    "for arch in archivos:\n",
    "    try:\n",
    "        df = pd.read_csv(arch)\n",
    "        df = nuevoFrame2(df)\n",
    "    except:\n",
    "        pass\n",
    "    if start == 0:\n",
    "        dataFinal= df\n",
    "    else:\n",
    "        dataFinal= pd.concat([dataFinal,df])\n",
    "    start+=1\n",
    "dataFinal.to_csv('DataFinalBeta.csv')"
   ]
  },
  {
   "cell_type": "code",
   "execution_count": null,
   "metadata": {},
   "outputs": [],
   "source": [
    "dataFinal = pd.read_csv('DataFinalBeta.csv')\n",
    "dataFinal.drop('Unnamed: 0',axis = 1 ,inplace = True)\n",
    "dataFinal"
   ]
  },
  {
   "cell_type": "code",
   "execution_count": null,
   "metadata": {},
   "outputs": [],
   "source": [
    "n = len(clima)\n",
    "soleado = []\n",
    "nublado  = []\n",
    "lluvioso = []\n",
    "\n",
    "for i in range(n):\n",
    "    soleado+=[clima['Soleado'][i]]*12\n",
    "    lluvioso+=[clima['Lluvioso'][i]]*12\n",
    "    nublado+=[clima['Nublado'][i]]*12\n",
    "\n",
    "dataFinal['Lluvioso'] = lluvioso\n",
    "dataFinal['Nublado'] = nublado\n",
    "dataFinal['Soleado'] = soleado"
   ]
  },
  {
   "cell_type": "code",
   "execution_count": null,
   "metadata": {
    "scrolled": true
   },
   "outputs": [],
   "source": [
    "todoporHora['Lluvioso'] = clima.Lluvioso\n",
    "todoporHora['Nublado'] = clima.Nublado\n",
    "todoporHora['Soleado'] = clima.Soleado\n",
    "todoporHora1 = todoporHora\n",
    "todoporHora.set_index(np.array(range(len(todoporHora))),inplace = True)\n",
    "todoporHora.to_csv('Para filtrar.csv')"
   ]
  },
  {
   "cell_type": "markdown",
   "metadata": {},
   "source": [
    "### Días típicos"
   ]
  },
  {
   "cell_type": "code",
   "execution_count": null,
   "metadata": {},
   "outputs": [],
   "source": [
    "datos = pd.read_csv('DataFinalBeta.csv').drop('Unnamed: 0',axis = 1)\n",
    "datos.to_csv('DataFinalBeta.csv')"
   ]
  },
  {
   "cell_type": "code",
   "execution_count": null,
   "metadata": {},
   "outputs": [],
   "source": [
    "datos"
   ]
  },
  {
   "cell_type": "code",
   "execution_count": null,
   "metadata": {},
   "outputs": [],
   "source": [
    "# Reemplazo de los valores de potencia iguales a 0.00\n",
    "horas = ['6:00',\n",
    " '6:05',\n",
    " '6:10',\n",
    " '6:15',\n",
    " '6:20',\n",
    " '6:25',\n",
    " '6:30',\n",
    " '6:35',\n",
    " '6:40',\n",
    " '6:45',\n",
    " '6:50',\n",
    " '6:55',\n",
    " '17:00',\n",
    " '17:05',\n",
    " '17:10',\n",
    " '17:15',\n",
    " '17:20',\n",
    " '17:25',\n",
    " '17:30',\n",
    " '17:35',\n",
    " '17:40',\n",
    " '17:45',\n",
    " '17:50',\n",
    " '17:55']\n",
    "\n",
    "for h in horas:\n",
    "        datos = datos[datos.Hora!=h]\n",
    "datos.set_index(np.array(range(len(datos))),inplace = True)"
   ]
  },
  {
   "cell_type": "code",
   "execution_count": null,
   "metadata": {},
   "outputs": [],
   "source": [
    "datos.to_csv('DatosFinales.csv')"
   ]
  },
  {
   "cell_type": "code",
   "execution_count": null,
   "metadata": {},
   "outputs": [],
   "source": [
    "datos = pd.read_csv('DatosFinales.csv').drop('Unnamed: 0',axis = 1)\n",
    "datos"
   ]
  },
  {
   "cell_type": "code",
   "execution_count": null,
   "metadata": {},
   "outputs": [],
   "source": [
    "datos_lluviosos = datos[datos.Lluvioso ==1]\n",
    "datos_nublados = datos[datos.Nublado ==1]\n",
    "datos_soleados = datos[datos.Soleado ==1]"
   ]
  },
  {
   "cell_type": "code",
   "execution_count": null,
   "metadata": {},
   "outputs": [],
   "source": [
    "horas = datos.Hora.unique()\n",
    "prom_lluvioso = [0]*len(horas)\n",
    "prom_nublado = [0]*len(horas)\n",
    "prom_soleado = [0]*len(horas)\n",
    "\n",
    "for i in range(len(horas)):\n",
    "    h_actual = horas[i]\n",
    "    prom_lluvioso[i] = datos_lluviosos[datos_lluviosos.Hora == h_actual]['Potencia [kW]'].mean()\n",
    "    prom_nublado[i] = datos_nublados[datos_nublados.Hora == h_actual]['Potencia [kW]'].mean()\n",
    "    prom_soleado[i] = datos_soleados[datos_soleados.Hora == h_actual]['Potencia [kW]'].mean()"
   ]
  },
  {
   "cell_type": "code",
   "execution_count": null,
   "metadata": {},
   "outputs": [],
   "source": [
    "dias_tipicos = pd.DataFrame({'Hora':horas,'Lluviosos': prom_lluvioso,'Nublados': prom_nublado, 'Soleados': prom_soleado})\n",
    "dias_tipicos.set_index('Hora', inplace = True)"
   ]
  },
  {
   "cell_type": "code",
   "execution_count": null,
   "metadata": {},
   "outputs": [],
   "source": [
    "dias_tipicos.plot(figsize = (10,8))\n",
    "plt.ylabel('Potencia [kW]')\n",
    "plt.title('Curvas de generación de la planta en días típicos Lluviosos, Nublados y Soleados')"
   ]
  },
  {
   "cell_type": "markdown",
   "metadata": {},
   "source": [
    "### Histogramas de horas lluviosas, nubladas, soleadas"
   ]
  },
  {
   "cell_type": "code",
   "execution_count": null,
   "metadata": {},
   "outputs": [],
   "source": [
    "lluv_por_hora = todoporHora[todoporHora.Lluvioso == 1]\n",
    "sol_por_hora = todoporHora[todoporHora.Soleado ==1]\n",
    "nub_por_hora = todoporHora[todoporHora.Nublado ==1]"
   ]
  },
  {
   "cell_type": "code",
   "execution_count": null,
   "metadata": {},
   "outputs": [],
   "source": [
    "horas = todoporHora.Hora.unique()\n",
    "print(horas)\n",
    "h = input('Ingrese una hora válida:')\n",
    "clima = input('Ingrese estado climático: [Lluvioso, Nublado, Soleado]')\n",
    "print('\\nHistograma',clima,'a la hora',h)\n",
    "if clima =='Lluvioso':\n",
    "    h_actual = lluv_por_hora[lluv_por_hora.Hora == h ]['Energia [kWh]']\n",
    "    plt.hist(h_actual,bins=20,ec ='k')\n",
    "    \n",
    "elif clima == 'Nublado':\n",
    "    h_actual = nub_por_hora[nub_por_hora.Hora == h ]['Energia [kWh]']\n",
    "    plt.hist(h_actual,bins=20,ec ='k')\n",
    "\n",
    "elif clima =='Soleado':\n",
    "    h_actual = sol_por_hora[sol_por_hora.Hora == h ]['Energia [kWh]']\n",
    "    plt.hist(h_actual,bins=20,ec ='k')         "
   ]
  },
  {
   "cell_type": "code",
   "execution_count": null,
   "metadata": {},
   "outputs": [],
   "source": [
    "las12 = todoporHora[todoporHora.Hora=='12:00']\n",
    "plt.scatter(las12['Irradiacion [Wh/m2]'],las12['Energia [kWh]'])\n",
    "las12"
   ]
  },
  {
   "cell_type": "code",
   "execution_count": null,
   "metadata": {},
   "outputs": [],
   "source": [
    "h = input('Ingrese una hora válida:')\n",
    "h_actual = nub_por_hora[nub_por_hora.Hora == h ]\n",
    "plt.scatter(h_actual['Irradiacion [Wh/m2]'],h_actual['Energia [kWh]'])"
   ]
  },
  {
   "cell_type": "code",
   "execution_count": null,
   "metadata": {},
   "outputs": [],
   "source": [
    "plt.figure(figsize = (20,15))\n",
    "plt.scatter(lluv_por_hora['Irradiacion [Wh/m2]'],lluv_por_hora['Energia [kWh]'])\n",
    "plt.scatter(sol_por_hora['Irradiacion [Wh/m2]'],sol_por_hora['Energia [kWh]'])\n",
    "plt.scatter(nub_por_hora['Irradiacion [Wh/m2]'],nub_por_hora['Energia [kWh]'])\n",
    "plt.legend(('Lluvioso','Soleado','Nublado'))"
   ]
  },
  {
   "cell_type": "code",
   "execution_count": null,
   "metadata": {},
   "outputs": [],
   "source": []
  }
 ],
 "metadata": {
  "kernelspec": {
   "display_name": "Python 3",
   "language": "python",
   "name": "python3"
  },
  "language_info": {
   "codemirror_mode": {
    "name": "ipython",
    "version": 3
   },
   "file_extension": ".py",
   "mimetype": "text/x-python",
   "name": "python",
   "nbconvert_exporter": "python",
   "pygments_lexer": "ipython3",
   "version": "3.7.6"
  }
 },
 "nbformat": 4,
 "nbformat_minor": 4
}
