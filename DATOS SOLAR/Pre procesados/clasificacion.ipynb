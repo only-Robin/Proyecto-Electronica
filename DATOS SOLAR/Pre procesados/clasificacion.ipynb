{
 "cells": [
  {
   "cell_type": "code",
   "execution_count": 1,
   "metadata": {},
   "outputs": [],
   "source": [
    "import pandas as pd\n",
    "import matplotlib\n",
    "import matplotlib.pyplot as plt\n",
    "import numpy as np\n",
    "import scipy.stats as stats\n",
    "import glob"
   ]
  },
  {
   "cell_type": "markdown",
   "metadata": {},
   "source": [
    "## Creación del dataframe con todos los datos por hora"
   ]
  },
  {
   "cell_type": "code",
   "execution_count": 116,
   "metadata": {},
   "outputs": [],
   "source": [
    "#Función para generar un dataframe con los datos de Energia en kWh \n",
    "#y de irradiación en Wh/m2 por cada hora del día\n",
    "\n",
    "def nuevoFrame(mesActual):\n",
    "    i = 0\n",
    "    j = 0\n",
    "    energia = []\n",
    "    irradiacion = []\n",
    "    fechas = []\n",
    "    horas = []\n",
    "    temperatura = []\n",
    "    try:\n",
    "        while i<len(mesActual):\n",
    "            fechas.append(mesActual['Fecha'][i])\n",
    "            horas.append(mesActual['Hora'][i])\n",
    "            energia.append(mesActual['Potencia [kW]'][i:i+12].sum()/12)\n",
    "            irradiacion.append(mesActual['Insolacion [W/m2]'][i:i+12].sum()/12)\n",
    "            temperatura.append(mesActual['Temperatura de modulos [C]'][i:i+12].sum()/12)\n",
    "            i+=12\n",
    "        datos = pd.DataFrame({'Fecha':fechas,'Hora':horas,'Energia [kWh]':energia,'Irradiacion [Wh/m2]':irradiacion,'Temperatura de modulos [C]':temperatura})\n",
    "        return datos\n",
    "    except:\n",
    "        pass"
   ]
  },
  {
   "cell_type": "code",
   "execution_count": 73,
   "metadata": {},
   "outputs": [
    {
     "data": {
      "text/plain": [
       "15"
      ]
     },
     "execution_count": 73,
     "metadata": {},
     "output_type": "execute_result"
    }
   ],
   "source": [
    "# Se leen los diferentes archivos csv que existen en la carpeta actual\n",
    "archivos = ['Octubre 2019.csv','Noviembre 2019.csv', 'Diciembre 2019.csv', 'Enero 2020.csv', 'Febrero 2020.csv',\n",
    "            'Marzo 2020.csv','Abril 2020.csv', 'Mayo 2020.csv','Junio 2020.csv', 'Julio 2020.csv', 'Agosto 2020.csv',\n",
    "             'Septiembre 2020.csv','Octubre 2020.csv','Noviembre 2020.csv', 'Diciembre 2020.csv']\n",
    "len(archivos)"
   ]
  },
  {
   "cell_type": "markdown",
   "metadata": {},
   "source": [
    "### Nuevo dataframe:"
   ]
  },
  {
   "cell_type": "code",
   "execution_count": 117,
   "metadata": {},
   "outputs": [],
   "source": [
    "# Se leen los diferentes archivos y se ejecuta sobre cada uno la función 'nuevoFrame'\n",
    "# Luego se concatenan cada uno de estos dataFrames en uno solo\n",
    "inicio = 0\n",
    "\n",
    "for name in archivos:\n",
    "    try:\n",
    "        mesActual = pd.read_csv(name)      #Lectura\n",
    "        mesActual = nuevoFrame(mesActual)  #Ejecución\n",
    "    except:\n",
    "        pass\n",
    "    if inicio == 0:\n",
    "        todoporHora = mesActual\n",
    "    else:\n",
    "        todoporHora = pd.concat([todoporHora,mesActual])\n",
    "    inicio+=1\n",
    "todoporHora.set_index(np.array(range(len(todoporHora))),inplace = True)"
   ]
  },
  {
   "cell_type": "code",
   "execution_count": 75,
   "metadata": {},
   "outputs": [
    {
     "data": {
      "text/plain": [
       "15"
      ]
     },
     "execution_count": 75,
     "metadata": {},
     "output_type": "execute_result"
    }
   ],
   "source": [
    "inicio"
   ]
  },
  {
   "cell_type": "code",
   "execution_count": 118,
   "metadata": {},
   "outputs": [
    {
     "data": {
      "text/html": [
       "<div>\n",
       "<style scoped>\n",
       "    .dataframe tbody tr th:only-of-type {\n",
       "        vertical-align: middle;\n",
       "    }\n",
       "\n",
       "    .dataframe tbody tr th {\n",
       "        vertical-align: top;\n",
       "    }\n",
       "\n",
       "    .dataframe thead th {\n",
       "        text-align: right;\n",
       "    }\n",
       "</style>\n",
       "<table border=\"1\" class=\"dataframe\">\n",
       "  <thead>\n",
       "    <tr style=\"text-align: right;\">\n",
       "      <th></th>\n",
       "      <th>Fecha</th>\n",
       "      <th>Hora</th>\n",
       "      <th>Energia [kWh]</th>\n",
       "      <th>Irradiacion [Wh/m2]</th>\n",
       "      <th>Temperatura de modulos [C]</th>\n",
       "    </tr>\n",
       "  </thead>\n",
       "  <tbody>\n",
       "    <tr>\n",
       "      <th>0</th>\n",
       "      <td>1/10/2019</td>\n",
       "      <td>6:00</td>\n",
       "      <td>2.334167</td>\n",
       "      <td>34.787500</td>\n",
       "      <td>12.970833</td>\n",
       "    </tr>\n",
       "    <tr>\n",
       "      <th>1</th>\n",
       "      <td>1/10/2019</td>\n",
       "      <td>7:00</td>\n",
       "      <td>15.220000</td>\n",
       "      <td>242.950833</td>\n",
       "      <td>23.139167</td>\n",
       "    </tr>\n",
       "    <tr>\n",
       "      <th>2</th>\n",
       "      <td>1/10/2019</td>\n",
       "      <td>8:00</td>\n",
       "      <td>34.786667</td>\n",
       "      <td>522.285000</td>\n",
       "      <td>35.152500</td>\n",
       "    </tr>\n",
       "    <tr>\n",
       "      <th>3</th>\n",
       "      <td>1/10/2019</td>\n",
       "      <td>9:00</td>\n",
       "      <td>36.830000</td>\n",
       "      <td>503.754167</td>\n",
       "      <td>31.743333</td>\n",
       "    </tr>\n",
       "    <tr>\n",
       "      <th>4</th>\n",
       "      <td>1/10/2019</td>\n",
       "      <td>10:00</td>\n",
       "      <td>30.043333</td>\n",
       "      <td>377.405833</td>\n",
       "      <td>28.122500</td>\n",
       "    </tr>\n",
       "    <tr>\n",
       "      <th>...</th>\n",
       "      <td>...</td>\n",
       "      <td>...</td>\n",
       "      <td>...</td>\n",
       "      <td>...</td>\n",
       "      <td>...</td>\n",
       "    </tr>\n",
       "    <tr>\n",
       "      <th>5491</th>\n",
       "      <td>31/12/2020</td>\n",
       "      <td>13:00</td>\n",
       "      <td>3.046667</td>\n",
       "      <td>75.204167</td>\n",
       "      <td>18.377500</td>\n",
       "    </tr>\n",
       "    <tr>\n",
       "      <th>5492</th>\n",
       "      <td>31/12/2020</td>\n",
       "      <td>14:00</td>\n",
       "      <td>0.524167</td>\n",
       "      <td>19.589167</td>\n",
       "      <td>14.272500</td>\n",
       "    </tr>\n",
       "    <tr>\n",
       "      <th>5493</th>\n",
       "      <td>31/12/2020</td>\n",
       "      <td>15:00</td>\n",
       "      <td>0.206667</td>\n",
       "      <td>11.668333</td>\n",
       "      <td>13.439167</td>\n",
       "    </tr>\n",
       "    <tr>\n",
       "      <th>5494</th>\n",
       "      <td>31/12/2020</td>\n",
       "      <td>16:00</td>\n",
       "      <td>0.219167</td>\n",
       "      <td>12.330833</td>\n",
       "      <td>14.020000</td>\n",
       "    </tr>\n",
       "    <tr>\n",
       "      <th>5495</th>\n",
       "      <td>31/12/2020</td>\n",
       "      <td>17:00</td>\n",
       "      <td>0.275833</td>\n",
       "      <td>12.071667</td>\n",
       "      <td>13.061667</td>\n",
       "    </tr>\n",
       "  </tbody>\n",
       "</table>\n",
       "<p>5496 rows × 5 columns</p>\n",
       "</div>"
      ],
      "text/plain": [
       "           Fecha   Hora  Energia [kWh]  Irradiacion [Wh/m2]  \\\n",
       "0      1/10/2019   6:00       2.334167            34.787500   \n",
       "1      1/10/2019   7:00      15.220000           242.950833   \n",
       "2      1/10/2019   8:00      34.786667           522.285000   \n",
       "3      1/10/2019   9:00      36.830000           503.754167   \n",
       "4      1/10/2019  10:00      30.043333           377.405833   \n",
       "...          ...    ...            ...                  ...   \n",
       "5491  31/12/2020  13:00       3.046667            75.204167   \n",
       "5492  31/12/2020  14:00       0.524167            19.589167   \n",
       "5493  31/12/2020  15:00       0.206667            11.668333   \n",
       "5494  31/12/2020  16:00       0.219167            12.330833   \n",
       "5495  31/12/2020  17:00       0.275833            12.071667   \n",
       "\n",
       "      Temperatura de modulos [C]  \n",
       "0                      12.970833  \n",
       "1                      23.139167  \n",
       "2                      35.152500  \n",
       "3                      31.743333  \n",
       "4                      28.122500  \n",
       "...                          ...  \n",
       "5491                   18.377500  \n",
       "5492                   14.272500  \n",
       "5493                   13.439167  \n",
       "5494                   14.020000  \n",
       "5495                   13.061667  \n",
       "\n",
       "[5496 rows x 5 columns]"
      ]
     },
     "execution_count": 118,
     "metadata": {},
     "output_type": "execute_result"
    }
   ],
   "source": [
    "todoporHora"
   ]
  },
  {
   "cell_type": "code",
   "execution_count": 77,
   "metadata": {},
   "outputs": [
    {
     "data": {
      "image/png": "[encoded data removed]",
      "text/plain": [
       "<Figure size 432x288 with 1 Axes>"
      ]
     },
     "metadata": {
      "needs_background": "light"
     },
     "output_type": "display_data"
    },
    {
     "data": {
      "text/plain": [
       "<matplotlib.axes._subplots.AxesSubplot at 0x274dc525588>"
      ]
     },
     "execution_count": 77,
     "metadata": {},
     "output_type": "execute_result"
    },
    {
     "data": {
      "image/png": "[encoded data removed]",
      "text/plain": [
       "<Figure size 432x288 with 1 Axes>"
      ]
     },
     "metadata": {
      "needs_background": "light"
     },
     "output_type": "display_data"
    }
   ],
   "source": [
    "dataFrame['Energia [kWh]'].plot()\n",
    "plt.show()\n",
    "dataFrame['Irradiacion [Wh/m2]'].plot()"
   ]
  },
  {
   "cell_type": "code",
   "execution_count": 78,
   "metadata": {},
   "outputs": [
    {
     "data": {
      "text/plain": [
       "array(['6:00', '7:00', '8:00', '9:00', '10:00', '11:00', '12:00', '13:00',\n",
       "       '14:00', '15:00', '16:00', '17:00'], dtype=object)"
      ]
     },
     "execution_count": 78,
     "metadata": {},
     "output_type": "execute_result"
    }
   ],
   "source": [
    "horas = dataFrame['Hora'].unique()\n",
    "horas"
   ]
  },
  {
   "cell_type": "code",
   "execution_count": 9,
   "metadata": {},
   "outputs": [],
   "source": [
    "irr_prom = []\n",
    "ene_prom = []\n",
    "\n",
    "irr_std = []\n",
    "ene_std = []\n",
    "\n",
    "for h in horas:\n",
    "    df = dataFrame[dataFrame['Hora']==h]\n",
    "    \n",
    "    energy = df['Energia [kWh]'].mean()\n",
    "    irradiance  =df['Irradiacion [Wh/m2]'].mean()\n",
    "    \n",
    "    energy_std = df['Energia [kWh]'].std()\n",
    "    irradiance_std  =df['Irradiacion [Wh/m2]'].std()\n",
    "    \n",
    "    ene_prom.append(energy)\n",
    "    irr_prom.append(irradiance)\n",
    "    \n",
    "    ene_std.append(energy_std)\n",
    "    irr_std.append(irradiance_std)\n"
   ]
  },
  {
   "cell_type": "code",
   "execution_count": 10,
   "metadata": {},
   "outputs": [],
   "source": [
    "porHora = pd.DataFrame({'Hora':horas,'Energia Prom [kWh]':ene_prom,'Irradiacion Prom [Wh/m2]':irr_prom,\n",
    "                        'Energia desv [kWh]': ene_std,'Irradiacion desv [Wh/m2]':irr_std})\n",
    "porHora.to_csv('Estadisticas por hora.csv')"
   ]
  },
  {
   "cell_type": "code",
   "execution_count": 123,
   "metadata": {},
   "outputs": [],
   "source": [
    "todoporHora = pd.read_csv('Todo por hora.csv')\n",
    "todoporHora.drop('Unnamed: 0',axis = 1,inplace = True)\n",
    "todoporHora = todoporHora[todoporHora.Hora != '6:00']\n",
    "todoporHora = todoporHora[todoporHora.Hora != '17:00']\n",
    "todoporHora.to_excel('Parafiltrar.xlsx', sheet_name='Parafiltrar')"
   ]
  },
  {
   "cell_type": "code",
   "execution_count": 12,
   "metadata": {},
   "outputs": [
    {
     "name": "stdout",
     "output_type": "stream",
     "text": [
      "Hora: \n",
      "Entre 6:00 y 17:00\n",
      "6:00\n"
     ]
    },
    {
     "data": {
      "text/plain": [
       "<matplotlib.collections.PathCollection at 0x274d7eb1ac8>"
      ]
     },
     "execution_count": 12,
     "metadata": {},
     "output_type": "execute_result"
    },
    {
     "data": {
      "image/png": "[encoded data removed]",
      "text/plain": [
       "<Figure size 432x288 with 1 Axes>"
      ]
     },
     "metadata": {
      "needs_background": "light"
     },
     "output_type": "display_data"
    }
   ],
   "source": [
    "hora = input('Hora: \\nEntre 6:00 y 17:00\\n')\n",
    "plt.scatter(range(len(dataFrame[dataFrame['Hora']==hora])),dataFrame[dataFrame['Hora']==hora]['Irradiacion [Wh/m2]'])"
   ]
  },
  {
   "cell_type": "code",
   "execution_count": 13,
   "metadata": {
    "scrolled": true
   },
   "outputs": [
    {
     "data": {
      "text/html": [
       "<div>\n",
       "<style scoped>\n",
       "    .dataframe tbody tr th:only-of-type {\n",
       "        vertical-align: middle;\n",
       "    }\n",
       "\n",
       "    .dataframe tbody tr th {\n",
       "        vertical-align: top;\n",
       "    }\n",
       "\n",
       "    .dataframe thead th {\n",
       "        text-align: right;\n",
       "    }\n",
       "</style>\n",
       "<table border=\"1\" class=\"dataframe\">\n",
       "  <thead>\n",
       "    <tr style=\"text-align: right;\">\n",
       "      <th></th>\n",
       "      <th>Hora</th>\n",
       "      <th>Energia Prom [kWh]</th>\n",
       "      <th>Irradiacion Prom [Wh/m2]</th>\n",
       "      <th>Energia desv [kWh]</th>\n",
       "      <th>Irradiacion desv [Wh/m2]</th>\n",
       "    </tr>\n",
       "  </thead>\n",
       "  <tbody>\n",
       "    <tr>\n",
       "      <th>0</th>\n",
       "      <td>6:00</td>\n",
       "      <td>1.669605</td>\n",
       "      <td>36.732636</td>\n",
       "      <td>1.132852</td>\n",
       "      <td>22.037113</td>\n",
       "    </tr>\n",
       "    <tr>\n",
       "      <th>1</th>\n",
       "      <td>7:00</td>\n",
       "      <td>9.283936</td>\n",
       "      <td>189.370182</td>\n",
       "      <td>4.759372</td>\n",
       "      <td>109.302048</td>\n",
       "    </tr>\n",
       "    <tr>\n",
       "      <th>2</th>\n",
       "      <td>8:00</td>\n",
       "      <td>19.101243</td>\n",
       "      <td>354.244176</td>\n",
       "      <td>9.229886</td>\n",
       "      <td>176.658672</td>\n",
       "    </tr>\n",
       "    <tr>\n",
       "      <th>3</th>\n",
       "      <td>9:00</td>\n",
       "      <td>25.971177</td>\n",
       "      <td>463.021567</td>\n",
       "      <td>11.903278</td>\n",
       "      <td>215.963951</td>\n",
       "    </tr>\n",
       "    <tr>\n",
       "      <th>4</th>\n",
       "      <td>10:00</td>\n",
       "      <td>30.415977</td>\n",
       "      <td>530.439156</td>\n",
       "      <td>14.084939</td>\n",
       "      <td>247.390029</td>\n",
       "    </tr>\n",
       "    <tr>\n",
       "      <th>5</th>\n",
       "      <td>11:00</td>\n",
       "      <td>31.178832</td>\n",
       "      <td>535.630262</td>\n",
       "      <td>15.108984</td>\n",
       "      <td>263.046497</td>\n",
       "    </tr>\n",
       "    <tr>\n",
       "      <th>6</th>\n",
       "      <td>12:00</td>\n",
       "      <td>28.835844</td>\n",
       "      <td>480.730073</td>\n",
       "      <td>15.478485</td>\n",
       "      <td>259.766559</td>\n",
       "    </tr>\n",
       "    <tr>\n",
       "      <th>7</th>\n",
       "      <td>13:00</td>\n",
       "      <td>24.735045</td>\n",
       "      <td>350.265122</td>\n",
       "      <td>14.606989</td>\n",
       "      <td>195.562491</td>\n",
       "    </tr>\n",
       "    <tr>\n",
       "      <th>8</th>\n",
       "      <td>14:00</td>\n",
       "      <td>19.001918</td>\n",
       "      <td>238.343834</td>\n",
       "      <td>11.545151</td>\n",
       "      <td>150.413175</td>\n",
       "    </tr>\n",
       "    <tr>\n",
       "      <th>9</th>\n",
       "      <td>15:00</td>\n",
       "      <td>12.224898</td>\n",
       "      <td>149.608231</td>\n",
       "      <td>8.140235</td>\n",
       "      <td>97.757426</td>\n",
       "    </tr>\n",
       "    <tr>\n",
       "      <th>10</th>\n",
       "      <td>16:00</td>\n",
       "      <td>6.130351</td>\n",
       "      <td>80.233135</td>\n",
       "      <td>4.240660</td>\n",
       "      <td>47.309124</td>\n",
       "    </tr>\n",
       "    <tr>\n",
       "      <th>11</th>\n",
       "      <td>17:00</td>\n",
       "      <td>1.466508</td>\n",
       "      <td>24.785133</td>\n",
       "      <td>1.246676</td>\n",
       "      <td>16.417209</td>\n",
       "    </tr>\n",
       "  </tbody>\n",
       "</table>\n",
       "</div>"
      ],
      "text/plain": [
       "     Hora  Energia Prom [kWh]  Irradiacion Prom [Wh/m2]  Energia desv [kWh]  \\\n",
       "0    6:00            1.669605                 36.732636            1.132852   \n",
       "1    7:00            9.283936                189.370182            4.759372   \n",
       "2    8:00           19.101243                354.244176            9.229886   \n",
       "3    9:00           25.971177                463.021567           11.903278   \n",
       "4   10:00           30.415977                530.439156           14.084939   \n",
       "5   11:00           31.178832                535.630262           15.108984   \n",
       "6   12:00           28.835844                480.730073           15.478485   \n",
       "7   13:00           24.735045                350.265122           14.606989   \n",
       "8   14:00           19.001918                238.343834           11.545151   \n",
       "9   15:00           12.224898                149.608231            8.140235   \n",
       "10  16:00            6.130351                 80.233135            4.240660   \n",
       "11  17:00            1.466508                 24.785133            1.246676   \n",
       "\n",
       "    Irradiacion desv [Wh/m2]  \n",
       "0                  22.037113  \n",
       "1                 109.302048  \n",
       "2                 176.658672  \n",
       "3                 215.963951  \n",
       "4                 247.390029  \n",
       "5                 263.046497  \n",
       "6                 259.766559  \n",
       "7                 195.562491  \n",
       "8                 150.413175  \n",
       "9                  97.757426  \n",
       "10                 47.309124  \n",
       "11                 16.417209  "
      ]
     },
     "execution_count": 13,
     "metadata": {},
     "output_type": "execute_result"
    }
   ],
   "source": [
    "promedios = pd.read_csv('Estadisticas por hora.csv')\n",
    "promedios.drop('Unnamed: 0',axis = 1,inplace = True)\n",
    "promedios"
   ]
  },
  {
   "cell_type": "markdown",
   "metadata": {},
   "source": [
    "## Filtrado "
   ]
  },
  {
   "cell_type": "code",
   "execution_count": 107,
   "metadata": {},
   "outputs": [
    {
     "data": {
      "text/html": [
       "<div>\n",
       "<style scoped>\n",
       "    .dataframe tbody tr th:only-of-type {\n",
       "        vertical-align: middle;\n",
       "    }\n",
       "\n",
       "    .dataframe tbody tr th {\n",
       "        vertical-align: top;\n",
       "    }\n",
       "\n",
       "    .dataframe thead th {\n",
       "        text-align: right;\n",
       "    }\n",
       "</style>\n",
       "<table border=\"1\" class=\"dataframe\">\n",
       "  <thead>\n",
       "    <tr style=\"text-align: right;\">\n",
       "      <th></th>\n",
       "      <th>Superior</th>\n",
       "      <th>Inferior</th>\n",
       "    </tr>\n",
       "    <tr>\n",
       "      <th>Hora</th>\n",
       "      <th></th>\n",
       "      <th></th>\n",
       "    </tr>\n",
       "  </thead>\n",
       "  <tbody>\n",
       "    <tr>\n",
       "      <th>6:00</th>\n",
       "      <td>58.769749</td>\n",
       "      <td>14.695524</td>\n",
       "    </tr>\n",
       "    <tr>\n",
       "      <th>7:00</th>\n",
       "      <td>298.672230</td>\n",
       "      <td>80.068134</td>\n",
       "    </tr>\n",
       "    <tr>\n",
       "      <th>8:00</th>\n",
       "      <td>530.902847</td>\n",
       "      <td>177.585504</td>\n",
       "    </tr>\n",
       "    <tr>\n",
       "      <th>9:00</th>\n",
       "      <td>678.985518</td>\n",
       "      <td>247.057616</td>\n",
       "    </tr>\n",
       "    <tr>\n",
       "      <th>10:00</th>\n",
       "      <td>777.829185</td>\n",
       "      <td>283.049127</td>\n",
       "    </tr>\n",
       "    <tr>\n",
       "      <th>11:00</th>\n",
       "      <td>798.676759</td>\n",
       "      <td>272.583765</td>\n",
       "    </tr>\n",
       "    <tr>\n",
       "      <th>12:00</th>\n",
       "      <td>740.496632</td>\n",
       "      <td>220.963514</td>\n",
       "    </tr>\n",
       "    <tr>\n",
       "      <th>13:00</th>\n",
       "      <td>545.827613</td>\n",
       "      <td>154.702631</td>\n",
       "    </tr>\n",
       "    <tr>\n",
       "      <th>14:00</th>\n",
       "      <td>388.757009</td>\n",
       "      <td>87.930659</td>\n",
       "    </tr>\n",
       "    <tr>\n",
       "      <th>15:00</th>\n",
       "      <td>247.365657</td>\n",
       "      <td>51.850806</td>\n",
       "    </tr>\n",
       "    <tr>\n",
       "      <th>16:00</th>\n",
       "      <td>127.542259</td>\n",
       "      <td>32.924011</td>\n",
       "    </tr>\n",
       "    <tr>\n",
       "      <th>17:00</th>\n",
       "      <td>41.202342</td>\n",
       "      <td>8.367924</td>\n",
       "    </tr>\n",
       "  </tbody>\n",
       "</table>\n",
       "</div>"
      ],
      "text/plain": [
       "         Superior    Inferior\n",
       "Hora                         \n",
       "6:00    58.769749   14.695524\n",
       "7:00   298.672230   80.068134\n",
       "8:00   530.902847  177.585504\n",
       "9:00   678.985518  247.057616\n",
       "10:00  777.829185  283.049127\n",
       "11:00  798.676759  272.583765\n",
       "12:00  740.496632  220.963514\n",
       "13:00  545.827613  154.702631\n",
       "14:00  388.757009   87.930659\n",
       "15:00  247.365657   51.850806\n",
       "16:00  127.542259   32.924011\n",
       "17:00   41.202342    8.367924"
      ]
     },
     "execution_count": 107,
     "metadata": {},
     "output_type": "execute_result"
    }
   ],
   "source": [
    "filtro1 = []\n",
    "filtro2 = []\n",
    "horas = promedios['Hora']\n",
    "\n",
    "for i in range(len(promedios)):\n",
    "    sup = promedios['Irradiacion Prom [Wh/m2]'][i] + promedios['Irradiacion desv [Wh/m2]'][i]\n",
    "    inf = promedios['Irradiacion Prom [Wh/m2]'][i] - promedios['Irradiacion desv [Wh/m2]'][i]\n",
    "    \n",
    "    filtro1.append(sup)\n",
    "    filtro2.append(inf)\n",
    "filtro = pd.DataFrame({'Hora':horas,'Superior':filtro1,'Inferior':filtro2})\n",
    "filtro.set_index('Hora', inplace = True)\n",
    "filtro"
   ]
  },
  {
   "cell_type": "code",
   "execution_count": 114,
   "metadata": {},
   "outputs": [
    {
     "data": {
      "text/html": [
       "<div>\n",
       "<style scoped>\n",
       "    .dataframe tbody tr th:only-of-type {\n",
       "        vertical-align: middle;\n",
       "    }\n",
       "\n",
       "    .dataframe tbody tr th {\n",
       "        vertical-align: top;\n",
       "    }\n",
       "\n",
       "    .dataframe thead th {\n",
       "        text-align: right;\n",
       "    }\n",
       "</style>\n",
       "<table border=\"1\" class=\"dataframe\">\n",
       "  <thead>\n",
       "    <tr style=\"text-align: right;\">\n",
       "      <th></th>\n",
       "      <th>Fecha</th>\n",
       "      <th>Hora</th>\n",
       "      <th>Energia [kWh]</th>\n",
       "      <th>Irradiacion [Wh/m2]</th>\n",
       "      <th>Temperatura de modulos [C]</th>\n",
       "    </tr>\n",
       "  </thead>\n",
       "  <tbody>\n",
       "    <tr>\n",
       "      <th>20</th>\n",
       "      <td>2/10/2019</td>\n",
       "      <td>14:00</td>\n",
       "      <td>26.760000</td>\n",
       "      <td>180.745000</td>\n",
       "      <td>26.161667</td>\n",
       "    </tr>\n",
       "    <tr>\n",
       "      <th>21</th>\n",
       "      <td>2/10/2019</td>\n",
       "      <td>15:00</td>\n",
       "      <td>8.155000</td>\n",
       "      <td>85.559167</td>\n",
       "      <td>22.281667</td>\n",
       "    </tr>\n",
       "    <tr>\n",
       "      <th>22</th>\n",
       "      <td>2/10/2019</td>\n",
       "      <td>16:00</td>\n",
       "      <td>4.940000</td>\n",
       "      <td>60.472500</td>\n",
       "      <td>17.328333</td>\n",
       "    </tr>\n",
       "    <tr>\n",
       "      <th>23</th>\n",
       "      <td>2/10/2019</td>\n",
       "      <td>17:00</td>\n",
       "      <td>0.598333</td>\n",
       "      <td>10.561667</td>\n",
       "      <td>15.150833</td>\n",
       "    </tr>\n",
       "    <tr>\n",
       "      <th>24</th>\n",
       "      <td>3/10/2019</td>\n",
       "      <td>6:00</td>\n",
       "      <td>0.012500</td>\n",
       "      <td>3.642500</td>\n",
       "      <td>9.808333</td>\n",
       "    </tr>\n",
       "  </tbody>\n",
       "</table>\n",
       "</div>"
      ],
      "text/plain": [
       "        Fecha   Hora  Energia [kWh]  Irradiacion [Wh/m2]  \\\n",
       "20  2/10/2019  14:00      26.760000           180.745000   \n",
       "21  2/10/2019  15:00       8.155000            85.559167   \n",
       "22  2/10/2019  16:00       4.940000            60.472500   \n",
       "23  2/10/2019  17:00       0.598333            10.561667   \n",
       "24  3/10/2019   6:00       0.012500             3.642500   \n",
       "\n",
       "    Temperatura de modulos [C]  \n",
       "20                   26.161667  \n",
       "21                   22.281667  \n",
       "22                   17.328333  \n",
       "23                   15.150833  \n",
       "24                    9.808333  "
      ]
     },
     "execution_count": 114,
     "metadata": {},
     "output_type": "execute_result"
    }
   ],
   "source": [
    "todoporHora[20:25]"
   ]
  },
  {
   "cell_type": "code",
   "execution_count": 14,
   "metadata": {},
   "outputs": [
    {
     "data": {
      "text/html": [
       "<div>\n",
       "<style scoped>\n",
       "    .dataframe tbody tr th:only-of-type {\n",
       "        vertical-align: middle;\n",
       "    }\n",
       "\n",
       "    .dataframe tbody tr th {\n",
       "        vertical-align: top;\n",
       "    }\n",
       "\n",
       "    .dataframe thead th {\n",
       "        text-align: right;\n",
       "    }\n",
       "</style>\n",
       "<table border=\"1\" class=\"dataframe\">\n",
       "  <thead>\n",
       "    <tr style=\"text-align: right;\">\n",
       "      <th></th>\n",
       "      <th>Limite Inf</th>\n",
       "      <th>Limite Sup</th>\n",
       "    </tr>\n",
       "    <tr>\n",
       "      <th>Hora</th>\n",
       "      <th></th>\n",
       "      <th></th>\n",
       "    </tr>\n",
       "  </thead>\n",
       "  <tbody>\n",
       "    <tr>\n",
       "      <th>6:00</th>\n",
       "      <td>25.714080</td>\n",
       "      <td>47.751193</td>\n",
       "    </tr>\n",
       "    <tr>\n",
       "      <th>7:00</th>\n",
       "      <td>134.719158</td>\n",
       "      <td>244.021206</td>\n",
       "    </tr>\n",
       "    <tr>\n",
       "      <th>8:00</th>\n",
       "      <td>265.914840</td>\n",
       "      <td>442.573512</td>\n",
       "    </tr>\n",
       "    <tr>\n",
       "      <th>9:00</th>\n",
       "      <td>355.039591</td>\n",
       "      <td>571.003542</td>\n",
       "    </tr>\n",
       "    <tr>\n",
       "      <th>10:00</th>\n",
       "      <td>406.744141</td>\n",
       "      <td>654.134170</td>\n",
       "    </tr>\n",
       "    <tr>\n",
       "      <th>11:00</th>\n",
       "      <td>404.107013</td>\n",
       "      <td>667.153511</td>\n",
       "    </tr>\n",
       "    <tr>\n",
       "      <th>12:00</th>\n",
       "      <td>350.846793</td>\n",
       "      <td>610.613352</td>\n",
       "    </tr>\n",
       "    <tr>\n",
       "      <th>13:00</th>\n",
       "      <td>252.483876</td>\n",
       "      <td>448.046368</td>\n",
       "    </tr>\n",
       "    <tr>\n",
       "      <th>14:00</th>\n",
       "      <td>163.137246</td>\n",
       "      <td>313.550421</td>\n",
       "    </tr>\n",
       "    <tr>\n",
       "      <th>15:00</th>\n",
       "      <td>100.729519</td>\n",
       "      <td>198.486944</td>\n",
       "    </tr>\n",
       "    <tr>\n",
       "      <th>16:00</th>\n",
       "      <td>56.578573</td>\n",
       "      <td>103.887697</td>\n",
       "    </tr>\n",
       "    <tr>\n",
       "      <th>17:00</th>\n",
       "      <td>16.576528</td>\n",
       "      <td>32.993737</td>\n",
       "    </tr>\n",
       "  </tbody>\n",
       "</table>\n",
       "</div>"
      ],
      "text/plain": [
       "       Limite Inf  Limite Sup\n",
       "Hora                         \n",
       "6:00    25.714080   47.751193\n",
       "7:00   134.719158  244.021206\n",
       "8:00   265.914840  442.573512\n",
       "9:00   355.039591  571.003542\n",
       "10:00  406.744141  654.134170\n",
       "11:00  404.107013  667.153511\n",
       "12:00  350.846793  610.613352\n",
       "13:00  252.483876  448.046368\n",
       "14:00  163.137246  313.550421\n",
       "15:00  100.729519  198.486944\n",
       "16:00   56.578573  103.887697\n",
       "17:00   16.576528   32.993737"
      ]
     },
     "execution_count": 14,
     "metadata": {},
     "output_type": "execute_result"
    }
   ],
   "source": [
    "rango1 = []\n",
    "rango2 = []\n",
    "horas = promedios['Hora']\n",
    "for i in range(len(promedios)):\n",
    "    lim1 = promedios['Irradiacion Prom [Wh/m2]'][i] - promedios['Irradiacion desv [Wh/m2]'][i]/2\n",
    "    lim2 = promedios['Irradiacion Prom [Wh/m2]'][i] + promedios['Irradiacion desv [Wh/m2]'][i]/2\n",
    "    \n",
    "    rango1.append(lim1)\n",
    "    rango2.append(lim2)\n",
    "rangos = pd.DataFrame({'Hora':horas,'Limite Inf':rango1,'Limite Sup':rango2})\n",
    "rangos.set_index('Hora',inplace = True)\n",
    "rangos"
   ]
  },
  {
   "cell_type": "code",
   "execution_count": 115,
   "metadata": {},
   "outputs": [
    {
     "ename": "KeyError",
     "evalue": "24",
     "output_type": "error",
     "traceback": [
      "\u001b[1;31m---------------------------------------------------------------------------\u001b[0m",
      "\u001b[1;31mKeyError\u001b[0m                                  Traceback (most recent call last)",
      "\u001b[1;32m<ipython-input-115-c0e918fa5338>\u001b[0m in \u001b[0;36m<module>\u001b[1;34m\u001b[0m\n\u001b[0;32m      8\u001b[0m     \u001b[0msup\u001b[0m \u001b[1;33m=\u001b[0m \u001b[0mfiltro\u001b[0m\u001b[1;33m[\u001b[0m\u001b[1;34m'Superior'\u001b[0m\u001b[1;33m]\u001b[0m\u001b[1;33m[\u001b[0m\u001b[0mh\u001b[0m\u001b[1;33m]\u001b[0m\u001b[1;33m\u001b[0m\u001b[1;33m\u001b[0m\u001b[0m\n\u001b[0;32m      9\u001b[0m     \u001b[1;32mfor\u001b[0m \u001b[0mi\u001b[0m \u001b[1;32min\u001b[0m \u001b[0mrange\u001b[0m\u001b[1;33m(\u001b[0m\u001b[0mlen\u001b[0m\u001b[1;33m(\u001b[0m\u001b[0mtodoporHora\u001b[0m\u001b[1;33m)\u001b[0m\u001b[1;33m)\u001b[0m\u001b[1;33m:\u001b[0m\u001b[1;33m\u001b[0m\u001b[1;33m\u001b[0m\u001b[0m\n\u001b[1;32m---> 10\u001b[1;33m         \u001b[0mirr_actual\u001b[0m \u001b[1;33m=\u001b[0m\u001b[0mtodoporHora\u001b[0m\u001b[1;33m[\u001b[0m\u001b[1;34m'Irradiacion [Wh/m2]'\u001b[0m\u001b[1;33m]\u001b[0m\u001b[1;33m[\u001b[0m\u001b[0mi\u001b[0m\u001b[1;33m]\u001b[0m\u001b[1;33m\u001b[0m\u001b[1;33m\u001b[0m\u001b[0m\n\u001b[0m\u001b[0;32m     11\u001b[0m \u001b[1;33m\u001b[0m\u001b[0m\n\u001b[0;32m     12\u001b[0m         \u001b[1;32mif\u001b[0m \u001b[0mtodoporHora\u001b[0m\u001b[1;33m[\u001b[0m\u001b[1;34m'Hora'\u001b[0m\u001b[1;33m]\u001b[0m\u001b[1;33m[\u001b[0m\u001b[0mi\u001b[0m\u001b[1;33m]\u001b[0m \u001b[1;33m==\u001b[0m \u001b[0mh\u001b[0m\u001b[1;33m:\u001b[0m\u001b[1;33m\u001b[0m\u001b[1;33m\u001b[0m\u001b[0m\n",
      "\u001b[1;32m~\\anaconda3\\lib\\site-packages\\pandas\\core\\series.py\u001b[0m in \u001b[0;36m__getitem__\u001b[1;34m(self, key)\u001b[0m\n\u001b[0;32m    869\u001b[0m         \u001b[0mkey\u001b[0m \u001b[1;33m=\u001b[0m \u001b[0mcom\u001b[0m\u001b[1;33m.\u001b[0m\u001b[0mapply_if_callable\u001b[0m\u001b[1;33m(\u001b[0m\u001b[0mkey\u001b[0m\u001b[1;33m,\u001b[0m \u001b[0mself\u001b[0m\u001b[1;33m)\u001b[0m\u001b[1;33m\u001b[0m\u001b[1;33m\u001b[0m\u001b[0m\n\u001b[0;32m    870\u001b[0m         \u001b[1;32mtry\u001b[0m\u001b[1;33m:\u001b[0m\u001b[1;33m\u001b[0m\u001b[1;33m\u001b[0m\u001b[0m\n\u001b[1;32m--> 871\u001b[1;33m             \u001b[0mresult\u001b[0m \u001b[1;33m=\u001b[0m \u001b[0mself\u001b[0m\u001b[1;33m.\u001b[0m\u001b[0mindex\u001b[0m\u001b[1;33m.\u001b[0m\u001b[0mget_value\u001b[0m\u001b[1;33m(\u001b[0m\u001b[0mself\u001b[0m\u001b[1;33m,\u001b[0m \u001b[0mkey\u001b[0m\u001b[1;33m)\u001b[0m\u001b[1;33m\u001b[0m\u001b[1;33m\u001b[0m\u001b[0m\n\u001b[0m\u001b[0;32m    872\u001b[0m \u001b[1;33m\u001b[0m\u001b[0m\n\u001b[0;32m    873\u001b[0m             \u001b[1;32mif\u001b[0m \u001b[1;32mnot\u001b[0m \u001b[0mis_scalar\u001b[0m\u001b[1;33m(\u001b[0m\u001b[0mresult\u001b[0m\u001b[1;33m)\u001b[0m\u001b[1;33m:\u001b[0m\u001b[1;33m\u001b[0m\u001b[1;33m\u001b[0m\u001b[0m\n",
      "\u001b[1;32m~\\anaconda3\\lib\\site-packages\\pandas\\core\\indexes\\base.py\u001b[0m in \u001b[0;36mget_value\u001b[1;34m(self, series, key)\u001b[0m\n\u001b[0;32m   4403\u001b[0m         \u001b[0mk\u001b[0m \u001b[1;33m=\u001b[0m \u001b[0mself\u001b[0m\u001b[1;33m.\u001b[0m\u001b[0m_convert_scalar_indexer\u001b[0m\u001b[1;33m(\u001b[0m\u001b[0mk\u001b[0m\u001b[1;33m,\u001b[0m \u001b[0mkind\u001b[0m\u001b[1;33m=\u001b[0m\u001b[1;34m\"getitem\"\u001b[0m\u001b[1;33m)\u001b[0m\u001b[1;33m\u001b[0m\u001b[1;33m\u001b[0m\u001b[0m\n\u001b[0;32m   4404\u001b[0m         \u001b[1;32mtry\u001b[0m\u001b[1;33m:\u001b[0m\u001b[1;33m\u001b[0m\u001b[1;33m\u001b[0m\u001b[0m\n\u001b[1;32m-> 4405\u001b[1;33m             \u001b[1;32mreturn\u001b[0m \u001b[0mself\u001b[0m\u001b[1;33m.\u001b[0m\u001b[0m_engine\u001b[0m\u001b[1;33m.\u001b[0m\u001b[0mget_value\u001b[0m\u001b[1;33m(\u001b[0m\u001b[0ms\u001b[0m\u001b[1;33m,\u001b[0m \u001b[0mk\u001b[0m\u001b[1;33m,\u001b[0m \u001b[0mtz\u001b[0m\u001b[1;33m=\u001b[0m\u001b[0mgetattr\u001b[0m\u001b[1;33m(\u001b[0m\u001b[0mseries\u001b[0m\u001b[1;33m.\u001b[0m\u001b[0mdtype\u001b[0m\u001b[1;33m,\u001b[0m \u001b[1;34m\"tz\"\u001b[0m\u001b[1;33m,\u001b[0m \u001b[1;32mNone\u001b[0m\u001b[1;33m)\u001b[0m\u001b[1;33m)\u001b[0m\u001b[1;33m\u001b[0m\u001b[1;33m\u001b[0m\u001b[0m\n\u001b[0m\u001b[0;32m   4406\u001b[0m         \u001b[1;32mexcept\u001b[0m \u001b[0mKeyError\u001b[0m \u001b[1;32mas\u001b[0m \u001b[0me1\u001b[0m\u001b[1;33m:\u001b[0m\u001b[1;33m\u001b[0m\u001b[1;33m\u001b[0m\u001b[0m\n\u001b[0;32m   4407\u001b[0m             \u001b[1;32mif\u001b[0m \u001b[0mlen\u001b[0m\u001b[1;33m(\u001b[0m\u001b[0mself\u001b[0m\u001b[1;33m)\u001b[0m \u001b[1;33m>\u001b[0m \u001b[1;36m0\u001b[0m \u001b[1;32mand\u001b[0m \u001b[1;33m(\u001b[0m\u001b[0mself\u001b[0m\u001b[1;33m.\u001b[0m\u001b[0mholds_integer\u001b[0m\u001b[1;33m(\u001b[0m\u001b[1;33m)\u001b[0m \u001b[1;32mor\u001b[0m \u001b[0mself\u001b[0m\u001b[1;33m.\u001b[0m\u001b[0mis_boolean\u001b[0m\u001b[1;33m(\u001b[0m\u001b[1;33m)\u001b[0m\u001b[1;33m)\u001b[0m\u001b[1;33m:\u001b[0m\u001b[1;33m\u001b[0m\u001b[1;33m\u001b[0m\u001b[0m\n",
      "\u001b[1;32mpandas\\_libs\\index.pyx\u001b[0m in \u001b[0;36mpandas._libs.index.IndexEngine.get_value\u001b[1;34m()\u001b[0m\n",
      "\u001b[1;32mpandas\\_libs\\index.pyx\u001b[0m in \u001b[0;36mpandas._libs.index.IndexEngine.get_value\u001b[1;34m()\u001b[0m\n",
      "\u001b[1;32mpandas\\_libs\\index.pyx\u001b[0m in \u001b[0;36mpandas._libs.index.IndexEngine.get_loc\u001b[1;34m()\u001b[0m\n",
      "\u001b[1;32mpandas\\_libs\\hashtable_class_helper.pxi\u001b[0m in \u001b[0;36mpandas._libs.hashtable.Int64HashTable.get_item\u001b[1;34m()\u001b[0m\n",
      "\u001b[1;32mpandas\\_libs\\hashtable_class_helper.pxi\u001b[0m in \u001b[0;36mpandas._libs.hashtable.Int64HashTable.get_item\u001b[1;34m()\u001b[0m\n",
      "\u001b[1;31mKeyError\u001b[0m: 24"
     ]
    }
   ],
   "source": [
    "m = len(todoporHora)\n",
    "\n",
    "horas = todoporHora['Hora'].unique()\n",
    "fechas = todoporHora.Fecha\n",
    "\n",
    "for h in horas:\n",
    "    inf = filtro['Inferior'][h]\n",
    "    sup = filtro['Superior'][h]\n",
    "    for i in range(len(todoporHora)):\n",
    "        irr_actual =todoporHora['Irradiacion [Wh/m2]'][i]\n",
    "        \n",
    "        if todoporHora['Hora'][i] == h:\n",
    "            if  irr_actual < inf:\n",
    "                todoporHora.drop([i],inplace = True)\n",
    "                \n",
    "            elif irr_actual > sup:\n",
    "                todoporHora.drop([i], inplace = True)\n",
    "                \n",
    "todoporHora.set_index(np.array(range(len(todoporHora))))"
   ]
  },
  {
   "cell_type": "markdown",
   "metadata": {},
   "source": [
    "# Clasificación"
   ]
  },
  {
   "cell_type": "code",
   "execution_count": 126,
   "metadata": {},
   "outputs": [],
   "source": [
    "todoporHora = pd.read_csv('Para filtrar.csv')"
   ]
  },
  {
   "cell_type": "code",
   "execution_count": 127,
   "metadata": {},
   "outputs": [],
   "source": [
    "m = len(todoporHora)\n",
    "\n",
    "soleados = [0]*m\n",
    "lluviosos = [0]*m\n",
    "nubados = [0]*m\n",
    "\n",
    "horas = todoporHora['Hora'].unique()\n",
    "fechas = todoporHora.Fecha\n",
    "\n",
    "for h in horas:\n",
    "    inf = rangos['Limite Inf'][h]\n",
    "    sup = rangos['Limite Sup'][h]\n",
    "    for i in range(len(todoporHora)):\n",
    "        irr_actual =todoporHora['Irradiacion [Wh/m2]'][i]\n",
    "        \n",
    "        if todoporHora['Hora'][i] == h:\n",
    "            if  irr_actual < inf:\n",
    "                lluviosos[i] = 1\n",
    "                \n",
    "            elif inf < irr_actual < sup:\n",
    "                nubados[i] = 1\n",
    "            \n",
    "            else:\n",
    "                soleados[i] = 1\n",
    "\n",
    "clima = pd.DataFrame({'Fecha':fechas,'Hora':todoporHora['Hora'],'Lluvioso':lluviosos, 'Nublado':nubados,'Soleado':soleados})"
   ]
  },
  {
   "cell_type": "code",
   "execution_count": 128,
   "metadata": {},
   "outputs": [
    {
     "data": {
      "text/html": [
       "<div>\n",
       "<style scoped>\n",
       "    .dataframe tbody tr th:only-of-type {\n",
       "        vertical-align: middle;\n",
       "    }\n",
       "\n",
       "    .dataframe tbody tr th {\n",
       "        vertical-align: top;\n",
       "    }\n",
       "\n",
       "    .dataframe thead th {\n",
       "        text-align: right;\n",
       "    }\n",
       "</style>\n",
       "<table border=\"1\" class=\"dataframe\">\n",
       "  <thead>\n",
       "    <tr style=\"text-align: right;\">\n",
       "      <th></th>\n",
       "      <th>Fecha</th>\n",
       "      <th>Hora</th>\n",
       "      <th>Lluvioso</th>\n",
       "      <th>Nublado</th>\n",
       "      <th>Soleado</th>\n",
       "    </tr>\n",
       "  </thead>\n",
       "  <tbody>\n",
       "    <tr>\n",
       "      <th>0</th>\n",
       "      <td>1/10/2019</td>\n",
       "      <td>7:00</td>\n",
       "      <td>0</td>\n",
       "      <td>1</td>\n",
       "      <td>0</td>\n",
       "    </tr>\n",
       "    <tr>\n",
       "      <th>1</th>\n",
       "      <td>1/10/2019</td>\n",
       "      <td>8:00</td>\n",
       "      <td>0</td>\n",
       "      <td>0</td>\n",
       "      <td>1</td>\n",
       "    </tr>\n",
       "    <tr>\n",
       "      <th>2</th>\n",
       "      <td>1/10/2019</td>\n",
       "      <td>9:00</td>\n",
       "      <td>0</td>\n",
       "      <td>1</td>\n",
       "      <td>0</td>\n",
       "    </tr>\n",
       "    <tr>\n",
       "      <th>3</th>\n",
       "      <td>1/10/2019</td>\n",
       "      <td>10:00</td>\n",
       "      <td>1</td>\n",
       "      <td>0</td>\n",
       "      <td>0</td>\n",
       "    </tr>\n",
       "    <tr>\n",
       "      <th>4</th>\n",
       "      <td>1/10/2019</td>\n",
       "      <td>11:00</td>\n",
       "      <td>1</td>\n",
       "      <td>0</td>\n",
       "      <td>0</td>\n",
       "    </tr>\n",
       "    <tr>\n",
       "      <th>...</th>\n",
       "      <td>...</td>\n",
       "      <td>...</td>\n",
       "      <td>...</td>\n",
       "      <td>...</td>\n",
       "      <td>...</td>\n",
       "    </tr>\n",
       "    <tr>\n",
       "      <th>4575</th>\n",
       "      <td>31/12/2020</td>\n",
       "      <td>12:00</td>\n",
       "      <td>1</td>\n",
       "      <td>0</td>\n",
       "      <td>0</td>\n",
       "    </tr>\n",
       "    <tr>\n",
       "      <th>4576</th>\n",
       "      <td>31/12/2020</td>\n",
       "      <td>13:00</td>\n",
       "      <td>1</td>\n",
       "      <td>0</td>\n",
       "      <td>0</td>\n",
       "    </tr>\n",
       "    <tr>\n",
       "      <th>4577</th>\n",
       "      <td>31/12/2020</td>\n",
       "      <td>14:00</td>\n",
       "      <td>1</td>\n",
       "      <td>0</td>\n",
       "      <td>0</td>\n",
       "    </tr>\n",
       "    <tr>\n",
       "      <th>4578</th>\n",
       "      <td>31/12/2020</td>\n",
       "      <td>15:00</td>\n",
       "      <td>1</td>\n",
       "      <td>0</td>\n",
       "      <td>0</td>\n",
       "    </tr>\n",
       "    <tr>\n",
       "      <th>4579</th>\n",
       "      <td>31/12/2020</td>\n",
       "      <td>16:00</td>\n",
       "      <td>1</td>\n",
       "      <td>0</td>\n",
       "      <td>0</td>\n",
       "    </tr>\n",
       "  </tbody>\n",
       "</table>\n",
       "<p>4580 rows × 5 columns</p>\n",
       "</div>"
      ],
      "text/plain": [
       "           Fecha   Hora  Lluvioso  Nublado  Soleado\n",
       "0      1/10/2019   7:00         0        1        0\n",
       "1      1/10/2019   8:00         0        0        1\n",
       "2      1/10/2019   9:00         0        1        0\n",
       "3      1/10/2019  10:00         1        0        0\n",
       "4      1/10/2019  11:00         1        0        0\n",
       "...          ...    ...       ...      ...      ...\n",
       "4575  31/12/2020  12:00         1        0        0\n",
       "4576  31/12/2020  13:00         1        0        0\n",
       "4577  31/12/2020  14:00         1        0        0\n",
       "4578  31/12/2020  15:00         1        0        0\n",
       "4579  31/12/2020  16:00         1        0        0\n",
       "\n",
       "[4580 rows x 5 columns]"
      ]
     },
     "execution_count": 128,
     "metadata": {},
     "output_type": "execute_result"
    }
   ],
   "source": [
    "clima"
   ]
  },
  {
   "cell_type": "code",
   "execution_count": 19,
   "metadata": {},
   "outputs": [
    {
     "data": {
      "text/plain": [
       "(-1.118892723532241, 1.1008996535015352, -1.11140673916611, 1.1135056364927596)"
      ]
     },
     "execution_count": 19,
     "metadata": {},
     "output_type": "execute_result"
    },
    {
     "data": {
      "image/png": "[encoded data removed]",
      "text/plain": [
       "<Figure size 720x432 with 1 Axes>"
      ]
     },
     "metadata": {},
     "output_type": "display_data"
    }
   ],
   "source": [
    "counts = [sum(nubados)/5496, sum(lluviosos)/5496,sum(soleados)/5496]\n",
    "estado = ['Nublado','Lluvioso','Soleado']\n",
    "\n",
    "colores = [\"#EE6055\",\"#60D394\",\"#AAF683\"]\n",
    "\n",
    "plt.figure(figsize=(10,6))\n",
    "plt.pie(counts,labels = estado,autopct=\"%0.1f %%\",colors = colores)\n",
    "plt.title('Porcentaje de horas lluviosas, soleadas y nubladas')\n",
    "plt.axis('equal')\n",
    "\n",
    "# Muestra de 5496 datos"
   ]
  },
  {
   "cell_type": "code",
   "execution_count": 20,
   "metadata": {},
   "outputs": [],
   "source": [
    "horas = clima.Hora.unique()\n",
    "n = len(horas)\n",
    "lluvia = [0]*n\n",
    "sol = [0]*n\n",
    "nube = [0]*n\n",
    "for i in range(len(horas)):\n",
    "    lluvia[i] = clima[clima['Hora']==horas[i]]['Lluvioso'].sum()\n",
    "    sol[i] = clima[clima['Hora']==horas[i]]['Soleado'].sum()\n",
    "    nube[i] = clima[clima['Hora']==horas[i]]['Nublado'].sum()\n",
    "    \n",
    "climaHora = pd.DataFrame({'Hora':horas,'Lluvioso':lluvia,'Soleado':sol,'Nublado':nube})\n",
    "climaHora.set_index('Hora',inplace = True)"
   ]
  },
  {
   "cell_type": "code",
   "execution_count": 21,
   "metadata": {
    "scrolled": true
   },
   "outputs": [
    {
     "data": {
      "text/plain": [
       "Text(0, 0.5, 'Frecuencia')"
      ]
     },
     "execution_count": 21,
     "metadata": {},
     "output_type": "execute_result"
    },
    {
     "data": {
      "image/png": "[encoded data removed]",
      "text/plain": [
       "<Figure size 864x576 with 1 Axes>"
      ]
     },
     "metadata": {
      "needs_background": "light"
     },
     "output_type": "display_data"
    }
   ],
   "source": [
    "colores = [\"#DE6055\",\"#60D394\",\"#AAF683\"]\n",
    "climaHora.plot.bar(figsize = (12,8),grid = True,color = colores)\n",
    "plt.title('Frecuencia de tipo de clima por hora')\n",
    "plt.ylabel('Frecuencia')"
   ]
  },
  {
   "cell_type": "markdown",
   "metadata": {},
   "source": [
    "# DataFrames Finales"
   ]
  },
  {
   "cell_type": "code",
   "execution_count": 22,
   "metadata": {},
   "outputs": [],
   "source": [
    "#Función para generar un dataframe con los datos de Energia en kWh \n",
    "#y de irradiación en Wh/m2 por cada uno de los datos \n",
    "\n",
    "def nuevoFrame(mesActual):\n",
    "    i = 0\n",
    "    j = 0\n",
    "    energia = []\n",
    "    irradiacion = []\n",
    "    fechas = []\n",
    "    horas = []\n",
    "    try:\n",
    "        while i<len(mesActual):\n",
    "            fechas.append(mesActual['Fecha'][i])\n",
    "            horas.append(mesActual['Hora'][i])\n",
    "            energia.append(mesActual['Potencia [kW]'][i:i+12].sum()/12)\n",
    "            irradiacion.append(mesActual['Insolacion [W/m2]'][i:i+12].sum()/12)\n",
    "            i+=12\n",
    "        datos = pd.DataFrame({'Fecha':fechas,'Hora':horas,'Energia [kWh]':energia,'Irradiacion [Wh/m2]':irradiacion})\n",
    "        return datos\n",
    "    except:\n",
    "        pass"
   ]
  },
  {
   "cell_type": "code",
   "execution_count": 23,
   "metadata": {},
   "outputs": [],
   "source": [
    "#Función para generar un dataframe con los datos de Energia en kWh \n",
    "#y de irradiación en Wh/m2 por cada hora del día\n",
    "\n",
    "def nuevoFrame2(mesActual):\n",
    "    try:\n",
    "        fechas = mesActual['Fecha']\n",
    "        horas = mesActual['Hora']\n",
    "        energia = mesActual['Potencia [kW]']\n",
    "        irradiacion = mesActual['Insolacion [W/m2]']\n",
    "        temperatura = mesActual['Temperatura de modulos [C]']\n",
    "        datos = pd.DataFrame({'Fecha':fechas,'Hora':horas,'Potencia [kW]':energia,'Irradiacion [W/m2]':irradiacion,\n",
    "                              'Temperatura de modulos[C]':temperatura})\n",
    "        return datos\n",
    "    except:\n",
    "        pass"
   ]
  },
  {
   "cell_type": "code",
   "execution_count": 24,
   "metadata": {},
   "outputs": [
    {
     "data": {
      "text/plain": [
       "15"
      ]
     },
     "execution_count": 24,
     "metadata": {},
     "output_type": "execute_result"
    }
   ],
   "source": [
    "archivos = ['Octubre 2019.csv','Noviembre 2019.csv', 'Diciembre 2019.csv', 'Enero 2020.csv', 'Febrero 2020.csv',\n",
    "            'Marzo 2020.csv','Abril 2020.csv', 'Mayo 2020.csv','Junio 2020.csv', 'Julio 2020.csv', 'Agosto 2020.csv',\n",
    "             'Septiembre 2020.csv','Octubre 2020.csv','Noviembre 2020.csv', 'Diciembre 2020.csv']\n",
    "len(archivos)"
   ]
  },
  {
   "cell_type": "code",
   "execution_count": 25,
   "metadata": {},
   "outputs": [],
   "source": [
    "start = 0\n",
    "for arch in archivos:\n",
    "    try:\n",
    "        df = pd.read_csv(arch)\n",
    "        df = nuevoFrame2(df)\n",
    "    except:\n",
    "        pass\n",
    "    if start == 0:\n",
    "        dataFinal= df\n",
    "    else:\n",
    "        dataFinal= pd.concat([dataFinal,df])\n",
    "    start+=1\n",
    "dataFinal.to_csv('DataFinalBeta.csv')"
   ]
  },
  {
   "cell_type": "code",
   "execution_count": 26,
   "metadata": {},
   "outputs": [
    {
     "data": {
      "text/html": [
       "<div>\n",
       "<style scoped>\n",
       "    .dataframe tbody tr th:only-of-type {\n",
       "        vertical-align: middle;\n",
       "    }\n",
       "\n",
       "    .dataframe tbody tr th {\n",
       "        vertical-align: top;\n",
       "    }\n",
       "\n",
       "    .dataframe thead th {\n",
       "        text-align: right;\n",
       "    }\n",
       "</style>\n",
       "<table border=\"1\" class=\"dataframe\">\n",
       "  <thead>\n",
       "    <tr style=\"text-align: right;\">\n",
       "      <th></th>\n",
       "      <th>Fecha</th>\n",
       "      <th>Hora</th>\n",
       "      <th>Potencia [kW]</th>\n",
       "      <th>Irradiacion [W/m2]</th>\n",
       "      <th>Temperatura de modulos[C]</th>\n",
       "    </tr>\n",
       "  </thead>\n",
       "  <tbody>\n",
       "    <tr>\n",
       "      <th>0</th>\n",
       "      <td>1/10/2019</td>\n",
       "      <td>6:00</td>\n",
       "      <td>0.26</td>\n",
       "      <td>8.98</td>\n",
       "      <td>11.66</td>\n",
       "    </tr>\n",
       "    <tr>\n",
       "      <th>1</th>\n",
       "      <td>1/10/2019</td>\n",
       "      <td>6:05</td>\n",
       "      <td>0.85</td>\n",
       "      <td>16.87</td>\n",
       "      <td>11.72</td>\n",
       "    </tr>\n",
       "    <tr>\n",
       "      <th>2</th>\n",
       "      <td>1/10/2019</td>\n",
       "      <td>6:10</td>\n",
       "      <td>1.78</td>\n",
       "      <td>28.75</td>\n",
       "      <td>11.80</td>\n",
       "    </tr>\n",
       "    <tr>\n",
       "      <th>3</th>\n",
       "      <td>1/10/2019</td>\n",
       "      <td>6:15</td>\n",
       "      <td>2.17</td>\n",
       "      <td>33.24</td>\n",
       "      <td>11.92</td>\n",
       "    </tr>\n",
       "    <tr>\n",
       "      <th>4</th>\n",
       "      <td>1/10/2019</td>\n",
       "      <td>6:20</td>\n",
       "      <td>2.12</td>\n",
       "      <td>32.35</td>\n",
       "      <td>12.12</td>\n",
       "    </tr>\n",
       "    <tr>\n",
       "      <th>...</th>\n",
       "      <td>...</td>\n",
       "      <td>...</td>\n",
       "      <td>...</td>\n",
       "      <td>...</td>\n",
       "      <td>...</td>\n",
       "    </tr>\n",
       "    <tr>\n",
       "      <th>65947</th>\n",
       "      <td>31/12/2020</td>\n",
       "      <td>17:35</td>\n",
       "      <td>0.12</td>\n",
       "      <td>9.11</td>\n",
       "      <td>12.93</td>\n",
       "    </tr>\n",
       "    <tr>\n",
       "      <th>65948</th>\n",
       "      <td>31/12/2020</td>\n",
       "      <td>17:40</td>\n",
       "      <td>0.11</td>\n",
       "      <td>8.69</td>\n",
       "      <td>12.66</td>\n",
       "    </tr>\n",
       "    <tr>\n",
       "      <th>65949</th>\n",
       "      <td>31/12/2020</td>\n",
       "      <td>17:45</td>\n",
       "      <td>0.10</td>\n",
       "      <td>7.89</td>\n",
       "      <td>12.54</td>\n",
       "    </tr>\n",
       "    <tr>\n",
       "      <th>65950</th>\n",
       "      <td>31/12/2020</td>\n",
       "      <td>17:50</td>\n",
       "      <td>0.02</td>\n",
       "      <td>5.31</td>\n",
       "      <td>12.50</td>\n",
       "    </tr>\n",
       "    <tr>\n",
       "      <th>65951</th>\n",
       "      <td>31/12/2020</td>\n",
       "      <td>17:55</td>\n",
       "      <td>0.00</td>\n",
       "      <td>3.45</td>\n",
       "      <td>12.33</td>\n",
       "    </tr>\n",
       "  </tbody>\n",
       "</table>\n",
       "<p>65952 rows × 5 columns</p>\n",
       "</div>"
      ],
      "text/plain": [
       "            Fecha   Hora  Potencia [kW]  Irradiacion [W/m2]  \\\n",
       "0       1/10/2019   6:00           0.26                8.98   \n",
       "1       1/10/2019   6:05           0.85               16.87   \n",
       "2       1/10/2019   6:10           1.78               28.75   \n",
       "3       1/10/2019   6:15           2.17               33.24   \n",
       "4       1/10/2019   6:20           2.12               32.35   \n",
       "...           ...    ...            ...                 ...   \n",
       "65947  31/12/2020  17:35           0.12                9.11   \n",
       "65948  31/12/2020  17:40           0.11                8.69   \n",
       "65949  31/12/2020  17:45           0.10                7.89   \n",
       "65950  31/12/2020  17:50           0.02                5.31   \n",
       "65951  31/12/2020  17:55           0.00                3.45   \n",
       "\n",
       "       Temperatura de modulos[C]  \n",
       "0                          11.66  \n",
       "1                          11.72  \n",
       "2                          11.80  \n",
       "3                          11.92  \n",
       "4                          12.12  \n",
       "...                          ...  \n",
       "65947                      12.93  \n",
       "65948                      12.66  \n",
       "65949                      12.54  \n",
       "65950                      12.50  \n",
       "65951                      12.33  \n",
       "\n",
       "[65952 rows x 5 columns]"
      ]
     },
     "execution_count": 26,
     "metadata": {},
     "output_type": "execute_result"
    }
   ],
   "source": [
    "dataFinal = pd.read_csv('DataFinalBeta.csv')\n",
    "dataFinal.drop('Unnamed: 0',axis = 1 ,inplace = True)\n",
    "dataFinal"
   ]
  },
  {
   "cell_type": "code",
   "execution_count": 27,
   "metadata": {},
   "outputs": [],
   "source": [
    "n = len(clima)\n",
    "soleado = []\n",
    "nublado  = []\n",
    "lluvioso = []\n",
    "\n",
    "for i in range(n):\n",
    "    soleado+=[clima['Soleado'][i]]*12\n",
    "    lluvioso+=[clima['Lluvioso'][i]]*12\n",
    "    nublado+=[clima['Nublado'][i]]*12\n",
    "\n",
    "dataFinal['Lluvioso'] = lluvioso\n",
    "dataFinal['Nublado'] = nublado\n",
    "dataFinal['Soleado'] = soleado"
   ]
  },
  {
   "cell_type": "code",
   "execution_count": 133,
   "metadata": {
    "scrolled": true
   },
   "outputs": [],
   "source": [
    "todoporHora['Lluvioso'] = clima.Lluvioso\n",
    "todoporHora['Nublado'] = clima.Nublado\n",
    "todoporHora['Soleado'] = clima.Soleado\n",
    "todoporHora1 = todoporHora\n",
    "todoporHora.set_index(np.array(range(len(todoporHora))),inplace = True)\n",
    "todoporHora.to_csv('Para filtrar.csv')"
   ]
  },
  {
   "cell_type": "markdown",
   "metadata": {},
   "source": [
    "### Días típicos"
   ]
  },
  {
   "cell_type": "code",
   "execution_count": 29,
   "metadata": {},
   "outputs": [],
   "source": [
    "datos = pd.read_csv('DataFinalBeta.csv').drop('Unnamed: 0',axis = 1)\n",
    "datos.to_csv('DataFinalBeta.csv')"
   ]
  },
  {
   "cell_type": "code",
   "execution_count": 30,
   "metadata": {},
   "outputs": [
    {
     "data": {
      "text/html": [
       "<div>\n",
       "<style scoped>\n",
       "    .dataframe tbody tr th:only-of-type {\n",
       "        vertical-align: middle;\n",
       "    }\n",
       "\n",
       "    .dataframe tbody tr th {\n",
       "        vertical-align: top;\n",
       "    }\n",
       "\n",
       "    .dataframe thead th {\n",
       "        text-align: right;\n",
       "    }\n",
       "</style>\n",
       "<table border=\"1\" class=\"dataframe\">\n",
       "  <thead>\n",
       "    <tr style=\"text-align: right;\">\n",
       "      <th></th>\n",
       "      <th>Fecha</th>\n",
       "      <th>Hora</th>\n",
       "      <th>Potencia [kW]</th>\n",
       "      <th>Irradiacion [W/m2]</th>\n",
       "      <th>Temperatura de modulos[C]</th>\n",
       "    </tr>\n",
       "  </thead>\n",
       "  <tbody>\n",
       "    <tr>\n",
       "      <th>0</th>\n",
       "      <td>1/10/2019</td>\n",
       "      <td>6:00</td>\n",
       "      <td>0.26</td>\n",
       "      <td>8.98</td>\n",
       "      <td>11.66</td>\n",
       "    </tr>\n",
       "    <tr>\n",
       "      <th>1</th>\n",
       "      <td>1/10/2019</td>\n",
       "      <td>6:05</td>\n",
       "      <td>0.85</td>\n",
       "      <td>16.87</td>\n",
       "      <td>11.72</td>\n",
       "    </tr>\n",
       "    <tr>\n",
       "      <th>2</th>\n",
       "      <td>1/10/2019</td>\n",
       "      <td>6:10</td>\n",
       "      <td>1.78</td>\n",
       "      <td>28.75</td>\n",
       "      <td>11.80</td>\n",
       "    </tr>\n",
       "    <tr>\n",
       "      <th>3</th>\n",
       "      <td>1/10/2019</td>\n",
       "      <td>6:15</td>\n",
       "      <td>2.17</td>\n",
       "      <td>33.24</td>\n",
       "      <td>11.92</td>\n",
       "    </tr>\n",
       "    <tr>\n",
       "      <th>4</th>\n",
       "      <td>1/10/2019</td>\n",
       "      <td>6:20</td>\n",
       "      <td>2.12</td>\n",
       "      <td>32.35</td>\n",
       "      <td>12.12</td>\n",
       "    </tr>\n",
       "    <tr>\n",
       "      <th>...</th>\n",
       "      <td>...</td>\n",
       "      <td>...</td>\n",
       "      <td>...</td>\n",
       "      <td>...</td>\n",
       "      <td>...</td>\n",
       "    </tr>\n",
       "    <tr>\n",
       "      <th>65947</th>\n",
       "      <td>31/12/2020</td>\n",
       "      <td>17:35</td>\n",
       "      <td>0.12</td>\n",
       "      <td>9.11</td>\n",
       "      <td>12.93</td>\n",
       "    </tr>\n",
       "    <tr>\n",
       "      <th>65948</th>\n",
       "      <td>31/12/2020</td>\n",
       "      <td>17:40</td>\n",
       "      <td>0.11</td>\n",
       "      <td>8.69</td>\n",
       "      <td>12.66</td>\n",
       "    </tr>\n",
       "    <tr>\n",
       "      <th>65949</th>\n",
       "      <td>31/12/2020</td>\n",
       "      <td>17:45</td>\n",
       "      <td>0.10</td>\n",
       "      <td>7.89</td>\n",
       "      <td>12.54</td>\n",
       "    </tr>\n",
       "    <tr>\n",
       "      <th>65950</th>\n",
       "      <td>31/12/2020</td>\n",
       "      <td>17:50</td>\n",
       "      <td>0.02</td>\n",
       "      <td>5.31</td>\n",
       "      <td>12.50</td>\n",
       "    </tr>\n",
       "    <tr>\n",
       "      <th>65951</th>\n",
       "      <td>31/12/2020</td>\n",
       "      <td>17:55</td>\n",
       "      <td>0.00</td>\n",
       "      <td>3.45</td>\n",
       "      <td>12.33</td>\n",
       "    </tr>\n",
       "  </tbody>\n",
       "</table>\n",
       "<p>65952 rows × 5 columns</p>\n",
       "</div>"
      ],
      "text/plain": [
       "            Fecha   Hora  Potencia [kW]  Irradiacion [W/m2]  \\\n",
       "0       1/10/2019   6:00           0.26                8.98   \n",
       "1       1/10/2019   6:05           0.85               16.87   \n",
       "2       1/10/2019   6:10           1.78               28.75   \n",
       "3       1/10/2019   6:15           2.17               33.24   \n",
       "4       1/10/2019   6:20           2.12               32.35   \n",
       "...           ...    ...            ...                 ...   \n",
       "65947  31/12/2020  17:35           0.12                9.11   \n",
       "65948  31/12/2020  17:40           0.11                8.69   \n",
       "65949  31/12/2020  17:45           0.10                7.89   \n",
       "65950  31/12/2020  17:50           0.02                5.31   \n",
       "65951  31/12/2020  17:55           0.00                3.45   \n",
       "\n",
       "       Temperatura de modulos[C]  \n",
       "0                          11.66  \n",
       "1                          11.72  \n",
       "2                          11.80  \n",
       "3                          11.92  \n",
       "4                          12.12  \n",
       "...                          ...  \n",
       "65947                      12.93  \n",
       "65948                      12.66  \n",
       "65949                      12.54  \n",
       "65950                      12.50  \n",
       "65951                      12.33  \n",
       "\n",
       "[65952 rows x 5 columns]"
      ]
     },
     "execution_count": 30,
     "metadata": {},
     "output_type": "execute_result"
    }
   ],
   "source": [
    "datos"
   ]
  },
  {
   "cell_type": "code",
   "execution_count": 31,
   "metadata": {},
   "outputs": [],
   "source": [
    "# Reemplazo de los valores de potencia iguales a 0.00\n",
    "horas = ['6:00',\n",
    " '6:05',\n",
    " '6:10',\n",
    " '6:15',\n",
    " '6:20',\n",
    " '6:25',\n",
    " '6:30',\n",
    " '6:35',\n",
    " '6:40',\n",
    " '6:45',\n",
    " '6:50',\n",
    " '6:55',\n",
    " '17:00',\n",
    " '17:05',\n",
    " '17:10',\n",
    " '17:15',\n",
    " '17:20',\n",
    " '17:25',\n",
    " '17:30',\n",
    " '17:35',\n",
    " '17:40',\n",
    " '17:45',\n",
    " '17:50',\n",
    " '17:55']\n",
    "\n",
    "for h in horas:\n",
    "        datos = datos[datos.Hora!=h]\n",
    "datos.set_index(np.array(range(len(datos))),inplace = True)"
   ]
  },
  {
   "cell_type": "code",
   "execution_count": 32,
   "metadata": {},
   "outputs": [],
   "source": [
    "datos.to_csv('DatosFinales.csv')"
   ]
  },
  {
   "cell_type": "code",
   "execution_count": 33,
   "metadata": {},
   "outputs": [
    {
     "data": {
      "text/html": [
       "<div>\n",
       "<style scoped>\n",
       "    .dataframe tbody tr th:only-of-type {\n",
       "        vertical-align: middle;\n",
       "    }\n",
       "\n",
       "    .dataframe tbody tr th {\n",
       "        vertical-align: top;\n",
       "    }\n",
       "\n",
       "    .dataframe thead th {\n",
       "        text-align: right;\n",
       "    }\n",
       "</style>\n",
       "<table border=\"1\" class=\"dataframe\">\n",
       "  <thead>\n",
       "    <tr style=\"text-align: right;\">\n",
       "      <th></th>\n",
       "      <th>Fecha</th>\n",
       "      <th>Hora</th>\n",
       "      <th>Potencia [kW]</th>\n",
       "      <th>Irradiacion [W/m2]</th>\n",
       "      <th>Temperatura de modulos[C]</th>\n",
       "    </tr>\n",
       "  </thead>\n",
       "  <tbody>\n",
       "    <tr>\n",
       "      <th>0</th>\n",
       "      <td>1/10/2019</td>\n",
       "      <td>7:00</td>\n",
       "      <td>4.37</td>\n",
       "      <td>57.08</td>\n",
       "      <td>15.13</td>\n",
       "    </tr>\n",
       "    <tr>\n",
       "      <th>1</th>\n",
       "      <td>1/10/2019</td>\n",
       "      <td>7:05</td>\n",
       "      <td>5.71</td>\n",
       "      <td>73.87</td>\n",
       "      <td>15.49</td>\n",
       "    </tr>\n",
       "    <tr>\n",
       "      <th>2</th>\n",
       "      <td>1/10/2019</td>\n",
       "      <td>7:10</td>\n",
       "      <td>7.76</td>\n",
       "      <td>101.24</td>\n",
       "      <td>16.13</td>\n",
       "    </tr>\n",
       "    <tr>\n",
       "      <th>3</th>\n",
       "      <td>1/10/2019</td>\n",
       "      <td>7:15</td>\n",
       "      <td>11.23</td>\n",
       "      <td>144.43</td>\n",
       "      <td>17.19</td>\n",
       "    </tr>\n",
       "    <tr>\n",
       "      <th>4</th>\n",
       "      <td>1/10/2019</td>\n",
       "      <td>7:20</td>\n",
       "      <td>14.76</td>\n",
       "      <td>198.53</td>\n",
       "      <td>18.62</td>\n",
       "    </tr>\n",
       "    <tr>\n",
       "      <th>...</th>\n",
       "      <td>...</td>\n",
       "      <td>...</td>\n",
       "      <td>...</td>\n",
       "      <td>...</td>\n",
       "      <td>...</td>\n",
       "    </tr>\n",
       "    <tr>\n",
       "      <th>54955</th>\n",
       "      <td>31/12/2020</td>\n",
       "      <td>16:35</td>\n",
       "      <td>0.10</td>\n",
       "      <td>8.75</td>\n",
       "      <td>14.15</td>\n",
       "    </tr>\n",
       "    <tr>\n",
       "      <th>54956</th>\n",
       "      <td>31/12/2020</td>\n",
       "      <td>16:40</td>\n",
       "      <td>0.05</td>\n",
       "      <td>7.03</td>\n",
       "      <td>14.15</td>\n",
       "    </tr>\n",
       "    <tr>\n",
       "      <th>54957</th>\n",
       "      <td>31/12/2020</td>\n",
       "      <td>16:45</td>\n",
       "      <td>0.10</td>\n",
       "      <td>8.97</td>\n",
       "      <td>14.20</td>\n",
       "    </tr>\n",
       "    <tr>\n",
       "      <th>54958</th>\n",
       "      <td>31/12/2020</td>\n",
       "      <td>16:50</td>\n",
       "      <td>0.18</td>\n",
       "      <td>11.11</td>\n",
       "      <td>14.19</td>\n",
       "    </tr>\n",
       "    <tr>\n",
       "      <th>54959</th>\n",
       "      <td>31/12/2020</td>\n",
       "      <td>16:55</td>\n",
       "      <td>0.28</td>\n",
       "      <td>14.00</td>\n",
       "      <td>14.20</td>\n",
       "    </tr>\n",
       "  </tbody>\n",
       "</table>\n",
       "<p>54960 rows × 5 columns</p>\n",
       "</div>"
      ],
      "text/plain": [
       "            Fecha   Hora  Potencia [kW]  Irradiacion [W/m2]  \\\n",
       "0       1/10/2019   7:00           4.37               57.08   \n",
       "1       1/10/2019   7:05           5.71               73.87   \n",
       "2       1/10/2019   7:10           7.76              101.24   \n",
       "3       1/10/2019   7:15          11.23              144.43   \n",
       "4       1/10/2019   7:20          14.76              198.53   \n",
       "...           ...    ...            ...                 ...   \n",
       "54955  31/12/2020  16:35           0.10                8.75   \n",
       "54956  31/12/2020  16:40           0.05                7.03   \n",
       "54957  31/12/2020  16:45           0.10                8.97   \n",
       "54958  31/12/2020  16:50           0.18               11.11   \n",
       "54959  31/12/2020  16:55           0.28               14.00   \n",
       "\n",
       "       Temperatura de modulos[C]  \n",
       "0                          15.13  \n",
       "1                          15.49  \n",
       "2                          16.13  \n",
       "3                          17.19  \n",
       "4                          18.62  \n",
       "...                          ...  \n",
       "54955                      14.15  \n",
       "54956                      14.15  \n",
       "54957                      14.20  \n",
       "54958                      14.19  \n",
       "54959                      14.20  \n",
       "\n",
       "[54960 rows x 5 columns]"
      ]
     },
     "execution_count": 33,
     "metadata": {},
     "output_type": "execute_result"
    }
   ],
   "source": [
    "datos = pd.read_csv('DatosFinales.csv').drop('Unnamed: 0',axis = 1)\n",
    "datos"
   ]
  },
  {
   "cell_type": "code",
   "execution_count": 34,
   "metadata": {},
   "outputs": [
    {
     "ename": "AttributeError",
     "evalue": "'DataFrame' object has no attribute 'Lluvioso'",
     "output_type": "error",
     "traceback": [
      "\u001b[1;31m---------------------------------------------------------------------------\u001b[0m",
      "\u001b[1;31mAttributeError\u001b[0m                            Traceback (most recent call last)",
      "\u001b[1;32m<ipython-input-34-63804693b1c7>\u001b[0m in \u001b[0;36m<module>\u001b[1;34m\u001b[0m\n\u001b[1;32m----> 1\u001b[1;33m \u001b[0mdatos_lluviosos\u001b[0m \u001b[1;33m=\u001b[0m \u001b[0mdatos\u001b[0m\u001b[1;33m[\u001b[0m\u001b[0mdatos\u001b[0m\u001b[1;33m.\u001b[0m\u001b[0mLluvioso\u001b[0m \u001b[1;33m==\u001b[0m\u001b[1;36m1\u001b[0m\u001b[1;33m]\u001b[0m\u001b[1;33m\u001b[0m\u001b[1;33m\u001b[0m\u001b[0m\n\u001b[0m\u001b[0;32m      2\u001b[0m \u001b[0mdatos_nublados\u001b[0m \u001b[1;33m=\u001b[0m \u001b[0mdatos\u001b[0m\u001b[1;33m[\u001b[0m\u001b[0mdatos\u001b[0m\u001b[1;33m.\u001b[0m\u001b[0mNublado\u001b[0m \u001b[1;33m==\u001b[0m\u001b[1;36m1\u001b[0m\u001b[1;33m]\u001b[0m\u001b[1;33m\u001b[0m\u001b[1;33m\u001b[0m\u001b[0m\n\u001b[0;32m      3\u001b[0m \u001b[0mdatos_soleados\u001b[0m \u001b[1;33m=\u001b[0m \u001b[0mdatos\u001b[0m\u001b[1;33m[\u001b[0m\u001b[0mdatos\u001b[0m\u001b[1;33m.\u001b[0m\u001b[0mSoleado\u001b[0m \u001b[1;33m==\u001b[0m\u001b[1;36m1\u001b[0m\u001b[1;33m]\u001b[0m\u001b[1;33m\u001b[0m\u001b[1;33m\u001b[0m\u001b[0m\n",
      "\u001b[1;32m~\\anaconda3\\lib\\site-packages\\pandas\\core\\generic.py\u001b[0m in \u001b[0;36m__getattr__\u001b[1;34m(self, name)\u001b[0m\n\u001b[0;32m   5272\u001b[0m             \u001b[1;32mif\u001b[0m \u001b[0mself\u001b[0m\u001b[1;33m.\u001b[0m\u001b[0m_info_axis\u001b[0m\u001b[1;33m.\u001b[0m\u001b[0m_can_hold_identifiers_and_holds_name\u001b[0m\u001b[1;33m(\u001b[0m\u001b[0mname\u001b[0m\u001b[1;33m)\u001b[0m\u001b[1;33m:\u001b[0m\u001b[1;33m\u001b[0m\u001b[1;33m\u001b[0m\u001b[0m\n\u001b[0;32m   5273\u001b[0m                 \u001b[1;32mreturn\u001b[0m \u001b[0mself\u001b[0m\u001b[1;33m[\u001b[0m\u001b[0mname\u001b[0m\u001b[1;33m]\u001b[0m\u001b[1;33m\u001b[0m\u001b[1;33m\u001b[0m\u001b[0m\n\u001b[1;32m-> 5274\u001b[1;33m             \u001b[1;32mreturn\u001b[0m \u001b[0mobject\u001b[0m\u001b[1;33m.\u001b[0m\u001b[0m__getattribute__\u001b[0m\u001b[1;33m(\u001b[0m\u001b[0mself\u001b[0m\u001b[1;33m,\u001b[0m \u001b[0mname\u001b[0m\u001b[1;33m)\u001b[0m\u001b[1;33m\u001b[0m\u001b[1;33m\u001b[0m\u001b[0m\n\u001b[0m\u001b[0;32m   5275\u001b[0m \u001b[1;33m\u001b[0m\u001b[0m\n\u001b[0;32m   5276\u001b[0m     \u001b[1;32mdef\u001b[0m \u001b[0m__setattr__\u001b[0m\u001b[1;33m(\u001b[0m\u001b[0mself\u001b[0m\u001b[1;33m,\u001b[0m \u001b[0mname\u001b[0m\u001b[1;33m:\u001b[0m \u001b[0mstr\u001b[0m\u001b[1;33m,\u001b[0m \u001b[0mvalue\u001b[0m\u001b[1;33m)\u001b[0m \u001b[1;33m->\u001b[0m \u001b[1;32mNone\u001b[0m\u001b[1;33m:\u001b[0m\u001b[1;33m\u001b[0m\u001b[1;33m\u001b[0m\u001b[0m\n",
      "\u001b[1;31mAttributeError\u001b[0m: 'DataFrame' object has no attribute 'Lluvioso'"
     ]
    }
   ],
   "source": [
    "datos_lluviosos = datos[datos.Lluvioso ==1]\n",
    "datos_nublados = datos[datos.Nublado ==1]\n",
    "datos_soleados = datos[datos.Soleado ==1]"
   ]
  },
  {
   "cell_type": "code",
   "execution_count": null,
   "metadata": {},
   "outputs": [],
   "source": [
    "horas = datos.Hora.unique()\n",
    "prom_lluvioso = [0]*len(horas)\n",
    "prom_nublado = [0]*len(horas)\n",
    "prom_soleado = [0]*len(horas)\n",
    "\n",
    "for i in range(len(horas)):\n",
    "    h_actual = horas[i]\n",
    "    prom_lluvioso[i] = datos_lluviosos[datos_lluviosos.Hora == h_actual]['Potencia [kW]'].mean()\n",
    "    prom_nublado[i] = datos_nublados[datos_nublados.Hora == h_actual]['Potencia [kW]'].mean()\n",
    "    prom_soleado[i] = datos_soleados[datos_soleados.Hora == h_actual]['Potencia [kW]'].mean()"
   ]
  },
  {
   "cell_type": "code",
   "execution_count": null,
   "metadata": {},
   "outputs": [],
   "source": [
    "dias_tipicos = pd.DataFrame({'Hora':horas,'Lluviosos': prom_lluvioso,'Nublados': prom_nublado, 'Soleados': prom_soleado})\n",
    "dias_tipicos.set_index('Hora', inplace = True)"
   ]
  },
  {
   "cell_type": "code",
   "execution_count": null,
   "metadata": {},
   "outputs": [],
   "source": [
    "dias_tipicos.plot(figsize = (10,8))\n",
    "plt.ylabel('Potencia [kW]')\n",
    "plt.title('Curvas de generación de la planta en días típicos Lluviosos, Nublados y Soleados')"
   ]
  },
  {
   "cell_type": "markdown",
   "metadata": {},
   "source": [
    "### Histogramas de horas lluviosas, nubladas, soleadas"
   ]
  },
  {
   "cell_type": "code",
   "execution_count": 35,
   "metadata": {},
   "outputs": [],
   "source": [
    "lluv_por_hora = todoporHora[todoporHora.Lluvioso == 1]\n",
    "sol_por_hora = todoporHora[todoporHora.Soleado ==1]\n",
    "nub_por_hora = todoporHora[todoporHora.Nublado ==1]"
   ]
  },
  {
   "cell_type": "code",
   "execution_count": 54,
   "metadata": {},
   "outputs": [
    {
     "name": "stdout",
     "output_type": "stream",
     "text": [
      "['6:00' '7:00' '8:00' '9:00' '10:00' '11:00' '12:00' '13:00' '14:00'\n",
      " '15:00' '16:00' '17:00']\n",
      "Ingrese una hora válida:12:00\n",
      "Ingrese estado climático: [Lluvioso, Nublado, Soleado]Lluvioso\n",
      "\n",
      "Histograma Lluvioso a la hora 12:00\n"
     ]
    },
    {
     "data": {
      "image/png": "[encoded data removed]",
      "text/plain": [
       "<Figure size 432x288 with 1 Axes>"
      ]
     },
     "metadata": {
      "needs_background": "light"
     },
     "output_type": "display_data"
    }
   ],
   "source": [
    "horas = todoporHora.Hora.unique()\n",
    "print(horas)\n",
    "h = input('Ingrese una hora válida:')\n",
    "clima = input('Ingrese estado climático: [Lluvioso, Nublado, Soleado]')\n",
    "print('\\nHistograma',clima,'a la hora',h)\n",
    "if clima =='Lluvioso':\n",
    "    h_actual = lluv_por_hora[lluv_por_hora.Hora == h ]['Energia [kWh]']\n",
    "    plt.hist(h_actual,bins=20,ec ='k')\n",
    "    \n",
    "elif clima == 'Nublado':\n",
    "    h_actual = nub_por_hora[nub_por_hora.Hora == h ]['Energia [kWh]']\n",
    "    plt.hist(h_actual,bins=20,ec ='k')\n",
    "\n",
    "elif clima =='Soleado':\n",
    "    h_actual = sol_por_hora[sol_por_hora.Hora == h ]['Energia [kWh]']\n",
    "    plt.hist(h_actual,bins=20,ec ='k')         "
   ]
  },
  {
   "cell_type": "code",
   "execution_count": 94,
   "metadata": {},
   "outputs": [
    {
     "data": {
      "text/html": [
       "<div>\n",
       "<style scoped>\n",
       "    .dataframe tbody tr th:only-of-type {\n",
       "        vertical-align: middle;\n",
       "    }\n",
       "\n",
       "    .dataframe tbody tr th {\n",
       "        vertical-align: top;\n",
       "    }\n",
       "\n",
       "    .dataframe thead th {\n",
       "        text-align: right;\n",
       "    }\n",
       "</style>\n",
       "<table border=\"1\" class=\"dataframe\">\n",
       "  <thead>\n",
       "    <tr style=\"text-align: right;\">\n",
       "      <th></th>\n",
       "      <th>Fecha</th>\n",
       "      <th>Hora</th>\n",
       "      <th>Energia [kWh]</th>\n",
       "      <th>Irradiacion [Wh/m2]</th>\n",
       "      <th>Temperatura de modulos [C]</th>\n",
       "    </tr>\n",
       "  </thead>\n",
       "  <tbody>\n",
       "    <tr>\n",
       "      <th>6</th>\n",
       "      <td>1/10/2019</td>\n",
       "      <td>12:00</td>\n",
       "      <td>32.266667</td>\n",
       "      <td>439.444167</td>\n",
       "      <td>0       11.66\\n1       11.72\\n2       11.80\\n3...</td>\n",
       "    </tr>\n",
       "    <tr>\n",
       "      <th>18</th>\n",
       "      <td>2/10/2019</td>\n",
       "      <td>12:00</td>\n",
       "      <td>37.748333</td>\n",
       "      <td>505.723333</td>\n",
       "      <td>0       11.66\\n1       11.72\\n2       11.80\\n3...</td>\n",
       "    </tr>\n",
       "    <tr>\n",
       "      <th>30</th>\n",
       "      <td>3/10/2019</td>\n",
       "      <td>12:00</td>\n",
       "      <td>25.825833</td>\n",
       "      <td>316.009167</td>\n",
       "      <td>0       11.66\\n1       11.72\\n2       11.80\\n3...</td>\n",
       "    </tr>\n",
       "    <tr>\n",
       "      <th>42</th>\n",
       "      <td>4/10/2019</td>\n",
       "      <td>12:00</td>\n",
       "      <td>56.354167</td>\n",
       "      <td>784.963333</td>\n",
       "      <td>0       11.66\\n1       11.72\\n2       11.80\\n3...</td>\n",
       "    </tr>\n",
       "    <tr>\n",
       "      <th>54</th>\n",
       "      <td>5/10/2019</td>\n",
       "      <td>12:00</td>\n",
       "      <td>27.342500</td>\n",
       "      <td>338.845833</td>\n",
       "      <td>0       11.66\\n1       11.72\\n2       11.80\\n3...</td>\n",
       "    </tr>\n",
       "    <tr>\n",
       "      <th>...</th>\n",
       "      <td>...</td>\n",
       "      <td>...</td>\n",
       "      <td>...</td>\n",
       "      <td>...</td>\n",
       "      <td>...</td>\n",
       "    </tr>\n",
       "    <tr>\n",
       "      <th>5442</th>\n",
       "      <td>27/12/2020</td>\n",
       "      <td>12:00</td>\n",
       "      <td>18.197500</td>\n",
       "      <td>396.752500</td>\n",
       "      <td>0       12.80\\n1       12.76\\n2       12.78\\n3...</td>\n",
       "    </tr>\n",
       "    <tr>\n",
       "      <th>5454</th>\n",
       "      <td>28/12/2020</td>\n",
       "      <td>12:00</td>\n",
       "      <td>28.839167</td>\n",
       "      <td>708.846667</td>\n",
       "      <td>0       12.80\\n1       12.76\\n2       12.78\\n3...</td>\n",
       "    </tr>\n",
       "    <tr>\n",
       "      <th>5466</th>\n",
       "      <td>29/12/2020</td>\n",
       "      <td>12:00</td>\n",
       "      <td>14.330000</td>\n",
       "      <td>341.642500</td>\n",
       "      <td>0       12.80\\n1       12.76\\n2       12.78\\n3...</td>\n",
       "    </tr>\n",
       "    <tr>\n",
       "      <th>5478</th>\n",
       "      <td>30/12/2020</td>\n",
       "      <td>12:00</td>\n",
       "      <td>7.465000</td>\n",
       "      <td>175.590000</td>\n",
       "      <td>0       12.80\\n1       12.76\\n2       12.78\\n3...</td>\n",
       "    </tr>\n",
       "    <tr>\n",
       "      <th>5490</th>\n",
       "      <td>31/12/2020</td>\n",
       "      <td>12:00</td>\n",
       "      <td>5.960000</td>\n",
       "      <td>138.326667</td>\n",
       "      <td>0       12.80\\n1       12.76\\n2       12.78\\n3...</td>\n",
       "    </tr>\n",
       "  </tbody>\n",
       "</table>\n",
       "<p>458 rows × 5 columns</p>\n",
       "</div>"
      ],
      "text/plain": [
       "           Fecha   Hora  Energia [kWh]  Irradiacion [Wh/m2]  \\\n",
       "6      1/10/2019  12:00      32.266667           439.444167   \n",
       "18     2/10/2019  12:00      37.748333           505.723333   \n",
       "30     3/10/2019  12:00      25.825833           316.009167   \n",
       "42     4/10/2019  12:00      56.354167           784.963333   \n",
       "54     5/10/2019  12:00      27.342500           338.845833   \n",
       "...          ...    ...            ...                  ...   \n",
       "5442  27/12/2020  12:00      18.197500           396.752500   \n",
       "5454  28/12/2020  12:00      28.839167           708.846667   \n",
       "5466  29/12/2020  12:00      14.330000           341.642500   \n",
       "5478  30/12/2020  12:00       7.465000           175.590000   \n",
       "5490  31/12/2020  12:00       5.960000           138.326667   \n",
       "\n",
       "                             Temperatura de modulos [C]  \n",
       "6     0       11.66\\n1       11.72\\n2       11.80\\n3...  \n",
       "18    0       11.66\\n1       11.72\\n2       11.80\\n3...  \n",
       "30    0       11.66\\n1       11.72\\n2       11.80\\n3...  \n",
       "42    0       11.66\\n1       11.72\\n2       11.80\\n3...  \n",
       "54    0       11.66\\n1       11.72\\n2       11.80\\n3...  \n",
       "...                                                 ...  \n",
       "5442  0       12.80\\n1       12.76\\n2       12.78\\n3...  \n",
       "5454  0       12.80\\n1       12.76\\n2       12.78\\n3...  \n",
       "5466  0       12.80\\n1       12.76\\n2       12.78\\n3...  \n",
       "5478  0       12.80\\n1       12.76\\n2       12.78\\n3...  \n",
       "5490  0       12.80\\n1       12.76\\n2       12.78\\n3...  \n",
       "\n",
       "[458 rows x 5 columns]"
      ]
     },
     "execution_count": 94,
     "metadata": {},
     "output_type": "execute_result"
    },
    {
     "data": {
      "image/png": "[encoded data removed]",
      "text/plain": [
       "<Figure size 432x288 with 1 Axes>"
      ]
     },
     "metadata": {
      "needs_background": "light"
     },
     "output_type": "display_data"
    }
   ],
   "source": [
    "las12 = todoporHora[todoporHora.Hora=='12:00']\n",
    "plt.scatter(las12['Irradiacion [Wh/m2]'],las12['Energia [kWh]'])\n",
    "las12"
   ]
  },
  {
   "cell_type": "code",
   "execution_count": 97,
   "metadata": {},
   "outputs": [
    {
     "name": "stdout",
     "output_type": "stream",
     "text": [
      "Ingrese una hora válida:12:00\n"
     ]
    },
    {
     "data": {
      "text/plain": [
       "<matplotlib.collections.PathCollection at 0x274dc1a01c8>"
      ]
     },
     "execution_count": 97,
     "metadata": {},
     "output_type": "execute_result"
    },
    {
     "data": {
      "image/png": "[encoded data removed]",
      "text/plain": [
       "<Figure size 432x288 with 1 Axes>"
      ]
     },
     "metadata": {
      "needs_background": "light"
     },
     "output_type": "display_data"
    }
   ],
   "source": [
    "h = input('Ingrese una hora válida:')\n",
    "h_actual = nub_por_hora[nub_por_hora.Hora == h ]\n",
    "plt.scatter(h_actual['Irradiacion [Wh/m2]'],h_actual['Energia [kWh]'])"
   ]
  },
  {
   "cell_type": "code",
   "execution_count": 70,
   "metadata": {},
   "outputs": [
    {
     "data": {
      "text/plain": [
       "<matplotlib.legend.Legend at 0x274dc7d7488>"
      ]
     },
     "execution_count": 70,
     "metadata": {},
     "output_type": "execute_result"
    },
    {
     "data": {
      "image/png": "[encoded data removed]",
      "text/plain": [
       "<Figure size 1440x1080 with 1 Axes>"
      ]
     },
     "metadata": {
      "needs_background": "light"
     },
     "output_type": "display_data"
    }
   ],
   "source": [
    "plt.figure(figsize = (20,15))\n",
    "plt.scatter(lluv_por_hora['Irradiacion [Wh/m2]'],lluv_por_hora['Energia [kWh]'])\n",
    "plt.scatter(sol_por_hora['Irradiacion [Wh/m2]'],sol_por_hora['Energia [kWh]'])\n",
    "plt.scatter(nub_por_hora['Irradiacion [Wh/m2]'],nub_por_hora['Energia [kWh]'])\n",
    "plt.legend(('Lluvioso','Soleado','Nublado'))"
   ]
  },
  {
   "cell_type": "code",
   "execution_count": 125,
   "metadata": {},
   "outputs": [
    {
     "data": {
      "text/plain": [
       "'Lluvioso'"
      ]
     },
     "execution_count": 125,
     "metadata": {},
     "output_type": "execute_result"
    }
   ],
   "source": []
  }
 ],
 "metadata": {
  "kernelspec": {
   "display_name": "Python 3",
   "language": "python",
   "name": "python3"
  },
  "language_info": {
   "codemirror_mode": {
    "name": "ipython",
    "version": 3
   },
   "file_extension": ".py",
   "mimetype": "text/x-python",
   "name": "python",
   "nbconvert_exporter": "python",
   "pygments_lexer": "ipython3",
   "version": "3.7.6"
  }
 },
 "nbformat": 4,
 "nbformat_minor": 4
}
