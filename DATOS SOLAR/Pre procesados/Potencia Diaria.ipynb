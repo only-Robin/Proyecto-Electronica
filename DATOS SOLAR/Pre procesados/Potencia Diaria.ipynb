{
 "cells": [
  {
   "cell_type": "code",
   "execution_count": 58,
   "metadata": {},
   "outputs": [],
   "source": [
    "import pandas as pd\n",
    "import numpy as np\n",
    "import matplotlib.pyplot as plt\n",
    "import glob"
   ]
  },
  {
   "cell_type": "code",
   "execution_count": 59,
   "metadata": {},
   "outputs": [],
   "source": [
    "def potenciaxdia(datos,):\n",
    "    fechas = datos['Fecha'].unique()\n",
    "    potxdia = []\n",
    "    for i in range(len(fechas)):\n",
    "        potxdia.append(datos[datos['Fecha']==fechas[i]].sum()['Potencia [kW]'] )\n",
    "    df = {'Dia':fechas, 'Potencia dia [kW]':potxdia}\n",
    "    df = pd.DataFrame(df)\n",
    "    return df"
   ]
  },
  {
   "cell_type": "code",
   "execution_count": 60,
   "metadata": {},
   "outputs": [
    {
     "data": {
      "text/plain": [
       "['Abril 2020.csv',\n",
       " 'Agosto 2020.csv',\n",
       " 'Diciembre 2019.csv',\n",
       " 'Diciembre 2020.csv',\n",
       " 'Enero 2020.csv',\n",
       " 'Febrero 2020.csv',\n",
       " 'Julio 2020.csv',\n",
       " 'Junio 2020.csv',\n",
       " 'Marzo 2020.csv',\n",
       " 'Mayo 2020.csv',\n",
       " 'Noviembre 2019.csv',\n",
       " 'Noviembre 2020.csv',\n",
       " 'Octubre 2019.csv',\n",
       " 'Octubre 2020.csv',\n",
       " 'Septiembre 2020.csv']"
      ]
     },
     "execution_count": 60,
     "metadata": {},
     "output_type": "execute_result"
    }
   ],
   "source": [
    "archivos = glob.glob('*.csv')\n",
    "archivos"
   ]
  },
  {
   "cell_type": "code",
   "execution_count": 61,
   "metadata": {},
   "outputs": [],
   "source": [
    "i=0\n",
    "for arch in archivos:\n",
    "    df = pd.read_csv(arch)\n",
    "    df = df.drop('Unnamed: 0',axis=1)\n",
    "    df = df.dropna()\n",
    "    \n",
    "    name = arch.split('.')\n",
    "    name = name[0].split(' ')\n",
    "    \n",
    "    globals()[name[0] + name[1]] = potenciaxdia(df)\n",
    "    globals()[name[0] + name[1]].set_index('Dia',inplace = True)\n",
    "    \n",
    "    if i == 0:\n",
    "        todo = globals()[name[0] + name[1]] # DataFrame donde se guardan los diferentes valores de energía por día.\n",
    "    else:\n",
    "        todo = pd.concat([todo , globals()[name[0] + name[1]]],axis = 0)\n",
    "    i+=1"
   ]
  },
  {
   "cell_type": "code",
   "execution_count": 62,
   "metadata": {},
   "outputs": [
    {
     "data": {
      "text/html": [
       "<div>\n",
       "<style scoped>\n",
       "    .dataframe tbody tr th:only-of-type {\n",
       "        vertical-align: middle;\n",
       "    }\n",
       "\n",
       "    .dataframe tbody tr th {\n",
       "        vertical-align: top;\n",
       "    }\n",
       "\n",
       "    .dataframe thead th {\n",
       "        text-align: right;\n",
       "    }\n",
       "</style>\n",
       "<table border=\"1\" class=\"dataframe\">\n",
       "  <thead>\n",
       "    <tr style=\"text-align: right;\">\n",
       "      <th></th>\n",
       "      <th>Potencia dia [kW]</th>\n",
       "    </tr>\n",
       "    <tr>\n",
       "      <th>Dia</th>\n",
       "      <th></th>\n",
       "    </tr>\n",
       "  </thead>\n",
       "  <tbody>\n",
       "    <tr>\n",
       "      <th>1/04/2020</th>\n",
       "      <td>1060.49</td>\n",
       "    </tr>\n",
       "    <tr>\n",
       "      <th>2/04/2020</th>\n",
       "      <td>3340.75</td>\n",
       "    </tr>\n",
       "    <tr>\n",
       "      <th>3/04/2020</th>\n",
       "      <td>3420.27</td>\n",
       "    </tr>\n",
       "    <tr>\n",
       "      <th>4/04/2020</th>\n",
       "      <td>1812.48</td>\n",
       "    </tr>\n",
       "    <tr>\n",
       "      <th>5/04/2020</th>\n",
       "      <td>2724.37</td>\n",
       "    </tr>\n",
       "    <tr>\n",
       "      <th>6/04/2020</th>\n",
       "      <td>1915.31</td>\n",
       "    </tr>\n",
       "    <tr>\n",
       "      <th>7/04/2020</th>\n",
       "      <td>2234.32</td>\n",
       "    </tr>\n",
       "    <tr>\n",
       "      <th>8/04/2020</th>\n",
       "      <td>2008.61</td>\n",
       "    </tr>\n",
       "    <tr>\n",
       "      <th>9/04/2020</th>\n",
       "      <td>2526.14</td>\n",
       "    </tr>\n",
       "    <tr>\n",
       "      <th>10/04/2020</th>\n",
       "      <td>1916.52</td>\n",
       "    </tr>\n",
       "    <tr>\n",
       "      <th>11/04/2020</th>\n",
       "      <td>2138.77</td>\n",
       "    </tr>\n",
       "    <tr>\n",
       "      <th>12/04/2020</th>\n",
       "      <td>2696.73</td>\n",
       "    </tr>\n",
       "    <tr>\n",
       "      <th>13/04/2020</th>\n",
       "      <td>2553.25</td>\n",
       "    </tr>\n",
       "    <tr>\n",
       "      <th>14/04/2020</th>\n",
       "      <td>2336.13</td>\n",
       "    </tr>\n",
       "    <tr>\n",
       "      <th>15/04/2020</th>\n",
       "      <td>2497.78</td>\n",
       "    </tr>\n",
       "    <tr>\n",
       "      <th>16/04/2020</th>\n",
       "      <td>1969.28</td>\n",
       "    </tr>\n",
       "    <tr>\n",
       "      <th>17/04/2020</th>\n",
       "      <td>1816.10</td>\n",
       "    </tr>\n",
       "    <tr>\n",
       "      <th>18/04/2020</th>\n",
       "      <td>3193.22</td>\n",
       "    </tr>\n",
       "    <tr>\n",
       "      <th>19/04/2020</th>\n",
       "      <td>2218.42</td>\n",
       "    </tr>\n",
       "    <tr>\n",
       "      <th>20/04/2020</th>\n",
       "      <td>1800.64</td>\n",
       "    </tr>\n",
       "    <tr>\n",
       "      <th>21/04/2020</th>\n",
       "      <td>1646.37</td>\n",
       "    </tr>\n",
       "    <tr>\n",
       "      <th>22/04/2020</th>\n",
       "      <td>1870.26</td>\n",
       "    </tr>\n",
       "    <tr>\n",
       "      <th>23/04/2020</th>\n",
       "      <td>1494.98</td>\n",
       "    </tr>\n",
       "    <tr>\n",
       "      <th>24/04/2020</th>\n",
       "      <td>3176.54</td>\n",
       "    </tr>\n",
       "    <tr>\n",
       "      <th>25/04/2020</th>\n",
       "      <td>2600.09</td>\n",
       "    </tr>\n",
       "    <tr>\n",
       "      <th>26/04/2020</th>\n",
       "      <td>3733.10</td>\n",
       "    </tr>\n",
       "    <tr>\n",
       "      <th>27/04/2020</th>\n",
       "      <td>2799.30</td>\n",
       "    </tr>\n",
       "    <tr>\n",
       "      <th>28/04/2020</th>\n",
       "      <td>2959.71</td>\n",
       "    </tr>\n",
       "    <tr>\n",
       "      <th>29/04/2020</th>\n",
       "      <td>2417.19</td>\n",
       "    </tr>\n",
       "    <tr>\n",
       "      <th>30/04/2020</th>\n",
       "      <td>2236.94</td>\n",
       "    </tr>\n",
       "  </tbody>\n",
       "</table>\n",
       "</div>"
      ],
      "text/plain": [
       "            Potencia dia [kW]\n",
       "Dia                          \n",
       "1/04/2020             1060.49\n",
       "2/04/2020             3340.75\n",
       "3/04/2020             3420.27\n",
       "4/04/2020             1812.48\n",
       "5/04/2020             2724.37\n",
       "6/04/2020             1915.31\n",
       "7/04/2020             2234.32\n",
       "8/04/2020             2008.61\n",
       "9/04/2020             2526.14\n",
       "10/04/2020            1916.52\n",
       "11/04/2020            2138.77\n",
       "12/04/2020            2696.73\n",
       "13/04/2020            2553.25\n",
       "14/04/2020            2336.13\n",
       "15/04/2020            2497.78\n",
       "16/04/2020            1969.28\n",
       "17/04/2020            1816.10\n",
       "18/04/2020            3193.22\n",
       "19/04/2020            2218.42\n",
       "20/04/2020            1800.64\n",
       "21/04/2020            1646.37\n",
       "22/04/2020            1870.26\n",
       "23/04/2020            1494.98\n",
       "24/04/2020            3176.54\n",
       "25/04/2020            2600.09\n",
       "26/04/2020            3733.10\n",
       "27/04/2020            2799.30\n",
       "28/04/2020            2959.71\n",
       "29/04/2020            2417.19\n",
       "30/04/2020            2236.94"
      ]
     },
     "execution_count": 62,
     "metadata": {},
     "output_type": "execute_result"
    }
   ],
   "source": [
    "try:\n",
    "    Abril2020.set_index('Dia',inplace = True)\n",
    "except:\n",
    "    pass\n",
    "Abril2020"
   ]
  },
  {
   "cell_type": "code",
   "execution_count": 63,
   "metadata": {},
   "outputs": [
    {
     "data": {
      "text/plain": [
       "Text(0, 0.5, 'Potencia diaria [kW]')"
      ]
     },
     "execution_count": 63,
     "metadata": {},
     "output_type": "execute_result"
    },
    {
     "data": {
      "image/png": "[encoded data removed]",
      "text/plain": [
       "<Figure size 720x288 with 1 Axes>"
      ]
     },
     "metadata": {
      "needs_background": "light"
     },
     "output_type": "display_data"
    }
   ],
   "source": [
    "Abril2020['Potencia dia [kW]'].plot(kind = 'bar',figsize = (10,4))\n",
    "plt.ylabel('Potencia diaria [kW]')"
   ]
  },
  {
   "cell_type": "markdown",
   "metadata": {},
   "source": [
    "##"
   ]
  },
  {
   "cell_type": "code",
   "execution_count": 68,
   "metadata": {},
   "outputs": [
    {
     "data": {
      "text/plain": [
       "5804.480000000001"
      ]
     },
     "execution_count": 68,
     "metadata": {},
     "output_type": "execute_result"
    }
   ],
   "source": [
    "todo['Energia [kWh]'].max()"
   ]
  },
  {
   "cell_type": "code",
   "execution_count": null,
   "metadata": {},
   "outputs": [],
   "source": []
  }
 ],
 "metadata": {
  "kernelspec": {
   "display_name": "Python 3",
   "language": "python",
   "name": "python3"
  },
  "language_info": {
   "codemirror_mode": {
    "name": "ipython",
    "version": 3
   },
   "file_extension": ".py",
   "mimetype": "text/x-python",
   "name": "python",
   "nbconvert_exporter": "python",
   "pygments_lexer": "ipython3",
   "version": "3.7.6"
  }
 },
 "nbformat": 4,
 "nbformat_minor": 4
}
