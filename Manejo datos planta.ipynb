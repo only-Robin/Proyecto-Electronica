{
 "cells": [
  {
   "cell_type": "code",
   "execution_count": 1,
   "metadata": {},
   "outputs": [],
   "source": [
    "import pandas as pd\n",
    "import numpy as np\n",
    "import matplotlib.pyplot as plt\n",
    "import os\n"
   ]
  },
  {
   "cell_type": "code",
   "execution_count": 156,
   "metadata": {},
   "outputs": [
    {
     "data": {
      "text/html": [
       "<div>\n",
       "<style scoped>\n",
       "    .dataframe tbody tr th:only-of-type {\n",
       "        vertical-align: middle;\n",
       "    }\n",
       "\n",
       "    .dataframe tbody tr th {\n",
       "        vertical-align: top;\n",
       "    }\n",
       "\n",
       "    .dataframe thead th {\n",
       "        text-align: right;\n",
       "    }\n",
       "</style>\n",
       "<table border=\"1\" class=\"dataframe\">\n",
       "  <thead>\n",
       "    <tr style=\"text-align: right;\">\n",
       "      <th></th>\n",
       "      <th>Fecha</th>\n",
       "      <th>Hora</th>\n",
       "      <th>Potencia [kW]</th>\n",
       "      <th>Insolaci¢n [W/mý]</th>\n",
       "      <th>Temperatura de modulos [øC]</th>\n",
       "      <th>Temperatura ambiente [øC]</th>\n",
       "    </tr>\n",
       "  </thead>\n",
       "  <tbody>\n",
       "    <tr>\n",
       "      <th>0</th>\n",
       "      <td>09/23/2020</td>\n",
       "      <td>12:00:00 AM</td>\n",
       "      <td>x</td>\n",
       "      <td>0.98</td>\n",
       "      <td>11.14</td>\n",
       "      <td>11.746321</td>\n",
       "    </tr>\n",
       "    <tr>\n",
       "      <th>1</th>\n",
       "      <td>09/23/2020</td>\n",
       "      <td>12:05:00 AM</td>\n",
       "      <td>x</td>\n",
       "      <td>0.98</td>\n",
       "      <td>11.43</td>\n",
       "      <td>11.806536</td>\n",
       "    </tr>\n",
       "    <tr>\n",
       "      <th>2</th>\n",
       "      <td>09/23/2020</td>\n",
       "      <td>12:10:00 AM</td>\n",
       "      <td>x</td>\n",
       "      <td>0.98</td>\n",
       "      <td>11.76</td>\n",
       "      <td>11.842947</td>\n",
       "    </tr>\n",
       "    <tr>\n",
       "      <th>3</th>\n",
       "      <td>09/23/2020</td>\n",
       "      <td>12:15:00 AM</td>\n",
       "      <td>x</td>\n",
       "      <td>0.99</td>\n",
       "      <td>12.02</td>\n",
       "      <td>11.865711</td>\n",
       "    </tr>\n",
       "    <tr>\n",
       "      <th>4</th>\n",
       "      <td>09/23/2020</td>\n",
       "      <td>12:20:00 AM</td>\n",
       "      <td>x</td>\n",
       "      <td>0.99</td>\n",
       "      <td>12.20</td>\n",
       "      <td>11.860923</td>\n",
       "    </tr>\n",
       "    <tr>\n",
       "      <th>...</th>\n",
       "      <td>...</td>\n",
       "      <td>...</td>\n",
       "      <td>...</td>\n",
       "      <td>...</td>\n",
       "      <td>...</td>\n",
       "      <td>...</td>\n",
       "    </tr>\n",
       "    <tr>\n",
       "      <th>2011</th>\n",
       "      <td>09/29/2020</td>\n",
       "      <td>11:35:00 PM</td>\n",
       "      <td>x</td>\n",
       "      <td>0.98</td>\n",
       "      <td>12.15</td>\n",
       "      <td>12.468117</td>\n",
       "    </tr>\n",
       "    <tr>\n",
       "      <th>2012</th>\n",
       "      <td>09/29/2020</td>\n",
       "      <td>11:40:00 PM</td>\n",
       "      <td>x</td>\n",
       "      <td>0.98</td>\n",
       "      <td>12.27</td>\n",
       "      <td>12.448150</td>\n",
       "    </tr>\n",
       "    <tr>\n",
       "      <th>2013</th>\n",
       "      <td>09/29/2020</td>\n",
       "      <td>11:45:00 PM</td>\n",
       "      <td>x</td>\n",
       "      <td>0.98</td>\n",
       "      <td>12.62</td>\n",
       "      <td>12.443150</td>\n",
       "    </tr>\n",
       "    <tr>\n",
       "      <th>2014</th>\n",
       "      <td>09/29/2020</td>\n",
       "      <td>11:50:00 PM</td>\n",
       "      <td>x</td>\n",
       "      <td>0.98</td>\n",
       "      <td>12.85</td>\n",
       "      <td>12.468150</td>\n",
       "    </tr>\n",
       "    <tr>\n",
       "      <th>2015</th>\n",
       "      <td>09/29/2020</td>\n",
       "      <td>11:55:00 PM</td>\n",
       "      <td>x</td>\n",
       "      <td>0.98</td>\n",
       "      <td>12.93</td>\n",
       "      <td>12.486483</td>\n",
       "    </tr>\n",
       "  </tbody>\n",
       "</table>\n",
       "<p>2016 rows × 6 columns</p>\n",
       "</div>"
      ],
      "text/plain": [
       "           Fecha         Hora Potencia [kW]  Insolaci¢n [W/mý]  \\\n",
       "0     09/23/2020  12:00:00 AM             x               0.98   \n",
       "1     09/23/2020  12:05:00 AM             x               0.98   \n",
       "2     09/23/2020  12:10:00 AM             x               0.98   \n",
       "3     09/23/2020  12:15:00 AM             x               0.99   \n",
       "4     09/23/2020  12:20:00 AM             x               0.99   \n",
       "...          ...          ...           ...                ...   \n",
       "2011  09/29/2020  11:35:00 PM             x               0.98   \n",
       "2012  09/29/2020  11:40:00 PM             x               0.98   \n",
       "2013  09/29/2020  11:45:00 PM             x               0.98   \n",
       "2014  09/29/2020  11:50:00 PM             x               0.98   \n",
       "2015  09/29/2020  11:55:00 PM             x               0.98   \n",
       "\n",
       "      Temperatura de modulos [øC]  Temperatura ambiente [øC]  \n",
       "0                           11.14                  11.746321  \n",
       "1                           11.43                  11.806536  \n",
       "2                           11.76                  11.842947  \n",
       "3                           12.02                  11.865711  \n",
       "4                           12.20                  11.860923  \n",
       "...                           ...                        ...  \n",
       "2011                        12.15                  12.468117  \n",
       "2012                        12.27                  12.448150  \n",
       "2013                        12.62                  12.443150  \n",
       "2014                        12.85                  12.468150  \n",
       "2015                        12.93                  12.486483  \n",
       "\n",
       "[2016 rows x 6 columns]"
      ]
     },
     "execution_count": 156,
     "metadata": {},
     "output_type": "execute_result"
    }
   ],
   "source": [
    "f = os.getcwd()\n",
    "oct1 = pd.read_csv(f+'\\\\Datos Planta\\\\Sep - 2020\\\\Week4.csv',encoding= 'unicode_escape',error_bad_lines=False)\n",
    "oct1"
   ]
  },
  {
   "cell_type": "code",
   "execution_count": 107,
   "metadata": {},
   "outputs": [
    {
     "name": "stdout",
     "output_type": "stream",
     "text": [
      "01:40\n"
     ]
    }
   ],
   "source": [
    "from datetime import datetime\n",
    "#Función para obtener el ghmes en cada dato\n",
    "def hora(h):\n",
    "    try:\n",
    "        hora_dt = datetime.strptime(h,'%I:%M:%S %p')\n",
    "    except:\n",
    "        hora_dt = datetime.strptime(h,'%H:%M')\n",
    "    hora = hora_dt.strftime('%H:%M')\n",
    "    return hora\n",
    "print(hora(oct1.iloc[20][1]))"
   ]
  },
  {
   "cell_type": "code",
   "execution_count": null,
   "metadata": {
    "scrolled": false
   },
   "outputs": [],
   "source": []
  },
  {
   "cell_type": "code",
   "execution_count": null,
   "metadata": {},
   "outputs": [],
   "source": []
  },
  {
   "cell_type": "code",
   "execution_count": 108,
   "metadata": {},
   "outputs": [
    {
     "data": {
      "text/plain": [
       "array(['Fecha', 'Hora', 'Potencia [kW]', 'Insolaci¢n [W/mý]',\n",
       "       'Temperatura de modulos [øC]', 'Temperatura ambiente [øC]'],\n",
       "      dtype=object)"
      ]
     },
     "execution_count": 108,
     "metadata": {},
     "output_type": "execute_result"
    }
   ],
   "source": [
    "oct1.columns.values"
   ]
  },
  {
   "cell_type": "code",
   "execution_count": 109,
   "metadata": {},
   "outputs": [],
   "source": [
    "pr = pd.read_csv('Semana-1-7.csv',encoding= 'unicode_escape',error_bad_lines=False)"
   ]
  },
  {
   "cell_type": "code",
   "execution_count": 112,
   "metadata": {},
   "outputs": [
    {
     "name": "stdout",
     "output_type": "stream",
     "text": [
      "23:00\n"
     ]
    }
   ],
   "source": [
    "print(hora(pr.iloc[276][1]))"
   ]
  },
  {
   "cell_type": "code",
   "execution_count": null,
   "metadata": {},
   "outputs": [],
   "source": []
  },
  {
   "cell_type": "code",
   "execution_count": null,
   "metadata": {},
   "outputs": [],
   "source": []
  }
 ],
 "metadata": {
  "kernelspec": {
   "display_name": "Python 3",
   "language": "python",
   "name": "python3"
  },
  "language_info": {
   "codemirror_mode": {
    "name": "ipython",
    "version": 3
   },
   "file_extension": ".py",
   "mimetype": "text/x-python",
   "name": "python",
   "nbconvert_exporter": "python",
   "pygments_lexer": "ipython3",
   "version": "3.7.6"
  }
 },
 "nbformat": 4,
 "nbformat_minor": 4
}
